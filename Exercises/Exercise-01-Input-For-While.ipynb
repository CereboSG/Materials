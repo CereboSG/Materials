{
 "cells": [
  {
   "attachments": {},
   "cell_type": "markdown",
   "metadata": {},
   "source": [
    "# Exercise 1.1 Unit Converter\n",
    " \n",
    "Write a program that helps the user to convert a given quantity from one unit of (distance, area or volume) measurement to another. \n",
    " \n",
    "The problem: \n",
    "-\tRequest a quantity from the user. \n",
    "-\tHave the user specify if the quantity is a `length`, `area` or `volume`. \n",
    "-\tHave the user select the base unit of measurement from the following list: \n",
    "    - `mm`, \n",
    "    - `cm`, \n",
    "    - `m`, or \n",
    "    - `km`. \n",
    "-\tThen have the user select the desired base unit of measurement that the given quantity should be converted to. \n",
    "-\tPrint out converted quantity (including the new unit of measurement). \n",
    " \n",
    "Example interaction: \n",
    "\n",
    ">Input a quantity: 10 <br>\n",
    ">Select either length, area or volume: area <br>\n",
    ">Select the base unit of measurement (mm, cm, m, km) : m <br>\n",
    ">Select which base unit of measurement to convert to (mm, cm, m, km) : cm <br>\n",
    ">10 m^2 = 100000 cm^2 \n",
    "\n"
   ]
  },
  {
   "cell_type": "code",
   "execution_count": null,
   "metadata": {},
   "outputs": [],
   "source": [
    "# Get a quantity from the user as an integer\n",
    "user_input = int(input('Input a quantity:'))\n",
    "\n",
    "# Get the type of measurement from the user (length, area, or volume)\n",
    "measurement = input('Select either length, area or volume:')\n",
    "\n",
    "# Get the base unit of measurement from the user (mm, cm, m, or km)\n",
    "base_unit = input('Select the base unit of measurement (mm, cm, m, km):')\n",
    "\n",
    "# Get the desired unit of measurement from the user (mm, cm, m, or km)\n",
    "desired_unit = input('Select which base unit of measurement to convert to (mm, cm, m, km):')\n",
    "\n",
    "# Create a list of accepted units\n",
    "accepted_units = ['mm','cm','m','km']\n",
    "\n",
    "# Create a 2D list of conversion values\n",
    "conversion_table = [\n",
    "    [1, 10**(-1), 10**(-3), 10**(-6)],\n",
    "    [10**(1), 1, 10**(-2), 10**(-5)],\n",
    "    [10**(3), 10**(2), 1, 10**(-3)],\n",
    "    [10**(6), 10**(5), 10**(3), 1]\n",
    "    ]\n",
    "\n",
    "# Get the conversion value based on the base unit and desired unit indices\n",
    "conversion_value = conversion_table[accepted_units.index(base_unit)][accepted_units.index(desired_unit)]\n",
    "\n",
    "# Calculate the converted value by multiplying user_input by the conversion value\n",
    "converted = user_input * conversion_value\n",
    "\n",
    "# Get the power of the unit based on the measurement type\n",
    "if measurement == 'length':\n",
    "    power = 1\n",
    "elif measurement == 'area':\n",
    "    power = 2\n",
    "elif measurement == 'volume':\n",
    "    power = 3\n",
    "\n",
    "# Print the final conversion result in the format: user_input base_unit^power = converted base_unit^power\n",
    "print(f'{user_input} {base_unit}^{power} = {converted*10**power} {base_unit}^{power}')"
   ]
  },
  {
   "cell_type": "markdown",
   "metadata": {},
   "source": [
    "# Exercise 1.2\n",
    "\n",
    "In mathematics, an **arithmetic sequence** is a sequence of real numbers \n",
    "$$u_1,u_2,\\cdots, u_n$$\n",
    "such that the difference between two consecutive terms is constant, i.e. $u_{n+1}-u_n=d$ for some constant $d\\in \\mathbb{R}$, called the **common difference** and $n\\geq 1$.\n",
    "\n",
    "For example, the sequence $2,5,8,11,14,\\dots$ is an arithmetic sequence with first term $2$ and common difference $3$.\n",
    "\n",
    "Write a program to generate the first $n$ terms of an arithmetic sequence with a user defined first term $a$ and common difference $d$.\n",
    "\n",
    "The problem: \n",
    "- Request a numeric input from the user to be used as the first term.  Let us denote this input as `first_term`.\n",
    "- Request a numeric input from the user to be used as the common difference.  Let us denote this input as `common_difference`.\n",
    "- Request an integer input from the user for the number of terms.  Let us denote this input as `number_of_terms`.\n",
    "- Print out the sequence up to the $n$th term.\n",
    "\n",
    "Example interaction: \n",
    "\n",
    ">Please input the first term in the arithmetic sequence:<br>\n",
    ">2<br>\n",
    ">Please input the common difference:<br>\n",
    ">3<br>\n",
    ">Please input the number of terms:<br>\n",
    ">5<br>\n",
    ">The first 5 terms of the arithmetic sequence are:<br>\n",
    ">2<br>\n",
    ">5<br>\n",
    ">8<br>\n",
    ">11<br>\n",
    ">14<br>"
   ]
  },
  {
   "cell_type": "code",
   "execution_count": 8,
   "metadata": {},
   "outputs": [
    {
     "ename": "ValueError",
     "evalue": "invalid literal for int() with base 10: ''",
     "output_type": "error",
     "traceback": [
      "\u001b[1;31m---------------------------------------------------------------------------\u001b[0m",
      "\u001b[1;31mValueError\u001b[0m                                Traceback (most recent call last)",
      "\u001b[1;32mc:\\Users\\Admin\\Desktop\\VS Code\\Materials_Solutions\\Exercises\\Exercise-01-Input-For-While.ipynb Cell 4\u001b[0m in \u001b[0;36m<module>\u001b[1;34m\u001b[0m\n\u001b[1;32m----> <a href='vscode-notebook-cell:/c%3A/Users/Admin/Desktop/VS%20Code/Materials_Solutions/Exercises/Exercise-01-Input-For-While.ipynb#W4sZmlsZQ%3D%3D?line=0'>1</a>\u001b[0m first_term \u001b[39m=\u001b[39m \u001b[39mint\u001b[39;49m(\u001b[39minput\u001b[39;49m(\u001b[39m'\u001b[39;49m\u001b[39mPlease input the first term in the arithmetic sequence:\u001b[39;49m\u001b[39m'\u001b[39;49m))\n\u001b[0;32m      <a href='vscode-notebook-cell:/c%3A/Users/Admin/Desktop/VS%20Code/Materials_Solutions/Exercises/Exercise-01-Input-For-While.ipynb#W4sZmlsZQ%3D%3D?line=1'>2</a>\u001b[0m common_difference \u001b[39m=\u001b[39m \u001b[39mint\u001b[39m(\u001b[39minput\u001b[39m(\u001b[39m'\u001b[39m\u001b[39mPlease input the common difference:\u001b[39m\u001b[39m'\u001b[39m))\n\u001b[0;32m      <a href='vscode-notebook-cell:/c%3A/Users/Admin/Desktop/VS%20Code/Materials_Solutions/Exercises/Exercise-01-Input-For-While.ipynb#W4sZmlsZQ%3D%3D?line=2'>3</a>\u001b[0m no_of_terms \u001b[39m=\u001b[39m \u001b[39mint\u001b[39m(\u001b[39minput\u001b[39m(\u001b[39m'\u001b[39m\u001b[39mPlease input the number of terms\u001b[39m\u001b[39m'\u001b[39m))\n",
      "\u001b[1;31mValueError\u001b[0m: invalid literal for int() with base 10: ''"
     ]
    }
   ],
   "source": [
    "# Takes input for the first term, common difference, and number of terms of an arithmetic sequence\n",
    "first_term = int(input('Please input the first term in the arithmetic sequence:'))\n",
    "common_difference = int(input('Please input the common difference:'))\n",
    "no_of_terms = int(input('Please input the number of terms'))\n",
    "\n",
    "# Uses a for loop to print out each term of the sequence by adding the common difference to the previous term.\n",
    "\n",
    "print(f'The first {no_of_terms} terms of the arithmetic sequence are:')\n",
    "\n",
    "for i in range(no_of_terms):\n",
    "    print(first_term) \n",
    "    first_term = first_term + common_difference"
   ]
  },
  {
   "attachments": {},
   "cell_type": "markdown",
   "metadata": {},
   "source": [
    "# Exercise 1.3\n",
    "\n",
    "Given an arithmetic sequence with first term $a$ and common difference $d$.\n",
    "\n",
    "Write a program that:\n",
    "- Request a numeric input from the user to be used as the first term.  Let us denote this input as `first_term`.\n",
    "- Request a numeric input from the user to be used as the common difference.  Let us denote this input as `common_difference`.\n",
    "- Request an integer input from the user for the index for the term in the sequence.  Let us denote this input as `n`.\n",
    "- Print out the $n$ th term in the sequence.\n",
    "- Print out the sum of the first $n$ terms in the sequence.\n",
    "\n",
    "Example interaction: \n",
    "\n",
    ">Please input the first term in the arithmetic sequence:<br>\n",
    ">2<br>\n",
    ">Please input the common difference:<br>\n",
    ">3<br>\n",
    ">Please input the index :<br>\n",
    ">5<br>\n",
    ">The 5th term in the sequence is:<br>\n",
    ">14<br>\n",
    ">The sum of the first 5 terms in the sequence is:<br>\n",
    ">40<br>"
   ]
  },
  {
   "cell_type": "code",
   "execution_count": 9,
   "metadata": {},
   "outputs": [
    {
     "name": "stdout",
     "output_type": "stream",
     "text": [
      "The 5th term in the sequence is:\n",
      "14\n",
      "The sum of the first 5 terms in the sequence is:\n",
      "40\n"
     ]
    }
   ],
   "source": [
    "#This code takes input for the first term, common difference, and the index of a term of an arithmetic sequence\n",
    "term = int(input('Please input the first term in the arithmetic sequence:'))\n",
    "common_difference = int(input('Please input the common difference:'))\n",
    "n = int(input('Please input the index of term'))\n",
    "\n",
    "# Calculates the nth term and the sum of the first n terms using arithmetic formula.\n",
    "# The nth term is calculated as nth term = first_term + (n-1) * common_difference\n",
    "print(f'The {n}th term in the sequence is:')\n",
    "print(f'{term + (n-1)*common_difference}')\n",
    "\n",
    "# Calculates the nth term and the sum of the first n terms using arithmetic formula.\n",
    "# Alternatively, the sum of first n terms can calculated as  n/2 * (2*first_term + (n-1)*common_difference)\n",
    "tot = 0 \n",
    "\n",
    "for i in range(n):\n",
    "    tot = tot + term\n",
    "    term = term + common_difference\n",
    "\n",
    "print(f'The sum of the first {n} terms in the sequence is:')\n",
    "print(tot)"
   ]
  },
  {
   "cell_type": "markdown",
   "metadata": {},
   "source": [
    "# Exercise 1.4\n",
    "\n",
    "An arithmetic sequence $u_1, u_2, u_3, \\cdots$ is defined by $u_r=3r-1$ for $r\\in \\mathbb{Z}^{+}$. Find the least value of $n$ such that $u_3+u_6+u_9+\\cdots+u_n$ exceeds $1700$, where $n$ is a multiple of 3. "
   ]
  },
  {
   "cell_type": "code",
   "execution_count": 17,
   "metadata": {},
   "outputs": [
    {
     "name": "stdout",
     "output_type": "stream",
     "text": [
      "8\n",
      "25\n",
      "The least value of n is 6\n"
     ]
    }
   ],
   "source": [
    "# Calculates the least value of n for which the sum of the first few terms in a given sequence equals or exceeds 1700.\n",
    "\n",
    "tot = 0 # variable to store the sum of the terms\n",
    "r = 3   # variable to store the current value of index\n",
    "\n",
    "# the while loop calculates the sum of the first n terms until it equals or exceeds 1700\n",
    "while tot<=8:\n",
    "    term = 3*r-1 # calculate the current term in the sequence\n",
    "    tot = tot + term # add the current term to the sum\n",
    "    r = r + 3 # increment index by 3\n",
    "    print(tot) # print the current sum\n",
    "\n",
    "# once the while loop terminates, r-3 will have the least value of n such that the sum is >= 1700\n",
    "print(f'The least value of n is {r-3}')\n"
   ]
  },
  {
   "cell_type": "markdown",
   "metadata": {},
   "source": [
    "# Exercise 1.5 2012/GCE A-Level/P2/Q4(i) H2 Mathematics\n",
    "\n",
    "On 1 January 2001 Mrs $A$ put \\$100 into a bank account, and on the first day of each subsequent month she put in \\$10 more than in the previous month. Thus on 1 February she put \\$110 into the account and on 1 March she put \\$120 into the account, and so on. The account pays no interest.\n",
    "\n",
    "On what date did the value of Mrs $A$'s account first become greater than $5000?"
   ]
  },
  {
   "cell_type": "code",
   "execution_count": 20,
   "metadata": {},
   "outputs": [
    {
     "name": "stdout",
     "output_type": "stream",
     "text": [
      "0, 1 JAN 2001, 100\n",
      "1, 1 FEB 2001, 210\n",
      "2, 1 MAR 2001, 330\n",
      "3, 1 APR 2001, 460\n",
      "4, 1 MAY 2001, 600\n",
      "5, 1 JUN 2001, 750\n",
      "6, 1 JUL 2001, 910\n",
      "7, 1 AUG 2001, 1080\n",
      "8, 1 SEP 2001, 1260\n",
      "9, 1 OCT 2001, 1450\n",
      "10, 1 NOV 2001, 1650\n",
      "11, 1 DEC 2001, 1860\n",
      "0, 1 JAN 2002, 2080\n",
      "1, 1 FEB 2002, 2310\n",
      "2, 1 MAR 2002, 2550\n",
      "3, 1 APR 2002, 2800\n",
      "4, 1 MAY 2002, 3060\n",
      "5, 1 JUN 2002, 3330\n",
      "6, 1 JUL 2002, 3610\n",
      "7, 1 AUG 2002, 3900\n",
      "8, 1 SEP 2002, 4200\n",
      "9, 1 OCT 2002, 4510\n",
      "10, 1 NOV 2002, 4830\n",
      "11, 1 DEC 2002, 5160\n"
     ]
    }
   ],
   "source": [
    "months = ['JAN','FEB','MAR','APR','MAY','JUN','JUL','AUG','SEP','OCT','NOV','DEC']\n",
    "\n",
    "year = 2001\n",
    "\n",
    "tot = 0\n",
    "\n",
    "term = 100 \n",
    "\n",
    "common_difference = 10\n",
    "\n",
    "month_count = 0\n",
    "\n",
    "# Continues until the cumulative sum reaches 5000\n",
    "while tot < 5000:\n",
    "    tot = tot + term\n",
    "    term = term + common_difference\n",
    "    print(f'{month_count}, 1 {months[month_count]} {year}, {tot}') \n",
    "    month_count = month_count + 1\n",
    "    if month_count // 12 > 0 : \n",
    "        year = year + 1 # month count reaches 12, the year is incremented \n",
    "    month_count = month_count % 12 #  the month count reset back to 0.\n",
    "    "
   ]
  },
  {
   "cell_type": "code",
   "execution_count": null,
   "metadata": {},
   "outputs": [],
   "source": []
  }
 ],
 "metadata": {
  "kernelspec": {
   "display_name": "Python 3",
   "language": "python",
   "name": "python3"
  },
  "language_info": {
   "codemirror_mode": {
    "name": "ipython",
    "version": 3
   },
   "file_extension": ".py",
   "mimetype": "text/x-python",
   "name": "python",
   "nbconvert_exporter": "python",
   "pygments_lexer": "ipython3",
   "version": "3.10.2"
  },
  "orig_nbformat": 2,
  "vscode": {
   "interpreter": {
    "hash": "a42ccb73e7d9bfdf27e036f1d2b8b681e55fc0743cc5586bc2474d4a60f4b886"
   }
  }
 },
 "nbformat": 4,
 "nbformat_minor": 2
}
