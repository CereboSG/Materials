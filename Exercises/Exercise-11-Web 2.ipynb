{
 "cells": [
  {
   "cell_type": "markdown",
   "metadata": {},
   "source": [
    "# Exercise 11\n",
    "\n",
    "Related Notes:\n",
    "- Web_7_HTML_And_CSS"
   ]
  },
  {
   "cell_type": "markdown",
   "metadata": {},
   "source": [
    "## Exercise 11.0\n",
    "\n",
    "1. Describe the hierarchical structure of a html document.\n",
    "\n",
    "2. What do the terms markup and markdown means in the context of web formatting content?\n",
    "\n",
    "3. What information or instruction do you put in the `<head>` element of a html document and how are they used?\n",
    "\n",
    "4. How are the following HTML terms related?\n",
    "    - element\n",
    "    - tag\n",
    "    - attribute\n"
   ]
  },
  {
   "cell_type": "markdown",
   "metadata": {},
   "source": [
    "## Exercise 11.1\n",
    "\n",
    "<center>\n",
    "\n",
    "| First Name | Last Name | Age |\n",
    "|------------|-----------|-----|\n",
    "| Jill       | Smith     | 50  |\n",
    "| Eve        | Jackson   | 94  |\n",
    "| John       | Doe       | 80  |\n",
    "\n",
    "</center>\n",
    "\n",
    "Use the following HTML elements to create a HTML table as shown above:\n",
    "\n",
    "- `<table></table>`\n",
    "- `<tr></tr>`\n",
    "- `<th></th>`\n",
    "- `<td></td>`"
   ]
  },
  {
   "source": [
    "## Exercise 11.2\n",
    "\n",
    "**Using an external stylesheet** (css) change the style of the following elements as follows:\n",
    "\n",
    "- `table` element:\n",
    "    - `font-family: Arial, sans-serif`\n",
    "    - `forder-collapse: collapse`\n",
    "    - `width: 75%`\n",
    "\n",
    "- `th` element:\n",
    "    - `border: 1px solid` and `color` with hexadecimal value of `dddddd`\n",
    "    - `padding: 8px`\n",
    "    - `text-align: center`\n",
    "\n",
    "- `td` element: same as `th` element\n",
    "\n",
    "Position the table at the centre as follows:\n",
    "\n",
    "<center>\n",
    "<img src=\"./img/exercise11-pic1.png\"><br>\n",
    "</center>\n",
    "\n",
    "- Additional exercises at https://www.w3schools.com/css/exercise.asp?filename=exercise_table1\n",
    "\n"
   ],
   "cell_type": "markdown",
   "metadata": {}
  },
  {
   "source": [
    "## Exercise 11.3\n",
    "\n",
    "Using the `table` element create a 2 rows by 2 columns layout for the 4 repeated paragraphs of following text in an html file.\n",
    "\n",
    ">Lorem ipsum dolor sit amet, consectetur adipiscing elit. Nullam nibh felis, tempor lacinia elementum efficitur, feugiat a orci. Cras rhoncus hendrerit risus, congue luctus velit. Cras at mauris ante. Cras et justo ultricies, dignissim augue nec, varius velit. Ut auctor fermentum ornare. Aenean fermentum metus ex, quis dignissim purus luctus quis. Phasellus eget libero ultricies, ullamcorper nunc in, pretium mauris. In posuere sapien sit amet turpis pharetra, a laoreet nisl vehicula. Aenean at lacus in quam mollis malesuada et molestie nisi. Integer sed fermentum lectus.\n",
    "\n",
    "Your html document should look like the figure below:\n",
    "\n",
    "<center>\n",
    "<img src=\"./img/exercise11-pic3.png\"><br>\n",
    "</center>"
   ],
   "cell_type": "markdown",
   "metadata": {}
  },
  {
   "source": [
    "## Exercise 11.4\n",
    "\n",
    "Modify your `products.html` and `products.css` from Exercise 10 to use the table layout with 2 rows and 2 columns. \n",
    "\n",
    "- Add another product into your product catalogue.\n",
    "- Your product catalogue should look similar to this:\n",
    "\n",
    "<center>\n",
    "<img src=\"./img/exercise11-pic4.png\"><br>\n",
    "</center>"
   ],
   "cell_type": "markdown",
   "metadata": {}
  },
  {
   "source": [
    "## Exercise 11.5\n",
    "\n",
    "1. Download the file `practice4.html` from `resources` folder. Study the html and internal css in the html document.\n",
    "2. Create a multi-column layout by encapsulating all the `item` elements within a container `div` element. Use a `class` attribute to identify the container element. \n",
    "\t- Set the value of the class attribute to `row`. \n",
    "\t- Set the display property of `row` element to `flex`.\n",
    "\n",
    "\tYou should now have a multi-column display.\n",
    "\n",
    "3.\tBy copying some of the existing contents from the `item` elements, create 4 more item elements as shown\n",
    "\n",
    "<center>\n",
    "<img src=\"./img/exercise11-pic5.png\"><br>\n",
    "</center>\n",
    "\n",
    "Observe that the flexbox layout automatically adjusts the widths of the item elements but maintain the same height so that they all fill up the width of the parent container.\n",
    "\n",
    "4.\tTo make all the item elements have the same width of 200px: \n",
    "\t-\tAdd the `flex` property to the `item` element and set its value to `200px`. \n",
    "\t>Do all the item elements have a width of 200px?<br>\n",
    "\t>NOTE:\n",
    "\t>The `flex: 200px` declaration set on the articles means that each will be at least 200px wide;\n",
    "\n",
    "5.\tIn order to maintain the same 200px width for all the item elements, you have to allow the item elements to wrap-around and flow over to the next row. \n",
    "\t-\tAdd the `flex-wrap` property to the `row` element and set its value to `wrap`. \n",
    "\t\tThis is how your layout should look like:\n",
    "\n",
    "<center>\n",
    "<img src=\"./img/exercise11-pic6.png\"><br>\n",
    "</center>\n",
    " \n",
    "\t\n",
    "\tObserve that for the first row, all the item elements have the same width of around 200px and the second row, the remaining item elements fill out the width of the container.\n"
   ],
   "cell_type": "markdown",
   "metadata": {}
  },
  {
   "source": [
    "## Exercise 11.6\n",
    "\n",
    "Next, we shall create a navigation bar at the top of the page using the `flex` container concept.\n",
    "\n",
    "1. Add the following lines of html code right after the body start tag as follows:\n",
    "    ```html\n",
    "    <body>\n",
    "        <ul>\n",
    "            <li>Home</li>\n",
    "            <li>New Item</li>\n",
    "            <li>Help</li>\n",
    "        </ul>\n",
    "    ```\n",
    "2. Create the following styling for the `ul` element:\n",
    "    -\t`margin:0`;\n",
    "    -\t`list-style: none`;\n",
    "    -\t`padding:0`;\n",
    "    -\t`display:flex`;\n",
    "    -\t`height:4em`;\n",
    "    -\t`align-items: center`; This will align the child elements at the center of the vertical axis   \n",
    "    -\t`justify-content: flex-end`; This will align the child elements on the right of the horizontal axis\n",
    "\n",
    "3. Create the following styling for the `li` element:\n",
    "    -\t`margin: 1em 1em`;\n",
    "    -\t`padding: 1em 1em`;\n",
    "    -\t`font-family: Arial`;\n",
    "    -\t`font-size: 4 em`;\n",
    "    -\t`text-align: center`;\n",
    "    -\t`border: grey solid`;\n",
    "    -\t`border-radius : 1em`;\n",
    "\n",
    "The final layout and rendering of the html page should look similar to this:\n",
    "\n",
    "<center>\n",
    "<img src=\"./img/exercise11-pic7.png\"><br>\n",
    "</center>\n",
    "\n"
   ],
   "cell_type": "markdown",
   "metadata": {}
  },
  {
   "source": [
    "## Exercise 11.7\n",
    "\n",
    "Modify your `products.html` and `products.css` to use the `flexbox` layout. Add a navigation bar at the top of the page.\n",
    "Your product catalogue should look similar to this:\n",
    "\n",
    "<center>\n",
    "<img src=\"./img/exercise11-pic8.png\"><br>\n",
    "</center>\n"
   ],
   "cell_type": "markdown",
   "metadata": {}
  },
  {
   "cell_type": "markdown",
   "metadata": {},
   "source": [
    "## Exercise 10.3\n",
    "\n",
    "Using the appropriate html elements, create a web page named `products.html` to structure and organise the contents of a products catalogue. The catalogues should contain at least 3 products. Each product will have\n",
    "- name, \n",
    "- description\n",
    "- price \n",
    "- image\n",
    "\n",
    "**NOTE: Your html content should be indented appropriately such that they are easily readable. It need not follow the strict rules in Python.**\n"
   ]
  },
  {
   "cell_type": "markdown",
   "metadata": {},
   "source": [
    "## Exercise 10.5 Box model concept\n",
    "\n",
    "<center>\n",
    "<img src=\"./img/web-1.png\"><br>\n",
    "(Box Model Concept)\n",
    "</center>\n",
    "\n",
    "A. Go to the folder `web_stuff` and study the `html` and `css` code.\n",
    "\n",
    "B. Align the text of the inner `div` element such that the text is evenly distributed between the margins as follows:\n",
    "\n",
    "<center>\n",
    "<img src=\"./img/web-2.png\"><br>\n",
    "</center>\n",
    " \n",
    "C. Adjust the padding properties of the inner div elements by changing its value from `0px` to `50px` and observe the changes immediately. What do you observe?\n",
    "\n",
    "D. Remove the `padding-bottom` property and use only on the `padding` property to set the inner `div` padding to `20px` all round (top, bottom, left and right) \n",
    "E. Change the paddings of the `container` div element with the following settings:\n",
    "    -\ttop and bottom: `1em`\n",
    "    -\tleft and right: `4em`\n",
    "\n",
    "F. Change the width of the `container` div element such that it occupies 20% of the width of the browser and align at the centre.\n",
    "\n",
    "G. Create another div element block inside the `container` div element such that:\n",
    "    - all the styling and content are identical to the inner `div` element except for the background colour which is changed to white.\n",
    "    - separated from the first inner `div` element by `20px`.\n",
    "    Your layout should look like this:\n",
    "\n",
    "<center>\n",
    "<img src=\"./img/web-3.png\"><br>\n",
    "</center>\n",
    "\n"
   ]
  }
 ],
 "metadata": {
  "kernelspec": {
   "display_name": "Python 3.9.1 64-bit",
   "metadata": {
    "interpreter": {
     "hash": "dcacb0086e9a4f4eabd41c33bf4faac5ea0a3337ed3f5eff0680afa930572c04"
    }
   },
   "name": "python3"
  },
  "language_info": {
   "codemirror_mode": {
    "name": "ipython",
    "version": 3
   },
   "file_extension": ".py",
   "mimetype": "text/x-python",
   "name": "python",
   "nbconvert_exporter": "python",
   "pygments_lexer": "ipython3",
   "version": "3.9.1-final"
  },
  "orig_nbformat": 2
 },
 "nbformat": 4,
 "nbformat_minor": 2
}