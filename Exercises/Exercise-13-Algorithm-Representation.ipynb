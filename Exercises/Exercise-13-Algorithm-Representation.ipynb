{
 "cells": [
  {
   "cell_type": "markdown",
   "metadata": {},
   "source": [
    "# Exercise 13\n",
    "\n",
    "Related Notes:\n",
    "- Fundamentals_8_Algorithmic_Representation"
   ]
  },
  {
   "cell_type": "markdown",
   "metadata": {},
   "source": [
    "## Exercise 13.1\n",
    "\n",
    "The following algorithm inputs two integer numbers and outputs all the integers from the first number to the last number.\n",
    ">```\n",
    "> INPUT FirstNumber\n",
    "> INPUT LastNumber\n",
    "> FOR Number ← FirstNumber TO SecondNumber\n",
    ">   OUTPUT Number\n",
    ">   ENDFOR Number\n",
    ">```\n",
    "\n",
    "1. Rewrite this algorithm in pseudocode using \n",
    "    - a `WHILE-ENDWHILE` loop,\n",
    "    - a `REPEAT-UNTIL` loop,\n",
    "2. Implement your pseudocode in Python."
   ]
  },
  {
   "cell_type": "code",
   "execution_count": null,
   "metadata": {},
   "outputs": [],
   "source": [
    "#YOUR ANSWER HERE"
   ]
  },
  {
   "source": [
    "## Exercise 13.2\n",
    "\n",
    "An algorithm is required to ask the user to input a number.\n",
    "If the number is zero, stop.\n",
    "If the number is positive, output the number.\n",
    "If the number is negative, square the number, and output the square and square root of the answer.\n",
    "\n",
    "1. Write the algorithm in pseudocode.\n",
    "2. Draw the flowchart of the algorithm.\n",
    "3. Implement the algorithm in Python."
   ],
   "cell_type": "markdown",
   "metadata": {}
  },
  {
   "cell_type": "code",
   "execution_count": null,
   "metadata": {},
   "outputs": [],
   "source": [
    "#YOUR ANSWER HERE"
   ]
  },
  {
   "source": [
    "## Exercise 13.3\n",
    "\n",
    "Study the following algorithm.\n",
    "\n",
    ">```\n",
    ">FUNCTION Mystery(m, n)\n",
    ">   r ← m – INT(m / n) * n\n",
    ">   IF r = 0\n",
    ">   THEN\n",
    ">       RETURN n\n",
    ">   ELSE\n",
    ">       RETURN Mystery(n, r)\n",
    ">   ENDIF\n",
    ">ENDFUNCTION\n",
    ">```\n",
    "\n",
    "`INT(Number)` returns the integer part of the parameter, `Number`. For example, `INT(4.2)` returns `4` and `INT(5.8)` returns 5.\n",
    "The function `Mystery` is called with\n",
    "\n",
    "> CALL Mystery(69,12)\n",
    "\n",
    "1. Produce a diagram that traces each step of the algorithm and the function calls. \n",
    "2. Implement the algorithm in Python."
   ],
   "cell_type": "markdown",
   "metadata": {}
  },
  {
   "cell_type": "code",
   "execution_count": null,
   "metadata": {},
   "outputs": [],
   "source": [
    "#YOUR ANSWER HERE"
   ]
  },
  {
   "source": [
    "## Exercise 13.4 2019/A Level/P1/Q5 H2 Computing (Modified)\n",
    "\n",
    "The function `z` takes three integer parameters, `low`, `high`, `seek` and returns an integer value. It operates on the values in the elements of the array `A`."
   ],
   "cell_type": "markdown",
   "metadata": {}
  },
  {
   "cell_type": "code",
   "execution_count": null,
   "metadata": {},
   "outputs": [],
   "source": [
    "FUNCTION Z(low, high, seek, A) RETURNS INTEGER\n",
    "    IF low > high THEN\n",
    "        RETURN -1\n",
    "    ENDIF\n",
    "    mid ← low + INT((high-low)/)\n",
    "    IF seek = A[mid] THEN\n",
    "        RETURN mid\n",
    "    ELSE    \n",
    "        IF seek < A[mid] THEN\n",
    "            RETURN Z(low, mid-1, seek, A)\n",
    "        ELSE\n",
    "            RETURN Z(mid+1, high, seek, A)\n",
    "        ENDIF\n",
    "    ENDIF\n",
    "ENDFUNCTION"
   ]
  },
  {
   "source": [
    "1. State what lines `10` and `12` tell you about the function.\n",
    "2. State the purpose for the `RETURN` statements in lines `03` and `07` of function z.\n",
    "\n",
    "The values in each of the eight elements of the array `A` are:\n",
    ">```\n",
    ">| Element | 0  | 1 | 2  | 3  | 4  | 5   | 6   | 7   |\n",
    ">|---------|----|---|----|----|----|-----|-----|-----|\n",
    ">| Value   | -3 | 8 | 14 | 15 | 96 | 101 | 412 | 500 |\n",
    ">```\n",
    "\n",
    "3. Copy and then complete the trace table for the instruction:\n",
    "> OUTPUT Z(0, 7, 103, A)\n",
    ">```\n",
    ">| Function call | low | high | seek | mid | A[mid] | OUTPUT |\n",
    ">|---------------|-----|------|------|-----|--------|--------|\n",
    ">| 1             | 0   | 7    | 103  |     |        |        |\n",
    ">|               |     |      |      |     |        |        |\n",
    ">|               |     |      |      |     |        |        |\n",
    ">|               |     |      |      |     |        |        |\n",
    ">|               |     |      |      |     |        |        |\n",
    ">|               |     |      |      |     |        |        |\n",
    ">```\n",
    "\n",
    "4. Function `z` can return **two** different types of value. Explain what these represent."
   ],
   "cell_type": "markdown",
   "metadata": {}
  },
  {
   "source": [
    "## Exercise 13.5 2018/A Level/P1/Q2 H2 Computing\n",
    "\n",
    "The following algorithm calculates the average mark for a group of students."
   ],
   "cell_type": "markdown",
   "metadata": {}
  },
  {
   "cell_type": "code",
   "execution_count": null,
   "metadata": {},
   "outputs": [],
   "source": [
    "FOR Counter ← 1 TO NumberOfStudents\n",
    "    Total ← 0\n",
    "    INPUT Mark\n",
    "    Total ← Total + Mark\n",
    "ENDFOR\n",
    "AVERAGE ← Total / NumberOfStudents\n",
    "OUTPUT Average"
   ]
  },
  {
   "source": [
    "1. There is an error in this algorithm causing an incorrect result. Describe the error and explain the chage required to correct this error. \n",
    "2. State the name of this type of error.\n",
    "3. The lowest mark in the exam is 0 and the highest is 100. Give an example from each of the appropriate test cases which could be used to test the algorithm.\n",
    "4. Name and describe a suitable technique that could be used to manually identify errors in the algorithm."
   ],
   "cell_type": "markdown",
   "metadata": {}
  },
  {
   "cell_type": "code",
   "execution_count": null,
   "metadata": {},
   "outputs": [],
   "source": [
    "#YOUR ANSWER HERE"
   ]
  },
  {
   "source": [
    "## Exercise 13.6 2018/NJC Prelim/P1/Q3 H2 Computing\n",
    "\n",
    "The following is a recursive function"
   ],
   "cell_type": "markdown",
   "metadata": {}
  },
  {
   "cell_type": "code",
   "execution_count": null,
   "metadata": {},
   "outputs": [],
   "source": [
    "FUNCTION f(INTEGER a, INTEGER b)\n",
    "    IF b = 0 THEN\n",
    "        RETURN 1\n",
    "    ELSE IF b = 1 THEN\n",
    "        RETURN a\n",
    "    ENDIF\n",
    "    x ← f(a, b DIV 2)\n",
    "    IF (b MOD 2) = 0 THEN\n",
    "        RETURN x * x\n",
    "    ELSE\n",
    "        RETURN x * a * x\n",
    "    ENDIF\n",
    "ENDFUNCTION"
   ]
  },
  {
   "source": [
    "1.\tUsing the above function as an example, define recursion.\n",
    "2.\tPerform a dry-run of the above function using the call f(3, 4). Show the resultant \ttrace tree.\n",
    "3.\tState the purpose of the specified function.\n",
    "4.\tIdentify one flaw in the above algorithm, and explain how this flaw may be addressed.\n",
    "5.\tDraw a flowchart depicting an iterative version of the specified function."
   ],
   "cell_type": "markdown",
   "metadata": {}
  },
  {
   "cell_type": "code",
   "execution_count": null,
   "metadata": {},
   "outputs": [],
   "source": [
    "numbers = [x for x in range(1000)]+[1001]\n",
    "i = 0\n",
    "try:\n",
    "    while True:\n",
    "        print(str(numbers[i]))\n",
    "        i += 1\n",
    "        \n",
    "except IndexError as e:\n",
    "    False"
   ]
  },
  {
   "cell_type": "code",
   "execution_count": null,
   "metadata": {},
   "outputs": [],
   "source": [
    "numbers = [x for x in range(1000)]+[1001]\n",
    "i = 0\n",
    "while True:\n",
    "    try:\n",
    "        print(str(numbers[i]))\n",
    "        i += 1\n",
    "    except IndexError:\n",
    "        print(\"You're printing out of the index range, brudda.\")\n",
    "        break"
   ]
  },
  {
   "cell_type": "markdown",
   "metadata": {},
   "source": [
    "## Exercise 9.2\n",
    "\n",
    "Consider the code in the code cell below.\n",
    "\n",
    "Once again, there is a problem with this code. Use the `try-except` statement to ensure the code does not cause a runtime error. (Note: you may not change the way name is generated or used.)"
   ]
  },
  {
   "cell_type": "code",
   "execution_count": null,
   "metadata": {},
   "outputs": [],
   "source": [
    "from random import randint\n",
    "name = \"\"\n",
    "for i in range(100):\n",
    "    name = name + str(randint(0, 9))\n",
    "    name = name + \".txt\"\n",
    "    fileHandle = open(name)\n",
    "    data = f.read()\n",
    "    print(data)\n",
    "    f.close()"
   ]
  },
  {
   "cell_type": "code",
   "execution_count": null,
   "metadata": {},
   "outputs": [],
   "source": [
    "#YOUR_CODE_HERE\n",
    "for i in range(100):\n",
    "    name = str(randint(0,9)) + \".txt\"\n",
    "    try:\n",
    "        fileHandle = open(name)\n",
    "        data = fileHandle.read()\n",
    "        print(data)\n",
    "        fileHandle.close()\n",
    "    except FileNotFoundError:\n",
    "        fileHandle = open(name, 'w')\n",
    "        fileHandle.close()"
   ]
  },
  {
   "cell_type": "markdown",
   "metadata": {},
   "source": [
    "## Exercise 9.3\n",
    "\n",
    "Write code that continually asks for rational number input from the user (until the string `exit` is inputTED). \n",
    "\n",
    "For each value entered, (if it is not the string `exit`) utilise exception handling to verify that the inputs are indeed rational numbers before saving them to the file called `RATIONALS.TXT`. (Note that your code should open, write, and close the file with each entry. Also comment why this may be a more prudent course of action.)\n",
    "\n"
   ]
  },
  {
   "cell_type": "code",
   "execution_count": null,
   "metadata": {},
   "outputs": [],
   "source": [
    "#YOUR_CODE_HERE\n",
    "while True:\n",
    "    a = input(\"input rational no.\")\n",
    "    if a == 'exit':\n",
    "        break\n",
    "    try:\n",
    "        a = float(a)\n",
    "        f = open('rationals.txt','a')\n",
    "        f.write(str(a)+'\\n')\n",
    "        f.close()\n",
    "    except ValueError:\n",
    "        pass\n",
    "        print('bullsh*t')"
   ]
  },
  {
   "cell_type": "markdown",
   "metadata": {},
   "source": [
    "## Exercise 9.4\n",
    "\n",
    "The file `WORDS.TXT` under the folder `resources` contains a list of single word computing terms used in a textbook.\n",
    "\t\n",
    "Each entry has the following format:\n",
    ">```python\n",
    "><computing term>\n",
    "><number>\n",
    ">```\n",
    "\n",
    "One of the file entries (in both files) is:\n",
    ">```python\n",
    ">program\t\n",
    ">52\n",
    ">```\n",
    "\t\n",
    "This means that after a complete scan of the textbook the word `program` was found 52 times.\n",
    "\t\n",
    "By utilising the `try-except` statement, write program code to find and output the term with the highest number of occurrences.\n",
    "\n"
   ]
  },
  {
   "cell_type": "code",
   "execution_count": null,
   "metadata": {},
   "outputs": [],
   "source": [
    "#YOUR_CODE_HERE\n",
    "def maxim():\n",
    "    with open(\"resources/WORDS.TXT\",'r') as f:\n",
    "        x = [i.strip() for i in f.readlines()]\n",
    "    y = []\n",
    "    print(x)\n",
    "    for j in x:\n",
    "        try:\n",
    "            y.append(int(j))\n",
    "        except ValueError:\n",
    "            None\n",
    "    return  x[x.index(str(max(y))) - 1] # takes the one before the value itself.\n",
    "\n",
    "maxim()"
   ]
  },
  {
   "cell_type": "markdown",
   "metadata": {},
   "source": [
    "## Exercise 9.5 ISBN \n",
    "\n",
    "The International Standard Book Number (ISBN) is a numeric commercial book identifier which is intended to be unique. Publishers purchase ISBNs from an affiliate of the International ISBN Agency.\n",
    "\n",
    "Write a code that \n",
    "- takes in a string input,\n",
    "- return `True` if the string is either a valid ISBN-10 or ISBN-13 numbers.\n",
    "\n",
    "Each line in the text file, `ISBN_EXERCISE.TXT` under the folder `resources`, contain ISBN-10 or ISBN-13 which can be valid or invalid.\n",
    "\n",
    "Write a program to:\n",
    "- print out the valid ISBNs in the file.\n",
    "- print out the number of valid ISBNs in the file."
   ]
  },
  {
   "cell_type": "code",
   "execution_count": null,
   "metadata": {},
   "outputs": [],
   "source": [
    "import csv\n",
    "def isValid(a):\n",
    "  b = [10 if x == 'X' else int(x) for x in a if x not in '- ']\n",
    "  if len(b) ==10:\n",
    "    total = 0\n",
    "    for i in range(len(b)):\n",
    "        total+= (len(a)-i)*b[i]\n",
    "    return (total/11).is_integer()\n",
    "  elif len(b) == 13:\n",
    "      total = 0\n",
    "      for i in range(len(b)):\n",
    "          if i%2 == 0:\n",
    "              total += b[i]\n",
    "          else:\n",
    "              total +=b[i]*3\n",
    "\n",
    "      return (total/10).is_integer()\n",
    "  else:\n",
    "      return \n",
    "\n",
    "with open('ISBN_EXERCISE.txt') as f:\n",
    "  reader = csv.reader(f,delimiter = ':')\n",
    "  count = 0\n",
    "  for row in reader:\n",
    "    if isValid(row[1]):\n",
    "      count +=1\n",
    "      print(row)\n",
    "  print(f'{count} valid ISBN')"
   ]
  },
  {
   "cell_type": "code",
   "execution_count": null,
   "metadata": {},
   "outputs": [],
   "source": [
    "isbn_10_weight=list(range(10,0,-1))\n",
    "print(isbn_10_weight)\n",
    "\n",
    "def ISBN10_check(s):\n",
    "    vec=[int(i) for i in list(s)]\n",
    "    return (dot(isbn_10_weight,vec)%11)==0\n",
    "\n",
    "def ISBN10_check(s):\n",
    "    x=list(s)\n",
    "    l=len(x)\n",
    "    tot=0\n",
    "    for i in range(l):\n",
    "        tot=tot+int(x[i])*(l-i)\n",
    "    return tot%11==0\n",
    "\n",
    "def dot(vec1,vec2):\n",
    "    return sum([vec1[i]*vec2[i] for i in range(13)])\n",
    "\n",
    "isbn_13_weight=[1,3]*6+[1]\n",
    "\n",
    "def ISBN13_check(s):\n",
    "    vec=[int(i) for i in list(s)]\n",
    "    return (dot(isbn_13_weight,vec)%10)==0\n",
    "\n",
    "with open('ISBN_EXERCISE.txt') as f:\n",
    "    data=f.readlines()\n",
    "\n",
    "data=[x.split(':') for x in data]\n",
    "\n",
    "data=[[x[0].strip(),x[1].strip().replace('-','')] for x in data]\n",
    "\n",
    "isbn_10_count=0\n",
    "isbn_13_count=0\n",
    "\n",
    "for x in data:\n",
    "    if x[0]=='ISBN-10':\n",
    "        if len(x[1])==10 and ISBN10_check(x[1]):\n",
    "            print(f'{x[1]} is a valid {x[0]} number')\n",
    "            isbn_10_count +=1\n",
    "        else:\n",
    "            print(f'This {x[0]} number, {x[1]}, fails the length check or the check digit doesnt match.')\n",
    "    if x[0]=='ISBN-13':\n",
    "         if len(x[1])==13 and ISBN13_check(x[1]):\n",
    "            print(f'{x[1]} is a valid {x[0]} number')\n",
    "            isbn_13_count +=1\n",
    "         else:\n",
    "            print(f'This {x[0]} number, {x[1]}, fails the length check or the check digit doesnt match.')\n",
    "\n",
    "print(f'There are {isbn_10_count} valid ISBN-10 numbers and {isbn_13_count} for ISBN-13 numbers. Thus, total is {isbn_10_count + isbn_13_count}')"
   ]
  },
  {
   "cell_type": "code",
   "execution_count": null,
   "metadata": {},
   "outputs": [],
   "source": [
    "def f(x):\n",
    "    a=input()\n",
    "    return 1/x"
   ]
  }
 ],
 "metadata": {
  "kernelspec": {
   "display_name": "Python 3",
   "language": "python",
   "name": "python3"
  },
  "language_info": {
   "codemirror_mode": {
    "name": "ipython",
    "version": 3
   },
   "file_extension": ".py",
   "mimetype": "text/x-python",
   "name": "python",
   "nbconvert_exporter": "python",
   "pygments_lexer": "ipython3",
   "version": "3.7.6"
  }
 },
 "nbformat": 4,
 "nbformat_minor": 2
}