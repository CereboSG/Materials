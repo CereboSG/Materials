{
 "cells": [
  {
   "cell_type": "markdown",
   "source": [
    "# Exercise 18\r\n",
    "\r\n",
    "Notes:\r\n",
    "- Fundamentals_11-Fundamental_Algorithms"
   ],
   "metadata": {}
  },
  {
   "cell_type": "markdown",
   "source": [
    "## Exercise 18.1 2019/A Level/P2/Q5 H2 Computing\r\n",
    "\r\n",
    "The function `Z` takes three integer parameters, `low`, `high`, `seek` and returns an integer value. It operates on the values in the elements of the array A.\r\n",
    "\r\n",
    ">```python\r\n",
    "> 01 FUNCTION Z(low, high, seek, A) RETURNS INTEGER\r\n",
    "> 02    IF low > high THEN\r\n",
    "> 03        RETURN -1 .\r\n",
    "> 04    ENDIF\r\n",
    "> 05    mid <- low + INT((high - low)/2)\r\n",
    "> 06    IF seek = A[mid] THEN\r\n",
    "> 07        RETURN mid\r\n",
    "> 08    ELSE\r\n",
    "> 09        IF seek < A[mid] THEN\r\n",
    "> 10            RETURN Z(low, mid - 1, seek, A)\r\n",
    "> 11        ELSE\r\n",
    "> 12            RETURN Z(mid + 1, high, seek, A) '\r\n",
    "> 13        ENDIF\r\n",
    "> 14    ENDIF\r\n",
    "> 15 ENDFUNCTION\r\n",
    ">```\r\n",
    "\r\n",
    "**(a) (i)** State what lines `10` and `12` tell you about the function. \r\n",
    "<div style=\"text-align: right\">[1]</div>\r\n",
    "\r\n",
    "**(a) (ii)** State the purpose for the `RETURN` statements in lines `03` and `07` of function `z`. \r\n",
    "<div style=\"text-align: right\">[1]</div>\r\n",
    "\r\n",
    "The values in each of the eight elements of the array `A` are:\r\n",
    "\r\n",
    " <center>\r\n",
    "\r\n",
    "| Element | 0 | 1 | 2 | 3 | 4 | 5 | 6 | 7 | \r\n",
    "|-|-|-|-|-|-|-|-|-|\r\n",
    "| Value | -3 | 8 | 14 | 15 | 96 | 101 | 412 | 500 |\r\n",
    "\r\n",
    "</center>"
   ],
   "metadata": {}
  },
  {
   "cell_type": "code",
   "execution_count": null,
   "source": [
    "#YOUR_ANSWER_HERE"
   ],
   "outputs": [],
   "metadata": {}
  },
  {
   "cell_type": "markdown",
   "source": [
    "**(b)** Copy and then complete the trace table for the instruction:\r\n",
    "\r\n",
    ">```python\r\n",
    ">OUTPUT Z(0, 7, 103, A)\r\n",
    ">```\r\n",
    "<br>\r\n",
    "<center>\r\n",
    "\r\n",
    "| `Function call` | `low` | `high` | `seek` | `mid` | `A[mid]` | `OUTPUT` |  \r\n",
    "|-|-|-|-|-|-|-|\r\n",
    "| `1` | `0` | `7` | `103` |  |  |  |\r\n",
    "|  |  |  |  |  |  |  |\r\n",
    "|  |  |  |  |  |  |  |\r\n",
    "|  |  |  |  |  |  |  |\r\n",
    "|  |  |  |  |  |  |  |\r\n",
    "|  |  |  |  |  |  |  |\r\n",
    "\r\n",
    "</center>\r\n",
    "\r\n",
    "<div style=\"text-align: right\">[4]</div>"
   ],
   "metadata": {}
  },
  {
   "cell_type": "code",
   "execution_count": null,
   "source": [
    "#YOUR_ANSWER_HERE"
   ],
   "outputs": [],
   "metadata": {}
  },
  {
   "cell_type": "markdown",
   "source": [
    "**(c)** Function `z` can return two different types of value.\r\n",
    "Explain what these represent.\r\n",
    "\r\n",
    "<div style=\"text-align: right\">[2]</div>"
   ],
   "metadata": {}
  },
  {
   "cell_type": "code",
   "execution_count": null,
   "source": [
    "#YOUR_ANSWER_HERE"
   ],
   "outputs": [],
   "metadata": {}
  },
  {
   "cell_type": "markdown",
   "source": [
    "**(d)** The number of elements in array `A` may be very large.\r\n",
    "Explain why a programmer might prefer to use an iterative approach rather than the one used\r\n",
    "in function `z`. \r\n",
    "\r\n",
    "<div style=\"text-align: right\">[2]</div>"
   ],
   "metadata": {}
  },
  {
   "cell_type": "code",
   "execution_count": null,
   "source": [
    "#YOUR_ANSWER_HERE"
   ],
   "outputs": [],
   "metadata": {}
  },
  {
   "cell_type": "markdown",
   "source": [
    "## Exercise 18.2 2014/A Level/P1/Q2 H2 Computing\r\n",
    "\r\n",
    "A binary search (binary chop) is a technique to search for a value in an ordered dataset.\r\n",
    "\r\n",
    "### Task 1\r\n",
    "Study the identifier table and incomplete recursive algorithm.\r\n",
    "The missing parts of the algorithm are labelled A, B and C.\r\n",
    "\r\n",
    "<center>\r\n",
    "\r\n",
    "| Variable | Data Type | Description | \r\n",
    "|-|-|-|\r\n",
    "|`ThisArray`|`ARRAY OF STRING`|Array containing the the dataset\r\n",
    "|`FindValue`|`STRING`|Item to be found\r\n",
    "|`Low`|`INTEGER`|Lowest index of the considered list\r\n",
    "|`High`|`INTEGER`|Highest index of the considered list\r\n",
    "|`Middle`|`INTEGER`|The array index for the middle position of the current list considered\r\n",
    "\r\n",
    "</center>\r\n",
    "\r\n",
    "<br>\r\n",
    "\r\n",
    ">```python\r\n",
    ">FUNCTION BinarySearch(ThisArray, FindValue, Low, High) RETURNS INTEGER\r\n",
    ">    DECLARE Middle : INTEGER\r\n",
    ">    IF ............... A ...............\r\n",
    ">        THEN\r\n",
    ">            RETURN -1 // not found\r\n",
    ">    ELSE\r\n",
    ">        // calculate new Middle value\r\n",
    ">        Middle ← ............... B ...............\r\n",
    ">        IF ThisArray[Middle] > FindValue\r\n",
    ">            THEN\r\n",
    ">                RETURN BinarySearch(ThisArray, FindValue, Low, Middle - 1)\r\n",
    ">            ELSE\r\n",
    ">                IF ThisArray[Middle] < FindValue\r\n",
    ">                    THEN\r\n",
    ">                        ............... C ...............\r\n",
    ">                    ELSE\r\n",
    ">                        RETURN Middle // found at position Middle\r\n",
    ">                ENDIF\r\n",
    ">        ENDIF\r\n",
    ">    ENDIF\r\n",
    ">ENDFUNCTION\r\n",
    ">```   \r\n",
    "            \r\n",
    "### Evidence \r\n",
    "What are the three missing lines in this pseudocode?\r\n",
    "<div style=\"text-align: right\">[3]</div>\r\n"
   ],
   "metadata": {}
  },
  {
   "cell_type": "code",
   "execution_count": null,
   "source": [
    "#YOUR_ANSWER_HERE"
   ],
   "outputs": [],
   "metadata": {}
  },
  {
   "cell_type": "markdown",
   "source": [
    "## Task 2\r\n",
    "\r\n",
    "Write a program to implement binary search.\r\n",
    "The program will\r\n",
    "- Call procedure `InitialiseAnimals`\r\n",
    "- Input an animal name\r\n",
    "- Use the function `BinarySearch`\r\n",
    "- Report whether or now this animal name was found. If found, also output the index position.\r\n",
    "\r\n",
    "The array in the program has identifier `MyAnimal`.\r\n",
    "Use the dataset given in the file `ANIMALS.TXT`. You should paste the contents of this file into your program. The statements will form the basis of the code for the procedure `InitialiseAnimals`.\r\n",
    "\r\n",
    "## Evidence \r\n",
    "Program code for Task 2.2\r\n",
    "<div style=\"text-align: right\">[7]</div>\r\n",
    "\r\n",
    "## Evidence \r\n",
    "Screenshot to confirm that an animal wich is present in the list was found with its index position displayed.\r\n",
    "<div style=\"text-align: right\">[1]</div>"
   ],
   "metadata": {}
  },
  {
   "cell_type": "code",
   "execution_count": null,
   "source": [
    "#YOUR_ANSWER_HERE"
   ],
   "outputs": [],
   "metadata": {}
  },
  {
   "cell_type": "markdown",
   "source": [
    "## Task 3\r\n",
    "Amend the program as follows:\r\n",
    "The program must also output the number of function calls carried out.\r\n",
    "\r\n",
    "## Evidence\r\n",
    "The amended program code.\r\n",
    "<div style=\"text-align: right\">[4]</div>\r\n",
    "\r\n",
    "## Evidence \r\n",
    "Screenshots showing the amended ouput for runs of the program where:\r\n",
    "- the animal is found\r\n",
    "- the animal is not found.\r\n",
    "<div style=\"text-align: right\">[2]</div>"
   ],
   "metadata": {}
  },
  {
   "cell_type": "code",
   "execution_count": null,
   "source": [
    "#YOUR_ANSWER_HERE"
   ],
   "outputs": [],
   "metadata": {}
  },
  {
   "cell_type": "markdown",
   "source": [
    "## Exercise 18.3 2018/A Level/P2/Q5 H2 Computing\r\n",
    "\r\n",
    "The organisers of a diving championship have created software to calculate and show the total score for each diver.\r\n",
    "\r\n",
    "There are nine judges scoring each dive. The two best scores and the two worst scores are ignored. The other five scores are added together to give the diver's total score.\r\n",
    "\r\n",
    "**(a)** Write an algorithm to take in the nine scores, delete the best two and the two worst scores, and total the five remaining scores. [4]\r\n",
    "\r\n",
    "There are 10 divers in the final. The scoreboard shows the order of diving.\r\n",
    "\r\n",
    "<center>\r\n",
    "\r\n",
    "| Order | Diver name | Total score | \r\n",
    "|-|-|-|\r\n",
    "|1| Daniel Tan|\r\n",
    "|2| Parker Lam|\r\n",
    "|3 |Mohamed Noor|\r\n",
    "|4 |Hariz Yazid|\r\n",
    "|5 |Sheryl Xuan|\r\n",
    "|6 |Karl Lim|\r\n",
    "|7 |Elaine Ning|\r\n",
    "|8 |Nadyia Esmadi|\r\n",
    "|9 |Cai Ng|\r\n",
    "|10| Hamid Mahmood|\r\n",
    "\r\n",
    "</center>\r\n"
   ],
   "metadata": {}
  },
  {
   "cell_type": "code",
   "execution_count": null,
   "source": [
    "#YOUR_ANSWER_HERE"
   ],
   "outputs": [],
   "metadata": {}
  },
  {
   "cell_type": "markdown",
   "source": [
    "**(b)** The programmers decided to use a 1D array for the scores. They will also use a bubble sort to sort the scores into descending order.<br>\r\n",
    "**(i)** Explain how a bubble sort can be used to arrange the scores into a descending or ascending order. \r\n",
    "\r\n",
    "<div style=\"text-align: right\">[2]</div>"
   ],
   "metadata": {}
  },
  {
   "cell_type": "code",
   "execution_count": null,
   "source": [
    "#YOUR_ANSWER_HERE"
   ],
   "outputs": [],
   "metadata": {}
  },
  {
   "cell_type": "markdown",
   "source": [
    "This is the bubble sort algorithm for sorting into descending order:\r\n",
    "\r\n",
    ">```python\r\n",
    "> 01 WHILE NoSwaps = FALSE\r\n",
    "> 02    NoSwaps <- TRUE\r\n",
    "> 03    UpperBound <- ListLength\r\n",
    "> 04    For Posn <- 0 TO ......A......\r\n",
    "> 05        IF List[Posn] <- ........B...\r\n",
    "> 06            THEN\r\n",
    "> 07                // Swap\r\n",
    "> 08            NoSwaps <- ......C......\r\n",
    "> 09            Temp <- List [Posn]\r\n",
    "> 10            List[Posn] <- List[Posn + 1]\r\n",
    "> 11            List[Posn+l] <- ......D......\r\n",
    "> 12        ENDIF\r\n",
    "> 13    ENDFOR\r\n",
    "> 14 ENDWHILE\r\n",
    ">```\r\n",
    "\r\n",
    "**(ii)** Write the pseudocode for `A`, `B`, `C` and `D` in the algorithm. \r\n",
    "<div style=\"text-align: right\">[4]</div>"
   ],
   "metadata": {}
  },
  {
   "cell_type": "code",
   "execution_count": null,
   "source": [
    "#YOUR_ANSWER_HERE"
   ],
   "outputs": [],
   "metadata": {}
  },
  {
   "cell_type": "markdown",
   "source": [
    "**(c)** During the first round of dives, the sorted scores for five divers are:\r\n",
    ">```\r\n",
    ">48\r\n",
    ">45\r\n",
    ">40\r\n",
    ">37\r\n",
    ">36\r\n",
    ">```\r\n",
    "\r\n",
    "The sixth diver scores 42 and the software appends the score to the list as follows:\r\n",
    ">```\r\n",
    ">48\r\n",
    ">45\r\n",
    ">40\r\n",
    ">37\r\n",
    ">36\r\n",
    ">42\r\n",
    ">```\r\n",
    "**(i)** State the number of passes needed through the list to return the list to its sorted order.\r\n",
    "<div style=\"text-align: right\">[1]</div>"
   ],
   "metadata": {}
  },
  {
   "cell_type": "code",
   "execution_count": null,
   "source": [
    "#YOUR_ANSWER_HERE"
   ],
   "outputs": [],
   "metadata": {}
  },
  {
   "cell_type": "markdown",
   "source": [
    "**(ii)** Explain why the bubble sort is efficient in this example. \r\n",
    "<div style=\"text-align: right\">[2]</div>"
   ],
   "metadata": {}
  },
  {
   "cell_type": "code",
   "execution_count": null,
   "source": [
    "#YOUR_ANSWER_HERE"
   ],
   "outputs": [],
   "metadata": {}
  },
  {
   "cell_type": "markdown",
   "source": [
    "**(iii)** Name another sort method that could have been used in this situation. Compare the speed of sorting the divers’ scores in your named method with using the bubble sort. \r\n",
    "<div style=\"text-align: right\">[2]</div>"
   ],
   "metadata": {}
  },
  {
   "cell_type": "code",
   "execution_count": null,
   "source": [
    "#YOUR_ANSWER_HERE"
   ],
   "outputs": [],
   "metadata": {}
  },
  {
   "cell_type": "markdown",
   "source": [
    "## Exercise 18.1 2019/A Level/P2/Q5 H2 Computing\r\n",
    "\r\n",
    "The file `ADMISSIONS—DATA.TXT` contains the daily total admissions to a theme park over a period of 50 days.\r\n",
    "\r\n",
    "The task is to read the numbers from the file and display a sorted list.\r\n",
    "\r\n",
    "You will program two different sort algorithms:\r\n",
    "\r\n",
    "- A bubble sort.\r\n",
    "- Either a quick sort or an insertion sort but not both.\r\n",
    "\r\n",
    "### Task 1\r\n",
    "Write code for a procedure to display a menu with the following options:\r\n",
    "\r\n",
    ">```python\r\n",
    ">1. Read file data\r\n",
    ">2. Bubble sort\r\n",
    ">3. Quick sort / Insertion sort\r\n",
    ">4. End\r\n",
    ">```\r\n",
    "\r\n",
    "### Task 2\r\n",
    "Write the program code for a procedure to implement menu option 1.\r\n",
    "\r\n",
    "#### Evidence 1\r\n",
    "- The program code for the menu.\r\n",
    "- Program code for menu option 1.\r\n",
    "\r\n",
    "<div style=\"text-align: right\">[5]</div>\r\n",
    "\r\n",
    "Options 2 and 3 will sort and display the sorted data.\r\n",
    "\r\n",
    "The algorithm for a bubble sort is given in file `BUBBLE.TXT`.\r\n",
    "Write program code as a procedure to implement the bubble sort.\r\n",
    "\r\n",
    "#### Evidence 2\r\n",
    "\r\n",
    ". The bubble sort code procedure.\r\n",
    "<div style=\"text-align: right\">[1]</div>\r\n",
    "\r\n",
    "Write program code as a procedure to implement the quick sort or the insertion sort.\r\n",
    "\r\n",
    "#### Evidence 3\r\n",
    "\r\n",
    "- Indicate the sort method used.\r\n",
    "- The program for the sort method used.\r\n",
    "\r\n",
    "<div style=\"text-align: right\">[4]</div>\r\n"
   ],
   "metadata": {}
  },
  {
   "cell_type": "code",
   "execution_count": null,
   "source": [
    "#YOUR_CODE_HERE"
   ],
   "outputs": [],
   "metadata": {}
  },
  {
   "cell_type": "markdown",
   "source": [
    "### Task 3\n",
    "Additional code is to be written for each sort procedure. The sort methods will count and display the number of comparisons made in completing the sort process. This will provide an indicator of the efficiency of each algorithm.\n",
    "\n",
    "Write the additional code to count and display the number of comparisons made for each sort method.\n",
    "\n",
    "#### Evidence 4\n",
    "- The output from menu option 2. \n",
    "<div style=\"text-align: right\">[2]</div>\n",
    "\n",
    "#### Evidence 5\n",
    "- The output from menu option 3. \n",
    "<div style=\"text-align: right\">[2]</div>"
   ],
   "metadata": {}
  },
  {
   "cell_type": "code",
   "execution_count": null,
   "source": [
    "#YOUR_CODE_HERE"
   ],
   "outputs": [],
   "metadata": {}
  },
  {
   "cell_type": "markdown",
   "source": [
    "## Exercise 16.9 2018/A Level/P1/Q2 H2 Computing\r\n",
    "\r\n",
    "The following algorithm is an implementation of a quick sort that operates on an array `Scores`. \r\n",
    "\r\n",
    "This algorithm assumes that the first element of an array is the zeroth element. This means that `Scores[0]` is the first element in the array.\r\n",
    "\r\n",
    "This pseudocode is available in the file `QUICKSORT.TXT`\r\n",
    "\r\n",
    ">```\r\n",
    ">FUNCTION QuickSort(Scores)\r\n",
    ">    QuickSortHelper(Scores, 0, LENGTH(Scores) — 1)\r\n",
    ">    RETURN Scores\r\n",
    ">ENDFUNCTION\r\n",
    ">\r\n",
    ">FUNCTION QuickSortHelper(Scoree, First, Last)\r\n",
    ">    IF First < Last\r\n",
    ">        THEN \r\n",
    ">            SplitPoint ← PartitioniScores, First, Last)\r\n",
    ">            QuickSortHelper(Scores, First, SplitPoint — 1)\r\n",
    ">            QuickSortHelper(Scores, SplitPoint + 1, Last)\r\n",
    ">    ENDIF\r\n",
    ">    RETURN Scores\r\n",
    ">ENDFUNCTION\r\n",
    ">\r\n",
    ">FUNCTION Partition(Scores, First, Last)\r\n",
    ">    PivotValue ← ScoresIFirsti\r\n",
    ">    LeftMark ← First + 1\r\n",
    ">    RightMark ← Last\r\n",
    ">    Done ← FALSE\r\n",
    ">    WHILE (Done = FALSE)\r\n",
    ">        WHILE LeftMark <= RightMark AND Scores[LeftMark] <= PivotValue\r\n",
    ">            LeftMark ← LeftMark + 1\r\n",
    ">        ENDWHILE\r\n",
    ">            WHILE ScoresiRightMark] >= PivotValue AND RightMark >= LeftMark\r\n",
    ">            RightMark ← RightMark — 1\r\n",
    ">        ENDWHILE\r\n",
    ">        IF RightMark < LeftMark\r\n",
    ">            THEN\r\n",
    ">                Done ← TRUE\r\n",
    ">        ELSE\r\n",
    ">            Temp ← Scores[LeftMark]\r\n",
    ">            Scores[LeftMark] ← Scores[RightMark]\r\n",
    ">            ScoresIRightMark] ← Temp\r\n",
    ">        ENDIF\r\n",
    ">    ENDWHILE\r\n",
    ">\r\n",
    ">    ##<swap Scores[First] with Scores[RightMark]>##\r\n",
    ">    \r\n",
    ">    RETURN RightMark\r\n",
    ">ENDFUNCTION\r\n",
    ">```\r\n",
    "\r\n",
    "### Task 1\r\n",
    "Write program code to implement this algorithm. Ensure that you add the missing code to complete the algorithm. The area of missing code is highlighted as:\r\n",
    "\r\n",
    ">```\r\n",
    "> ##<swap Scores [First] with Scores [RightMark]>##\r\n",
    ">```\r\n",
    "\r\n",
    "Copy the sample data available in the `SCORES.TXT` file. Paste this into your programming code to set up the data to be sorted.\r\n",
    "\r\n",
    "#### Evidence 4\r\n",
    "Your program code. \r\n",
    "\r\n",
    "<div style=\"text-align: right\">[12]</div>"
   ],
   "metadata": {}
  },
  {
   "cell_type": "code",
   "execution_count": null,
   "source": [
    "#YOUR_CODE_HERE"
   ],
   "outputs": [],
   "metadata": {}
  },
  {
   "cell_type": "markdown",
   "source": [
    "### Task 2\n",
    "Add a function to your code to output `Scores`. Call this function before and after the operation of the quick sort so that the unsorted and sorted data is displayed.\n",
    "\n",
    "#### Evidence 5\n",
    "Your program code. \n",
    "\n",
    "<div style=\"text-align: right\">[2]</div>\n",
    "\n",
    "#### Evidence 6\n",
    "Screenshot showing the unsorted and sorted Scores data. \n",
    "\n",
    "<div style=\"text-align: right\">[1]</div>"
   ],
   "metadata": {}
  },
  {
   "cell_type": "code",
   "execution_count": null,
   "source": [
    "#YOUR_CODE_HERE"
   ],
   "outputs": [],
   "metadata": {}
  }
 ],
 "metadata": {
  "interpreter": {
   "hash": "dcacb0086e9a4f4eabd41c33bf4faac5ea0a3337ed3f5eff0680afa930572c04"
  },
  "kernelspec": {
   "display_name": "Python 3.9.1 64-bit",
   "name": "python3"
  },
  "language_info": {
   "name": "python",
   "version": ""
  },
  "orig_nbformat": 2
 },
 "nbformat": 4,
 "nbformat_minor": 2
}