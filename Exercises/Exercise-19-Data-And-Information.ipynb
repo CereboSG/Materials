{
 "cells": [
  {
   "cell_type": "markdown",
   "source": [
    "# Exercise 19\r\n",
    "\r\n",
    "Notes:\r\n",
    "- Fundamentals_13-Data_And_Information"
   ],
   "metadata": {}
  },
  {
   "cell_type": "markdown",
   "source": [
    "## Exercise 18.1 2019/A Level/P1/Q2 H2 Computing\r\n",
    "\r\n",
    "2 Characters are numerically encoded using ASCII codes.\r\n",
    "0 'A' has the denary value 65; ‘B' has the denary value 66 and so on.\r\n",
    "0 'a' has the denary value 97; 'b' has the denary value 98 and so on.\r\n",
    "The HOT-13 encoding function replaces a letter with the letter that is 18 positions after it in the\r\n",
    "alphabet. Characters that are not letters remain unchanged. .\r\n",
    "The function wraps around from the end of the alphabet back to the beginning. The case of the\r\n",
    "coded letter should match the case of the original letter.\r\n",
    "For example:\r\n",
    ". 'A' is replaced with 'N'; 'a' is replaced with 'n'\r\n",
    ". 'B' is replaced with '0‘; 'b' is replaced with 'c' '\r\n",
    "- 'Z' is replaced with 'M'; '2' is replaced with 'm‘\r\n",
    "Task 2.1\r\n",
    "Write program code that:\r\n",
    "- reads a string of characters as input\r\n",
    "- encodes the string in ROTo13 form\r\n",
    ". outputs the encoded string.\r\n",
    "Run the program three times with the inputs:\r\n",
    "This is a word.\r\n",
    "ALL use: CAPITALS\r\n",
    "UpperCamelCaselZ ()\r\n",
    "Evidence 3\r\n",
    "Your program code.\r\n",
    "Screenshots of your program outputs. [9]\r\n",
    "Task 2.2\r\n",
    "A string is encoded using HOT-13. The resulting string is then encoded using HOT-13. The output\r\n",
    "of the second encoding should be identical to the original string.\r\n",
    "Amend your program code to apply HOT-13 twice, in the method described. Show that the resulting\r\n",
    "string is identical to the original string.\r\n",
    "Evidence 4\r\n",
    "Your program code. '\r\n",
    "Screenshct of the output from one of the given inputs. [3]"
   ],
   "metadata": {}
  },
  {
   "cell_type": "markdown",
   "source": [],
   "metadata": {}
  },
  {
   "cell_type": "markdown",
   "source": [
    "## Exercise 18.2 2016/A Level/P1/Q4 H2 Computing\r\n",
    "\r\n",
    "4 Numbers in Computing are often represented in hexadecimal form.\r\n",
    "A program is required to convert a hexadecimal number into a denary number and vice versa.\r\n",
    "Task 4.1\r\n",
    "Write program code with the following specification:\r\n",
    ". Input a hexadecimal number as a string\r\n",
    "- Validate the input\r\n",
    "0 Calculate the denary value of each hexadecimal digit (write this code as a function)\r\n",
    "‘ Calculate the denary value of the hexadecimal number input\r\n",
    ". Output the denary value.\r\n",
    "Evidence 9\r\n",
    "Your program code. [10]\r\n",
    "Task 4.2 ‘\r\n",
    "Draw up a list of three suitable test cases. Complete a table with the following headings:\r\n",
    "Hexadecimal WW— Expected output\r\n",
    "number\r\n",
    "Provide screenshot evidence for your testing.\r\n",
    "Evidence to\r\n",
    "The completed table.\r\n",
    "Screenshots for each test data run. [5]\r\n",
    "Task 4.3\r\n",
    "Write additional code to convert a denary number into a hexadecimal number. ,\r\n",
    "Evidence 11\r\n",
    "Your program code. [10]"
   ],
   "metadata": {}
  },
  {
   "cell_type": "markdown",
   "source": [
    "## Exercise 18.1 2018/JJC/P2/Q6 H2 Computing\r\n",
    "The following pseudo-code contains an algorithm called `Merge` that is called by the `MergeSort` algorithm.\r\n",
    "\r\n",
    ">```python\r\n",
    "> FUNCTION MergeSort(L, S, E)\r\n",
    ">   IF S < E THEN\r\n",
    ">       M ← (S + E) DIV 2\r\n",
    ">       L1 ← MergeSort(L, S, M)\r\n",
    ">       L2 ← MergeSort(L, M + 1, E)\r\n",
    ">       RETURN Merge(L1, L2)\r\n",
    ">   ELSE\r\n",
    ">       RETURN Append([], L[S])\r\n",
    ">   ENDIF\r\n",
    "> ENDFUNCTION\r\n",
    "> \r\n",
    "> FUNCTION Merge(L1, L2)\r\n",
    ">   L3 ← []\r\n",
    ">   WHILE Len(L1) > 0 AND LEN(L2) > 0\r\n",
    ">       IF L1[1] < L2[1] THEN\r\n",
    ">           L3 ← Append(L2[1], L3)\r\n",
    ">           L2 ← RemoveFirstItem(L2)\r\n",
    ">       ELSE\r\n",
    ">           L3 ← Append(L1[1], L3)\r\n",
    ">           L1 ← RemoveFirstItem(L1)\r\n",
    ">       ENDIF\r\n",
    ">   ENDWHILE\r\n",
    ">   WHILE Len(L1) > 0\r\n",
    ">       L3 ← Append(L1[1], L3)\r\n",
    ">       L1 ← RemoveFirstItem(L1)\r\n",
    ">   ENDWHILE\r\n",
    ">   WHILE Len(L2) > 0\r\n",
    ">       L3 ← Append(L2[1], L3)\r\n",
    ">       L2 ← RemoveFirstItem(L2)\r\n",
    ">   ENDWHILE\r\n",
    "> RETURN L3\r\n",
    "> ENDFUNCTION\r\n",
    ">```\r\n",
    "\r\n",
    "The `RemoveFirstItem` function takes a list and returns a list that contains all the items in the original list except the first one. For example,\r\n",
    "if `Names` is the list `[\"Gemma\", \"Richard\", \"Georgina\", \"Margaret\"]` then the function call `RemoveFirstItem(Names)` will return the list `[\"Richard\", \"Georgina\", \"Margaret\"]`.\r\n",
    "\r\n",
    "The `Len` function takes a list and returns the number of items that are in the list. For example, if `Names` is the list `[\"Gemma\", \"Richard\", \"Georgina\", \"Margaret\"]` then the function call `Len(Names)` will return the value of 4.\r\n",
    "\r\n",
    "The `Append` function takes an item and a list and returns a list that has all the items from the original list followed by the item. For example, if\r\n",
    "`Names` is the list `[\"Gemma\", \"Richard\", \"Georgina\", \"Margaret\"]` then the function call `Append(\"Matt\", Names)` will return the list `[\"Gemma\", \"Richard\", \"Georgina\", \"Margaret\", \"Matt\"]`.\r\n",
    "\r\n",
    "The first item in the list has an index of 1.\r\n",
    "\r\n",
    "**(a)** What is meant by a recursive subroutine?\r\n",
    "<div style=\"text-align: right\">[1]</div>"
   ],
   "metadata": {}
  },
  {
   "cell_type": "code",
   "execution_count": null,
   "source": [
    "#YOUR_ANSWER_HERE"
   ],
   "outputs": [],
   "metadata": {}
  },
  {
   "cell_type": "markdown",
   "source": [
    "**(b)** What is the base case for the subroutine `MergeSort`?\r\n",
    "<div style=\"text-align: right\">[1]</div>"
   ],
   "metadata": {}
  },
  {
   "cell_type": "code",
   "execution_count": null,
   "source": [
    "#YOUR_ANSWER_HERE"
   ],
   "outputs": [],
   "metadata": {}
  },
  {
   "cell_type": "markdown",
   "source": [
    "**(c)** Complete the following table to show the result of tracing `MergeSort` with the function call `MergeSort(ListToSort, 1, 5)`. \r\n",
    "`ListToSort` is the list `[6, 3, 4, 8, 5]`. The first six rows and the call number column have been completed for you.\r\n",
    "<div style=\"text-align: right\">[4]</div>\r\n",
    "\r\n",
    "<br>\r\n",
    "<center>\r\n",
    "\r\n",
    "| Call Number | S | E | M | List returned |\r\n",
    "|-|-|-|-|-|\r\n",
    "| 1 | 1 | 5 | 3 |  |\r\n",
    "| 2 | 1 | 3 | 2 |  |\r\n",
    "| 3 | 1 | 2 | 1 |  |\r\n",
    "| 4 | 1 | 1 |  | [6]  |\r\n",
    "| 3 | 1 | 2 | 1 |  |\r\n",
    "| 5 | 2 | 2 |  | [3]  |\r\n",
    "| 3 |  |  |  |  |\r\n",
    "| 2 |  |  |  |  |\r\n",
    "| 6 |  |  |  |  |\r\n",
    "| 2 |  |  |  |  |\r\n",
    "| 1 |  |  |  |  |\r\n",
    "| 7 |  |  |  |  |\r\n",
    "| 8 |  |  |  |  |\r\n",
    "| 7 |  |  |  |  |\r\n",
    "| 9 |  |  |  |  |\r\n",
    "| 7 |  |  |  |  |\r\n",
    "| 1 |  |  |  |  |\r\n",
    "</center>"
   ],
   "metadata": {}
  },
  {
   "cell_type": "code",
   "execution_count": null,
   "source": [
    "#YOUR_ANSWER_HERE"
   ],
   "outputs": [],
   "metadata": {}
  },
  {
   "cell_type": "markdown",
   "source": [
    "**(d)** What is the time complexity for the MergeSort algorithm?\r\n",
    "<div style=\"text-align: right\">[1]</div>"
   ],
   "metadata": {}
  },
  {
   "cell_type": "code",
   "execution_count": null,
   "source": [
    "#YOUR_ANSWER_HERE"
   ],
   "outputs": [],
   "metadata": {}
  },
  {
   "cell_type": "markdown",
   "source": [
    "## Exercise 18.2 2017/RVHS/P1/Q4 H2 Computing (Modified)\r\n",
    "\r\n",
    "The pseudocode procedure below is given a list of integers in random order, the\r\n",
    "procedure then outputs a sorted list in ascending order.\r\n",
    "\r\n",
    ">```python\r\n",
    "> 1 FUNCTION Merge_Sort (ARRAY: arr)\r\n",
    "> 2     n = SIZE(arr)\r\n",
    "> 3     IF n < 2:\r\n",
    "> 4         RETURN arr\r\n",
    "> 5     ENDIF\r\n",
    "> 6     left = Merge_Sort(PARTITION(arr, 0, n DIV 2))\r\n",
    "> 7     right = Merge_Sort(PARTITION(arr, n DIV 2, n))\r\n",
    "> 8     RETURN Merge(left, right)\r\n",
    "> 9 ENDFUNCTION\r\n",
    "> 10 \r\n",
    "> 11  FUNCTION Merge (ARRAY: left, LIST: right)\r\n",
    "> 12    DECLARE results: ARRAY[SIZE(left) + SIZE(right)]\r\n",
    "> 13    DECLARE i, j, index : INTEGER\r\n",
    "> 14    i, j, index = 0, 0, 0\r\n",
    "> 15    WHILE i < SIZE(left) and j < SIZE(right)\r\n",
    "> 16        IF left[i] < right[j]:\r\n",
    "> 17            results[index] = left[i]\r\n",
    "> 18            i = i + 1\r\n",
    "> 19        ELSE:\r\n",
    "> 20            results[index] = right[j]\r\n",
    "> 21            j = j + 1\r\n",
    "> 22        ENDIF\r\n",
    "> 23        index = index + 1\r\n",
    "> 24    ENDWHILE\r\n",
    "> 25    WHILE i < SIZE(left)\r\n",
    "> 26        results[index] = left[i]\r\n",
    "> 27        i = i + 1\r\n",
    "> 28        index = index + 1\r\n",
    "> 29    ENDWHILE\r\n",
    "> 30    WHILE j < SIZE(right)\r\n",
    "> 31        results[index] = right[j]\r\n",
    "> 32        j = j + 1\r\n",
    "> 33        index = index + 1\r\n",
    "> 34    ENDWHILE\r\n",
    "> 35    RETURN results\r\n",
    "> 36  ENDFUNCTION\r\n",
    ">```\r\n",
    "\r\n",
    "### Task 1\r\n",
    "Write program code to implement the given procedure.\r\n",
    "Execute the function using the following list as the parameter.\r\n",
    "`[1, 15, 2, 4, 3, 9, 7, 10]`\r\n",
    "\r\n",
    "### Evidence\r\n",
    "Program Code.<br>\r\n",
    "Screenshot showing the output.\r\n",
    "<div style=\"text-align: right\">[6]</div>"
   ],
   "metadata": {}
  },
  {
   "cell_type": "code",
   "execution_count": null,
   "source": [
    "#YOUR_ANSWER_HERE"
   ],
   "outputs": [],
   "metadata": {}
  },
  {
   "cell_type": "markdown",
   "source": [
    "## Exercise 18.3 2019/A Level/P2/Q5 H2 Computing\r\n",
    "\r\n",
    "The function `Z` takes three integer parameters, `low`, `high`, `seek` and returns an integer value. It operates on the values in the elements of the array A.\r\n",
    "\r\n",
    ">```python\r\n",
    "> 01 FUNCTION Z(low, high, seek, A) RETURNS INTEGER\r\n",
    "> 02    IF low > high THEN\r\n",
    "> 03        RETURN -1 .\r\n",
    "> 04    ENDIF\r\n",
    "> 05    mid <- low + INT((high - low)/2)\r\n",
    "> 06    IF seek = A[mid] THEN\r\n",
    "> 07        RETURN mid\r\n",
    "> 08    ELSE\r\n",
    "> 09        IF seek < A[mid] THEN\r\n",
    "> 10            RETURN Z(low, mid - 1, seek, A)\r\n",
    "> 11        ELSE\r\n",
    "> 12            RETURN Z(mid + 1, high, seek, A) '\r\n",
    "> 13        ENDIF\r\n",
    "> 14    ENDIF\r\n",
    "> 15 ENDFUNCTION\r\n",
    ">```\r\n",
    "\r\n",
    "**(a) (i)** State what lines `10` and `12` tell you about the function. \r\n",
    "<div style=\"text-align: right\">[1]</div>\r\n",
    "\r\n",
    "**(a) (ii)** State the purpose for the `RETURN` statements in lines `03` and `07` of function `z`. \r\n",
    "<div style=\"text-align: right\">[1]</div>\r\n",
    "\r\n",
    "The values in each of the eight elements of the array `A` are:\r\n",
    "\r\n",
    " <center>\r\n",
    "\r\n",
    "| Element | 0 | 1 | 2 | 3 | 4 | 5 | 6 | 7 | \r\n",
    "|-|-|-|-|-|-|-|-|-|\r\n",
    "| Value | -3 | 8 | 14 | 15 | 96 | 101 | 412 | 500 |\r\n",
    "\r\n",
    "</center>"
   ],
   "metadata": {}
  },
  {
   "cell_type": "code",
   "execution_count": null,
   "source": [
    "#YOUR_ANSWER_HERE"
   ],
   "outputs": [],
   "metadata": {}
  },
  {
   "cell_type": "markdown",
   "source": [
    "**(b)** Copy and then complete the trace table for the instruction:\r\n",
    "\r\n",
    ">```python\r\n",
    ">OUTPUT Z(0, 7, 103, A)\r\n",
    ">```\r\n",
    "<br>\r\n",
    "<center>\r\n",
    "\r\n",
    "| `Function call` | `low` | `high` | `seek` | `mid` | `A[mid]` | `OUTPUT` |  \r\n",
    "|-|-|-|-|-|-|-|\r\n",
    "| `1` | `0` | `7` | `103` |  |  |  |\r\n",
    "|  |  |  |  |  |  |  |\r\n",
    "|  |  |  |  |  |  |  |\r\n",
    "|  |  |  |  |  |  |  |\r\n",
    "|  |  |  |  |  |  |  |\r\n",
    "|  |  |  |  |  |  |  |\r\n",
    "\r\n",
    "</center>\r\n",
    "\r\n",
    "<div style=\"text-align: right\">[4]</div>"
   ],
   "metadata": {}
  },
  {
   "cell_type": "code",
   "execution_count": null,
   "source": [
    "#YOUR_ANSWER_HERE"
   ],
   "outputs": [],
   "metadata": {}
  },
  {
   "cell_type": "markdown",
   "source": [
    "**(c)** Function `z` can return two different types of value.\r\n",
    "Explain what these represent.\r\n",
    "\r\n",
    "<div style=\"text-align: right\">[2]</div>"
   ],
   "metadata": {}
  },
  {
   "cell_type": "code",
   "execution_count": null,
   "source": [
    "#YOUR_ANSWER_HERE"
   ],
   "outputs": [],
   "metadata": {}
  },
  {
   "cell_type": "markdown",
   "source": [
    "**(d)** The number of elements in array `A` may be very large.\r\n",
    "Explain why a programmer might prefer to use an iterative approach rather than the one used\r\n",
    "in function `z`. \r\n",
    "\r\n",
    "<div style=\"text-align: right\">[2]</div>"
   ],
   "metadata": {}
  },
  {
   "cell_type": "code",
   "execution_count": null,
   "source": [
    "#YOUR_ANSWER_HERE"
   ],
   "outputs": [],
   "metadata": {}
  },
  {
   "cell_type": "markdown",
   "source": [
    "## Exercise 18.4 2014/A Level/P1/Q2 H2 Computing\r\n",
    "\r\n",
    "A binary search (binary chop) is a technique to search for a value in an ordered dataset.\r\n",
    "\r\n",
    "### Task 1\r\n",
    "Study the identifier table and incomplete recursive algorithm.\r\n",
    "The missing parts of the algorithm are labelled A, B and C.\r\n",
    "\r\n",
    "<center>\r\n",
    "\r\n",
    "| Variable | Data Type | Description | \r\n",
    "|-|-|-|\r\n",
    "|`ThisArray`|`ARRAY OF STRING`|Array containing the the dataset\r\n",
    "|`FindValue`|`STRING`|Item to be found\r\n",
    "|`Low`|`INTEGER`|Lowest index of the considered list\r\n",
    "|`High`|`INTEGER`|Highest index of the considered list\r\n",
    "|`Middle`|`INTEGER`|The array index for the middle position of the current list considered\r\n",
    "\r\n",
    "</center>\r\n",
    "\r\n",
    "<br>\r\n",
    "\r\n",
    ">```python\r\n",
    ">FUNCTION BinarySearch(ThisArray, FindValue, Low, High) RETURNS INTEGER\r\n",
    ">    DECLARE Middle : INTEGER\r\n",
    ">    IF ............... A ...............\r\n",
    ">        THEN\r\n",
    ">            RETURN -1 // not found\r\n",
    ">    ELSE\r\n",
    ">        // calculate new Middle value\r\n",
    ">        Middle ← ............... B ...............\r\n",
    ">        IF ThisArray[Middle] > FindValue\r\n",
    ">            THEN\r\n",
    ">                RETURN BinarySearch(ThisArray, FindValue, Low, Middle - 1)\r\n",
    ">            ELSE\r\n",
    ">                IF ThisArray[Middle] < FindValue\r\n",
    ">                    THEN\r\n",
    ">                        ............... C ...............\r\n",
    ">                    ELSE\r\n",
    ">                        RETURN Middle // found at position Middle\r\n",
    ">                ENDIF\r\n",
    ">        ENDIF\r\n",
    ">    ENDIF\r\n",
    ">ENDFUNCTION\r\n",
    ">```   \r\n",
    "            \r\n",
    "### Evidence \r\n",
    "What are the three missing lines in this pseudocode?\r\n",
    "<div style=\"text-align: right\">[3]</div>\r\n"
   ],
   "metadata": {}
  },
  {
   "cell_type": "code",
   "execution_count": null,
   "source": [
    "#YOUR_ANSWER_HERE"
   ],
   "outputs": [],
   "metadata": {}
  },
  {
   "cell_type": "markdown",
   "source": [
    "## Task 2\r\n",
    "\r\n",
    "Write a program to implement binary search.\r\n",
    "The program will\r\n",
    "- Call procedure `InitialiseAnimals`\r\n",
    "- Input an animal name\r\n",
    "- Use the function `BinarySearch`\r\n",
    "- Report whether or now this animal name was found. If found, also output the index position.\r\n",
    "\r\n",
    "The array in the program has identifier `MyAnimal`.\r\n",
    "Use the dataset given in the file `ANIMALS.TXT`. You should paste the contents of this file into your program. The statements will form the basis of the code for the procedure `InitialiseAnimals`.\r\n",
    "\r\n",
    "## Evidence \r\n",
    "Program code for Task 2.2\r\n",
    "<div style=\"text-align: right\">[7]</div>\r\n",
    "\r\n",
    "## Evidence \r\n",
    "Screenshot to confirm that an animal wich is present in the list was found with its index position displayed.\r\n",
    "<div style=\"text-align: right\">[1]</div>"
   ],
   "metadata": {}
  },
  {
   "cell_type": "code",
   "execution_count": null,
   "source": [
    "#YOUR_ANSWER_HERE"
   ],
   "outputs": [],
   "metadata": {}
  },
  {
   "cell_type": "markdown",
   "source": [
    "## Task 3\r\n",
    "Amend the program as follows:\r\n",
    "The program must also output the number of function calls carried out.\r\n",
    "\r\n",
    "## Evidence\r\n",
    "The amended program code.\r\n",
    "<div style=\"text-align: right\">[4]</div>\r\n",
    "\r\n",
    "## Evidence \r\n",
    "Screenshots showing the amended ouput for runs of the program where:\r\n",
    "- the animal is found\r\n",
    "- the animal is not found.\r\n",
    "<div style=\"text-align: right\">[2]</div>"
   ],
   "metadata": {}
  },
  {
   "cell_type": "code",
   "execution_count": null,
   "source": [
    "#YOUR_ANSWER_HERE"
   ],
   "outputs": [],
   "metadata": {}
  },
  {
   "cell_type": "markdown",
   "source": [
    "## Exercise 18.5 2018/A Level/P2/Q5 H2 Computing\r\n",
    "\r\n",
    "The organisers of a diving championship have created software to calculate and show the total score for each diver.\r\n",
    "\r\n",
    "There are nine judges scoring each dive. The two best scores and the two worst scores are ignored. The other five scores are added together to give the diver's total score.\r\n",
    "\r\n",
    "**(a)** Write an algorithm to take in the nine scores, delete the best two and the two worst scores, and total the five remaining scores. [4]\r\n",
    "\r\n",
    "There are 10 divers in the final. The scoreboard shows the order of diving.\r\n",
    "\r\n",
    "<center>\r\n",
    "\r\n",
    "| Order | Diver name | Total score | \r\n",
    "|-|-|-|\r\n",
    "|1| Daniel Tan|\r\n",
    "|2| Parker Lam|\r\n",
    "|3 |Mohamed Noor|\r\n",
    "|4 |Hariz Yazid|\r\n",
    "|5 |Sheryl Xuan|\r\n",
    "|6 |Karl Lim|\r\n",
    "|7 |Elaine Ning|\r\n",
    "|8 |Nadyia Esmadi|\r\n",
    "|9 |Cai Ng|\r\n",
    "|10| Hamid Mahmood|\r\n",
    "\r\n",
    "</center>\r\n"
   ],
   "metadata": {}
  },
  {
   "cell_type": "code",
   "execution_count": null,
   "source": [
    "#YOUR_ANSWER_HERE"
   ],
   "outputs": [],
   "metadata": {}
  },
  {
   "cell_type": "markdown",
   "source": [
    "**(b)** The programmers decided to use a 1D array for the scores. They will also use a bubble sort to sort the scores into descending order.<br>\r\n",
    "**(i)** Explain how a bubble sort can be used to arrange the scores into a descending or ascending order. \r\n",
    "\r\n",
    "<div style=\"text-align: right\">[2]</div>"
   ],
   "metadata": {}
  },
  {
   "cell_type": "code",
   "execution_count": null,
   "source": [
    "#YOUR_ANSWER_HERE"
   ],
   "outputs": [],
   "metadata": {}
  },
  {
   "cell_type": "markdown",
   "source": [
    "This is the bubble sort algorithm for sorting into descending order:\r\n",
    "\r\n",
    ">```python\r\n",
    "> 01 WHILE NoSwaps = FALSE\r\n",
    "> 02    NoSwaps ← TRUE\r\n",
    "> 03    UpperBound ← ListLength\r\n",
    "> 04    For Posn ← 0 TO ......A......\r\n",
    "> 05        IF List[Posn] ← ........B...\r\n",
    "> 06            THEN\r\n",
    "> 07                // Swap\r\n",
    "> 08            NoSwaps ← ......C......\r\n",
    "> 09            Temp ← List [Posn]\r\n",
    "> 10            List[Posn] ← List[Posn + 1]\r\n",
    "> 11            List[Posn+l] ← ......D......\r\n",
    "> 12        ENDIF\r\n",
    "> 13    ENDFOR\r\n",
    "> 14 ENDWHILE\r\n",
    ">```\r\n",
    "\r\n",
    "**(ii)** Write the pseudocode for `A`, `B`, `C` and `D` in the algorithm. \r\n",
    "<div style=\"text-align: right\">[4]</div>"
   ],
   "metadata": {}
  },
  {
   "cell_type": "code",
   "execution_count": null,
   "source": [
    "#YOUR_ANSWER_HERE"
   ],
   "outputs": [],
   "metadata": {}
  },
  {
   "cell_type": "markdown",
   "source": [
    "**(c)** During the first round of dives, the sorted scores for five divers are:\r\n",
    ">```\r\n",
    ">48\r\n",
    ">45\r\n",
    ">40\r\n",
    ">37\r\n",
    ">36\r\n",
    ">```\r\n",
    "\r\n",
    "The sixth diver scores 42 and the software appends the score to the list as follows:\r\n",
    ">```\r\n",
    ">48\r\n",
    ">45\r\n",
    ">40\r\n",
    ">37\r\n",
    ">36\r\n",
    ">42\r\n",
    ">```\r\n",
    "**(i)** State the number of passes needed through the list to return the list to its sorted order.\r\n",
    "<div style=\"text-align: right\">[1]</div>"
   ],
   "metadata": {}
  },
  {
   "cell_type": "code",
   "execution_count": null,
   "source": [
    "#YOUR_ANSWER_HERE"
   ],
   "outputs": [],
   "metadata": {}
  },
  {
   "cell_type": "markdown",
   "source": [
    "**(ii)** Explain why the bubble sort is efficient in this example. \r\n",
    "<div style=\"text-align: right\">[2]</div>"
   ],
   "metadata": {}
  },
  {
   "cell_type": "code",
   "execution_count": null,
   "source": [
    "#YOUR_ANSWER_HERE"
   ],
   "outputs": [],
   "metadata": {}
  },
  {
   "cell_type": "markdown",
   "source": [
    "**(iii)** Name another sort method that could have been used in this situation. Compare the speed of sorting the divers’ scores in your named method with using the bubble sort. \r\n",
    "<div style=\"text-align: right\">[2]</div>"
   ],
   "metadata": {}
  },
  {
   "cell_type": "code",
   "execution_count": null,
   "source": [
    "#YOUR_ANSWER_HERE"
   ],
   "outputs": [],
   "metadata": {}
  },
  {
   "cell_type": "markdown",
   "source": [
    "## Exercise 18.6 2013/A Level/P1/Q2 H2 Computing\r\n",
    "A company keeps data about its employees. The employee surname and employee ID are recorded.\r\n",
    "All employee IDs are unique and have the format `C999` where `C` is any uppercase letter and `9` is a digit.\r\n",
    "\r\n",
    "A program is to be produced to search by either:\r\n",
    "\r\n",
    "- The surname, which then reports the matching employee ID\r\n",
    "- The employee ID, which then reports the matching surname\r\n",
    "\r\n",
    "The programmer stores the data a two 1-dimensional arrays and produces the following search algorithm to search a string array and output the matching value from the second array.\r\n",
    "\r\n",
    ">```python\r\n",
    ">INPUT SearchItem\r\n",
    ">FOR Index ← 1 TO UpperBound\r\n",
    ">    IF SearchItem = Array1[Index]\r\n",
    ">        THEN OUTPUT Array2[Index]\r\n",
    ">    ENDIF\r\n",
    ">ENDFOR\r\n",
    ">```\r\n",
    "\r\n",
    "This search algorithm is inefficient.\r\n",
    "\r\n",
    "The programmer uses the following design to produce the program code:\r\n",
    "\r\n",
    "- code to search by surname\r\n",
    "    - The search algorithm has `Surname` as `Array1` and `EmployeeID` as `Array2`\r\n",
    "- followed by code to search by employee ID\r\n",
    "    - The search algorithm has `EmployeeID` as `Array1` and `Surname` as `Array2`\r\n",
    "\r\n",
    "This design would produce repetition of code.\r\n",
    "\r\n",
    "### Task 1\r\n",
    "Write program code which performs each of the searches:\r\n",
    "- Search by surname\r\n",
    "- Search by employee ID\r\n",
    "\r\n",
    "Your code should address the issues of inefficiency and repetition of code described in the scenario above.\r\n",
    "Use the sample array data available from the text file `EMPLOYEEDATA.txt` and paste this into your program code.\r\n",
    "\r\n",
    "### Evidence\r\n",
    "Your program code.\r\n",
    "<div style=\"text-align: right\">[11]</div>\r\n",
    "\r\n"
   ],
   "metadata": {}
  },
  {
   "cell_type": "code",
   "execution_count": null,
   "source": [
    "#YOUR_ANSWER_HERE"
   ],
   "outputs": [],
   "metadata": {}
  },
  {
   "cell_type": "markdown",
   "source": [
    "### Task 2\r\n",
    "Devise a set of four test cases with the data to be used.\r\n",
    "\r\n",
    "### Evidence\r\n",
    "A screenshot for each test case you considered. Annotate the screenshot explaining the purpose of each test.\r\n",
    "<div style=\"text-align: right\">[4]</div>"
   ],
   "metadata": {}
  },
  {
   "cell_type": "code",
   "execution_count": null,
   "source": [
    "#YOUR_ANSWER_HERE"
   ],
   "outputs": [],
   "metadata": {}
  }
 ],
 "metadata": {
  "interpreter": {
   "hash": "dcacb0086e9a4f4eabd41c33bf4faac5ea0a3337ed3f5eff0680afa930572c04"
  },
  "kernelspec": {
   "display_name": "Python 3.9.1 64-bit",
   "name": "python3"
  },
  "language_info": {
   "name": "python",
   "version": ""
  },
  "orig_nbformat": 2
 },
 "nbformat": 4,
 "nbformat_minor": 2
}