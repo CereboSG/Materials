{
 "cells": [
  {
   "cell_type": "markdown",
   "metadata": {},
   "source": [
    "# Exercise 21\n",
    "\n",
    "Notes:\n",
    "- Fundamentals_14_Abstract_Data_Types"
   ]
  },
  {
   "cell_type": "markdown",
   "metadata": {},
   "source": [
    "## Exercise 20.5.1 2021/DHS/P1/Q2 H2 Computing\n",
    "\n",
    "### Task 1\n",
    "Using a stack data structure, write a function `solver(expr)` that takes in a string of a mathematical expression `expr` such as `((1*7)+6)` and returns `13`. You may assume that the entire expression would never have spaces, and would always be enclosed in an opening and closing parenthesis `( )`. Do not use the built-in function `eval()`. Test your function with `solver(\"((1*7)+6)\")` and show your output. <div style=\"text-align: right\">[6]</div>"
   ]
  },
  {
   "cell_type": "code",
   "execution_count": null,
   "metadata": {},
   "outputs": [],
   "source": [
    "# Your Answer Here"
   ]
  },
  {
   "cell_type": "markdown",
   "metadata": {},
   "source": [
    "## Exercise 20.5.2 2018/DHS/P1/Q3 H2 Computing\n",
    "\n",
    "A blockchain is a linked list of blocks where each block has the following structure:\n",
    "\n",
    "<center>\n",
    "\n",
    "|  | Class: `Block` |  |\n",
    "|-|-|-|\n",
    "| Attributes |  |  |\n",
    "| Identifier | Data Type | Description |\n",
    "| `Data` | `STRING` | Block data |\n",
    "| `PrevHash` | `STRING` | Hash of previous block |\n",
    "| `CurrHash` | `STRING` | Hash of `Data` and `PrevHash` |\n",
    "| `Next` | `INTEGER` | The next block pointer |\n",
    "\n",
    "</center>\n",
    "\n",
    "\n",
    "The structure of the blockchain is as follows:\n",
    "\n",
    "<center>\n",
    "\n",
    "|  | Class: `BlockChain` |  |\n",
    "|-|-|-|\n",
    "| Attributes |  |  |\n",
    "| Identifier | Data Type | Description |\n",
    "| `ChainData` | `ARRAY[1:20] OF ListNode` | An array used to store the 20 blocks |\n",
    "| `Start` | `INTEGER` | Index for the genesis block |\n",
    "| `NextFreeBlock` | `INTEGER` | Index fore the next available empty block  |\n",
    "\n",
    "</center>\n",
    "\n",
    "The initial value of `Start` is 1 and the initial value of `NextFreeBlock` is 1.\n",
    "\n",
    "The first block of the blockchain is called the genesis block and its `PrevHash` value is 983.\n",
    "\n",
    "The blockchain is used to store the achievement data of students in computing and infocomm programmes. The ensures the integrity and verifiability of students' portfolios which will be useful in internships, higher education and career opportunities.\n",
    "\n",
    "### Task 2\n",
    "Write program code to declare and initialise an empty blockchain of 20 unused blocks. Also write the `Display` method to show all contents of the blockchain.\n",
    "\n",
    "### Evidence 3\n",
    "Program code. <div style=\"text-align: right\">[8]</div>\n",
    "\n",
    "### Evidence 4\n",
    "Screenshot.<div style=\"text-align: right\">[2]</div>\n"
   ]
  },
  {
   "cell_type": "code",
   "execution_count": 1,
   "metadata": {},
   "outputs": [],
   "source": [
    "#YOUR_ANSWER_HERE"
   ]
  },
  {
   "cell_type": "markdown",
   "metadata": {},
   "source": [
    "### Task 5\n",
    "The following hashing algorithm computes the `CurrHash` value of each block:\n",
    "- Compute the sum of ASCII values for the characters in the achievement data string.\n",
    "- Multiply this sum by the kth prime number, where `k` is the length of the achievement data string.\n",
    "- Multiply this with the decimal equivalent of the `PrevHash` value of the current block.\n",
    "- Convert this value to its uppercase hexadecimal equivalent.\n",
    "- Prepend the appropriate number of `F` to this result to form a 23-character resultant string. This will be the current block's `CurrHash` value.\n",
    "\n",
    "For example, for the achievement data string \n",
    "    `Splash Awards 2018:Robert Goh,Mary Tan,Choo Ah Beng:First` \n",
    "\n",
    "Its `CurrHash` value will be `FFFFFFFFFFFFFFF4D32A036` \n",
    "(sum of ASCII value * 57th prime number * `PrevHash` = 4898 * 269 * 983)\n",
    "\n",
    "Write program code for a `ComputeHash` function to calculate the `CurrHash` value of a block. Verify your function with the following 2 achievement data strings:\n",
    "\n",
    "`Splash Awards 2018:Robert Goh,Mary Tan,Choo Ah Beng:First`\n",
    "`Splash Awards 2018:Lim Ah Huat,Alice Wong,Tan Ah Lian:Honorable Mention`\n",
    "\n",
    "### Evidence 6\n",
    "Program code. <div style=\"text-align: right\">[18]</div>\n",
    "\n",
    "### Evidence 7\n",
    "Screenshot for the 2 achievement data strings. <div style=\"text-align: right\">[2]</div>\n"
   ]
  },
  {
   "cell_type": "code",
   "execution_count": null,
   "metadata": {},
   "outputs": [],
   "source": [
    "#YOUR_ANSWER_HERE"
   ]
  },
  {
   "cell_type": "markdown",
   "metadata": {},
   "source": [
    "## Task 8\n",
    "Write program code to insert the data in `ACHIEVEMENTS.TXT` into the blockchain and display the contents of the updated blockchain.\n",
    "\n",
    "### Evidence 9\n",
    "Program code.<div style=\"text-align: right\">[4]</div>\n",
    "\n",
    "### Evidence 10\n",
    "Screenshot.<div style=\"text-align: right\">[1]</div>"
   ]
  },
  {
   "cell_type": "code",
   "execution_count": null,
   "metadata": {},
   "outputs": [],
   "source": [
    "#YOUR_ANSWER_HERE"
   ]
  },
  {
   "cell_type": "markdown",
   "metadata": {},
   "source": [
    "## Task 11\n",
    "Lim Ah Huat aspires to save the world by studying computer science in NUS School of Computing. As it is now the toughest course to get admitted to, he hopes to improve his chances of admission by showcasing his achievements in the various computing and infocomm related programmes he has participated in. He claimed that he is a good team player and is a strong self-directed learner with excellent aptitude for Computing.\n",
    "\n",
    "How can the university admission panel verify his achievements using the existing blockchain? You should describe briefly in program comments this strategy and implement the associated program code.\n",
    "\n",
    "### Evidence 12\n",
    "Program code.<div style=\"text-align: right\">[5]</div>\n",
    "\n",
    "### Evidence 13\n",
    "Screenshot.<div style=\"text-align: right\">[1]</div>"
   ]
  },
  {
   "cell_type": "code",
   "execution_count": null,
   "metadata": {},
   "outputs": [],
   "source": [
    "#YOUR_ANSWER_HERE"
   ]
  },
  {
   "cell_type": "markdown",
   "metadata": {},
   "source": [
    "## Task 14\n",
    "Another student Tan Ah Seng claimed that he also has computing or infocomm related participation, and changes one of the achievement data string from \n",
    "\n",
    "`Splash Awards 2018:Lim Ah Huat,Alice Wong,Tan Ah Lian:Honorable Mention`\n",
    "\n",
    "to\n",
    "\n",
    "`Splash Awards 2018:Lim Ah Huat,Alice Wong,Tan Ah Seng:Honorable Mention`\n",
    "\n",
    "Using program comments, briefly explain the impact to the blockchain. Write program code to refute Mr Tan's claim.\n",
    "\n",
    "### Evidence 15\n",
    "Program code.<div style=\"text-align: right\">[3]</div>\n",
    "\n",
    "### Evidence 16\n",
    "Screenshot.<div style=\"text-align: right\">[1]</div>"
   ]
  },
  {
   "cell_type": "code",
   "execution_count": null,
   "metadata": {},
   "outputs": [],
   "source": [
    "#YOUR_ANSWER_HERE"
   ]
  },
  {
   "cell_type": "markdown",
   "metadata": {},
   "source": [
    "## Exercise 20.5.3 2021/NYJC/P2/Q2 H2 Computing\n",
    "\n",
    "The task is to implement a todo list using a linkedlist data structure. For each of the sub-tasks, add a comment statement, at the beginning of the code using the hash symbol ‘#’, to indicate the sub-task the program code belongs to, for example: \n",
    "\n",
    "\n",
    "### Task 17 \n",
    "\n",
    "The class `TodoList` represents a LinkedList and has the following attributes: \n",
    "- `__head` – a pointer to the first node of the LinkedList; if empty, it has a value of `None` \n",
    "- `__tail` – a pointer to the last node of the LinkedList; if empty, it has a value of `None` \n",
    "\n",
    "`TodoList` has the following methods defined on it: \n",
    "- `add(item)` – wraps item in a `TodoItem` instance, and adds it to the end of the LinkedList \n",
    "- `remove(item)` – removes the first `TodoItem` containing item from the LinkedList \n",
    "- `list()` – returns a Python list containing each `item` in the TodoList \n",
    "\n",
    "The class `TodoItem` represents a Node of the LinkedList and has the following attributes: \n",
    "- `title` – a short description of the todo item \n",
    "- `__next` – a pointer to the next node in the LinkedList; if this is the last node, it has a value of `None` \n",
    "\n",
    "`TodoItem` has the following methods defined on it: \n",
    "\n",
    "- `link_to(todoitem)` – links this `TodoItem` instance to `todoitem`, another instance of the TodoItem class \n",
    "\n",
    "Implement the above classes.<div style=\"text-align: right\">[13]</div>"
   ]
  },
  {
   "cell_type": "code",
   "execution_count": null,
   "metadata": {},
   "outputs": [],
   "source": [
    "#YOUR_ANSWER_HERE"
   ]
  },
  {
   "cell_type": "markdown",
   "metadata": {},
   "source": [
    "### Task 18 \n",
    "\n",
    "Add the following items to a new `TodoList`: \n",
    "- “Buy milk” \n",
    "- “Buy flour” \n",
    "- “Buy eggs”\n",
    "- “Bake cake” \n",
    "\n",
    "Display the contents of the `TodoList`.<div style=\"text-align: right\">[7]</div>"
   ]
  },
  {
   "cell_type": "code",
   "execution_count": null,
   "metadata": {},
   "outputs": [],
   "source": [
    "#YOUR_ANSWER_HERE"
   ]
  },
  {
   "cell_type": "markdown",
   "metadata": {},
   "source": [
    "### Task 19 \n",
    "\n",
    "Remove the following items from the TodoList: \n",
    "- “Buy milk” \n",
    "- “Buy eggs” \n",
    "\n",
    "Display the contents of the TodoList.<div style=\"text-align: right\">[3]</div>"
   ]
  },
  {
   "cell_type": "code",
   "execution_count": null,
   "metadata": {},
   "outputs": [],
   "source": [
    "#YOUR_ANSWER_HERE"
   ]
  },
  {
   "cell_type": "markdown",
   "metadata": {},
   "source": [
    "## Exercise 20.5.4 2021/YIJC/P2/Q4 H2 Computing\n",
    "\n",
    "Lessonology is a learning management system that utilises gamification elements to motivate students to complete their assignments. The Linked List data structure is used to store the students’ names and their total experience points. Each node contains a student’s name, the student’s total experience points, and a pointer to the next node. The nodes are linked together according to the order provided in the `DATA_YIJC_2021.txt` file. \n",
    "\n",
    "A program is to be written to implement nodes as an instance of the class `Node`. The class `Node` has the following properties and method: \n",
    "\n",
    "<center>\n",
    "\n",
    "|   Class: `Node` |  |\n",
    "|-|-|\n",
    "| Attributes |  |\n",
    "| Identifier | Description |\n",
    "| `Name` |  The node's value for a student's name |\n",
    "| `Exp` |  The node's value for the student's total experience points |\n",
    "| `Pointer` |  The pointer to the next node |\n",
    "| Method |  |\n",
    "| Identifier | Description |\n",
    "| `SetPointer()` |  Set the pointer to point at the next node or point to None when it is the last node |\n",
    "\n",
    "</center>\n",
    "\n",
    "A linked list is implemented as an instance of the class `StudentList`. The class `StudentList` has the following property and methods: \n",
    "\n",
    "<center>\n",
    "\n",
    "|   Class: `StudentList` |  |\n",
    "|-|-|\n",
    "| Attributes |  |\n",
    "| Identifier | Description |\n",
    "| `Start` |  The pointer at the start of the linked list |\n",
    "| Method |  |\n",
    "| Identifier | Description |\n",
    "| `Constructor` |  Initialise the linked list with the pointer `Start` assigned to `None` |\n",
    "| `Add()` |  Add a new node into the linked list. |\n",
    "| `Update()` |  Update the value for the total experience pionts of a student's node in the linked list |\n",
    "| `Delete()` |  Delete a node in the linked list |\n",
    "| `Display()` |  Display the current content of the linked list in a table form. |\n",
    "\n",
    "</center>\n",
    "\n",
    "### Task 20 \n",
    "\n",
    "Write program code for the classes `Node` and `StudentList`, including the `Constructor`, `Add()` and `Display()` methods. The code should follow the specification given. Do not write the `Update()` and `Delete()` methods yet. \n",
    "\n",
    "The `Add(node)` method for the StudentList class should add the `node` containing a student’s name and the student’s total experience points to the linked list, according to the order given in the `DATA_YIJC_2021.txt` file. \n",
    "\n",
    "Test your code by reading the data from the file DATA.txt and adding them as nodes into the linked list. The diagram below shows a portion of the expected output when using the Display() method on the populated linked list: \n",
    "\n",
    ">```python\n",
    ">Name            |  Experience Points\n",
    ">-------------------------------------\n",
    ">ANDREW          |        17616\n",
    ">ANGIE           |        16001\n",
    ">AU YONG         |        15589\n",
    ">AZMAN           |          775\n",
    ">BENG CHOO       |        15411\n",
    ">BOB             |        6244\n",
    ">BRIAN           |        20404\n",
    ">\n",
    "\n",
    "<div style=\"text-align: right\">[9]</div>"
   ]
  },
  {
   "cell_type": "code",
   "execution_count": 4,
   "metadata": {},
   "outputs": [
    {
     "name": "stdout",
     "output_type": "stream",
     "text": [
      "\n"
     ]
    }
   ],
   "source": [
    "#YOUR_ANSWER_HERE\n",
    "exp = None\n",
    "print(f\"{'' if exp == None else exp}\")"
   ]
  },
  {
   "cell_type": "markdown",
   "metadata": {},
   "source": [
    "### Task 21\n",
    "\n",
    "Each time a student completes an assignment, points will be awarded and the student’s total experience points will be updated. \n",
    "\n",
    "Write program code for the `Update(name,points)` method for the `StudentList` class that takes a student’s name and the awarded `points` as inputs to update the student’s total experience points in the node. (You may assume that the node containing the student exists in the linked list.) \n",
    "\n",
    "For example, `Update('BRIAN',100)` will update the total experience points of a student whose name is `'BRIAN'` from `20404` to `20504`.<div style=\"text-align: right\">[3]</div>"
   ]
  },
  {
   "cell_type": "code",
   "execution_count": null,
   "metadata": {},
   "outputs": [],
   "source": [
    "#YOUR_ANSWER_HERE"
   ]
  },
  {
   "cell_type": "markdown",
   "metadata": {},
   "source": [
    "### Task 22\n",
    "\n",
    "Write program code to implement the `Delete(name)` method for the `StudentList` class to search and remove a node, containing a particular student’s `name`, in the linked list. Return `True` if the node is found and removed; otherwise return `False`. (You may assume that the students’ names are unique in the linked list.)<div style=\"text-align: right\">[3]</div>\n",
    "\n"
   ]
  },
  {
   "cell_type": "code",
   "execution_count": 10,
   "metadata": {},
   "outputs": [
    {
     "name": "stdout",
     "output_type": "stream",
     "text": [
      "[(John, 200)]\n"
     ]
    },
    {
     "ename": "KeyboardInterrupt",
     "evalue": "",
     "output_type": "error",
     "traceback": [
      "\u001b[1;31m---------------------------------------------------------------------------\u001b[0m",
      "\u001b[1;31mKeyboardInterrupt\u001b[0m                         Traceback (most recent call last)",
      "\u001b[1;32m~\\AppData\\Local\\Temp/ipykernel_16904/4065159101.py\u001b[0m in \u001b[0;36m<module>\u001b[1;34m\u001b[0m\n\u001b[0;32m    107\u001b[0m \u001b[0mprint\u001b[0m\u001b[1;33m(\u001b[0m\u001b[0mx\u001b[0m\u001b[1;33m.\u001b[0m\u001b[0mDisplay\u001b[0m\u001b[1;33m(\u001b[0m\u001b[1;33m)\u001b[0m\u001b[1;33m)\u001b[0m\u001b[1;33m\u001b[0m\u001b[1;33m\u001b[0m\u001b[0m\n\u001b[0;32m    108\u001b[0m \u001b[0mx\u001b[0m\u001b[1;33m.\u001b[0m\u001b[0mAdd\u001b[0m\u001b[1;33m(\u001b[0m\u001b[0my\u001b[0m\u001b[1;33m)\u001b[0m\u001b[1;33m\u001b[0m\u001b[1;33m\u001b[0m\u001b[0m\n\u001b[1;32m--> 109\u001b[1;33m \u001b[0mprint\u001b[0m\u001b[1;33m(\u001b[0m\u001b[0mx\u001b[0m\u001b[1;33m.\u001b[0m\u001b[0mDisplay\u001b[0m\u001b[1;33m(\u001b[0m\u001b[1;33m)\u001b[0m\u001b[1;33m)\u001b[0m\u001b[1;33m\u001b[0m\u001b[1;33m\u001b[0m\u001b[0m\n\u001b[0m",
      "\u001b[1;32m~\\AppData\\Local\\Temp/ipykernel_16904/4065159101.py\u001b[0m in \u001b[0;36mDisplay\u001b[1;34m(self)\u001b[0m\n\u001b[0;32m     92\u001b[0m         \u001b[1;32mwhile\u001b[0m \u001b[0mptr\u001b[0m\u001b[1;33m:\u001b[0m\u001b[1;33m\u001b[0m\u001b[1;33m\u001b[0m\u001b[0m\n\u001b[0;32m     93\u001b[0m             \u001b[0mres\u001b[0m \u001b[1;33m+=\u001b[0m \u001b[1;34m\"(\"\u001b[0m\u001b[1;33m+\u001b[0m\u001b[0mstr\u001b[0m\u001b[1;33m(\u001b[0m\u001b[0mptr\u001b[0m\u001b[1;33m.\u001b[0m\u001b[0mname\u001b[0m\u001b[1;33m)\u001b[0m \u001b[1;33m+\u001b[0m \u001b[1;34m\", \"\u001b[0m \u001b[1;33m+\u001b[0m \u001b[0mstr\u001b[0m\u001b[1;33m(\u001b[0m\u001b[0mptr\u001b[0m\u001b[1;33m.\u001b[0m\u001b[0mexp\u001b[0m\u001b[1;33m)\u001b[0m \u001b[1;33m+\u001b[0m\u001b[1;34m\")\"\u001b[0m\u001b[1;33m+\u001b[0m \u001b[1;34m\", \"\u001b[0m\u001b[1;33m\u001b[0m\u001b[1;33m\u001b[0m\u001b[0m\n\u001b[1;32m---> 94\u001b[1;33m             \u001b[0mptr\u001b[0m \u001b[1;33m=\u001b[0m \u001b[0mptr\u001b[0m\u001b[1;33m.\u001b[0m\u001b[0mpointer\u001b[0m\u001b[1;33m\u001b[0m\u001b[1;33m\u001b[0m\u001b[0m\n\u001b[0m\u001b[0;32m     95\u001b[0m         \u001b[0mres\u001b[0m \u001b[1;33m=\u001b[0m \u001b[0mres\u001b[0m\u001b[1;33m.\u001b[0m\u001b[0mstrip\u001b[0m\u001b[1;33m(\u001b[0m\u001b[1;34m\", \"\u001b[0m\u001b[1;33m)\u001b[0m\u001b[1;33m\u001b[0m\u001b[1;33m\u001b[0m\u001b[0m\n\u001b[0;32m     96\u001b[0m         \u001b[1;32mif\u001b[0m \u001b[0mlen\u001b[0m\u001b[1;33m(\u001b[0m\u001b[0mres\u001b[0m\u001b[1;33m)\u001b[0m\u001b[1;33m:\u001b[0m\u001b[1;33m\u001b[0m\u001b[1;33m\u001b[0m\u001b[0m\n",
      "\u001b[1;31mKeyboardInterrupt\u001b[0m: "
     ]
    }
   ],
   "source": [
    "#YOUR_ANSWER_HERE\n",
    "class Node:\n",
    "    def __init__(self, data = None, exp = None):\n",
    "        self.name = data\n",
    "        self.exp = exp\n",
    "        self.pointer = None\n",
    "    def SetPointer(self, node = None):\n",
    "        self.pointer = node\n",
    "    def __str__(self):\n",
    "        res = \"\"\n",
    "        ptr = self.name\n",
    "        ptr2 = self.exp\n",
    "        ptr3 = self.pointer\n",
    "        res += str(ptr) + \", \" + str(ptr2) + \", \" + str(ptr3) + \", \"\n",
    "        res = res.strip(\", \")\n",
    "        return \"[\" + res + \"]\"\n",
    "class StudentList:\n",
    "    def __init__(self):\n",
    "        self.Start = None\n",
    "        self.LastNode = None\n",
    "    \n",
    "    def insertFront(self, name, exp):\n",
    "        NewLink = Node(name, exp)\n",
    "        NewLink.pointer = self.Start\n",
    "        self.Start = NewLink\n",
    "    \n",
    "    def Add(self, node):\n",
    "        if self.Start == None:\n",
    "            self.Start = node\n",
    "            self.LastNode = node\n",
    "        else:\n",
    "            self.LastNode.pointer = node\n",
    "            self.LastNode = node\n",
    "           \n",
    "    \n",
    "    def Delete(self, integer_value):\n",
    "        checkval = self.Start\n",
    "        if checkval == None:\n",
    "            return False\n",
    "        elif checkval.name == integer_value:\n",
    "            self.Start = checkval.pointer\n",
    "            return True\n",
    "        \n",
    "        prev = checkval\n",
    "        checkval = checkval.pointer\n",
    "        while checkval != None:\n",
    "            if integer_value == checkval.name:\n",
    "                if checkval == self.LastNode:\n",
    "                    self.LastNode = prev\n",
    "                    break\n",
    "                else:\n",
    "                    break\n",
    "            prev = checkval\n",
    "            checkval = checkval.pointer\n",
    "            \n",
    "       \n",
    "        prev.pointer = checkval.pointer\n",
    "        return True\n",
    "    \n",
    "    def getNode(self, integer_value):\n",
    "        checkval = self.Start\n",
    "        if checkval == integer_value:\n",
    "            return [checkval.name, checkval.exp, checkval.pointer]\n",
    "        \n",
    "        while checkval != None:\n",
    "            if integer_value == checkval:\n",
    "                return [checkval.name, checkval.exp, checkval.pointer]\n",
    "            \n",
    "            prev = checkval\n",
    "            checkval = checkval.pointer\n",
    "            \n",
    "        if checkval == None:\n",
    "            return None\n",
    "        prev.pointer = checkval.pointer\n",
    "        checkval = None\n",
    "        \n",
    "    def Update(self, name, exp):\n",
    "        checkval = self.Start\n",
    "        while checkval != None:\n",
    "            if checkval.name == name:\n",
    "                checkval.exp = int(checkval.exp) + int(exp)\n",
    "                break\n",
    "            checkval = checkval.pointer\n",
    "        \n",
    "    def count(self):\n",
    "        counter = 0\n",
    "        countval = self.Start\n",
    "        while countval != None:\n",
    "            counter += 1\n",
    "            countval = countval.pointer\n",
    "        print(counter)\n",
    "    def Display(self):\n",
    "        res = \"\"\n",
    "        ptr = self.Start\n",
    "        while ptr:\n",
    "            res += \"(\"+str(ptr.name) + \", \" + str(ptr.exp) +\")\"+ \", \"\n",
    "            ptr = ptr.pointer\n",
    "        res = res.strip(\", \")\n",
    "        if len(res):\n",
    "            return \"[\" + res + \"]\"\n",
    "        else:\n",
    "            return \"[]\"\n",
    "\n",
    "x = StudentList()\n",
    "y = Node(\"John\",\"200\")\n",
    "z = Node(\"Jack\",\"100\")\n",
    "x.Add(y)\n",
    "x.Add(z)\n",
    "x.Delete(\"Jack\")\n",
    "print(x.Display())\n",
    "x.Add(y)\n",
    "print(x.Display())"
   ]
  },
  {
   "cell_type": "markdown",
   "metadata": {},
   "source": [
    "### Task 23\n",
    "\n",
    "Another linked list which has pointers linking the nodes in decreasing order of the experience points is implemented as an instance of the class `Leaderboard`. \n",
    "\n",
    "The class `Leaderboard` has the following properties and methods: \n",
    "\n",
    "<center>\n",
    "\n",
    "|   Class: `Leaderboard` |  |\n",
    "|-|-|\n",
    "| Attributes |  |\n",
    "| Identifier | Description |\n",
    "| `Start` |  The pointer at the start of the linked list |\n",
    "| Method |  |\n",
    "| Identifier | Description |\n",
    "| `Constructor` |  Inherit the property and all the methods from the class `StudentList`. Initialise the linked list witht he pointer `Start` assigned to `None` |\n",
    "| `Add()` |  Modify the `Add()` method in the parent class to add a new node in decreasing order of total experience points |\n",
    "| `Update()` |  Modify the `Update()` method in the parent class such that the linked list is still in decreasing order of experience points after updating a student's total experience points. |\n",
    "| `Display()` |  Display the current content of the nodes in the linked list for the top studetns based on their total experience points.|\n",
    "\n",
    "</center>\n",
    "\n",
    "Write program code for the class `Leaderboard` to inherit the properties and methods from the class `StudentList` with the modified `Add()` and `Update()` methods. The additional `DisplayTop(n)` method should display the top `n` number of students in the linked list, based on their total experience points. (You may assume that no two students have the same total experience points.) \n",
    "\n",
    "Test your code by reading the data from the file `DATA_YIJC_2021.txt` and adding them as nodes into this linked list. The diagram below shows the expected output when using the `DisplayTop(5)` method on the linked list:\n",
    "\n",
    ">```python\n",
    ">Displaying Top 5 students\n",
    ">Name            |  Total Experience Points\n",
    ">-------------------------------------------\n",
    ">HENDERSON       |        21653\n",
    ">YOCK TIM        |        20740\n",
    ">HUI FANG        |        20563\n",
    ">BRIAN           |        20404\n",
    ">DESMOND         |        20033\n",
    ">------------End of Display------------------\n",
    "\n",
    "<div style=\"text-align: right\">[13]</div>\n",
    "\n"
   ]
  },
  {
   "cell_type": "markdown",
   "metadata": {},
   "source": [
    "#YOUR_ANSWER_HERE"
   ]
  }
 ],
 "metadata": {
  "interpreter": {
   "hash": "9855bcb2db2fc1adb021fa4ac9c7dfbb81452ef889b3ef5659154f2722c9fc88"
  },
  "kernelspec": {
   "display_name": "Python 3.7.6 64-bit ('base': conda)",
   "name": "python3"
  },
  "language_info": {
   "codemirror_mode": {
    "name": "ipython",
    "version": 3
   },
   "file_extension": ".py",
   "mimetype": "text/x-python",
   "name": "python",
   "nbconvert_exporter": "python",
   "pygments_lexer": "ipython3",
   "version": "3.7.6"
  },
  "orig_nbformat": 2
 },
 "nbformat": 4,
 "nbformat_minor": 2
}
