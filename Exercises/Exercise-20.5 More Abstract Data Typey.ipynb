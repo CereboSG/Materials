{
 "cells": [
  {
   "cell_type": "markdown",
   "metadata": {},
   "source": [
    "# Exercise 21\n",
    "\n",
    "Notes:\n",
    "- Fundamentals_14_Abstract_Data_Types"
   ]
  },
  {
   "cell_type": "markdown",
   "metadata": {},
   "source": [
    "## Exercise 21.1 2021/DHS/P1/Q2 H2 Computing\n",
    "\n",
    "### Task 1\n",
    "Using a stack data structure, write a function `solver(expr)` that takes in a string of a mathematical expression `expr` such as `((1*7)+6)` and returns `13`. You may assume that the entire expression would never have spaces, and would always be enclosed in an opening and closing parenthesis `( )`. Do not use the built-in function `eval()`. Test your function with `solver(\"((1*7)+6)\")` and show your output. <div style=\"text-align: right\">[6]</div>"
   ]
  },
  {
   "cell_type": "code",
   "execution_count": null,
   "metadata": {},
   "outputs": [],
   "source": [
    "# Your Answer Here"
   ]
  },
  {
   "cell_type": "markdown",
   "metadata": {},
   "source": [
    "## Exercise 21.2 2018/DHS/P1/Q3 H2 Computing\n",
    "\n",
    "A blockchain is a linked list of blocks where each block has the following structure:\n",
    "\n",
    "<center>\n",
    "|  | Class: `Block` |  |\n",
    "|-|-|-|\n",
    "| Attributes |  |  |\n",
    "| Identifier | Data Type | Description |\n",
    "| `Data` | `STRING` | Block data |\n",
    "| `PrevHash` | `STRING` | Hash of previous block |\n",
    "| `CurrHash` | `STRING` | Hash of `Data` and `PrevHash` |\n",
    "| `Next` | `INTEGER` | The next block pointer |\n",
    "</center>\n",
    "\n",
    "\n",
    "The structure of the blockchain is as follows:\n",
    "\n",
    "<center>\n",
    "|  | Class: `BlockChain` |  |\n",
    "|-|-|-|\n",
    "| Attributes |  |  |\n",
    "| Identifier | Data Type | Description |\n",
    "| `ChainData` | `ARRAY[1:20] OF ListNode` | An array used to store the 20 blocks |\n",
    "| `Start` | `INTEGER` | Index for the genesis block |\n",
    "| `NextFreeBlock` | `INTEGER` | Index fore the next available empty block  |\n",
    "</center>\n",
    "\n",
    "The initial value of `Start` is 1 and the initial value of `NextFreeBlock` is 1.\n",
    "\n",
    "The first block of the blockchain is called the genesis block and its `PrevHash` value is 983.\n",
    "\n",
    "The blockchain is used to store the achievement data of students in computing and infocomm programmes. The ensures the integrity and verifiability of students' portfolios which will be useful in internships, higher education and career opportunities.\n",
    "\n",
    "### Task 2\n",
    "Write program code to declare and initialise an empty blockchain of 20 unused blocks. Also write the `Display` method to show all contents of the blockchain.\n",
    "\n",
    "### Evidence 3\n",
    "Program code. <div style=\"text-align: right\">[8]</div>\n",
    "\n",
    "### Evidence 4\n",
    "Screenshot.<div style=\"text-align: right\">[2]</div>\n",
    "\n",
    "### Task 5\n",
    "The following hashing algorithm computes the `CurrHash` value of each block:\n",
    "- Compute the sum of ASCII values for the characters in the achievement data string.\n",
    "- Multiply this sum by the kth prime number, where `k` is the length of the achievement data string.\n",
    "- Multiply this with the decimal equivalent of the `PrevHash` value of the current block.\n",
    "- Convert this value to its uppercase hexadecimal equivalent.\n",
    "- Prepend the appropriate number of `F` to this result to form a 23-character resultant string. This will be the current block's `CurrHash` value.\n",
    "\n",
    "For example, for the achievement data string \n",
    "    `Splash Awards 2018:Robert Goh,Mary Tan,Choo Ah Beng:First` \n",
    "\n",
    "Its `CurrHash` value will be `FFFFFFFFFFFFFFF4D32A036` \n",
    "(sum of ASCII value * 57th prime number * `PrevHash` = 4898 * 269 * 983)\n",
    "\n",
    "Write program code for a `ComputeHash` function to calculate the `CurrHash` value of a block. Verify your function with the following 2 achievement data strings:\n",
    "\n",
    "`Splash Awards 2018:Robert Goh,Mary Tan,Choo Ah Beng:First`\n",
    "`Splash Awards 2018:Lim Ah Huat,Alice Wong,Tan Ah Lian:Honorable Mention`\n",
    "\n",
    "### Evidence 6\n",
    "Program code. <div style=\"text-align: right\">[18]</div>\n",
    "\n",
    "### Evidence 7\n",
    "Screenshot for the 2 achievement data strings. <div style=\"text-align: right\">[2]</div>\n",
    "\n",
    "## Task 8\n",
    "Write program code to insert the data in `ACHIEVEMENTS.TXT` into the blockchain and display the contents of the updated blockchain.\n",
    "\n",
    "### Evidence 9\n",
    "Program code.<div style=\"text-align: right\">[4]</div>\n",
    "\n",
    "### Evidence 10\n",
    "Screenshot.<div style=\"text-align: right\">[1]</div>\n",
    "\n",
    "\n",
    "## Task 11\n",
    "Lim Ah Huat aspires to save the world by studying computer science in NUS School of Computing. As it is now the toughest course to get admitted to, he hopes to improve his chances of admission by showcasing his achievements in the various computing and infocomm related programmes he has participated in. He claimed that he is a good team player and is a strong self-directed learner with excellent aptitude for Computing.\n",
    "\n",
    "How can the university admission panel verify his achievements using the existing blockchain? You should describe briefly in program comments this strategy and implement the associated program code.\n",
    "\n",
    "### Evidence 12\n",
    "Program code.<div style=\"text-align: right\">[5]</div>\n",
    "\n",
    "### Evidence 13\n",
    "Screenshot.<div style=\"text-align: right\">[1]</div>\n",
    "\n",
    "## Task 14\n",
    "Another student Tan Ah Seng claimed that he also has computing or infocomm related participation, and changes one of the achievement data string from \n",
    "\n",
    "`Splash Awards 2018:Lim Ah Huat,Alice Wong,Tan Ah Lian:Honorable Mention`\n",
    "\n",
    "to\n",
    "\n",
    "`Splash Awards 2018:Lim Ah Huat,Alice Wong,Tan Ah Seng:Honorable Mention`\n",
    "\n",
    "Using program comments, briefly explain the impact to the blockchain. Write program code to refute Mr Tan's claim.\n",
    "\n",
    "### Evidence 15\n",
    "Program code.<div style=\"text-align: right\">[3]</div>\n",
    "\n",
    "### Evidence 16\n",
    "Screenshot.<div style=\"text-align: right\">[1]</div>"
   ]
  },
  {
   "cell_type": "code",
   "execution_count": 1,
   "metadata": {},
   "outputs": [],
   "source": [
    "#YOUR_ANSWER_HERE"
   ]
  }
 ],
 "metadata": {
  "interpreter": {
   "hash": "9855bcb2db2fc1adb021fa4ac9c7dfbb81452ef889b3ef5659154f2722c9fc88"
  },
  "kernelspec": {
   "display_name": "Python 3.7.6 64-bit ('base': conda)",
   "name": "python3"
  },
  "language_info": {
   "codemirror_mode": {
    "name": "ipython",
    "version": 3
   },
   "file_extension": ".py",
   "mimetype": "text/x-python",
   "name": "python",
   "nbconvert_exporter": "python",
   "pygments_lexer": "ipython3",
   "version": "3.7.6"
  },
  "orig_nbformat": 2
 },
 "nbformat": 4,
 "nbformat_minor": 2
}
