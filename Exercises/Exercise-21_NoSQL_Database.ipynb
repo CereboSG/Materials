{
 "cells": [
  {
   "cell_type": "markdown",
   "metadata": {},
   "source": [
    "# Exercise 21\n",
    "\n",
    "Notes:\n",
    "- Chapter_15_NoSQL_Databases\n",
    "\n",
    "[![Open In Colab](https://colab.research.google.com/assets/colab-badge.svg)](https://colab.research.google.com/github/googlecolab/colabtools/blob/master/notebooks/colab-github-demo.ipynb) FIX LINK"
   ]
  },
  {
   "cell_type": "markdown",
   "metadata": {},
   "source": [
    "## Exercise 2021/DHS/P2/Q4 H2 Computing\n",
    "\n",
    "## Task 4.1\n",
    "Write a program to help staff of an events company to insert data into a NoSQL database products under the collection balloons.\n",
    "\n",
    "The data is provided for you in `balloons.json` as well as in the table below where the first row are headers for the fields.\n",
    "\n",
    "<center>\n",
    "\n",
    "| `design` | `amount` | `helium` | `colours` | \n",
    "|-|-|-|-|\n",
    "| car | 88 | no | red, yellow |\n",
    "| cloud | 14 | | blue, green |\n",
    "| flower | 75 | yes | red, blue |\n",
    "| bag | 38 | no | red, blue, black |\n",
    "\n",
    "</center>\n",
    "\n",
    "Each colour in `colours` field should be an item in an array. <div style=\"text-align: right\">[6]</div>"
   ]
  },
  {
   "cell_type": "code",
   "execution_count": null,
   "metadata": {},
   "outputs": [],
   "source": [
    "#YOUR_CODE_HERE"
   ]
  },
  {
   "cell_type": "markdown",
   "metadata": {},
   "source": [
    "## Task 4.2\n",
    "Write code to print the `amount` of the product with the design \"`car`\". <div style=\"text-align: right\">[2]</div>"
   ]
  },
  {
   "cell_type": "code",
   "execution_count": null,
   "metadata": {},
   "outputs": [],
   "source": [
    "#YOUR_CODE_HERE"
   ]
  },
  {
   "cell_type": "markdown",
   "metadata": {},
   "source": [
    "## Task 4.3\n",
    "Write code to update the field helium to have the value \"no\" for all documents which do not have a field or value for helium. <div style=\"text-align: right\">[3]</div>"
   ]
  },
  {
   "cell_type": "code",
   "execution_count": null,
   "metadata": {},
   "outputs": [],
   "source": [
    "#YOUR_CODE_HERE"
   ]
  },
  {
   "cell_type": "markdown",
   "metadata": {},
   "source": [
    "## Task 4.4\n",
    "Write code to display the design(s) which do not contain helium and have colours that either contain green or do not contain black. <div style=\"text-align: right\">[3]</div>\n",
    "Run the program."
   ]
  },
  {
   "cell_type": "code",
   "execution_count": null,
   "metadata": {},
   "outputs": [],
   "source": [
    "#YOUR_CODE_HERE"
   ]
  },
  {
   "cell_type": "markdown",
   "metadata": {},
   "source": [
    "## Exercise 2021/JPJC/P2/Q2 H2 Computing\n",
    "JP Mobile sells mobile phones and manages its inventory using a NoSQL database. Information about the mobile phones is stored in the JSON file `items.JSON`. The following fields are recorded: \n",
    "- brand of mobile phone, \n",
    "- model, \n",
    "- colour(s) available, \n",
    "- price in dollar, \n",
    "- quantity in stock. \n",
    "\n",
    "## Task 1\n",
    "\n",
    "Write program code to import the information from the JSON file into a MongoDB database. Save the information under the `phone` collection in the `jp_mobile` database. Ensure that the collection only stores the information from the JSON file. \n",
    "Save your program code as `TASK4_<your name>_<class>_<index number>.py`. <div style=\"text-align: right\">[4]</div>"
   ]
  },
  {
   "cell_type": "code",
   "execution_count": null,
   "metadata": {},
   "outputs": [],
   "source": [
    "#YOUR_CODE_HERE"
   ]
  },
  {
   "cell_type": "markdown",
   "metadata": {},
   "source": [
    "## Task 2\n",
    "The shop decides to include one or more free gifts for new batches of mobile phones it sells. \n",
    "\n",
    "Write program code for a user to insert information of a mobile phone by getting user input of the following: brand, model, colour, price, quantity, free gift(s). \n",
    "\n",
    "Your code should allow user to input one or more free gifts. \n",
    "\n",
    "If a phone’s brand, model and colour already exists, add the new quantity to the existing quantity in the database, and replace the existing price with the new price. \n",
    "\n",
    "Run your program and insert the following 2 documents: \n",
    "\n",
    "<center>\n",
    "\n",
    "| No. | Brand | Model | Colour | Price | Quantity | Free gift(s) |\n",
    "|-|-|-|-|-|-|-|\n",
    "| 1 | orange | 22 |black|900|11| power bank|\n",
    "| 2| solo|A33|red|1300|7| power bank, earbuds|\n",
    "\n",
    "</center>\n",
    "\n",
    "Add your program code to `TASK4_<your name>_<class>_<index number>.py`   <div style=\"text-align: right\">[7]</div>\n"
   ]
  },
  {
   "cell_type": "code",
   "execution_count": null,
   "metadata": {},
   "outputs": [],
   "source": [
    "#YOUR_CODE_HERE"
   ]
  },
  {
   "cell_type": "markdown",
   "metadata": {},
   "source": [
    "### Task 3\n",
    "\n",
    "Write a function display_all that will display all the information in the phone collection under these fields: brand, model, colour, price, quantity, free gift(s). \n",
    "If no free gift comes with the phone, print a None statement.\n",
    "Include a final statement that shows the total number of documents in the collection. \n",
    "Run the `display_all` function to show your output. \n",
    "Add your program code to `TASK4_<your name>_<class>_<index number>.py`      <div style=\"text-align: right\">[6]</div>"
   ]
  },
  {
   "cell_type": "code",
   "execution_count": null,
   "metadata": {},
   "outputs": [],
   "source": [
    "#YOUR_CODE_HERE"
   ]
  },
  {
   "cell_type": "markdown",
   "metadata": {},
   "source": [
    "### Task 4\n",
    "\n",
    "The shop uses a web browser to display the database content. The manager wants to filter the mobile phones by brand and display the results in a web browser. \n",
    "Write additional Python code and the necessary files to create a web application that \n",
    "- receives a brand string from a HTML form, then \n",
    "- creates and returns a HTML document that enables the web browser to display an ordered list of mobile phones sorted by price. \n",
    "\n",
    "For each document, the web page should include the: \n",
    "- brand as the heading \n",
    "- model, \n",
    "- colour, \n",
    "- price \n",
    "\n",
    "Save your program as \n",
    "`TASK4_4_<your name>_<class>_<index number>.py` \n",
    "with any additional files / sub-folders as needed in a folder named \n",
    "`TASK4_4_<your name>_<class>_<index number>`\n",
    "\n",
    "Run the web application and input brand as ‘solo’ in the webpage.\n",
    "Save the output of the program as \n",
    "`TASK4_4_<your name>_<class>_<index number>.html`      <div style=\"text-align: right\">[12]</div>"
   ]
  },
  {
   "cell_type": "markdown",
   "metadata": {},
   "source": [
    "## Exercise 21 2021/JPJC/P2/Q2 H2 Computing\n",
    "\n",
    "### Task 1\n",
    "Using a stack data structure, write a function `solver(expr)` that takes in a string of a mathematical expression `expr` such as `((1*7)+6)` and returns `13`. You may assume that the entire expression would never have spaces, and would always be enclosed in an opening and closing parenthesis `( )`. Do not use the built-in function `eval()`. Test your function with `solver(\"((1*7)+6)\")` and show your output. <div style=\"text-align: right\">[6]</div>"
   ]
  },
  {
   "cell_type": "code",
   "execution_count": null,
   "metadata": {},
   "outputs": [],
   "source": [
    "# Your Answer Here"
   ]
  },
  {
   "cell_type": "markdown",
   "metadata": {},
   "source": [
    "## Exercise 20.5.2 2018/DHS/P1/Q3 H2 Computing\n",
    "\n",
    "A blockchain is a linked list of blocks where each block has the following structure:\n",
    "\n",
    "<center>\n",
    "\n",
    "|  | Class: `Block` |  |\n",
    "|-|-|-|\n",
    "| Attributes |  |  |\n",
    "| Identifier | Data Type | Description |\n",
    "| `Data` | `STRING` | Block data |\n",
    "| `PrevHash` | `STRING` | Hash of previous block |\n",
    "| `CurrHash` | `STRING` | Hash of `Data` and `PrevHash` |\n",
    "| `Next` | `INTEGER` | The next block pointer |\n",
    "\n",
    "</center>\n",
    "\n",
    "\n",
    "The structure of the blockchain is as follows:\n",
    "\n",
    "<center>\n",
    "\n",
    "|  | Class: `BlockChain` |  |\n",
    "|-|-|-|\n",
    "| Attributes |  |  |\n",
    "| Identifier | Data Type | Description |\n",
    "| `ChainData` | `ARRAY[1:20] OF ListNode` | An array used to store the 20 blocks |\n",
    "| `Start` | `INTEGER` | Index for the genesis block |\n",
    "| `NextFreeBlock` | `INTEGER` | Index fore the next available empty block  |\n",
    "\n",
    "</center>\n",
    "\n",
    "The initial value of `Start` is 1 and the initial value of `NextFreeBlock` is 1.\n",
    "\n",
    "The first block of the blockchain is called the genesis block and its `PrevHash` value is 983.\n",
    "\n",
    "The blockchain is used to store the achievement data of students in computing and infocomm programmes. The ensures the integrity and verifiability of students' portfolios which will be useful in internships, higher education and career opportunities.\n",
    "\n",
    "### Task 2\n",
    "Write program code to declare and initialise an empty blockchain of 20 unused blocks. Also write the `Display` method to show all contents of the blockchain.\n",
    "\n",
    "### Evidence 3\n",
    "Program code. <div style=\"text-align: right\">[8]</div>\n",
    "\n",
    "### Evidence 4\n",
    "Screenshot.<div style=\"text-align: right\">[2]</div>\n"
   ]
  },
  {
   "cell_type": "code",
   "execution_count": 1,
   "metadata": {},
   "outputs": [],
   "source": [
    "#YOUR_ANSWER_HERE"
   ]
  },
  {
   "cell_type": "markdown",
   "metadata": {},
   "source": [
    "### Task 5\n",
    "The following hashing algorithm computes the `CurrHash` value of each block:\n",
    "- Compute the sum of ASCII values for the characters in the achievement data string.\n",
    "- Multiply this sum by the kth prime number, where `k` is the length of the achievement data string.\n",
    "- Multiply this with the decimal equivalent of the `PrevHash` value of the current block.\n",
    "- Convert this value to its uppercase hexadecimal equivalent.\n",
    "- Prepend the appropriate number of `F` to this result to form a 23-character resultant string. This will be the current block's `CurrHash` value.\n",
    "\n",
    "For example, for the achievement data string \n",
    "    `Splash Awards 2018:Robert Goh,Mary Tan,Choo Ah Beng:First` \n",
    "\n",
    "Its `CurrHash` value will be `FFFFFFFFFFFFFFF4D32A036` \n",
    "(sum of ASCII value * 57th prime number * `PrevHash` = 4898 * 269 * 983)\n",
    "\n",
    "Write program code for a `ComputeHash` function to calculate the `CurrHash` value of a block. Verify your function with the following 2 achievement data strings:\n",
    "\n",
    "`Splash Awards 2018:Robert Goh,Mary Tan,Choo Ah Beng:First`\n",
    "`Splash Awards 2018:Lim Ah Huat,Alice Wong,Tan Ah Lian:Honorable Mention`\n",
    "\n",
    "### Evidence 6\n",
    "Program code. <div style=\"text-align: right\">[18]</div>\n",
    "\n",
    "### Evidence 7\n",
    "Screenshot for the 2 achievement data strings. <div style=\"text-align: right\">[2]</div>\n"
   ]
  },
  {
   "cell_type": "code",
   "execution_count": null,
   "metadata": {},
   "outputs": [],
   "source": [
    "#YOUR_ANSWER_HERE"
   ]
  },
  {
   "cell_type": "markdown",
   "metadata": {},
   "source": [
    "## Task 8\n",
    "Write program code to insert the data in `ACHIEVEMENTS.TXT` into the blockchain and display the contents of the updated blockchain.\n",
    "\n",
    "### Evidence 9\n",
    "Program code.<div style=\"text-align: right\">[4]</div>\n",
    "\n",
    "### Evidence 10\n",
    "Screenshot.<div style=\"text-align: right\">[1]</div>"
   ]
  },
  {
   "cell_type": "code",
   "execution_count": null,
   "metadata": {},
   "outputs": [],
   "source": [
    "#YOUR_ANSWER_HERE"
   ]
  },
  {
   "cell_type": "markdown",
   "metadata": {},
   "source": [
    "## Task 11\n",
    "Lim Ah Huat aspires to save the world by studying computer science in NUS School of Computing. As it is now the toughest course to get admitted to, he hopes to improve his chances of admission by showcasing his achievements in the various computing and infocomm related programmes he has participated in. He claimed that he is a good team player and is a strong self-directed learner with excellent aptitude for Computing.\n",
    "\n",
    "How can the university admission panel verify his achievements using the existing blockchain? You should describe briefly in program comments this strategy and implement the associated program code.\n",
    "\n",
    "### Evidence 12\n",
    "Program code.<div style=\"text-align: right\">[5]</div>\n",
    "\n",
    "### Evidence 13\n",
    "Screenshot.<div style=\"text-align: right\">[1]</div>"
   ]
  },
  {
   "cell_type": "code",
   "execution_count": null,
   "metadata": {},
   "outputs": [],
   "source": [
    "#YOUR_ANSWER_HERE"
   ]
  },
  {
   "cell_type": "markdown",
   "metadata": {},
   "source": [
    "## Task 14\n",
    "Another student Tan Ah Seng claimed that he also has computing or infocomm related participation, and changes one of the achievement data string from \n",
    "\n",
    "`Splash Awards 2018:Lim Ah Huat,Alice Wong,Tan Ah Lian:Honorable Mention`\n",
    "\n",
    "to\n",
    "\n",
    "`Splash Awards 2018:Lim Ah Huat,Alice Wong,Tan Ah Seng:Honorable Mention`\n",
    "\n",
    "Using program comments, briefly explain the impact to the blockchain. Write program code to refute Mr Tan's claim.\n",
    "\n",
    "### Evidence 15\n",
    "Program code.<div style=\"text-align: right\">[3]</div>\n",
    "\n",
    "### Evidence 16\n",
    "Screenshot.<div style=\"text-align: right\">[1]</div>"
   ]
  },
  {
   "cell_type": "code",
   "execution_count": null,
   "metadata": {},
   "outputs": [],
   "source": [
    "#YOUR_ANSWER_HERE"
   ]
  },
  {
   "cell_type": "markdown",
   "metadata": {},
   "source": [
    "## Exercise 20.5.3 2021/NYJC/P2/Q2 H2 Computing\n",
    "\n",
    "The task is to implement a todo list using a linkedlist data structure. For each of the sub-tasks, add a comment statement, at the beginning of the code using the hash symbol ‘#’, to indicate the sub-task the program code belongs to, for example: \n",
    "\n",
    "\n",
    "### Task 17 \n",
    "\n",
    "The class `TodoList` represents a LinkedList and has the following attributes: \n",
    "- `__head` – a pointer to the first node of the LinkedList; if empty, it has a value of `None` \n",
    "- `__tail` – a pointer to the last node of the LinkedList; if empty, it has a value of `None` \n",
    "\n",
    "`TodoList` has the following methods defined on it: \n",
    "- `add(item)` – wraps item in a `TodoItem` instance, and adds it to the end of the LinkedList \n",
    "- `remove(item)` – removes the first `TodoItem` containing item from the LinkedList \n",
    "- `list()` – returns a Python list containing each `item` in the TodoList \n",
    "\n",
    "The class `TodoItem` represents a Node of the LinkedList and has the following attributes: \n",
    "- `title` – a short description of the todo item \n",
    "- `__next` – a pointer to the next node in the LinkedList; if this is the last node, it has a value of `None` \n",
    "\n",
    "`TodoItem` has the following methods defined on it: \n",
    "\n",
    "- `link_to(todoitem)` – links this `TodoItem` instance to `todoitem`, another instance of the TodoItem class \n",
    "\n",
    "Implement the above classes.<div style=\"text-align: right\">[13]</div>"
   ]
  },
  {
   "cell_type": "code",
   "execution_count": null,
   "metadata": {},
   "outputs": [],
   "source": [
    "#YOUR_ANSWER_HERE"
   ]
  },
  {
   "cell_type": "markdown",
   "metadata": {},
   "source": [
    "### Task 18 \n",
    "\n",
    "Add the following items to a new `TodoList`: \n",
    "- “Buy milk” \n",
    "- “Buy flour” \n",
    "- “Buy eggs”\n",
    "- “Bake cake” \n",
    "\n",
    "Display the contents of the `TodoList`.<div style=\"text-align: right\">[7]</div>"
   ]
  },
  {
   "cell_type": "code",
   "execution_count": null,
   "metadata": {},
   "outputs": [],
   "source": [
    "#YOUR_ANSWER_HERE"
   ]
  },
  {
   "cell_type": "markdown",
   "metadata": {},
   "source": [
    "### Task 19 \n",
    "\n",
    "Remove the following items from the TodoList: \n",
    "- “Buy milk” \n",
    "- “Buy eggs” \n",
    "\n",
    "Display the contents of the TodoList.<div style=\"text-align: right\">[3]</div>"
   ]
  },
  {
   "cell_type": "code",
   "execution_count": null,
   "metadata": {},
   "outputs": [],
   "source": [
    "#YOUR_ANSWER_HERE"
   ]
  },
  {
   "cell_type": "markdown",
   "metadata": {},
   "source": [
    "## Exercise 20.5.4 2021/YIJC/P2/Q4 H2 Computing\n",
    "\n",
    "Lessonology is a learning management system that utilises gamification elements to motivate students to complete their assignments. The Linked List data structure is used to store the students’ names and their total experience points. Each node contains a student’s name, the student’s total experience points, and a pointer to the next node. The nodes are linked together according to the order provided in the `DATA_YIJC_2021.txt` file. \n",
    "\n",
    "A program is to be written to implement nodes as an instance of the class `Node`. The class `Node` has the following properties and method: \n",
    "\n",
    "<center>\n",
    "\n",
    "|   Class: `Node` |  |\n",
    "|-|-|\n",
    "| Attributes |  |\n",
    "| Identifier | Description |\n",
    "| `Name` |  The node's value for a student's name |\n",
    "| `Exp` |  The node's value for the student's total experience points |\n",
    "| `Pointer` |  The pointer to the next node |\n",
    "| Method |  |\n",
    "| Identifier | Description |\n",
    "| `SetPointer()` |  Set the pointer to point at the next node or point to None when it is the last node |\n",
    "\n",
    "</center>\n",
    "\n",
    "A linked list is implemented as an instance of the class `StudentList`. The class `StudentList` has the following property and methods: \n",
    "\n",
    "<center>\n",
    "\n",
    "|   Class: `StudentList` |  |\n",
    "|-|-|\n",
    "| Attributes |  |\n",
    "| Identifier | Description |\n",
    "| `Start` |  The pointer at the start of the linked list |\n",
    "| Method |  |\n",
    "| Identifier | Description |\n",
    "| `Constructor` |  Initialise the linked list with the pointer `Start` assigned to `None` |\n",
    "| `Add()` |  Add a new node into the linked list. |\n",
    "| `Update()` |  Update the value for the total experience pionts of a student's node in the linked list |\n",
    "| `Delete()` |  Delete a node in the linked list |\n",
    "| `Display()` |  Display the current content of the linked list in a table form. |\n",
    "\n",
    "</center>\n",
    "\n",
    "### Task 20 \n",
    "\n",
    "Write program code for the classes `Node` and `StudentList`, including the `Constructor`, `Add()` and `Display()` methods. The code should follow the specification given. Do not write the `Update()` and `Delete()` methods yet. \n",
    "\n",
    "The `Add(node)` method for the StudentList class should add the `node` containing a student’s name and the student’s total experience points to the linked list, according to the order given in the `DATA_YIJC_2021.txt` file. \n",
    "\n",
    "Test your code by reading the data from the file DATA.txt and adding them as nodes into the linked list. The diagram below shows a portion of the expected output when using the Display() method on the populated linked list: \n",
    "\n",
    ">```python\n",
    ">Name            |  Experience Points\n",
    ">-------------------------------------\n",
    ">ANDREW          |        17616\n",
    ">ANGIE           |        16001\n",
    ">AU YONG         |        15589\n",
    ">AZMAN           |          775\n",
    ">BENG CHOO       |        15411\n",
    ">BOB             |        6244\n",
    ">BRIAN           |        20404\n",
    ">\n",
    "\n",
    "<div style=\"text-align: right\">[9]</div>"
   ]
  },
  {
   "cell_type": "code",
   "execution_count": null,
   "metadata": {},
   "outputs": [],
   "source": [
    "#YOUR_ANSWER_HERE"
   ]
  },
  {
   "cell_type": "markdown",
   "metadata": {},
   "source": [
    "### Task 21\n",
    "\n",
    "Each time a student completes an assignment, points will be awarded and the student’s total experience points will be updated. \n",
    "\n",
    "Write program code for the `Update(name,points)` method for the `StudentList` class that takes a student’s name and the awarded `points` as inputs to update the student’s total experience points in the node. (You may assume that the node containing the student exists in the linked list.) \n",
    "\n",
    "For example, `Update('BRIAN',100)` will update the total experience points of a student whose name is `'BRIAN'` from `20404` to `20504`.<div style=\"text-align: right\">[3]</div>"
   ]
  },
  {
   "cell_type": "code",
   "execution_count": null,
   "metadata": {},
   "outputs": [],
   "source": [
    "#YOUR_ANSWER_HERE"
   ]
  },
  {
   "cell_type": "markdown",
   "metadata": {},
   "source": [
    "### Task 22\n",
    "\n",
    "Write program code to implement the `Delete(name)` method for the `StudentList` class to search and remove a node, containing a particular student’s `name`, in the linked list. Return `True` if the node is found and removed; otherwise return `False`. (You may assume that the students’ names are unique in the linked list.)<div style=\"text-align: right\">[3]</div>\n",
    "\n"
   ]
  },
  {
   "cell_type": "code",
   "execution_count": null,
   "metadata": {},
   "outputs": [],
   "source": [
    "#YOUR_ANSWER_HERE"
   ]
  },
  {
   "cell_type": "markdown",
   "metadata": {},
   "source": [
    "### Task 23\n",
    "\n",
    "Another linked list which has pointers linking the nodes in decreasing order of the experience points is implemented as an instance of the class `Leaderboard`. \n",
    "\n",
    "The class `Leaderboard` has the following properties and methods: \n",
    "\n",
    "<center>\n",
    "\n",
    "|   Class: `Leaderboard` |  |\n",
    "|-|-|\n",
    "| Attributes |  |\n",
    "| Identifier | Description |\n",
    "| `Start` |  The pointer at the start of the linked list |\n",
    "| Method |  |\n",
    "| Identifier | Description |\n",
    "| `Constructor` |  Inherit the property and all the methods from the class `StudentList`. Initialise the linked list witht he pointer `Start` assigned to `None` |\n",
    "| `Add()` |  Modify the `Add()` method in the parent class to add a new node in decreasing order of total experience points |\n",
    "| `Update()` |  Modify the `Update()` method in the parent class such that the linked list is still in decreasing order of experience points after updating a student's total experience points. |\n",
    "| `Display()` |  Display the current content of the nodes in the linked list for the top studetns based on their total experience points.|\n",
    "\n",
    "</center>\n",
    "\n",
    "Write program code for the class `Leaderboard` to inherit the properties and methods from the class `StudentList` with the modified `Add()` and `Update()` methods. The additional `DisplayTop(n)` method should display the top `n` number of students in the linked list, based on their total experience points. (You may assume that no two students have the same total experience points.) \n",
    "\n",
    "Test your code by reading the data from the file `DATA_YIJC_2021.txt` and adding them as nodes into this linked list. The diagram below shows the expected output when using the `DisplayTop(5)` method on the linked list:\n",
    "\n",
    ">```python\n",
    ">Displaying Top 5 students\n",
    ">Name            |  Total Experience Points\n",
    ">-------------------------------------------\n",
    ">HENDERSON       |        21653\n",
    ">YOCK TIM        |        20740\n",
    ">HUI FANG        |        20563\n",
    ">BRIAN           |        20404\n",
    ">DESMOND         |        20033\n",
    ">------------End of Display------------------\n",
    "\n",
    "<div style=\"text-align: right\">[13]</div>\n",
    "\n"
   ]
  },
  {
   "cell_type": "code",
   "execution_count": null,
   "metadata": {},
   "outputs": [],
   "source": [
    "#YOUR_ANSWER_HERE"
   ]
  },
  {
   "cell_type": "code",
   "execution_count": null,
   "metadata": {},
   "outputs": [],
   "source": []
  }
 ],
 "metadata": {
  "interpreter": {
   "hash": "9855bcb2db2fc1adb021fa4ac9c7dfbb81452ef889b3ef5659154f2722c9fc88"
  },
  "kernelspec": {
   "display_name": "Python 3.7.6 64-bit ('base': conda)",
   "name": "python3"
  },
  "language_info": {
   "codemirror_mode": {
    "name": "ipython",
    "version": 3
   },
   "file_extension": ".py",
   "mimetype": "text/x-python",
   "name": "python",
   "nbconvert_exporter": "python",
   "pygments_lexer": "ipython3",
   "version": "3.7.6"
  },
  "orig_nbformat": 2
 },
 "nbformat": 4,
 "nbformat_minor": 2
}
