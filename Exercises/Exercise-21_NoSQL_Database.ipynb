{
 "cells": [
  {
   "cell_type": "markdown",
   "metadata": {},
   "source": [
    "# Exercise 21\n",
    "\n",
    "Notes:\n",
    "- Chapter_15_NoSQL_Databases\n",
    "\n",
    "[![Open In Colab](https://colab.research.google.com/assets/colab-badge.svg)](https://colab.research.google.com/github/googlecolab/colabtools/blob/master/notebooks/colab-github-demo.ipynb) FIX LINK"
   ]
  },
  {
   "cell_type": "markdown",
   "metadata": {},
   "source": [
    "## Exercise 2021/DHS/P2/Q4 H2 Computing\n",
    "\n",
    "### Task 1\n",
    "Write a program to help staff of an events company to insert data into a NoSQL database products under the collection balloons.\n",
    "\n",
    "The data is provided for you in `balloons.json` as well as in the table below where the first row are headers for the fields.\n",
    "\n",
    "<center>\n",
    "\n",
    "| `design` | `amount` | `helium` | `colours` | \n",
    "|-|-|-|-|\n",
    "| car | 88 | no | red, yellow |\n",
    "| cloud | 14 | | blue, green |\n",
    "| flower | 75 | yes | red, blue |\n",
    "| bag | 38 | no | red, blue, black |\n",
    "\n",
    "</center>\n",
    "\n",
    "Each colour in `colours` field should be an item in an array. <div style=\"text-align: right\">[6]</div>"
   ]
  },
  {
   "cell_type": "code",
   "execution_count": null,
   "metadata": {},
   "outputs": [],
   "source": [
    "#YOUR_CODE_HERE"
   ]
  },
  {
   "cell_type": "markdown",
   "metadata": {},
   "source": [
    "### Task 2\n",
    "Write code to print the `amount` of the product with the design \"`car`\". <div style=\"text-align: right\">[2]</div>"
   ]
  },
  {
   "cell_type": "code",
   "execution_count": null,
   "metadata": {},
   "outputs": [],
   "source": [
    "#YOUR_CODE_HERE"
   ]
  },
  {
   "cell_type": "markdown",
   "metadata": {},
   "source": [
    "### Task 3\n",
    "Write code to update the field helium to have the value \"no\" for all documents which do not have a field or value for helium. <div style=\"text-align: right\">[3]</div>"
   ]
  },
  {
   "cell_type": "code",
   "execution_count": null,
   "metadata": {},
   "outputs": [],
   "source": [
    "#YOUR_CODE_HERE"
   ]
  },
  {
   "cell_type": "markdown",
   "metadata": {},
   "source": [
    "### Task 4\n",
    "Write code to display the design(s) which do not contain helium and have colours that either contain green or do not contain black. <div style=\"text-align: right\">[3]</div>\n",
    "Run the program."
   ]
  },
  {
   "cell_type": "code",
   "execution_count": null,
   "metadata": {},
   "outputs": [],
   "source": [
    "#YOUR_CODE_HERE"
   ]
  },
  {
   "cell_type": "markdown",
   "metadata": {},
   "source": [
    "## Exercise 2021/JPJC/P2/Q2 H2 Computing\n",
    "JP Mobile sells mobile phones and manages its inventory using a NoSQL database. Information about the mobile phones is stored in the JSON file `items.JSON`. The following fields are recorded: \n",
    "- brand of mobile phone, \n",
    "- model, \n",
    "- colour(s) available, \n",
    "- price in dollar, \n",
    "- quantity in stock. \n",
    "\n",
    "### Task 5\n",
    "\n",
    "Write program code to import the information from the JSON file into a MongoDB database. Save the information under the `phone` collection in the `jp_mobile` database. Ensure that the collection only stores the information from the JSON file. \n",
    "Save your program code as `TASK4_<your name>_<class>_<index number>.py`. <div style=\"text-align: right\">[4]</div>"
   ]
  },
  {
   "cell_type": "code",
   "execution_count": null,
   "metadata": {},
   "outputs": [],
   "source": [
    "#YOUR_CODE_HERE"
   ]
  },
  {
   "cell_type": "markdown",
   "metadata": {},
   "source": [
    "### Task 6\n",
    "The shop decides to include one or more free gifts for new batches of mobile phones it sells. \n",
    "\n",
    "Write program code for a user to insert information of a mobile phone by getting user input of the following: brand, model, colour, price, quantity, free gift(s). \n",
    "\n",
    "Your code should allow user to input one or more free gifts. \n",
    "\n",
    "If a phone’s brand, model and colour already exists, add the new quantity to the existing quantity in the database, and replace the existing price with the new price. \n",
    "\n",
    "Run your program and insert the following 2 documents: \n",
    "\n",
    "<center>\n",
    "\n",
    "| No. | Brand | Model | Colour | Price | Quantity | Free gift(s) |\n",
    "|-|-|-|-|-|-|-|\n",
    "| 1 | orange | 22 |black|900|11| power bank|\n",
    "| 2| solo|A33|red|1300|7| power bank, earbuds|\n",
    "\n",
    "</center>\n",
    "\n",
    "Add your program code to `TASK4_<your name>_<class>_<index number>.py`   <div style=\"text-align: right\">[7]</div>\n"
   ]
  },
  {
   "cell_type": "code",
   "execution_count": null,
   "metadata": {},
   "outputs": [],
   "source": [
    "#YOUR_CODE_HERE"
   ]
  },
  {
   "cell_type": "markdown",
   "metadata": {},
   "source": [
    "### Task 7\n",
    "\n",
    "Write a function display_all that will display all the information in the phone collection under these fields: brand, model, colour, price, quantity, free gift(s). \n",
    "If no free gift comes with the phone, print a None statement.\n",
    "Include a final statement that shows the total number of documents in the collection. \n",
    "Run the `display_all` function to show your output. \n",
    "Add your program code to `TASK4_<your name>_<class>_<index number>.py`      <div style=\"text-align: right\">[6]</div>"
   ]
  },
  {
   "cell_type": "code",
   "execution_count": null,
   "metadata": {},
   "outputs": [],
   "source": [
    "#YOUR_CODE_HERE"
   ]
  },
  {
   "cell_type": "markdown",
   "metadata": {},
   "source": [
    "### Task 8\n",
    "\n",
    "The shop uses a web browser to display the database content. The manager wants to filter the mobile phones by brand and display the results in a web browser. \n",
    "Write additional Python code and the necessary files to create a web application that \n",
    "- receives a brand string from a HTML form, then \n",
    "- creates and returns a HTML document that enables the web browser to display an ordered list of mobile phones sorted by price. \n",
    "\n",
    "For each document, the web page should include the: \n",
    "- brand as the heading \n",
    "- model, \n",
    "- colour, \n",
    "- price \n",
    "\n",
    "Save your program as \n",
    "`TASK4_4_<your name>_<class>_<index number>.py` \n",
    "with any additional files / sub-folders as needed in a folder named \n",
    "`TASK4_4_<your name>_<class>_<index number>`\n",
    "\n",
    "Run the web application and input brand as ‘solo’ in the webpage.\n",
    "Save the output of the program as \n",
    "`TASK4_4_<your name>_<class>_<index number>.html`      <div style=\"text-align: right\">[12]</div>"
   ]
  },
  {
   "cell_type": "code",
   "execution_count": null,
   "metadata": {},
   "outputs": [],
   "source": [
    "#YOUR_CODE_HERE"
   ]
  },
  {
   "cell_type": "markdown",
   "metadata": {},
   "source": [
    "## Exercise 2021/NJC/CT/Q1 H2 Computing\n",
    "\n",
    "### Task 9\n",
    "A hierarchical file storage management is to be implented which allows files on a computer to be physically stored in 3 tier of storage:\n",
    "- Tier-1 is an online hard disk drive attached to the computer.\n",
    "- Tier-2 is a online cloud storage provided by a cloud storage provider.\n",
    "- Tier-3 is an offline DVD storage.\n",
    "A file listings of all the files stored on the computer is given in the file, `FILE_LIST.CSV`.\n",
    "Each line contains the **filename**, **time-stamp** and the **size** of the file in bytes.\n",
    "The time-stamp is in the following format : `\"dd/mm/yy HH:MM\"`, where `dd` is the 2 digit day, `mm` is the 2 digit month, `yy` is the 2 digit year and `HH:MM` is the hour and minute in 24 hour format.\n",
    "\n",
    "The files provided are `FILE_LIST.CSV`, `TIER_3_UPDATE.CSV`.\n",
    "\n",
    "Write Python code to read the contents of the file `FILE_LIST.CSV` and group the file listings into 3 **Python Lists**, tier-1, tier-2 and tier-3 for processing and then output into 3 files according to the following requirements:\n",
    "\n",
    "<center>\n",
    "\n",
    "|Group | Description | Output|\n",
    "|-|-|-|\n",
    "|Tier 1 files| The last-modified time-stamps on these files must be less than 100 days from the current time-stamp. | The file listings in this group is to be sorted in descending order of the last-modifed time-stamp (latest modified files will appear first in the list) and saved in a file named `TIER-1.CSV`.|\n",
    "|Tier 2 files| The last-modified time-stamps on these files must be greater or equal to 100 days but less than 365 days. | The file listings in this group is to be sorted in descending order of the last-modifed time-stamp (latest modified files will appear first in the list) and saved in a file named `TIER-2.CSV`.|\n",
    "|Tier 3 files| The last-modified time-stamps on these files must be equal or greater then 365 days from the current time-stamp. | The file listings in this group is to be sorted in descending order of the last-modifed time-stamp (latest modified files will appear first in the list) and saved in a file named `TIER-3.CSV`.|\n",
    "\n",
    "</center>\n",
    "\n",
    "The sorting of the file-listings must be done using a quick-sort algorithm. You cannot use any build-in sorting functions. The datetime string format should be in the form `\"dd/mm/yy HH:MM\"` , where `dd` is the 2 digit day, `mm` is the 2 digit month, `yy` is the 2 digit year and `HH:MM` is the hour and minute in 24 hour format.\n",
    "For example the contents of file `TIER-3.CSV` should look like this:\n",
    "\n",
    "```\n",
    "MSysPr9.prx,07/12/19 17:53,316640 \n",
    "DtcInstall.log,07/12/19 17:17,776 \n",
    "Professional.xml,07/12/19 17:10,30831 \n",
    "... \n",
    "pyshellext.amd64.dll,05/12/17 20:42,55456 \n",
    "system.ini,29/09/17 21:44,219 \n",
    "CoreSingleLanguage.xml,29/09/17 21:42,35138 \n",
    "```\n",
    "\n",
    "<div style=\"text-align: right\">[15]</div>"
   ]
  },
  {
   "cell_type": "code",
   "execution_count": null,
   "metadata": {},
   "outputs": [],
   "source": [
    "#YOUR_CODE_HERE"
   ]
  },
  {
   "cell_type": "markdown",
   "metadata": {},
   "source": [
    "### Task 10\n",
    "\n",
    "The file names in the Windows operating system have two parts; the file’s name, then a period followed by the extension (suffix). The extension is an abbreviation that signifies the file type. Extensions are important because they tell your computer what icon to use for the file, and what application can open the file. \n",
    "The following examples show the filenames and their extensions:\n",
    "\n",
    "<center>\n",
    "\n",
    "|File name| File extension|\n",
    "|-|-|\n",
    "|`bootstat.dat` |`dat`|\n",
    "|`pyshellext.amd64.dll` |`dll`|\n",
    "|`Prog.is.fun.pdf` |`pdf`|\n",
    "|`..txt` |`txt`|\n",
    "|`Modules` | `''`(emptystring)|\n",
    "|`.` | `''`(emptystring)|\n",
    "|`''`|`''`(emptystring)||\n",
    "\n",
    "</center>\n",
    "\n",
    "Implement the following function using Python code to extract the file extension from the given file name:\n",
    "> `FUNCTION get_extension(s: STRING) RETURNS STRING`\n",
    "The function must support the test cases in the example file names shown above.\n",
    "<div style=\"text-align: right\">[4]</div>"
   ]
  },
  {
   "cell_type": "code",
   "execution_count": null,
   "metadata": {},
   "outputs": [],
   "source": [
    "#YOUR_CODE_HERE"
   ]
  },
  {
   "cell_type": "markdown",
   "metadata": {},
   "source": [
    "### Task 11\n",
    "\n",
    "A MongoDB database named `file_stats` is to be used to store statistics about the file system. A MongoDB collection named `storage` is to be created to store documents based on the storage tier level. An example of a document in the `storage`\n",
    "collection looks like this:\n",
    "\n",
    "```\n",
    "{ \"storage_tier\" : 1,\n",
    "\" file_count\" : 14,\n",
    "\" file_names\" : [ \"WindowsUpdate.log\", \"bootstat.dat\", \"setupact.log\" , \"PFRO.log\" , \"explorer.exe\", \"notepad.exe \", \"HelpPane.exe\", \"regedit.exe\", \"bfsvc.exe\", \"splwow64.exe\", \"diagerr.xml\" , \"diagwrn.xml\" , \"comsetup.log\", \"setuperr.log\"] ,\n",
    "\" file_types\" : { \"log\" : 5, \"dat\" : 1, \"exe\" : 6, \"xml\" : 2 }\n",
    "}\n",
    "```\n",
    "\n",
    "The description of the attributes used in the document is as follow:\n",
    "\n",
    "<center>\n",
    "\n",
    "|Attribute name| Value description|\n",
    "|-|-|\n",
    "|`storage_tier`| Storage tier number |\n",
    "|`file_count`| Number of files in the storage tier|\n",
    "|`file_names`| List of filenames in the storage tier|\n",
    "|`file_types`| Document object containing the file extensions and the number of files with the file extension in the storage tier. Example in the document shown above, storage_tier 1 has 5 files with extension log|\n",
    "\n",
    "</center>\n",
    "\n",
    "Using the 3 files, `TIER-1.CSV`, `TIER-2.CSV` and `TIER-3.CSV` created in **Task 9** and the function `get_extension` implemented in **Task 10** write Python code to :\n",
    "- create the MongoDB database and collection.\n",
    "- create the documents based on the required statistics given above. "
   ]
  },
  {
   "cell_type": "code",
   "execution_count": null,
   "metadata": {},
   "outputs": [],
   "source": [
    "#YOUR_CODE_HERE"
   ]
  },
  {
   "cell_type": "markdown",
   "metadata": {},
   "source": [
    "### Task 12\n",
    "Assuming that the file `TIER_3_UPDATE.CSV` is generated using the code implementation in **Task 9** at a future date from the current date and time. It contains the file listings for Tier-3 storage.\n",
    "Write Python code to update the MongoDB database that you have created in **Task 11**. You may re-use your code in **Task 9** to Task **11**. <div style=\"text-align: right\">[2]</div>"
   ]
  },
  {
   "cell_type": "code",
   "execution_count": null,
   "metadata": {},
   "outputs": [],
   "source": [
    "#YOUR_CODE_HERE"
   ]
  }
 ],
 "metadata": {
  "interpreter": {
   "hash": "9855bcb2db2fc1adb021fa4ac9c7dfbb81452ef889b3ef5659154f2722c9fc88"
  },
  "kernelspec": {
   "display_name": "Python 3.7.6 64-bit ('base': conda)",
   "name": "python3"
  },
  "language_info": {
   "codemirror_mode": {
    "name": "ipython",
    "version": 3
   },
   "file_extension": ".py",
   "mimetype": "text/x-python",
   "name": "python",
   "nbconvert_exporter": "python",
   "pygments_lexer": "ipython3",
   "version": "3.9.1"
  },
  "orig_nbformat": 2
 },
 "nbformat": 4,
 "nbformat_minor": 2
}
