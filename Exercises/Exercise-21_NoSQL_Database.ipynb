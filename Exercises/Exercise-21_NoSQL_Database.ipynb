{
 "cells": [
  {
   "cell_type": "markdown",
   "metadata": {},
   "source": [
    "# Exercise 21\n",
    "\n",
    "Notes:\n",
    "- Chapter_15_NoSQL_Databases\n",
    "\n",
    "[![Open In Colab](https://colab.research.google.com/assets/colab-badge.svg)](https://colab.research.google.com/github/googlecolab/colabtools/blob/master/notebooks/colab-github-demo.ipynb) FIX LINK"
   ]
  },
  {
   "cell_type": "markdown",
   "metadata": {},
   "source": [
    "## Exercise 2021/DHS/P2/Q4 H2 Computing\n",
    "\n",
    "## Task 4.1\n",
    "Write a program to help staff of an events company to insert data into a NoSQL database products under the collection balloons.\n",
    "\n",
    "The data is provided for you in `balloons.json` as well as in the table below where the first row are headers for the fields.\n",
    "\n",
    "<center>\n",
    "\n",
    "| `design` | `amount` | `helium` | `colours` | \n",
    "|-|-|-|-|\n",
    "| car | 88 | no | red, yellow |\n",
    "| cloud | 14 | | blue, green |\n",
    "| flower | 75 | yes | red, blue |\n",
    "| bag | 38 | no | red, blue, black |\n",
    "\n",
    "</center>\n",
    "\n",
    "Each colour in `colours` field should be an item in an array. <div style=\"text-align: right\">[6]</div>"
   ]
  },
  {
   "cell_type": "code",
   "execution_count": null,
   "metadata": {},
   "outputs": [],
   "source": [
    "#YOUR_CODE_HERE"
   ]
  },
  {
   "cell_type": "markdown",
   "metadata": {},
   "source": [
    "## Task 4.2\n",
    "Write code to print the `amount` of the product with the design \"`car`\". <div style=\"text-align: right\">[2]</div>"
   ]
  },
  {
   "cell_type": "code",
   "execution_count": null,
   "metadata": {},
   "outputs": [],
   "source": [
    "#YOUR_CODE_HERE"
   ]
  },
  {
   "cell_type": "markdown",
   "metadata": {},
   "source": [
    "## Task 4.3\n",
    "Write code to update the field helium to have the value \"no\" for all documents which do not have a field or value for helium. <div style=\"text-align: right\">[3]</div>"
   ]
  },
  {
   "cell_type": "code",
   "execution_count": null,
   "metadata": {},
   "outputs": [],
   "source": [
    "#YOUR_CODE_HERE"
   ]
  },
  {
   "cell_type": "markdown",
   "metadata": {},
   "source": [
    "## Task 4.4\n",
    "Write code to display the design(s) which do not contain helium and have colours that either contain green or do not contain black. <div style=\"text-align: right\">[3]</div>\n",
    "Run the program."
   ]
  },
  {
   "cell_type": "code",
   "execution_count": null,
   "metadata": {},
   "outputs": [],
   "source": [
    "#YOUR_CODE_HERE"
   ]
  },
  {
   "cell_type": "markdown",
   "metadata": {},
   "source": [
    "## Exercise 2021/JPJC/P2/Q2 H2 Computing\n",
    "JP Mobile sells mobile phones and manages its inventory using a NoSQL database. Information about the mobile phones is stored in the JSON file `items.JSON`. The following fields are recorded: \n",
    "- brand of mobile phone, \n",
    "- model, \n",
    "- colour(s) available, \n",
    "- price in dollar, \n",
    "- quantity in stock. \n",
    "\n",
    "## Task 1\n",
    "\n",
    "Write program code to import the information from the JSON file into a MongoDB database. Save the information under the `phone` collection in the `jp_mobile` database. Ensure that the collection only stores the information from the JSON file. \n",
    "Save your program code as `TASK4_<your name>_<class>_<index number>.py`. <div style=\"text-align: right\">[4]</div>"
   ]
  },
  {
   "cell_type": "code",
   "execution_count": null,
   "metadata": {},
   "outputs": [],
   "source": [
    "#YOUR_CODE_HERE"
   ]
  },
  {
   "cell_type": "markdown",
   "metadata": {},
   "source": [
    "## Task 2\n",
    "The shop decides to include one or more free gifts for new batches of mobile phones it sells. \n",
    "\n",
    "Write program code for a user to insert information of a mobile phone by getting user input of the following: brand, model, colour, price, quantity, free gift(s). \n",
    "\n",
    "Your code should allow user to input one or more free gifts. \n",
    "\n",
    "If a phone’s brand, model and colour already exists, add the new quantity to the existing quantity in the database, and replace the existing price with the new price. \n",
    "\n",
    "Run your program and insert the following 2 documents: \n",
    "\n",
    "<center>\n",
    "\n",
    "| No. | Brand | Model | Colour | Price | Quantity | Free gift(s) |\n",
    "|-|-|-|-|-|-|-|\n",
    "| 1 | orange | 22 |black|900|11| power bank|\n",
    "| 2| solo|A33|red|1300|7| power bank, earbuds|\n",
    "\n",
    "</center>\n",
    "\n",
    "Add your program code to `TASK4_<your name>_<class>_<index number>.py`   <div style=\"text-align: right\">[7]</div>\n"
   ]
  },
  {
   "cell_type": "code",
   "execution_count": null,
   "metadata": {},
   "outputs": [],
   "source": [
    "#YOUR_CODE_HERE"
   ]
  },
  {
   "cell_type": "markdown",
   "metadata": {},
   "source": [
    "### Task 3\n",
    "\n",
    "Write a function display_all that will display all the information in the phone collection under these fields: brand, model, colour, price, quantity, free gift(s). \n",
    "If no free gift comes with the phone, print a None statement.\n",
    "Include a final statement that shows the total number of documents in the collection. \n",
    "Run the `display_all` function to show your output. \n",
    "Add your program code to `TASK4_<your name>_<class>_<index number>.py`      <div style=\"text-align: right\">[6]</div>"
   ]
  },
  {
   "cell_type": "code",
   "execution_count": null,
   "metadata": {},
   "outputs": [],
   "source": [
    "#YOUR_CODE_HERE"
   ]
  },
  {
   "cell_type": "markdown",
   "metadata": {},
   "source": [
    "### Task 4\n",
    "\n",
    "The shop uses a web browser to display the database content. The manager wants to filter the mobile phones by brand and display the results in a web browser. \n",
    "Write additional Python code and the necessary files to create a web application that \n",
    "- receives a brand string from a HTML form, then \n",
    "- creates and returns a HTML document that enables the web browser to display an ordered list of mobile phones sorted by price. \n",
    "\n",
    "For each document, the web page should include the: \n",
    "- brand as the heading \n",
    "- model, \n",
    "- colour, \n",
    "- price \n",
    "\n",
    "Save your program as \n",
    "`TASK4_4_<your name>_<class>_<index number>.py` \n",
    "with any additional files / sub-folders as needed in a folder named \n",
    "`TASK4_4_<your name>_<class>_<index number>`\n",
    "\n",
    "Run the web application and input brand as ‘solo’ in the webpage.\n",
    "Save the output of the program as \n",
    "`TASK4_4_<your name>_<class>_<index number>.html`      <div style=\"text-align: right\">[12]</div>"
   ]
  },
  {
   "cell_type": "code",
   "execution_count": null,
   "metadata": {},
   "outputs": [],
   "source": [
    "#YOUR_CODE_HERE"
   ]
  }
 ],
 "metadata": {
  "interpreter": {
   "hash": "9855bcb2db2fc1adb021fa4ac9c7dfbb81452ef889b3ef5659154f2722c9fc88"
  },
  "kernelspec": {
   "display_name": "Python 3.7.6 64-bit ('base': conda)",
   "name": "python3"
  },
  "language_info": {
   "codemirror_mode": {
    "name": "ipython",
    "version": 3
   },
   "file_extension": ".py",
   "mimetype": "text/x-python",
   "name": "python",
   "nbconvert_exporter": "python",
   "pygments_lexer": "ipython3",
   "version": "3.7.6"
  },
  "orig_nbformat": 2
 },
 "nbformat": 4,
 "nbformat_minor": 2
}
