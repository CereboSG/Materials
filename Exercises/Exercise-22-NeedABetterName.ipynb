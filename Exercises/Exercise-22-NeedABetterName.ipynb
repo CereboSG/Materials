{
 "cells": [
  {
   "cell_type": "markdown",
   "metadata": {},
   "source": [
    "# Exercise 22"
   ]
  },
  {
   "cell_type": "markdown",
   "metadata": {},
   "source": [
    "## Exercise 22.1 2017/A Level/P1/Q4 H2 Computing\n",
    "\n",
    "A computer program can generate a simple Sudoku puzzle using a $4 \\times 4$ two-dimensional array. \n",
    "\n",
    "An example of this puzzle is: \n",
    "\n",
    "<center>\n",
    "<img src=\"./img/exercise22-sudoku-1.png\" width=\"250\" align=\"center\"/>\n",
    "</center>\n",
    "\n",
    "The first step to creating this puzzle is to develop a program to display the $4 \\times 4$ two-dimensional array as a grid. This program will display the grid as: \n",
    "\n",
    "<center>\n",
    "<img src=\"./img/exercise22-sudoku-2.png\" width=\"250\" align=\"center\"/>\n",
    "</center>\n",
    "\n",
    "### Task 1\n",
    "Create a program design that will declare, initialise and display the example puzzle shown. This design will: \n",
    "- make use of top-down design \n",
    "- include the data structure to represent the puzzle as a grid \n",
    "- initialise the grid using the values shown \n",
    "- make use of appropriate procedures and/or functions. \n",
    "\n",
    "### Evidence 2\n",
    "Your program design for Task 4.1. <div style=\"text-align: right\">[6]</div>\n",
    "\n",
    "### Task 3\n",
    "Write program code to display the puzzle designed in Task 4.1. \n",
    "\n",
    "### Evidence 4\n",
    "Your program code. <div style=\"text-align: right\">[5]</div>\n",
    "\n",
    "### Evidence 5\n",
    "Screenshot of the displayed grid.<div style=\"text-align: right\">[1]</div>"
   ]
  },
  {
   "cell_type": "code",
   "execution_count": null,
   "metadata": {},
   "outputs": [],
   "source": [
    "#YOUR_CODE_HERE"
   ]
  },
  {
   "cell_type": "markdown",
   "metadata": {},
   "source": [
    "The puzzle is said to be valid if it follows these rules:\n",
    "- It consists of tour quadrants.\n",
    "- The numbers in each quadrant must add up to ten.\n",
    "- Each horizontal and vertical row of the puzzle must also add up to ten.\n",
    "- No number can be repeated in the same row, same column or same quadrant of the puzzle. \n",
    "\n",
    "A good strategy tor creating puzzles is to start with a valid ‘base' puzzle and perform transformations on it to create new puzzles.\n",
    "\n",
    "You will write program code to create new valid puzzles. \n",
    "\n",
    "Each puzzle created will have two randomly selected transformations. from a possible four, performed on it. The following are the four possible transformations that can be carried out. \n",
    "\n",
    "<center>\n",
    "\n",
    "|Transformation|Explanation||\n",
    "|-|-|-|\n",
    "|1|Swaps two rows in the same quadrants|<center><img src=\"./img/exercise22-sudoku-3.png\" width=\"350\" align=\"center\"/></center>|\n",
    "|2|Swaps two columns in the same quadrants|<center><img src=\"./img/exercise22-sudoku-4.png\" width=\"150\" align=\"center\"/></center>|\n",
    "|3|Swaps the top and bottom quadrant rows entirely|<center><img src=\"./img/exercise22-sudoku-5.png\" width=\"350\" align=\"center\"/></center>|\n",
    "|4|Swaps the left and right quadrant columns entirely|<center><img src=\"./img/exercise22-sudoku-6.png\" width=\"150\" align=\"center\"/></center>|\n",
    "\n",
    "</center>\n",
    "\n",
    "### Task 6\n",
    "Write additional program code with brief internal commentary to identify each transformation. \n",
    "\n",
    "The program code will: \n",
    "- create a method of selecting. at random, two of the four possible transformations to be applied to the puzzle \n",
    "- call a sub-program for each of the required transformations \n",
    "- randomly select which rows will be transformed for transformations 1 and 2. for example. either the top or bottom two rows (for transformation 1) OR either the left-most or right-most two columns (for transformation 2) respectively \n",
    "- display the puzzle before each transformation is applied and after the final transformation. Before each transformation. it will also display the name of the transformation being carried out. \n",
    "\n",
    "For example: \n",
    "\n",
    "```python\n",
    "    4321 \n",
    "    1243 \n",
    "    3412 \n",
    "    2134 \n",
    "    Transformation 1: Swaps two rows in the same quadrants \n",
    "    1243 \n",
    "    4321\n",
    "    3412 \n",
    "    2134 \n",
    "    Transformation 4: Swaps the left and right quadrant columns entirely \n",
    "    4312 \n",
    "    2143 \n",
    "    1234 \n",
    "    3421 \n",
    "```\n",
    "\n",
    "### Evidence 7\n",
    "\n",
    "Your program code that includes **internal commentary**. <div style=\"text-align: right\">[14]</div>\n",
    "\n",
    "### Evidence 8\n",
    "\n",
    "Screenshots of the output that shows each of the four transformations applied.     <div style=\"text-align: right\">[4]</div>"
   ]
  },
  {
   "cell_type": "code",
   "execution_count": null,
   "metadata": {},
   "outputs": [],
   "source": [
    "#YOUR_CODE_HERE"
   ]
  }
 ],
 "metadata": {
  "interpreter": {
   "hash": "dcacb0086e9a4f4eabd41c33bf4faac5ea0a3337ed3f5eff0680afa930572c04"
  },
  "kernelspec": {
   "display_name": "Python 3.9.1 64-bit",
   "language": "python",
   "name": "python3"
  },
  "language_info": {
   "name": "python",
   "version": "3.9.1"
  },
  "orig_nbformat": 4
 },
 "nbformat": 4,
 "nbformat_minor": 2
}
