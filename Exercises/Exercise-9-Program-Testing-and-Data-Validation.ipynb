{
 "cells": [
  {
   "cell_type": "markdown",
   "metadata": {},
   "source": [
    "# Exercise 9\n",
    "\n",
    "Related Notes:\n",
    "- Fundamentals_6_Data_Validation_And_Program_Testing"
   ]
  },
  {
   "cell_type": "markdown",
   "metadata": {},
   "source": [
    "## Exercise 9.1\n",
    "\n",
    "Consider the code in the code cell below.\n",
    "\n",
    "Clearly, there is a bug in this code. Identify the bug and then use a `try-except` statement to “fix” the code so that it works as intended. (Note that you may not utilise `else` or `finally` in the `try-except` statement.)."
   ]
  },
  {
   "cell_type": "code",
   "execution_count": null,
   "metadata": {},
   "outputs": [],
   "source": [
    "numbers = [x for x in range(1000)]\n",
    "i = 0\n",
    "while True:\n",
    "    print(str(numbers[i]))\n",
    "\ti += 1"
   ]
  },
  {
   "cell_type": "code",
   "execution_count": 3,
   "metadata": {},
   "outputs": [],
   "source": [
    "#YOUR_CODE_HERE"
   ]
  },
  {
   "cell_type": "markdown",
   "metadata": {},
   "source": [
    "## Exercise 9.2\n",
    "\n",
    "Consider the code in the code cell below.\n",
    "\n",
    "Once again, there is a problem with this code. Use the `try-except` statement to ensure the code does not cause a runtime error. (Note: you may not change the way name is generated or used.)"
   ]
  },
  {
   "cell_type": "code",
   "execution_count": null,
   "metadata": {},
   "outputs": [],
   "source": [
    "from random import randint\n",
    "name = \"\"\n",
    "for i in range(100):\n",
    "\tname = name + str(randint(0, 9))\n",
    "\tname = name + \".txt\"\n",
    "\tfileHandle = open(name)\n",
    "\tdata = f.read()\n",
    "\tprint(data)\n",
    "\tf.close()"
   ]
  },
  {
   "cell_type": "code",
   "execution_count": null,
   "metadata": {},
   "outputs": [],
   "source": [
    "#YOUR_CODE_HERE"
   ]
  },
  {
   "cell_type": "markdown",
   "metadata": {},
   "source": [
    "## Exercise 9.3\n",
    "\n",
    "Write code that continually asks for rational number input from the user (until the string `exit` is inputTED). \n",
    "\n",
    "For each value entered, (if it is not the string `exit`) utilise exception handling to verify that the inputs are indeed rational numbers before saving them to the file called `RATIONALS.TXT`. (Note that your code should open, write, and close the file with each entry. Also comment why this may be a more prudent course of action.)\n",
    "\n"
   ]
  },
  {
   "cell_type": "code",
   "execution_count": null,
   "metadata": {},
   "outputs": [],
   "source": [
    "#YOUR_CODE_HERE"
   ]
  },
  {
   "cell_type": "markdown",
   "metadata": {},
   "source": [
    "## Exercise 9.4\n",
    "\n",
    "The file `WORDS.TXT` under the folder `resources` contains a list of single word computing terms used in a textbook.\n",
    "\t\n",
    "Each entry has the following format:\n",
    ">```python\n",
    "><computing term>\n",
    "><number>\n",
    ">```\n",
    "\n",
    "One of the file entries (in both files) is:\n",
    ">```python\n",
    ">program\t\n",
    ">52\n",
    ">```\n",
    "\t\n",
    "This means that after a complete scan of the textbook the word `program` was found 52 times.\n",
    "\t\n",
    "By utilising the `try-except` statement, write program code to find and output the term with the highest number of occurrences.\n",
    "\n"
   ]
  },
  {
   "cell_type": "code",
   "execution_count": 12,
   "metadata": {},
   "outputs": [],
   "source": [
    "#YOUR_CODE_HERE"
   ]
  },
  {
   "cell_type": "markdown",
   "metadata": {},
   "source": [
    "## Exercise 9.5 ISBN \r\n",
    "\r\n",
    "The International Standard Book Number (ISBN) is a numeric commercial book identifier which is intended to be unique. Publishers purchase ISBNs from an affiliate of the International ISBN Agency.\r\n",
    "\r\n",
    "Write a code that \r\n",
    "- takes in a string input,\r\n",
    "- return `True` if the string is either a valid ISBN-10 or ISBN-13 numbers.\r\n",
    "\r\n",
    "Each line in the text file, `ISBN_EXERCISE.TXT` under the folder `resources`, contain ISBN-10 or ISBN-13 which can be valid or invalid.\r\n",
    "\r\n",
    "Write a program to:\r\n",
    "- print out the valid ISBNs in the file.\r\n",
    "- print out the number of valid ISBNs in the file."
   ]
  },
  {
   "cell_type": "code",
   "execution_count": null,
   "metadata": {},
   "outputs": [],
   "source": [
    "#YOUR_CODE_HERE"
   ]
  }
 ],
 "metadata": {
  "kernelspec": {
   "display_name": "Python 3.9.1 64-bit",
   "metadata": {
    "interpreter": {
     "hash": "dcacb0086e9a4f4eabd41c33bf4faac5ea0a3337ed3f5eff0680afa930572c04"
    }
   },
   "name": "python3"
  },
  "language_info": {
   "codemirror_mode": {
    "name": "ipython",
    "version": 3
   },
   "file_extension": ".py",
   "mimetype": "text/x-python",
   "name": "python",
   "nbconvert_exporter": "python",
   "pygments_lexer": "ipython3",
   "version": "3.9.1-final"
  },
  "orig_nbformat": 2
 },
 "nbformat": 4,
 "nbformat_minor": 2
}