{
 "cells": [
  {
   "cell_type": "markdown",
   "metadata": {},
   "source": [
    "# Exercise 14\n",
    "\n",
    "Related Notes:\n",
    "- Fundamentals_9_Object_Oriented_Programming"
   ]
  },
  {
   "source": [
    "## Exercise 14.1\n",
    "\n",
    "Consider the following code:\n",
    "\n",
    ">```python\n",
    ">class a():\n",
    ">    def x(self):\n",
    ">        return \"a.x\"\n",
    ">    def y(self):\n",
    ">        return \"a.y\"\n",
    ">    def z(self):\n",
    ">        return \"a.z\"\n",
    ">\n",
    ">class b(a):\n",
    ">    def y(self):\n",
    ">        return \"b.y\"\n",
    ">    def z(self):\n",
    ">        return super().z()\n",
    ">\n",
    ">class c(b):\n",
    ">   def x(self):\n",
    ">\t    return \"c.x\"\n",
    ">   def z(self):\n",
    ">       return super().z()\n",
    ">\n",
    ">aaa = a()\n",
    ">bbb = b()\n",
    ">ccc = c()\n",
    ">```\n",
    "\n",
    "State the output for the following segments of code: \n",
    "\n",
    "1.\t`print(aaa.x())`\n",
    "2.\t`print(aaa.y())`\n",
    "3.\t`print(aaa.z())`\n",
    "4.\t`print(bbb.x())`\n",
    "5.\t`print(bbb.y())`\n",
    "6.\t`print(bbb.z())`\n",
    "7.\t`print(ccc.x())`\n",
    "8.\t`print(ccc.y())`\n",
    "9.\t`print(ccc.z())`"
   ],
   "cell_type": "markdown",
   "metadata": {}
  },
  {
   "cell_type": "code",
   "execution_count": null,
   "metadata": {},
   "outputs": [],
   "source": [
    "#YOUR_CODE_HERE"
   ]
  },
  {
   "source": [
    "## Exercise 14.2\n",
    "\n",
    "Using UML, design classes for the following quadrilaterals:\n",
    "- Trapezium\n",
    "- Parallelogram\n",
    "- Kite\n",
    "- Rhombus\n",
    "- Rectangle\n",
    "- Square\n",
    "\t\t\n",
    "The objective of these classes is to be able to calculate the area and perimeter of any instantiation of the above quadrilaterals. \n",
    "\n",
    "Your design should utilise inheritance and polymorphism to ensure maximal code-reuse.\n",
    "\n",
    "Now implement all the above classes.\n"
   ],
   "cell_type": "markdown",
   "metadata": {}
  },
  {
   "cell_type": "code",
   "execution_count": null,
   "metadata": {},
   "outputs": [],
   "source": [
    "#YOUR_CODE_HERE"
   ]
  },
  {
   "source": [
    "## Exercise 14.3\n",
    "\n",
    "Implement the class `LONGINT` with the following specification.\n",
    "\n",
    "<center>\n",
    "\n",
    "| `LONGINT`                      |\n",
    "|------------------------------|\n",
    "|------------------------------|\n",
    "|  `value: STRING`               |\n",
    "|  `sign: INTEGER`               |\n",
    "|------------------------------|\n",
    "|  `constructor(STRING)`         |\n",
    "|  `getValue(): STRING`          |\n",
    "|  `setValue(STRING)`            |\n",
    "|  `add(LONGINT): LONGINT`       |\n",
    "|  `subtract(LONGINT): LONGINT`  |\n",
    "|  `multiply(LONGINT): LONGINT`  |\n",
    "|  `divide(LONGINT): FLOAT`      |\n",
    "|  `quotient(LONGINT): LONGINT`  |\n",
    "|  `modulo(LONGINT): LONGINT`    |\n",
    "|  `power(LONGINT): LONGINT`     |\n",
    "|  `factorial(LONGINT): LONGINT` |\n",
    "|------------------------------|\n",
    "\n",
    "</center>\n",
    "\n",
    "This class stores a signed integer of any length.\n",
    "\n",
    "The class methods work as follows:\n",
    "\n",
    "|-------------------------------|-------------------------------------------------------------------------------------------|\n",
    "|------------------------------------------------------------------------------------------------------------------------|\n",
    "| `constructor()`\t|The initialisation method|\n",
    "| `getValue(): STRING`|\t\tReassigns the signed value of **this** |\n",
    "| `add(LONGINT): LONGINT`|\tReturns the addition of the given `LONGINT` and **this**|\n",
    "| `subtract(LONGINT): LONGINT`|\tReturns the subtraction of `LONGINT` from **this**|\n",
    "| `multiply(LONGINT): LONGINT`|\tReturns the product of the given `LONGINT` and **this**|\n",
    "| `divide(LONGINT): FLOAT`|\tReturns this divided by the given `LONGINT`|\n",
    "| `quotient(LONGINT): LONGINT`|\tReturns the quotient from **this** divided by the given `LONGINT`|\n",
    "| `modulo(LONGINT): LONGINT`\t|   Returns the remainder from **this** divided by the given `LONGINT`|\n",
    "| `power(LONGINT): LONGINT`|\tReturns this to the power of the given `LONGINT`|\n",
    "| `factorial(LONGINT): LONGINT`|\tReturns factorial of **this**|\n"
   ],
   "cell_type": "markdown",
   "metadata": {}
  },
  {
   "cell_type": "code",
   "execution_count": null,
   "metadata": {},
   "outputs": [],
   "source": [
    "#YOUR_CODE_HERE"
   ]
  },
  {
   "source": [
    "## Exercise 14.4 2019/A Level/P1/Q3 H2 Computing\n",
    "\n",
    "A program is to be written to implement a to-do list using object-oriented programming (GDP).\n",
    "The list shows tasks that need to be done.\n",
    "\n",
    "Each task is given a category and a description.\n",
    "\n",
    "The base class will be called `ToDo` and is designed as follows:\n",
    "\n",
    "<center>\n",
    "\n",
    "| `ToDo`                      |\n",
    "|------------------------------------------|\n",
    "|------------------------------------------|\n",
    "|  `category: STRING`               |\n",
    "|  `description: STRING`               |\n",
    "|------------------------------------------|\n",
    "|  `constructor(c : STRING, d : STRING)`         |\n",
    "|  `set_category(s : STRING)`          |\n",
    "|  `set_description(s: STRING)`            |\n",
    "|  `get_category(): STRING`       |\n",
    "|  `get_description(): STRING`  |\n",
    "|  `summary(): STRING` |\n",
    "|------------------------------------------|\n",
    "\n",
    "</center>\n",
    "\n",
    "The `summary()` method returns the category and description as a single string.\n",
    "\n",
    "### Task 1\n",
    "Write program code to define the class ToDo.  \n",
    "<div style=\"text-align: right\">[1]</div>\n",
    "\n"
   ],
   "cell_type": "markdown",
   "metadata": {}
  },
  {
   "cell_type": "code",
   "execution_count": null,
   "metadata": {},
   "outputs": [],
   "source": [
    "#YOUR_CODE_HERE"
   ]
  },
  {
   "source": [
    "Tasks should be sorted alphabetically by category. Within each category. tasks should be sorted alphabetically by description.\n",
    "\n",
    "A task to be added to the list is compared to the tasks already in the list to determine its correct position in the list. If the list is empty. it is added to the beginning of the list.\n",
    "\n",
    "This comparison will use an additional member method,\n",
    "\n",
    ">```python\n",
    ">compare_with (td : ToDo) : INTEGER\n",
    ">```\n",
    "\n",
    "This function compares the instance (the item in the list) and the `ToDO` object passed to it. returning one of three values:\n",
    "\n",
    "> `-1` if the instance is before the given `ToDo` <br>\n",
    "> `0` if the two are equal <br>\n",
    "> `+1` if the instance is after the given `ToDo` <br>\n",
    "\n",
    "### Task 2\n",
    "\n",
    "There are four objects defined in the text file `2019_TASK3_2.TXT` in the `resources` folder.\n",
    "\n",
    "Write program code to:\n",
    "\n",
    "- implement the `compare_with()` method\n",
    "- create an empty list of `ToDo` objects\n",
    "- add each of the four objects in the text file `2019_TASK3_2.TXT` to its appropriate place in the list\n",
    "- print out the list contents using the `summary()` method.\n",
    "\n",
    "<div style=\"text-align: right\">[13]</div>"
   ],
   "cell_type": "markdown",
   "metadata": {}
  },
  {
   "cell_type": "code",
   "execution_count": null,
   "metadata": {},
   "outputs": [],
   "source": [
    "#YOUR_CODE_HERE"
   ]
  },
  {
   "source": [
    "The to-do list can have items with extra information. One such item has a date by which the task should be completed.\n",
    "\n",
    "The `DateDToDo` class inherits from the `ToDo` class, extending it to have a `due_date`. designed as follows:\n",
    "\n",
    "<center>\n",
    "\n",
    "| `DatedToDo : ToDo`                      |\n",
    "|------------------------------------------------|\n",
    "|------------------------------------------------|\n",
    "|  `due_date: DATE`               |\n",
    "|------------------------------------------------|\n",
    "|  `constructor(dt: DATE, c : STRING, d : STRING)`         |\n",
    "|  `set_due_date(d : DATE)`          |\n",
    "|  `get_due_date(): DATE`            |\n",
    "|------------------------------------------------|\n",
    "\n",
    "</center>\n",
    "\n",
    "The `DatedToDo` class should extend the `compare_with()` method to ensure that tasks are ordered by `ascending due_date`, and then by the ordering used by the base `compare_with()` method. The `summary()` method should also be extended to return the `due_date` and the return values of the base `summary()` method.\n",
    "\n",
    "### Task 3\n",
    "\n",
    "There are seven objects defined in the text file `2019_TASK3_3.TXT` in the `resources` folder.\n",
    "\n",
    "Amend your program code to:\n",
    "\n",
    "- implement the `DatedToDo` class. with `constructor`, `get_due_date` and `set_due_date`\n",
    "- implement the extended `compare_with()` method\n",
    "- implement the extended `summary()` method\n",
    "- ensure all seven objects in the text file `2019_TASK3_3.TXT` are added to the list\n",
    "- print out the list contents using the `summary()` method.\n",
    "\n",
    "<div style=\"text-align: right\">[12]</div>"
   ],
   "cell_type": "markdown",
   "metadata": {}
  },
  {
   "cell_type": "code",
   "execution_count": null,
   "metadata": {},
   "outputs": [],
   "source": [
    "#YOUR_CODE_HERE"
   ]
  },
  {
   "source": [
    "When a task in the to-do list has been completed, it should be removed.\n",
    "\n",
    "### Task 4\n",
    "\n",
    "There are four completed tasks defined in the text file `2019_TASK3_4.TXT` in the resources folder.\n",
    "\n",
    "if any of the four tasks exists in the list, it should be removed.\n",
    "\n",
    "Amend your program to: .\n",
    "\n",
    "- recreate the list of seven tasks from Task 3.3\n",
    "- check if each of the four completed tasks in the text file `2019_TASK3_4.TXT` exists in the list and:\n",
    "    - remove it from the list if it does or\n",
    "    - print a warning message if the completed task does not exist\n",
    "- print out the list after all four objects have been processed. \n",
    "\n",
    "<div style=\"text-align: right\">[10]</div>"
   ],
   "cell_type": "markdown",
   "metadata": {}
  },
  {
   "cell_type": "code",
   "execution_count": null,
   "metadata": {},
   "outputs": [],
   "source": [
    "#YOUR_CODE_HERE"
   ]
  },
  {
   "source": [
    "## Exercise 14.5 2017/A Level/P2/Q3 H2 Computing (Modified)\n",
    "\n",
    "1. Explain what is meant by an object in object-oriented programming. \n",
    "<div style=\"text-align: right\">[2]</div>"
   ],
   "cell_type": "markdown",
   "metadata": {}
  },
  {
   "source": [
    "#YOUR_ANSWER_HERE"
   ],
   "cell_type": "code",
   "metadata": {},
   "execution_count": null,
   "outputs": []
  },
  {
   "source": [
    "2. (a) A student is writing a program to represent people in a university. Tutors, office workers, lecturers and professors are all employed by the university. A professor is a senior lecturer. The university educates both undergraduate and graduate students.\n",
    "\n",
    "   The student's program contains a class with the identifier `Person`. Sub-classes share the characteristics of this class.\n",
    "   \n",
    "   Copy and complete the following inheritance diagram by adding sub-classes `Professor`, `OfficeWorker`, `Lecturer`, `Undergraduate`, `Staff`, `Graduate`, `Student` and `Tutor`. \n",
    "\n",
    "<div style=\"text-align: right\">[2]</div>\n",
    "\n",
    "<center>\n",
    "<img src=\"img/exercise14-pic1.png\" width=\"400\" align=\"center\"/>\n",
    "</center>\n",
    "\n",
    "2. (b) Explain why inheritance is an important feature of object-oriented programming.\n",
    "<div style=\"text-align: right\">[2]</div>"
   ],
   "cell_type": "markdown",
   "metadata": {}
  },
  {
   "cell_type": "code",
   "execution_count": null,
   "metadata": {},
   "outputs": [],
   "source": [
    "#YOUR_ANSWER_HERE"
   ]
  },
  {
   "source": [
    "## Exercise 14.6 2018/A Level/P1/Q4 H2 Computing\n",
    "\n",
    "In a computer game, a player (`\"O“`) moves around a maze measuring 10 metres by 11 metres to collect a prize (`\"P\"`). The prize is placed at a random position within the maze. The prize position is not where a wall (`”X”`) appears in the maze. An empty position is indicated with a full-stop (`\".\"`). The maze is represented on the screen by a rectangular grid. Each square metre of the maze is represented by an $x$-ooordinate and a $y$-coordinate. The top left square metre of the puzzle display has $x = 0$ and $y = 0$.\n",
    "\n",
    "The player moves left, right, up or down according to a direction entered by the user. The game is turn-based; a user enters the direction, their player moves one position in that direction. It the direction would place the player on a wall, then the player does not move. The maze is displayed after each move.\n",
    "\n",
    ">```python\n",
    ">X X X X X X X X X X\n",
    ">X . . . . . . . . X\n",
    ">X . X . X . X X . X\n",
    ">X . X . . P . . . X\n",
    ">X . X X X X X X . X\n",
    ">X . . . O . . . . X\n",
    ">X . X . X X . X . X\n",
    ">X . X . . . . X . X\n",
    ">X . X X . X X X . X\n",
    ">X . . . . . . . . X\n",
    ">X X X X X X X X X X \n",
    ">```\n",
    "\n",
    "### Task 1\n",
    "\n",
    "Write a program to display the maze as shown.\n",
    "\n",
    "- The maze should be stored in a suitable data structure.\n",
    "\n",
    "- The data structure will allow fixed loop(s) to be used to display the maze.\n",
    "\n",
    "The maze is given in the text file `MAZE.TXT` under resources. You may read in the data from this file or place the data in your program using any suitable method.\n",
    "<div style=\"text-align: right\">[6]</div>"
   ],
   "cell_type": "markdown",
   "metadata": {}
  },
  {
   "cell_type": "code",
   "execution_count": null,
   "metadata": {},
   "outputs": [],
   "source": [
    "#YOUR_CODE_HERE"
   ]
  },
  {
   "source": [
    "### Task 2\n",
    "\n",
    "The prize is placed randomly on the maze. It cannot appear in the same grid position as a wall (`\"X\"`). Add to your program code to place the prize at a random position. Take a screenshot of the maze with the prize displayed in it.\n",
    "\n",
    "<div style=\"text-align: right\">[5]</div>"
   ],
   "cell_type": "markdown",
   "metadata": {}
  },
  {
   "cell_type": "code",
   "execution_count": null,
   "metadata": {},
   "outputs": [],
   "source": [
    "#YOUR_CODE_HERE"
   ]
  },
  {
   "source": [
    "The player is represented by the character `\"0\"`. The character starts the game in a central position on the grid. for example, `x = 4` and `y = 5`. To move the character, the user is prompted for a direction. The following are valid inputs:\n",
    "\n",
    "If the next position for the player (`\"O\"`) is a wall (`\"X\"`), then the player stays in their current position; this is called collision detection. \n",
    "\n",
    "When the player enters the move, a new position for the player (`\"0\"`) is calculated and the maze is displayed. The previous position is changed back to a `”.\"` when the player has a new position. The moves are repeated until the player is at the same position as the prize.\n",
    "\n",
    "### Task 3\n",
    "Add to your program code to:\n",
    "- place the player on the grid at a central position on the grid\n",
    "- take in and validate a direction\n",
    "- calculate a new position\n",
    "- check this position is not a wall\n",
    "- update the grid so that the previous position of `\"O\"` is replaced with a `\".\"` and `\"O\"` is located in its new position\n",
    "- continue this until the player is at the same position as the prize.\n",
    "\n",
    "<div style=\"text-align: right\">[16]</div>"
   ],
   "cell_type": "markdown",
   "metadata": {}
  },
  {
   "cell_type": "code",
   "execution_count": null,
   "metadata": {},
   "outputs": [],
   "source": [
    "#YOUR_CODE_HERE"
   ]
  },
  {
   "source": [
    "When the player and the prize are at the same position. the message “Player has reached the prize\" is displayed and the game ends.\n",
    "\n",
    "### Task 4\n",
    "\n",
    "Add to your program, code to end the game when this condition is met, and display the required message. Produce screenshots to show key elements of your program are functioning.\n",
    "\n",
    "The screenshots required are:\n",
    "- entering each direction\n",
    "- player changing position\n",
    "- end of game\n",
    "\n",
    "<div style=\"text-align: right\">[3]</div>"
   ],
   "cell_type": "markdown",
   "metadata": {}
  },
  {
   "cell_type": "code",
   "execution_count": null,
   "metadata": {},
   "outputs": [],
   "source": [
    "#YOUR_CODE_HERE"
   ]
  }
 ],
 "metadata": {
  "kernelspec": {
   "display_name": "Python 3",
   "language": "python",
   "name": "python3"
  },
  "language_info": {
   "codemirror_mode": {
    "name": "ipython",
    "version": 3
   },
   "file_extension": ".py",
   "mimetype": "text/x-python",
   "name": "python",
   "nbconvert_exporter": "python",
   "pygments_lexer": "ipython3",
   "version": "3.7.6"
  }
 },
 "nbformat": 4,
 "nbformat_minor": 2
}