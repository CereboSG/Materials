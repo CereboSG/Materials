{
 "cells": [
  {
   "cell_type": "markdown",
   "metadata": {},
   "source": [
    "# Learning Objectives\r\n",
    "\r\n",
    "- [ ]  PLACEHOLDER"
   ]
  },
  {
   "cell_type": "markdown",
   "metadata": {},
   "source": [
    "# 6 A Python REPL and Modules\r\n",
    "\r\n",
    "A **read–eval–print loop (REPL)**, also termed a language shell, is a simple interactive computer programming environment that \r\n",
    "\r\n",
    "1. takes single user inputs, \r\n",
    "2. executes them, \r\n",
    "3. returns the result to the user,\r\n",
    "4. loop back to 1.\r\n",
    "\r\n",
    "## 6.1 IDLE, Python's REPL\r\n",
    "\r\n",
    "IDLE is Python’s **Integrated Development and Learning Environment**. It is installed with Python installation. \r\n",
    "\r\n",
    "#### Exercise\r\n",
    "\r\n",
    "1. In IDLE, print `Hello World!`.\r\n",
    "2. IDLE has autocompletion feature, accessible by using `tab` key. Try it out with some functions that you know, e.g. `print`. Also to defined a variable with a lengthy name and use the autocompletion feature, e.g. `this_is_a_long_variable_name=20`.\r\n",
    "3. Try to use `help` function to find out information on the `print` function.\r\n",
    "4. To copy a line, use `up` arrow key to move to the previous command and press enter. Try it out by assigning `50` to `this_is_a_long_variable_name`.\r\n",
    "5. You can iterate through history commands on REPL. Following are shortcuts to move to previous/next history command.\r\n",
    "    - Press `ALT + P` keys to get last history command.\r\n",
    "    - Press `ALT + N` keys to see next history command.\r\n",
    "    - To exit from history, press `CTRL + C` keys"
   ]
  },
  {
   "cell_type": "markdown",
   "metadata": {},
   "source": [
    "## 6.2 Python Modules\n",
    "\n",
    "REPL is good for quick evaluation of single statement. But for multilines of code, it is common and much better off using a text editor to prepare the input  and running it with that file as input. This is known as **scripting**. This input file is termed a **module**.\n",
    "\n",
    "Formally, a Python **module** is a file containing Python definitions and statements. The file name is the module name with the suffix `.py` appended.\n",
    "\n",
    "### 6.2.1 Creating and Running Modules on IDLE\n",
    "\n",
    "On IDLE, go to menu `File > New Window` (or press `Ctrl + N` ) to start a new code window and type your code in the new window.\n",
    "\n",
    "#### Exercise\n",
    "\n",
    "In the module, enter the code `print('Hello World!')` and run the module in by either using `Run > Run Module`  or pressing `F5`. Note that you will be prompted to save your file first before you can execute the code. Remember your file name for the next step. \n",
    "\n",
    "You can open the module by using `File > Open` or even `File > Open Module...` menu. \n",
    "\n",
    "#### Exercise\n",
    "On IDLE, create and save a module called `math_fun` that contains functions with the following names:\n",
    "\n",
    "1. `cube` that takes in a float and return the cube of the float, e.g. \n",
    "    >```\n",
    "    >>>>cube(5)\n",
    "    >125.0\n",
    "    >``` \n",
    "2. `div_algo` that takes in 2 integers parameters that it returns a string that represents the larger integer in terms of the product of the lower integer with the quotient added with the remaindere, e.g.,\n",
    "    >```\n",
    "    >>>>div_algo(5,14)\n",
    "    >14=2*5+4\n",
    "    >>>>div_algo(13,6)\n",
    "    >13=2*6+1\n",
    "    >``` \n",
    "3. `lcm` that takes in 2 integer parameters and returns an integer that is the lowest common multiple of the two supplied integers. You might want to use the fact that for any integers $a$ and $b$, $$\\gcd(a,b)\\text{lcm}(a,b)=ab.$$\n",
    "    >```\n",
    "    >>>>lcm(15,10)\n",
    "    >30\n",
    "    >``` "
   ]
  },
  {
   "cell_type": "markdown",
   "metadata": {},
   "source": [
    "### 6.2.2 Importing Function from Other Modules\n",
    "\n",
    "Functions defined in another module can be accessed by using the `import` keyword with the following syntax:\n",
    ">```python\n",
    ">import MODULE_NAME_HERE\n",
    ">```\n",
    "\n",
    "The functions in the imported module can be accessed as a method of the module object, i.e. the syntax is\n",
    ">```python\n",
    ">MODULE_NAME_HERE.FUNCTION_NAME_IN_IMPORTED_MODULE(SOME_PARAMETERS)\n",
    ">```\n",
    "\n",
    "#### Example\n",
    "`math` is a standard Python module that comes withe some useful mathematical functions, e.g., `sqrt` is a function in the module `math` that takes in a float and return the positive square root of the inputted float. To find the value of $\\sqrt{5}$, we use the following code in our main module. If we intend to use the function in the other module often, we can assign it to a local name."
   ]
  },
  {
   "cell_type": "code",
   "execution_count": 2,
   "metadata": {},
   "outputs": [
    {
     "name": "stdout",
     "output_type": "stream",
     "text": [
      "2.23606797749979\n",
      "2.23606797749979\n"
     ]
    }
   ],
   "source": [
    "import math\n",
    "\n",
    "print(math.sqrt(5))\n",
    "\n",
    "sqrt=math.sqrt ##Assigning to a local name. \n",
    "\n",
    "print(sqrt(5))"
   ]
  },
  {
   "cell_type": "markdown",
   "metadata": {},
   "source": [
    "#### Exercise\r\n",
    "\r\n",
    "On IDLE, \r\n",
    "\r\n",
    "1. create a new module named `my_main`,\r\n",
    "2. import the module `math_fun` you created earlier inside `my_main` by using `import` statement.\r\n",
    "3. Try out the various functions that you have defined earlier.\r\n",
    "4. Repeat 2 and 3, but now using the `from` statement.\r\n"
   ]
  },
  {
   "cell_type": "code",
   "execution_count": null,
   "metadata": {},
   "outputs": [],
   "source": [
    "#YOUR CODE HERE"
   ]
  },
  {
   "source": [
    "## 6.3 Some Useful Modules\n",
    "\n",
    "- `csv`\n",
    "- `datetime`\n",
    "- `math`\n",
    "- `matplotlib`"
   ],
   "cell_type": "markdown",
   "metadata": {}
  }
 ],
 "metadata": {
  "kernelspec": {
   "display_name": "Python 3.9.1 64-bit",
   "metadata": {
    "interpreter": {
     "hash": "dcacb0086e9a4f4eabd41c33bf4faac5ea0a3337ed3f5eff0680afa930572c04"
    }
   },
   "name": "python3"
  },
  "language_info": {
   "codemirror_mode": {
    "name": "ipython",
    "version": 3
   },
   "file_extension": ".py",
   "mimetype": "text/x-python",
   "name": "python",
   "nbconvert_exporter": "python",
   "pygments_lexer": "ipython3",
   "version": "3.9.1-final"
  }
 },
 "nbformat": 4,
 "nbformat_minor": 1
}