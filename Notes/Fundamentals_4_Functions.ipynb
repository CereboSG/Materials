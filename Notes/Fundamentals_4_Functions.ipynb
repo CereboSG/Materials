{
 "cells": [
  {
   "cell_type": "markdown",
   "metadata": {},
   "source": [
    "# Learning Objectives\n",
    "\n",
    "- [ ]  2.2.4 Use functions and procedures to modularise problem into chunks of code.\n",
    "- [ ]  2.2.5 Understand the concept of recursion. \n",
    "- [ ]  2.2.6 Trace the steps and list the results of recursive and non-recursive programs. \n",
    "- [ ]  2.2.7 Understand the use of stacks in recursive programming. "
   ]
  },
  {
   "cell_type": "markdown",
   "metadata": {},
   "source": [
    "# 4 Functions and Procedures\n",
    "\n",
    "Routines (also called subroutines or subprograms) correspond to self-contained blocks of statements that are given identifiers (i.e., names) and can be called from different parts of the program code. In the following example of a routine in Python, line 2 and line 3 are the blocks of statements and the identifier is `hello`.\n",
    "\n",
    "```\n",
    "1 def hello():\n",
    "2    x=input('Please enter your name:')\n",
    "3    print('Hello {}. Nice to meet you.'.format(x))\n",
    "```\n",
    "\n",
    "It is good programming practice to group statements into routines, such that each routine will do just one task. As routines are declared separately from the main program body. This means the main program body is much easier to understand as it gives an overview of the tasks that make up the solution. The main program body should reflect your problem-solving steps. \n",
    "\n",
    "By utilising routines, programmers write modular code and ensure that there is maximal code reuse. Modularity and code reuse are desirable because:\n",
    "\n",
    "- Serves the concept of decomposition, which allows use to address a more manageable sub-problem (instead of a larger more complex problem).\n",
    "- It becomes easier to debug programs as each routine can be tested separately - i.e., testing and optimisation of the code is made easier\n",
    "- Time is not wasted re-writing code that has already been written.\n",
    "- Having a common point of maintenance, which means that when any code requires adjustment or change, it only has to be modified at 1 point.\n",
    "\n",
    "It should be noted that programmers are expected to write code that is easy to maintain. The code may be maintained by someone other than the original programmer. Very large applications are written by teams of programmers and each programmer’s code needs to be easily understandable to the other programmers.\n",
    "\n",
    "\n",
    "## 4.1 Functions and Procedures\n",
    "\n",
    "A routine may either correspond to a function or a procedure. A procedure corresponds to a sequence of steps that is given an identifier and can be called to perform a sub-task; procedures do not return any values to the code that called it.\n",
    "\n",
    "A function corresponds to a sequence of steps that is given an identifier and returns a single value; a function call must be part of an expression (since it returns a value).\n",
    "\n",
    "**Note** In computer science, functions are a little different from functions we encounter in mathematics where functions are required to have a return value.  \n",
    "\n",
    "### 4.1.1 Why use function?\n",
    "\n",
    "* Functions help break program into smaller and modular chunks.\n",
    "* It supports code reusability and reduces repeative code.\n",
    "* It make large program more organized and manageable.\n",
    "\n",
    "### 4.1.2 Declaring and Calling a Function or Procedure\n",
    "\n",
    "In order to define a procedure or function, we must first declare it. A routine declaration consists of a routine interface (i.e., routine header) followed by a routine body. The routine body is the statement block.\n",
    "\n",
    "The following is an example in pseudocode. \n",
    "\n",
    "```coffeescript\n",
    "1 FUNCTION square(n : INTEGER) : INTEGER\n",
    "2    DECLARE result : INTEGER\n",
    "3    result ← n * n\n",
    "4    RETURN result\n",
    "5 ENDFUNCTION\n",
    "```\n",
    "\n",
    "From the above example, we notice that the routine interface (or more specifically, the function interface since the above example is corresponds to a function) includes:\n",
    "\n",
    "- The identifier or name of the function (i.e., `square`)\n",
    "- The parameter(s) (i.e., input variable(s)) for the function (i.e., the single input variable `n : INTEGER`)\n",
    "- The data type of the `result` to be returned (i.e., the last `INTEGER` on the first line)\n",
    "\n",
    "Correspondingly, the function body contains:\n",
    "\n",
    "- The various statements that define what the function does (i.e., each line after the function header/interface)\n",
    "- A statement that gives the function a value to return (i.e., the “return result” statement on the last line)\n",
    "\n",
    "Essentially, when we define a routine that requires values to be passed to the routine body, we use an ordered list of variables, termed **parameters**, in the routine interface. E.g., `n` is a parameter in the example above. \n",
    "When the routine is called with an actual input, the input is called an **argument**, i.e., the arguments supplied are assigned to the corresponding parameter of the routine. Do note the order of the parameters in the parameter list must be the same as the order in the list of arguments. Using our example above, in the expression `square(2)`, `2` is the argument. \n",
    "\n",
    "When an executed program gets to the statement that includes a function call as part of the expression, the function is executed. The value returned from this function call is then used in the expression. Thus, with the above line of code, the result of the `square(2)` function call is assigned to the variable `result`.\n",
    "\n",
    "Do remember that only functions have return values. Thus, when a procedure is called, it does not form part of an expression.\n",
    "\n",
    "When a routine does not include any parameters, we simply specify an empty set of parentheses `()` instead. The following is an example.\n",
    "\n",
    "```coffeescript\n",
    "1 FUNCTION get_integer(): INTEGER\n",
    "2    INPUT “Input an integer value:” value\n",
    "3    RETURN value\n",
    "4 ENDFUNCTION\n",
    "```\n",
    "\n",
    "The above function may be called using:\n",
    "\n",
    "```coffeescript\n",
    "int_input ← get_integer()\n",
    "```\n",
    "\n",
    "Notice that in both the function interface and the call to the function, only `()` is specified.\n",
    "\n",
    "When a routine requires one or more values from the main program, these are supplied as **arguments** to the subroutine at the time it is called. \n",
    "\n",
    "#### Exercise 4.1\n",
    "\n",
    "Name 3 functions in Python that we have encountered so far. "
   ]
  },
  {
   "cell_type": "code",
   "execution_count": null,
   "metadata": {},
   "outputs": [],
   "source": [
    "#YOUR CODE HERE"
   ]
  },
  {
   "cell_type": "markdown",
   "metadata": {},
   "source": [
    "#### 4.1.3 Defining Functions in Python \n",
    "\n",
    "In Python, we declare a function with the following syntax:\n",
    "\n",
    "```\n",
    "def function_name(parameters):\n",
    "\t\"\"\"docstring\"\"\"\n",
    "\tstatement(s)\n",
    "```\n",
    "\n",
    "* Keyword `def` marks the start of a function.\n",
    "* Every function has a name as uniquely identification.\n",
    "* It may take in optional values, known as **parameters**, before running the code block.\n",
    "* It may return value as a result using `return` statement.\n",
    "    * If no `return` statement, the function will `return None` at the end of the function. \n",
    "* Optional documentation string (`docstring`) describes what the function does. It may be multiple lines of string.\n",
    "* All statements must be equally indented, which is usually 4 spaces. \n",
    "\n",
    "**Note:** Do not indent your program with mix of spaces and tabs. \n",
    "\n",
    "Let's get familiar with how to define a function."
   ]
  },
  {
   "cell_type": "markdown",
   "metadata": {},
   "source": [
    "### Example 4.2 \n",
    "\n",
    "We will define the following functions:\n",
    "\n",
    "1. Function with no input parameter nor return statement. \n",
    "2. Function with input parameter.\n",
    "3. Function with both input parameter and return statement.\n",
    "\n",
    "**Note**\n",
    "- Keyword `pass` is used to indicate nothing to be done in the function body.\n",
    "- Keyword `return` is used to end the execution of the function call and “returns” the result (value of the expression following the `return` keyword) to the caller."
   ]
  },
  {
   "cell_type": "code",
   "execution_count": null,
   "metadata": {},
   "outputs": [],
   "source": [
    "# 1. Functions with no input parameter nor return statement.\n",
    "def do_nothing():\n",
    "    pass\n",
    "\n",
    "do_nothing()\n",
    "type(do_nothing)\n",
    "\n",
    "def hello_world():\n",
    "    print(\"Hello World\")\n",
    "\n",
    "print(\"Have a good day\")\n",
    "hello_world()\n",
    "\n",
    "# 2. Functions with input parameter.\n",
    "\n",
    "# Let's use **input parameter** to make the hello function more flexible. \n",
    "# It take in an input value who, and prints \"Hello {who}\".\n",
    "\n",
    "def hello_who(who):\n",
    "    print(\"Hello {}\".format(who))\n",
    "\n",
    "hello_who(\"Singapore\")\n",
    "\n",
    "# 3. Function with both input parameter and return statement.\n",
    "\n",
    "def add_them(a, b):\n",
    "    return a+b\n",
    "\n",
    "print(add_them(1,2))\n",
    "print(add_them('hello ', 'world'))\n",
    "print(add_them([1,2], ['a', 'b']))\n",
    "\n",
    "def mul_them(a, b):\n",
    "    return a * b\n",
    "\n",
    "print(mul_them(3, 4))\n",
    "print(mul_them('hello', 4))"
   ]
  },
  {
   "cell_type": "markdown",
   "metadata": {},
   "source": [
    "Function can be called/used in another function. Before a function can be used, it needs to be defined first. It can also be defined in another module and imported before use, e.g.,"
   ]
  },
  {
   "cell_type": "code",
   "execution_count": null,
   "metadata": {},
   "outputs": [],
   "source": [
    "def hello_twice():\n",
    "    hello_who(\"World\")\n",
    "    hello_who(\"Singapore\")\n",
    "\n",
    "print(type(hello_twice))\n",
    "hello_twice()"
   ]
  },
  {
   "cell_type": "markdown",
   "metadata": {},
   "source": [
    "#### Exercise 4.2\n",
    "\n",
    "Define a function `my_max` which takes in 2 parameters and return the greater value of the 2 parameters."
   ]
  },
  {
   "cell_type": "code",
   "execution_count": null,
   "metadata": {},
   "outputs": [],
   "source": [
    "Mo moremorere #YOUR CODE HERE"
   ]
  },
  {
   "cell_type": "markdown",
   "metadata": {},
   "source": [
    "#### Exercise 4.3\n",
    "\n",
    "Write a function named `my_print` that takes in a positive integer $n$, and prints the numbers from $0$ to $n$."
   ]
  },
  {
   "cell_type": "code",
   "execution_count": null,
   "metadata": {},
   "outputs": [],
   "source": [
    "#YOUR CODE HERE"
   ]
  },
  {
   "cell_type": "markdown",
   "metadata": {},
   "source": [
    "#### Exercise 4.4\n",
    "\n",
    "Without using the `*` operator, write a function `my_multiply` that takes in (as input) two integers and returns (as output) their product. Also, you may not use the `math` module."
   ]
  },
  {
   "cell_type": "code",
   "execution_count": null,
   "metadata": {},
   "outputs": [],
   "source": [
    "#YOUR CODE HERE"
   ]
  },
  {
   "cell_type": "markdown",
   "metadata": {},
   "source": [
    "#### 4.1.3.1 Function Arguments\n",
    "\n",
    "A function may have 0 or more **input parameters**.  \n",
    "The input values passed into a function is commonly called **arguments**.\n",
    "\n",
    "There are different types of arguments:\n",
    "* Required arguments\n",
    "* Default arguments\n",
    "* Keyword arguments\n",
    "* Variable number of arguments\n",
    "\n",
    "To illustrate the differences. Let's define a function `simple_add` which takes in a few values and return sum of them.\n",
    "\n",
    ">```\n",
    ">def simple_add(a, b, c):\n",
    ">    s = a + b + c\n",
    ">    return s\n",
    ">```\n",
    "\n",
    "All arguments, `a` and `b` and `c` are **required arguments**. You need to pass in all required values before you can call `simple_add` function. \n",
    "\n",
    ">```\n",
    ">def simple_add(a, b=10, c=20):\n",
    ">    s = a + b + c\n",
    ">    return s\n",
    ">```\n",
    "\n",
    "**Default arguments** have arguments with default values. When there is no value is passed, that argument will use its default value.\n",
    "\n",
    "#### Exercise 4.5 \n",
    "\n",
    "Modify the `simple_add` function to provide make `a` and `c` a default arguments with `a=5` and `c=20`.\n"
   ]
  },
  {
   "cell_type": "code",
   "execution_count": null,
   "metadata": {},
   "outputs": [],
   "source": [
    "#YOUR CODE HERE"
   ]
  },
  {
   "cell_type": "markdown",
   "metadata": {},
   "source": [
    "**Note:** All required arguments must be before default arguments.\n",
    "\n",
    "Instead of passing arguments in order, you can passs arguments identified by their name, i.e. keyword arguments. \n",
    "* With keyword argument, order of arguments is not required.\n",
    "* It can make your code easier to read. "
   ]
  },
  {
   "cell_type": "code",
   "execution_count": null,
   "metadata": {},
   "outputs": [],
   "source": [
    "simple_add(c=30,10,20)"
   ]
  },
  {
   "cell_type": "markdown",
   "metadata": {},
   "source": [
    "#### 4.1.3.2 Returned Values\n",
    "\n",
    "A function may return one or more values implicitly or explicitly. To return value(s) out of a function, we saw that we can use `return` statement.\n",
    "\n",
    "#### Example 4.6"
   ]
  },
  {
   "cell_type": "code",
   "execution_count": null,
   "metadata": {},
   "outputs": [],
   "source": [
    "def add3(a,b,c):\n",
    "    r = a + b + c\n",
    "    return r"
   ]
  },
  {
   "source": [
    "A function may return **multiple** values. When multiple values are returned, they are packed into a tuple. "
   ],
   "cell_type": "markdown",
   "metadata": {}
  },
  {
   "cell_type": "code",
   "execution_count": null,
   "metadata": {},
   "outputs": [],
   "source": [
    "def simple_math(a, b):\n",
    "    return a + b, a - b, a * b, a / b\n",
    "\n",
    "result = simple_math(20,10)\n",
    "print(result)"
   ]
  },
  {
   "source": [
    "If a function has no `return` statement in its body, or its `return` statement doesn't followed by any object, the function returns a `None` object."
   ],
   "cell_type": "markdown",
   "metadata": {}
  },
  {
   "cell_type": "code",
   "execution_count": null,
   "metadata": {},
   "outputs": [],
   "source": [
    "def fun1():\n",
    "    print('before return')\n",
    "    return\n",
    "    # the line after this doesn't get executed \n",
    "    print('after return')"
   ]
  },
  {
   "source": [
    "## 4.2 Variable Scope - Global vs Local\n",
    "\n",
    "A local variable is a variable that is only accessible within the routine in which it is declared, whereas a global variable is a variable that is accessible from all parts of the program.\n",
    "\n",
    "It is good programming practice to avoid the use of global variables. Variables that are only used within a routine should be declared as local variables within the routine. Values that are required by several routines should be passed as parameters. By doing so, we help to ensure that any defined routines are fully modular, and do not require the specification of any global variables outside the routine in question.\n",
    "\n",
    "The scope of a variable determines the portion of the program where you can access a particular variable. There are two basic variable scopes in Python:\n",
    "\n",
    "* **Global variables:** variables defined **outside** a function body.\n",
    "* **Local variables:** variables defined **inside** a function body.\n",
    "\n",
    "Global and Local variables are in different **scopes**.\n",
    "* Local variables can be accessed only inside the function in which they are declared.\n",
    "* Global variables can be accessed throughout the program body.\n",
    "\n",
    "#### Example "
   ],
   "cell_type": "markdown",
   "metadata": {}
  },
  {
   "cell_type": "code",
   "execution_count": null,
   "metadata": {},
   "outputs": [],
   "source": [
    "k = 20\n",
    "\n",
    "def hi():\n",
    "    j = 10\n",
    "    print(f'j={j}, k={k}')\n",
    "    \n",
    "hi()\n",
    "print(j,k)"
   ]
  },
  {
   "cell_type": "code",
   "execution_count": null,
   "metadata": {},
   "outputs": [],
   "source": [
    "j = 10\n",
    "\n",
    "def hi():\n",
    "    j = 1\n",
    "    j = j + 10\n",
    "    print(j,k)\n",
    "    \n",
    "hi()\n",
    "print(j,k)"
   ]
  },
  {
   "source": [
    "In Python, if we declare the variable as global and again declare inside the function with the same name, it behaves like a local variable and it won’t be considered as the global one."
   ],
   "cell_type": "markdown",
   "metadata": {}
  },
  {
   "source": [
    "What if same name of variable that has appeared in the global scope is attempted to be used in a body of a function (e.g., in local scope)?\n",
    "\n",
    "#### Example"
   ],
   "cell_type": "markdown",
   "metadata": {}
  },
  {
   "cell_type": "code",
   "execution_count": null,
   "metadata": {},
   "outputs": [],
   "source": [
    "x = 5\n",
    "\n",
    "def foo():\n",
    "    x = x * 2\n",
    "    print(x)\n",
    "\n",
    "foo()"
   ]
  },
  {
   "source": [
    "The `UnboundLocalError: local variable referenced before assignment` error is raised when you try to assign a value to a local variable before it has been declared in the local scope. A variable can't be both local and global inside a function. So Python decides that we want a local variable due to the assignment to `x` inside `foo()`, so the first print statement before the definition of `x` inside the function body throws the error message above. "
   ],
   "cell_type": "markdown",
   "metadata": {}
  },
  {
   "source": [
    "To **modify** a global variable in a function, you can use the `global` keyword in the body of the function. Syntax is\n",
    ">```\n",
    "> global my_variable\n",
    ">```\n",
    "\n",
    "#### Example"
   ],
   "cell_type": "markdown",
   "metadata": {}
  },
  {
   "cell_type": "code",
   "execution_count": null,
   "metadata": {},
   "outputs": [],
   "source": [
    "x = 5\n",
    "\n",
    "def foo():\n",
    "    global x\n",
    "    x = x * 2\n",
    "    print(x)\n",
    "\n",
    "foo()\n",
    "print(x)\n"
   ]
  },
  {
   "source": [
    "In Python, variables that are only **referenced** inside a function are implicitly global. If a variable is assigned a value anywhere within the function’s body, it’s assumed to be a local unless explicitly declared as global. [Link to documentation here.](https://docs.python.org/3/faq/programming.html#what-are-the-rules-for-local-and-global-variables-in-python)"
   ],
   "cell_type": "markdown",
   "metadata": {}
  },
  {
   "source": [
    "## 4.3 Recursion\n",
    "\n",
    "Recursion describes the ability of a routine to call itself. This means that a recursive routine is defined in terms of itself. More specifically, a recursive routine corresponds to a function or procedure defined in terms of itself.\n",
    "\n",
    "When writing a recursive subroutine, there are three rules you must observe. A recursive subroutine must:\n",
    "- have a **base case**,\n",
    "- have a **general case**,\n",
    "- reach the base case after a finite number of calls to itself, i.e. when the subroutine reaches the **termination condition**.\n",
    "\n",
    "The base case gives a result without involving the general case. It corresponds to an explicit solution to a recursive function; the base case has a solution which does not involve any reference to the general case solution.\n",
    "\n",
    "The general case corresponds to a definition of a recursive function in terms of itself. It is very important that the general case must come closer to the base case with each recursion, for any starting point.\n",
    "\n",
    "Recursion typically works only if the routine is called with the current value or values passed as parameters. \n",
    "\n",
    "### Example\n",
    "\n",
    "Implement a `count-down` function using while-loop in Python.\n",
    "* It takes in a parameter `n`, which is the starting number to count down.\n",
    "\n",
    "Example interaction: \n",
    "\n",
    ">count_down(3)<br>\n",
    ">3<br>\n",
    ">2<br>\n",
    ">1<br>\n",
    ">Done!<br>"
   ],
   "cell_type": "markdown",
   "metadata": {}
  },
  {
   "cell_type": "code",
   "execution_count": 1,
   "metadata": {},
   "outputs": [
    {
     "output_type": "stream",
     "name": "stdout",
     "text": [
      "3\n2\n1\nDone!\n"
     ]
    }
   ],
   "source": [
    "def count_down(n):\n",
    "    while n > 0:\n",
    "        print(n)\n",
    "        n -= 1\n",
    "    print('Done!')\n",
    "\n",
    "count_down(3)"
   ]
  },
  {
   "source": [
    "How to convert above function `count_down()` into a recursive function?\n",
    "\n",
    "<u>Analysis Steps:</u>\n",
    "* What is the common actions in each loop? (Hint: check the loop statements)\n",
    "* What is its termination condition?\n",
    "* What is its base case, i.e. what does it do when it is at termination condition?\n",
    "\n",
    "<u>Analysis Result:</u>\n",
    "\n",
    "* In each iteration, it prints out current `n` value.\n",
    "* The termination condiction is `n = 0`. \n",
    "* If termination condition is True, it prints `Done`. \n",
    "\n",
    "<u>Thus, </u>\n",
    "* In the recursive function, it check termination condiction `n > 0`.\n",
    "* If termination condition is true, it prints `Done`, else it prints `current n value` and recurses (call its own function). "
   ],
   "cell_type": "markdown",
   "metadata": {}
  },
  {
   "cell_type": "code",
   "execution_count": null,
   "metadata": {},
   "outputs": [],
   "source": [
    "def recursive_down(n):\n",
    "    if n > 0:\n",
    "        print(n)\n",
    "        recursive_down(n-1)\n",
    "    else:\n",
    "        print('Done!')\n",
    "\n",
    "recursive_down(3)"
   ]
  },
  {
   "source": [],
   "cell_type": "markdown",
   "metadata": {}
  },
  {
   "source": [
    "Below is an example of the factorial function, but this time redefined recursively.\n",
    "\n",
    "FUNCTION recursive_factorial(n : INTEGER) : INTEGER\n",
    "    IF n < 2\n",
    "        THEN\n",
    "            RETURN 1\n",
    "        ELSE\n",
    "            RETURN n * recursive_factorial(n - 1)\n",
    "    ENDIF\n",
    "ENDFUNCTION\n",
    "\n",
    "In this case, the base case is when n < 2 (i.e., when n is 0 or 1), in which case, it will simply return 1, which is the correct result for both cases. For the general case, it will simply return n multiplied by whatever the result of recursive_factorial(n - 1), which is a recursive call. Notice that the value pass to each successive recursive call approaches the base case.\n",
    "\n",
    "When representing recursive calls, there are 2 methods. To review both these methods, let us review the example: recursive_factorial(3).\n",
    "\n",
    " \n",
    "We may use frames to exhibit recursive calls as follows.\n",
    "\n",
    "recursive_factorial(3)\n",
    "  3 * recursive_factorial(2)    \n",
    "recursive_factorial(2)\n",
    "  2 * recursive_factorial(1)\n",
    "recursive_factorial(1)\n",
    "    RETURN 1\n",
    "  RETURN 2 * 1\n",
    "  RETURN 3 * 2\n",
    "\n",
    "Another method is to utilise a trace tree, which is depicted as follows.\n",
    "\n",
    " \n",
    "\n",
    "Recursion is very powerful, and often results in a very elegant solution to a problem. However, as explained previously, each time a routine is called, it invokes a new stack. Thus, because of the stack overheads, recursive algorithms may not be as efficient as iterative solutions. In contrast, an iterative solution typically only utilises a single stack. Additionally, if many recursive calls are made, stack space could run out. This is known as a stack overflow. \n",
    "\n"
   ],
   "cell_type": "markdown",
   "metadata": {}
  }
 ],
 "metadata": {
  "kernelspec": {
   "display_name": "Python 3",
   "name": "python3",
   "language": "python"
  },
  "language_info": {
   "codemirror_mode": {
    "name": "ipython",
    "version": 3
   },
   "file_extension": ".py",
   "mimetype": "text/x-python",
   "name": "python",
   "nbconvert_exporter": "python",
   "pygments_lexer": "ipython3",
   "version": "3.8.3-final"
  },
  "orig_nbformat": 2
 },
 "nbformat": 4,
 "nbformat_minor": 2
}