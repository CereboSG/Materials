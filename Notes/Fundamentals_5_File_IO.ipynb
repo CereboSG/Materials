{
 "cells": [
  {
   "cell_type": "markdown",
   "metadata": {},
   "source": [
    "# Learning Objectives\n",
    "\n",
    "- [ ]  2.2.4 Use functions and procedures to modularise problem into chunks of code.\n",
    "- [ ]  2.2.5 Understand the concept of recursion. \n",
    "- [ ]  2.2.6 Trace the steps and list the results of recursive and non-recursive programs. \n",
    "- [ ]  2.2.7 Understand the use of stacks in recursive programming. "
   ]
  },
  {
   "source": [
    "# 5 File IO\n",
    "\n",
    "File is a named location on disk to store related information. It uses non-volatile memory, e.g. hard disk, to store data permanently.\n",
    "\n",
    "A file operation takes place in following order:\n",
    "* Open a file\n",
    "* Read or Write (perform operations)\n",
    "* Close the file\n",
    "\n",
    "A file can be **text** or **binary** format.\n"
   ],
   "cell_type": "markdown",
   "metadata": {}
  },
  {
   "source": [
    "# 5.1 Opening and Writing Files\n",
    "Python has a built-in function `open(file_path)` to open a file. The `open()` function returns a `file` *object*, also called a file handler, as it is used to read or modify the file accordingly.\n",
    "\n",
    "The parameter `file_path` in `open()` can be a relative or absolute path. \n",
    "* If only file name is specified, Python assume the file is in the same folder as current Python kernel\n",
    "* When specifying full path, use `/` instead of `\\`, which is used as escape character in string\n",
    "\n",
    "To prevent further read and write on the opened file, we need to close a file object using the `close()` method.\n",
    "\n",
    "**Question:** \n",
    "\n",
    "What if we foget to close the file?  \n",
    "\n",
    "## 5.1.1 `open()` Operation Mode\n",
    "\n",
    "You can specify the mode used to open a file by applying a second argument to the open function.\n",
    "* `r`/`w`/`a`: Are you reading, writing or appending a file?\n",
    "* `t`/`b`: Is it a text or binary file?\n",
    "\n",
    "Syntax is\n",
    ">```python\n",
    ">f = open(filepath, mode)\n",
    ">```\n",
    "\n",
    "The `mode` specifies how you want to work with the file.\n",
    "* `r`: read mode, which is the default. \n",
    "* `w`: write mode, for overwriting the contents of a file. Existing file content will be lost.\n",
    "* `a`: append mode, for appending new content to the end of the file. Existing content in the file will not be lost.\n",
    "\n",
    "### 5.1.1.1 Read By Characters\n",
    "\n",
    "The `read()` method reads the characters from the file and returns the characters read as a string. It also accepts an argument `no_of_char` which specifies the number of character to read. If the read hits EOF (End of File) before obtaining `no_of_char` characters, then it reads only available ones. Without this argument, it will read till EOF. Syntax is\n",
    ">```python\n",
    ">your_file.read(no_of_char)\n",
    ">```\n",
    "\n",
    "The `seek()` method change the position from where the file is to be read from or written to to a given specific position. \n",
    "\n",
    "#### Example\n",
    "\n",
    "- Read and print out all the content in file `mad_joke.txt`, which is found in `/resources/`.\n",
    "- Read and print out the first 10 characters in the file.\n",
    "- Read and print out the 11th until the 20th character in the file. "
   ],
   "cell_type": "markdown",
   "metadata": {}
  },
  {
   "cell_type": "code",
   "execution_count": null,
   "metadata": {},
   "outputs": [],
   "source": [
    "f = open('./resources/mad_joke.txt') \n",
    "s = f.read()\n",
    "f.seek(10) #skips the first 10 characters\n",
    "print(s)\n",
    "s = f.read()\n",
    "print(s)\n",
    "f.close()"
   ]
  },
  {
   "source": [
    "A better way to open a file is by using `with` code block. As it will automatically close the file when the code block exits.\n",
    "\n",
    "Syntax is\n",
    ">```python\n",
    ">with open(file_name) as f:\n",
    ">    print(f.read())\n",
    ">```\n",
    "\n",
    "#### Example\n",
    "\n",
    "Use the `with` code block and try the previous example. \n",
    "\n",
    "- Read and print out all the content in file `mad_joke.txt`, which is found in `/resources/`.\n",
    "- Read and print out the first 10 characters in the file.\n",
    "- Read and print out the 11th until the 20th character in the file. "
   ],
   "cell_type": "markdown",
   "metadata": {}
  },
  {
   "cell_type": "code",
   "execution_count": null,
   "metadata": {},
   "outputs": [],
   "source": [
    "#YOUR_CODE_HERE"
   ]
  },
  {
   "source": [
    "You would have noticed some weird characters when you print out the contents of the file, e.g.\n",
    "- `\\t` tab character\n",
    "- `\\n` newline character\n",
    "\n",
    "If you are only concerned out the output, you can use `repr()` function which will represent special characters as symbols in a string. It helps to print string unambigously.\n",
    "\n",
    "#### Example"
   ],
   "cell_type": "markdown",
   "metadata": {}
  },
  {
   "cell_type": "code",
   "execution_count": null,
   "metadata": {},
   "outputs": [],
   "source": [
    "with open('mad_joke.txt', 'r') as f:\n",
    "    print(repr(f.read(10)))\n",
    "    print(repr(f.read(10)))\n",
    "    print(repr(f.read()))"
   ]
  },
  {
   "source": [
    "### Exercise\n",
    "\n",
    "Create a file called `test.txt` in the same directory as your Jupyter Notebook and write a line in the `.txt` file. Complete following operations using `with` code block:\n",
    "\n",
    "- Write `\"Alexa, \"` to the file `test.txt` . This operator will overwrite any content in the file.\n",
    "- Append `\"Good morning!\\n\"` to the file `test.txt` .\n",
    "- Append `\"What time is it?\"` to the file `test.txt` .\n",
    "- Read and print out content from the file `test.txt` ."
   ],
   "cell_type": "markdown",
   "metadata": {}
  }
 ],
 "metadata": {
  "kernelspec": {
   "name": "python3",
   "display_name": "Python 3.9.2 64-bit",
   "metadata": {
    "interpreter": {
     "hash": "4fce611334bc080f5106af4957378decbb3fa5ba52c9bc2fa39ba9ae396411fc"
    }
   }
  },
  "language_info": {
   "codemirror_mode": {
    "name": "ipython",
    "version": 3
   },
   "file_extension": ".py",
   "mimetype": "text/x-python",
   "name": "python",
   "nbconvert_exporter": "python",
   "pygments_lexer": "ipython3",
   "version": "3.9.2-final"
  },
  "orig_nbformat": 2
 },
 "nbformat": 4,
 "nbformat_minor": 2
}