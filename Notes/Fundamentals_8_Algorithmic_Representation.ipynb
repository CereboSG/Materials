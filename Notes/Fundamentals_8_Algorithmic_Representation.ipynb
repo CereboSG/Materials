{
 "cells": [
  {
   "cell_type": "markdown",
   "metadata": {},
   "source": [
    "# Learning Objectives\n",
    "\n",
    "- [ ] 1.1.1 Use appropriate techniques or tools such as pseudo-code and flowchart to show program flow. \n",
    "- [ ] 1.1.2 Use standard flowchart symbols. \n",
    "- [ ] 1.1.3 Use a combination of various control structures. \n",
    "- [ ] 1.1.4 Use decision tables to explore the actions for combinations of different input conditions. Note: up to three conditions \n",
    "- [ ] 1.1.5 Use modular design to decompose a problem into smaller problems. \n",
    "\n",
    "\n",
    "# References\n",
    "\n",
    "- Cambridge International AS & A Level Computer Science Pseudocode Guide for Teachers https://www.alevelcsonline.cf/resources/9608_PSEUDOCODE_GUIDE.pdf"
   ]
  },
  {
   "source": [
    "# 8 Algorithm\n",
    "\n",
    "Recall that an algorithm is a set of instructions that enables the user to solve a problem, or even inform the user that the problem has no solution.\n",
    "\n",
    "## 8.0 Modular Design\n",
    "\n",
    "When a piece of software needs to be produced, the problem to be solved is likely to be complex. For example, it is unlikely to be as straightforward as a\n",
    "mathematical formula, such as the calculation of the perimeter of a rectangle. An algorithm like that is easy for a human being to think about. However, most\n",
    "useful problems involve such complex algorithms that it is not possible to consider them as a whole. For this reason, problems are normally divided up into\n",
    "a number of smaller problems. Each of the smaller problems is solved separately. The individual solutions are combined to give a solution to the whole problem.\n",
    "\n",
    "This methodology for the design of solution to a problem by successively breaking stages of the problem into more detailed steps such that the sub-tasks may be\n",
    "implemented as program modules is called a **modular approach** or **top-down design**.\n",
    "\n",
    "Some advantages of modular approach include:\n",
    "- More than one person can be engaged on solving parts of the same problem simultaneously.\n",
    "- The person producing a module is likely to make fewer mistakes.\n",
    "- Modules can be used in more than one project and are stored in software or program libraries."
   ],
   "cell_type": "markdown",
   "metadata": {}
  },
  {
   "source": [
    "## 8.1 Flowchart\n",
    "\n",
    "A flowchart is a type of diagram that represents a workflow or process. A flowchart can also be defined as a diagrammatic representation of an algorithm, a step-by-step approach to solving a task.\n",
    "\n",
    "The flowchart shows the steps as boxes of various kinds, and their order by connecting the boxes with arrows. This diagrammatic representation illustrates a solution model to a given problem. Flowcharts are used in analyzing, designing, documenting or managing a process or program in various fields. Program flowcharts use the symbols shown below.\n",
    "\n",
    "<center>\n",
    "<img src=\"./resources/algorithmic-representation-1.png\"><br>\n",
    "</center>"
   ],
   "cell_type": "markdown",
   "metadata": {}
  },
  {
   "source": [
    "Consider the following Python program:"
   ],
   "cell_type": "markdown",
   "metadata": {}
  },
  {
   "cell_type": "code",
   "execution_count": null,
   "metadata": {},
   "outputs": [],
   "source": [
    "n=int(input())\n",
    "\n",
    "while n<=0:\n",
    "    n=int(input())\n",
    "\n",
    "total=0\n",
    "count=0\n",
    "\n",
    "number=int(input())\n",
    "\n",
    "total=total+number\n",
    "count=count+1\n",
    "\n",
    "while count<n:\n",
    "    number=int(input())\n",
    "\n",
    "    total=total+number\n",
    "    count=count+1    \n",
    "\n",
    "print(total/count)"
   ]
  },
  {
   "source": [
    "One of the flowchart representation of it is given below:\n",
    "\n",
    "<center>\n",
    "<img src=\"./resources/algorithmic-representation-2.png\"><br>\n",
    "</center>"
   ],
   "cell_type": "markdown",
   "metadata": {}
  },
  {
   "source": [
    "## 8.2 Pseudocode\n",
    "\n",
    "In computer science, pseudocode is a plain language description of the steps in an algorithm or another system. Pseudocode often uses structural conventions of a normal programming language, but is intended for human reading rather than machine reading. Pseudocode is a halfway house between written English and the program code for the problem. The thinking is that, once the pseudocode is written, a programmer using any high-level language should be able to write the program code from the pseudocode algorithm design.\n",
    "\n",
    "In A-Level, pseudocode is presented in a monospaced (fixed-width) font such as `Courier New`. \n",
    "\n",
    "### 8.2.1 Keywords\n",
    "Keywords are in uppercase, e.g. `IF`, `REPEAT`, `PROCEDURE` are some keywords.\n",
    "\n",
    "Identifiers are in mixed case (sometimes referred to as camelCase or Pascal case) with uppercase letters indicating the beginning of new words, for example `NumberOfPlayers`.\n",
    "\n",
    "Meta-variables – symbols in the pseudocode that should be substituted by other symbols are enclosed in angled brackets `< >`.\n",
    "\n",
    "### 8.2.2 Comment\n",
    "Comments are preceded by two forward slashes `//` . The comment continues until the end of the line. For multi-line comments, each line is preceded by `//`."
   ],
   "cell_type": "markdown",
   "metadata": {}
  },
  {
   "cell_type": "code",
   "execution_count": null,
   "metadata": {},
   "outputs": [],
   "source": [
    "// This is an example\n",
    "// of keywords, and comments in pseudocode\n",
    "WHILE <condition> DO\n",
    "    <statements>\n",
    "ENDWHILE"
   ]
  },
  {
   "source": [
    "### 8.2.3 Type Names\n",
    "- `INTEGER` : A whole number\n",
    "- `REAL` : A number capable of containing a fractional part\n",
    "- `CHAR` : A single character\n",
    "- `STRING` : A sequence of zero or more characters\n",
    "- `BOOLEAN`: The logical values `TRUE` and `FALSE`\n",
    "- `DATE`: A valid calendar date. Normally in `dd/mm/yyyy` format.\n",
    "\n",
    "### 8.2.4 Variable and Constants Declarations\n",
    "It is good practice to declare variables explicitly in pseudocode. Keywords should never be used as variables. Identifiers should be considered case insensitive, for example, `Countdown` and `CountDown` should not be used as separate variables. Variable declaration are made as follows:\n",
    "\n",
    "> `DECLARE <identifier> : <data type>`\n",
    "\n",
    "It is also a good practice to use constants if this makes the pseudocode more readable.Constants are declared by stating the identifier and the literal value in the following format: \n",
    "\n",
    "> `CONSTANT <identifier> = <value>`"
   ],
   "cell_type": "markdown",
   "metadata": {}
  },
  {
   "cell_type": "code",
   "execution_count": null,
   "metadata": {},
   "outputs": [],
   "source": [
    "//The following are examples of variable and constant declaration\n",
    "\n",
    "DECLARE Counter : INTEGER\n",
    "CONSTANT HourlyRate = 6.50"
   ]
  },
  {
   "source": [
    "Arrays are considered to be fixed-length structures of elements of identical data type, accessible by consecutive index (subscript) numbers. It is good practice to explicitly state what the lower bound of the array (i.e. the index of the first element) is because this defaults to either `0` or `1` in different systems. Generally, a lower bound of `1` will be used.\n",
    "\n",
    "Square brackets are used to indicate the array indices.\n",
    "\n",
    "One-dimensional and two-dimensional arrays are declared as follows (where `l`, `l1`, `l2` are lower bounds and `u`, `u1`, `u2` are upper bounds):\n",
    ">`DECLARE <identifier> : ARRAY[<l>:<u>] OF <data type>`<br>\n",
    ">`DECLARE <identifier> : ARRAY[<l1>:<u1>,<l2>:<u2>] OF <data type>`\n"
   ],
   "cell_type": "markdown",
   "metadata": {}
  },
  {
   "cell_type": "code",
   "execution_count": null,
   "metadata": {},
   "outputs": [],
   "source": [
    "DECLARE StudentNames : ARRAY[1:30] OF STRING\n",
    "DECLARE NoughtsAndCrosses : ARRAY[1:3,1:3] OF CHAR"
   ]
  },
  {
   "source": [
    "### 8.2.5 Assignments\n",
    "\n",
    "The assignment operator is `←` and assignments should be made in the following format:\n",
    "> `<identifier> ← <value>`"
   ],
   "cell_type": "markdown",
   "metadata": {}
  },
  {
   "cell_type": "code",
   "execution_count": null,
   "metadata": {},
   "outputs": [],
   "source": [
    "//Example\n",
    "Counter ← 0\n",
    "Counter ← Counter + 1\n",
    "TotalToPay ← NumberOfHours * HourlyRate\n",
    "StudentNames[1] ← \"Ali\"\n",
    "NoughtsAndCrosses[2,3] ← ꞌXꞌ"
   ]
  },
  {
   "source": [
    "A statement should not, however, refer to a group of array elements individually. For example, the following construction should **NOT** be used.\n",
    "> StudentNames \\[1 TO 30\\] ←  \"\""
   ],
   "cell_type": "markdown",
   "metadata": {}
  },
  {
   "source": [
    "### 8.2.6 Input and Output\n",
    "Values are input using the `INPUT` command as follows:\n",
    "> `INPUT <identifier>`\n",
    "\n",
    "The identifier should be a variable (that may be an individual element of a data structure such as an array, or a custom data type).\n",
    "Values are output using the `OUTPUT` command as follows:\n",
    "\n",
    "> `OUTPUT <value(s)>`\n",
    "\n",
    "Several values, separated by commas, can be output using the same command."
   ],
   "cell_type": "markdown",
   "metadata": {}
  },
  {
   "cell_type": "code",
   "execution_count": null,
   "metadata": {},
   "outputs": [],
   "source": [
    "INPUT Answer\n",
    "OUTPUT Score\n",
    "OUTPUT \"You have \", Lives, \" lives left\""
   ]
  },
  {
   "source": [
    "### 8.2.7 Operators\n",
    "\n",
    "Standard arithmetic operator symbols are used:\n",
    "- `+` Addition\n",
    "- `-` Subtraction\n",
    "- `*` Multiplication\n",
    "- `/` Division\n",
    "Care should be taken with the division operation: the resulting value should be of data type `REAL`, even if the operands are integers.\n",
    "The integer division operators `MOD` and `DIV` can be used.\n",
    "\n",
    "The following symbols are used for relational operators (also known as comparison operators):\n",
    "- `>` Greater than\n",
    "- `<` Less than\n",
    "- `>=` Greater than or equal to\n",
    "- `<=` Less than or equal to\n",
    "- `=` Equal to\n",
    "- `<>` Not equal to\n",
    "- `AND`\n",
    "- `OR`\n",
    "- `NOT`\n",
    "\n",
    "The result of these operations is always of data type `BOOLEAN`.In complex expressions it is advisable to use parentheses to make the order of operations explicit"
   ],
   "cell_type": "markdown",
   "metadata": {}
  },
  {
   "source": [
    "### 8.2.8 Random Number Generation\n",
    "\n",
    "The following functions are recommended:\n",
    "- `RANDOMBETWEEN(min,max)` : generates a random integer between the integers `min` and `max`.\n",
    "- `RND()` : generates a random real number between 0 and 1. "
   ],
   "cell_type": "markdown",
   "metadata": {}
  },
  {
   "source": [
    "### 8.2.9 Random Number Generation\n",
    "\n",
    "`IF` statements may or may not have an `ELSE` clause.\n",
    "`IF` statements without and with an else clause are written as follows:"
   ],
   "cell_type": "markdown",
   "metadata": {}
  },
  {
   "cell_type": "code",
   "execution_count": null,
   "metadata": {},
   "outputs": [],
   "source": [
    "//Without else clause\n",
    "IF <condition>\n",
    " THEN\n",
    " <statements>\n",
    "ENDIF\n",
    "\n",
    "//With else clause\n",
    "IF <condition>\n",
    " THEN\n",
    " <statements>\n",
    " ELSE\n",
    " <statements>\n",
    "ENDIF\n"
   ]
  },
  {
   "source": [
    "When `IF` statements are nested, the nesting should continue the indentation of two spaces. In particular, run-on `THEN IF` and `ELSE IF` lines should be avoided"
   ],
   "cell_type": "markdown",
   "metadata": {}
  },
  {
   "source": [
    "### 8.2.10 Iteration\n",
    "\n",
    "#### 8.2.10.1 For Loops\n",
    "For loops are written as follows:"
   ],
   "cell_type": "markdown",
   "metadata": {}
  },
  {
   "cell_type": "code",
   "execution_count": null,
   "metadata": {},
   "outputs": [],
   "source": [
    "FOR <identifier> ← <value1> TO <value2>\n",
    " <statements>\n",
    "ENDFOR\n",
    "\n",
    "//example\n",
    "FOR Column = 1 TO 10\n",
    "RowTotal ← RowTotal + Amount[Row,Column]\n",
    "ENDFOR Column"
   ]
  },
  {
   "source": [
    "Note that: \n",
    "\n",
    "1. It is good practice to repeat the identifier after ENDFOR, particularly with nested FOR loops.\n",
    "2. the identifier **must** be a variable of data type `INTEGER`, and the values should be expressions that evaluate to integers."
   ],
   "cell_type": "markdown",
   "metadata": {}
  },
  {
   "source": [
    "#### 8.2.10.2 While Loops\n",
    "While loops are written as follows:"
   ],
   "cell_type": "markdown",
   "metadata": {}
  },
  {
   "cell_type": "code",
   "execution_count": null,
   "metadata": {},
   "outputs": [],
   "source": [
    "WHILE <condition> DO\n",
    "    <statements>\n",
    "ENDWHILE\n",
    "\n",
    "//example\n",
    "WHILE Number > 9 DO\n",
    "    Number ← Number – 9\n",
    "ENDWHILE"
   ]
  },
  {
   "source": [
    "#### 8.2.11 Procedures and Functions Definitions and Calls\n",
    "\n",
    "Recall that procedure and functions differ in the way that function returns a value."
   ],
   "cell_type": "markdown",
   "metadata": {}
  },
  {
   "cell_type": "code",
   "execution_count": null,
   "metadata": {},
   "outputs": [],
   "source": [
    "//Procedure without parameters\n",
    "PROCEDURE <identifier>\n",
    "    <statements>\n",
    "ENDPROCEDURE\n",
    "\n",
    "//Procedure with parameters\n",
    "PROCEDURE <identifier>(<param1>:<datatype>,<param2>:<datatype>...)\n",
    "    <statements>\n",
    "ENDPROCEDURE\n",
    "\n",
    "//Function with parameters\n",
    "FUNCTION <identifier> RETURNS <data type>\n",
    "    <statements>\n",
    "ENDFUNCTION\n",
    "\n",
    "//Function without parameters\n",
    "FUNCTION <identifier>(<param1>:<datatype>,<param2>:<datatype>...) RETURNS <data type>\n",
    "    <statements>\n",
    "ENDFUNCTION"
   ]
  },
  {
   "source": [
    "To call functions or procedures, we use the following"
   ],
   "cell_type": "markdown",
   "metadata": {}
  },
  {
   "cell_type": "code",
   "execution_count": null,
   "metadata": {},
   "outputs": [],
   "source": [
    "// Procedure or Function without parameters\n",
    "CALL <identifier>\n",
    "\n",
    "//Procedure with parameters\n",
    "CALL <identifier>(Value1,Value2...)"
   ]
  },
  {
   "cell_type": "code",
   "execution_count": null,
   "metadata": {},
   "outputs": [],
   "source": [
    "//Procedure Example\n",
    "PROCEDURE DefaultSquare\n",
    "    CALL Square(100)\n",
    "ENDPROCEDURE\n",
    "\n",
    "PROCEDURE Square(Size : integer)\n",
    "    FOR Side = 1 TO 4\n",
    "        MoveForward Size\n",
    "        Turn 90\n",
    "    ENDFOR\n",
    "ENDPROCEDURE\n",
    "\n",
    "IF Size = Default\n",
    "    THEN\n",
    "        CALL DefaultSquare\n",
    "    ELSE\n",
    "        CALL Square(Size)\n",
    "ENDIF\n",
    "\n",
    "\n",
    "//Function Example\n",
    "FUNCTION Max(Number1:INTEGER, Number2:INTEGER) RETURNS INTEGER\n",
    "IF Number1 > Number2\n",
    "    THEN\n",
    "        RETURN Number1\n",
    "    ELSE\n",
    "        RETURN Number2\n",
    "ENDIF\n",
    "ENDFUNCTION\n",
    "\n",
    "OUTPUT \"Penalty Fine = \", Max(10,Distance*2)"
   ]
  },
  {
   "cell_type": "markdown",
   "metadata": {},
   "source": [
    "# 7 HTML\n"
   ]
  },
  {
   "cell_type": "markdown",
   "metadata": {},
   "source": [
    "# Chrome Developer Tools\n",
    "ipconfig\n",
    "tracert"
   ]
  },
  {
   "cell_type": "markdown",
   "metadata": {},
   "source": [
    "# 7.0 Internet\n",
    "\n",
    "The internet is the global system of interconnected computer networks that uses a specific, standardized procedure TCP/IP to communicate between networks and devices.\n",
    "\n",
    "<center>\n",
    "<img src=\"./web_stuff/img/ruswp_diag2.gif\"><br>\n",
    "^4 Protocol Stack\n",
    "</center>\n",
    "\n",
    "## 7.0.1 TCP/IP \n",
    "\n",
    "There are two procedures used for communication in the internet.\n",
    "\n",
    "1. Internet Protocol (IP) has the task of delivering units of data called **packets** from the source computer to the destination computer which are connected via the internet. To be able to do so, IP addresses, a numerical label, are assigned to each device connected to a computer network. An IP address serves two principal functions: \n",
    "    - it identifies the host, and \n",
    "    - it provides the location of the host in the network, and thus the capability of establishing a path to that host.  \n",
    "2. Transmission Control Protocol (TCP) provides a communication service at an intermediate level between an application program and the Internet Protocol. TCP is responsible for routing application protocols to the correct application on the destination computer. To accomplish this, port numbers are used. Ports can be thought of as seperate channels on each computer. For example, you can surf the web while reading e-mail in the middle of a Zoom call with Genshin Impact open in a window. This is because these these applications used different port numbers. When a packet arrives at a computer and makes its way up the protocol stack, the TCP layer decides which application receives the packet based on a port number. E.g., HTTP uses port 80, HTTPS uses 443, Genshin Impact is 42472.\n",
    "\n",
    "## 7.0.2 World Wide Web\n",
    "\n",
    "The World Wide Web (WWW), commonly known as the Web, is an information system where documents and other web resources are identified by Uniform Resource Locators (URLs, such as http://www.example.com/index.html), which may be interlinked by hyperlinks, and are accessible over the Internet. The resources of the Web are transferred via the Hypertext Transfer Protocol (HTTP), may be accessed by users by a software application called a **web browser**, and are published by a software application called a **web server**. The World Wide Web is not synonymous with the Internet.\n",
    "\n",
    "## 7.0.3 Hyper Text Transfer Protocol\n",
    "\n",
    "Hypertext Transfer Protocol (HTTP) is an application-layer protocol for transmitting hypermedia documents, such as HTML. It was designed mainly for communication between web browsers and web servers. HTTP follows a classical client-server model, with a client opening a connection to make a request, then waiting until it receives a response.\n",
    "\n",
    "Domain names are human-readable addresses of an internet-connected computer. Whilst any internet-connected computer can be reached through a public IP address, IP addresses doesn't give a clear information about who's running the server or what service the website offers to a human user. Furthermore, IP addresses are hard to remember and might change over time.\n",
    "\n",
    "- `HTTP GET` method requests a representation of the specified resource. Requests using `GET` should only be used to request data (these requests shouldn't include data).\n",
    "\n",
    "- `HTTP POST` method sends data to the server. `POST` is designed to allow a uniform method to cover the following functions:\n",
    "    \n",
    "    - Annotation of existing resources\n",
    "    - Posting a message to a bulletin board, newsgroup, mailing list, or similar group of articles;\n",
    "    - Adding a new user through a signup modal;\n",
    "    - Providing a block of data, such as the result of submitting a form, to a data-handling process;\n",
    "    - Extending a database through an append operation.\n",
    "\n",
    "The `index.html` is usually the default file returned when you open a website address."
   ]
  },
  {
   "cell_type": "markdown",
   "metadata": {},
   "source": [
    "# 7.1 Hyper Text Markup Language\n",
    "\n",
    "HTML (Hypertext Markup Language) is not a programming language. It is a **markup language** that tells web browsers how to structure the web pages you visit. HTML consists of a series of **elements**, which you use to enclose, wrap, or mark up different parts of content to make it appear or act in a certain way. The enclosing tags can make content into a hyperlink to connect to another page, italicize words, and so on.\n",
    "\n",
    "> Mark-up is a term from print editing - the editor would go through the text and add annotations (i.e. this in italic, that in bold) for the printers to use when producing the final version. This was called *marking up the text*.\n",
    "\n",
    "An **element** is a part of a webpage. An element may contain a data item or a chunk of text or an image, or perhaps nothing. A typical element includes an opening tag with some **attributes**, enclosed text content, and a closing tag.\n",
    "\n",
    "<center>\n",
    "<img src=\"./web_stuff/img/anatomy-of-an-html-element.png\"><br>\n",
    "</center>\n",
    "\n",
    "The anatomy of our element is:\n",
    "\n",
    "- The opening tag: This consists of the name of the element (in this example, `p` for paragraph), wrapped in opening `<` and closing angle `>` brackets. This opening tag marks where the element begins or starts to take effect. \n",
    "- The content: This is the content of the element. \n",
    "- The closing tag: This is the same as the opening tag, except that it includes a forward slash `/` before the element name. This marks where the element ends. Failing to include a closing tag is a common beginner error that can produce peculiar results. Note that some elements only consist of a single tag, which is typically used to insert/embed something in the document\n",
    "\n",
    "An **attribute** extends an element, changing its behavior or providing metadata. Attributes contain extra information about the element that won't appear in the content.\n",
    "\n",
    "An attribute always has the form `name=\"value\"` (the attribute's identifier `name` followed by its associated value `value`). The attributes without the equals sign or a value is a shorthand for providing the empty string in HTML.\n",
    "\n",
    "Elements and tags are not the same things. Tags begin or end an element in source code, whereas elements are part of the DOM (Document Object Model) that defines the logical structure of documents and the way a document is accessed and manipulated.\n",
    "\n",
    "## Example of an HTML document"
   ]
  },
  {
   "cell_type": "code",
   "execution_count": null,
   "metadata": {},
   "outputs": [],
   "source": [
    "<!doctype html>\n",
    "<html>\n",
    "    <head>\n",
    "        <meta charset=\"utf-8\">\n",
    "        <title>Example HTML document</title>\n",
    "    </head>\n",
    "    <body>\n",
    "        <p class=\"example\">Hello,\n",
    "            <a href=\"#\">World</a>!. </p>\n",
    "        <form action=\"http://127.0.0.1:12345/\">\n",
    "            <input id=\"button\" type=\"submit\">\n",
    "        </form>\n",
    "    </body>\n",
    "</html>"
   ]
  },
  {
   "cell_type": "markdown",
   "metadata": {},
   "source": [
    "You can try to see the displayed output on [http://www.codepen.io/pen]. Furthermore, if you open any webpage, you can check its html code by using the Developer Tools (`CTRL+SHIFT+I`) in Google Chrome. "
   ]
  },
  {
   "cell_type": "markdown",
   "metadata": {},
   "source": [
    "## 7.1.1 Basic Structure of HTML document\n",
    "\n",
    "Here we have:\n",
    "\n",
    "- `<!DOCTYPE html>`: The doctype is a historical artifact that needs to be included for everything else to work right. It used to serve as links to a set of rules that the HTML page had to follow to be considered good HTML in the early days of HTML.\n",
    "- `<html></html>`: The `<html>` element. This element wraps all the content on the page. It is sometimes known as the root element.\n",
    "- `<head></head>`: The `<head>` element. This element acts as a container for everything you want to include on the HTML page, that isn't the content the page will show to viewers. This includes keywords and a page description that would appear in search results, CSS to style content, character set declarations, and more. \n",
    "- `<meta charset=\"utf-8\">`: This element specifies the character set for your document to UTF-8, which includes most characters from the vast majority of human written languages. With this setting, the page can now handle any textual content it might contain. There is no reason not to set this, and it can help avoid some problems later.\n",
    "- `<title></title>`: The `<title>` element. This sets the title of the page, which is the title that appears in the browser tab the page is loaded in. \n",
    "- `<body></body>`: The `<body>` element. This contains all the content that displays on the page, including text, images, videos, games, playable audio tracks, or whatever else."
   ]
  },
  {
   "cell_type": "markdown",
   "metadata": {},
   "source": [
    "## 7.1.2 Basic Formatting Elements of HTML document\n",
    "\n",
    "- `<p>` element represents a paragraph.\n",
    "- `<b>` `bold` element.\n",
    "- `<em>` emphasis element. (italicizes the text)\n",
    "- &lt;a&gt; &lt;/a&gt;. The **anchor** element. An anchor can make the text it encloses into a hyperlink. Anchors can take a number of attributes, but several are as follows:\n",
    "    - `href`: This attribute's value specifies the web address for the link. \n",
    "    - `title`: The `title` attribute specifies extra information about the link, such as a description of the page that is being linked to.\n",
    "    - `target`: The `target` attribute specifies the browsing context used to display the link. For example, `target=\"_blank\"` will display the link in a new tab.\n",
    "- `<img>` element embeds an image into the document.\n",
    "- `<h1></h1>,...,<h6></h6>` represents six level of section headings with `<h1>` being the highest and `<h6>` the lowest.\n",
    "- special characters \n",
    ">| Character | `&`     | `<`    | `>`    | `\"`      |\n",
    ">|-----------|-------|------|------|--------|\n",
    ">| Reference | `&amp;` | `&lt;` | `&gt;` | `&quot;` |\n",
    "- `<!--` and `-->` are used to wrap around the comments in HTML code. Browsers ignore comments, effectively making comments invisible to the user. \n",
    "- `<ul></ul>` represents an **unordered list** of items, typically rendered as a bulleted list. Each item will be represented with an `<li></li>` element.\n",
    "- `<ol></ol>` represents an **ordered list** of items — typically rendered as a numbered list. Similar to the unordered list, each item will be represented with an `<li></li>` element.\n",
    "- `<table></table>` represents tabular data — that is, information presented in a two-dimensional table comprised of rows and columns of cells containing data. Inside the `table` element, there're subelements to be used as well. \n",
    "    - `<thead>` table header\n",
    "    - `<tbody>` table body\n",
    "    - `<tr>` table row\n",
    "    - `<td>` table cell. \n",
    "    \n",
    "    Example of usage of `<table></table>`\n",
    "    \n",
    "    >```HTML\n",
    "    ><table>\n",
    "    >  <tr>\n",
    "    >    <th>Month</th>\n",
    "    >    <th>Savings</th>\n",
    "    >  </tr>\n",
    "    >  <tr>\n",
    "    >    <td>January</td>\n",
    "    >    <td>$100</td>\n",
    "    >  </tr>\n",
    "    >  <tr>\n",
    "    >    <td>February</td>\n",
    "    >    <td>$80</td>\n",
    "    >  </tr>\n",
    "    ></table>\n",
    "    ```\n",
    "\n",
    "Link to more HTML elements:\n",
    "- https://developer.mozilla.org/en-US/docs/Web/HTML/Element"
   ]
  },
  {
   "cell_type": "code",
   "execution_count": null,
   "metadata": {},
   "outputs": [],
   "source": []
  },
  {
   "cell_type": "markdown",
   "metadata": {},
   "source": [
    "## 7.1.3 The Navigation Section Element\n",
    "\n",
    "The HTML `<nav>` element represents a section of a page whose purpose is to provide navigation links, either within the current document or to other documents. Common examples of navigation sections are menus, tables of contents, and indexes.\n",
    "\n",
    "Check out https://developer.mozilla.org/en-US/docs/Web/HTML/Element/nav for more info."
   ]
  },
  {
   "cell_type": "markdown",
   "metadata": {},
   "source": [
    "- https://www.clickandrent.fr/\n",
    "- https://www.spotify.com/us/\n",
    "- https://www.apple.com/sg/"
   ]
  },
  {
   "cell_type": "markdown",
   "metadata": {},
   "source": [
    "# 7.2 Cascading Style Sheets\n",
    "\n",
    "CSS (Cascading Style Sheets) is a declarative language that controls how webpages look in the browser. \n",
    "\n",
    "A CSS rule-set consists of a selector and a declaration block. \n",
    "e.g:\n",
    "\n",
    "> h1 {color:blue; font-size:12px;}\n",
    "\n",
    "- `h1` in the example above is called a **selector** and it points to the HTML element you want to style.\n",
    "- the text enclosed within the `{...}` is called a **declaration block** and it contains one or more declarations separated by semicolons `;`.\n",
    "- each declaration includes a CSS property name and a value, separated by a colon `:`,\n",
    "- A CSS declaration always ends with a semicolon, and declaration blocks are surrounded by curly braces.\n",
    "\n",
    "In general, the rule-set is of the form:\n",
    "\n",
    "> SELECTOR {DECLARATION_1; DECLARATION_2;.....;DECLARATION_N}\n",
    "\n",
    "## 7.2.1 CSS Properties for A-Level\n",
    "\n",
    "<center>\n",
    "\n",
    "| Common     | Box Model     | Box Model      | Typography      |\n",
    "|------------|---------------|----------------|-----------------|\n",
    "| display    | height        | margin-left    | font-family     |\n",
    "| background | width         | margin-right   | font-size       |\n",
    "| color      | border        | margin-top     | font-style      |\n",
    "|            | border-bottom | padding        | font-weight     |\n",
    "|            | border-left   | padding-bottom | font-align      |\n",
    "|            | border-right  | padding-left   | text-decoration |\n",
    "|            | border-top    | padding-right  |                 |\n",
    "|            | margin        | padding-top    |                 |\n",
    "|            | margin-bottom |                |                 |\n",
    "\n",
    "</center>\n",
    "\n",
    "For a complete reference of all the properties and values:  https://www.w3schools.com/cssref/default.asp\n",
    "\n",
    "Note: \n",
    "\n",
    "- A property (e.g., `border`) may have multiple values separated by whitespace\n",
    "- American language is used in CSS. (Eg `center` instead of `centre`, `color` instead of `colour`)\n",
    "- Units can be one of these:\n",
    "    - percentage e.g., `10%` of the parent container's width\n",
    "    - pixels, e.g., `100px`\n",
    "    - em e.g., `1em`, relative to the font size of parent's element.  \n",
    "\n",
    "CSS can be added to HTML documents in 3 ways:\n",
    "- Inline - by using the `style` attribute inside HTML elements\n",
    "- Internal - by using a `<style>` element in the `<head>` section\n",
    "- External - by using a `<link>` element to link to an external CSS file\n",
    "    -\n",
    "    -\n",
    "    -"
   ]
  },
  {
   "cell_type": "code",
   "execution_count": null,
   "metadata": {},
   "outputs": [],
   "source": [
    "#Example of Inline CSS\n",
    "<h1 style=\"color:blue;\">A Blue Heading</h1>\n",
    "<p style=\"color:red;\">A red paragraph.</p>"
   ]
  },
  {
   "cell_type": "code",
   "execution_count": null,
   "metadata": {},
   "outputs": [],
   "source": [
    "#Example of Internal CSS\n",
    "<style>\n",
    "    body {background-color: powderblue;}\n",
    "    h1   {color: blue;}\n",
    "    p    {color: red;}\n",
    "</style>"
   ]
  },
  {
   "cell_type": "code",
   "execution_count": null,
   "metadata": {},
   "outputs": [],
   "source": [
    "#Example of External CSS"
   ]
  },
  {
   "cell_type": "markdown",
   "metadata": {},
   "source": [
    "Some commonly used CSS properties for your HTML elements include:\n",
    "- `color`\n",
    "- `font-family`\n",
    "- `font-size`\n",
    "- `border`\n",
    "- `padding`\n",
    "- `margin`\n",
    "\n",
    "CSS can be commented out by using `*/ SOME-CSS-HERE  */`.\n",
    "\n",
    "[https://fontjoy.com/]\n",
    "[https://coolors.co/]"
   ]
  },
  {
   "cell_type": "markdown",
   "metadata": {},
   "source": [
    "## 7.2.2 The `div` Element \n",
    "\n",
    "The HTML Content Division element (`<div>`) is the generic container for flow content. It has no effect on the content or layout until styled in some way using CSS (e.g. styling is directly applied to it, or some kind of layout model like Flexbox is applied to its parent element).\n",
    "\n",
    "As a \"pure\" container, the `<div>` element does not inherently represent anything. Instead, it's used to group content so it can be easily styled using the `class` or `id` attributes, marking a section of a document as being written in a different language (using the `lang` attribute), and so on.\n",
    "\n",
    "Check out `https://developer.mozilla.org/en-US/docs/Web/HTML/Element/div` for more info."
   ]
  },
  {
   "cell_type": "markdown",
   "metadata": {},
   "source": [
    "## 7.2.3 `id` and `class` attributes of HTML elements\n",
    "\n",
    "Recall that selector is a pattern of elements and other terms that tell the browser which HTML elements should be selected to have the CSS property values inside the rule applied to them. The element or elements which are selected by the selector are referred to as the subject of the selector.\n",
    "\n",
    "There are 3 classes of selector:\n",
    "- type e.g., `h1 {}`\n",
    "- `class` has the following syntax `.` followed `CLASS_NAME` e.g.,`.box{}`\n",
    "- `ID` selector has the syntax `#` followed `<ID_NAME>` e.g., `#unique{}`\n"
   ]
  },
  {
   "cell_type": "code",
   "execution_count": null,
   "metadata": {},
   "outputs": [],
   "source": [
    "h1 {\r\n",
    "    color:blue;\r\n",
    "    background-color:yellow;\r\n",
    "}\r\n",
    "\r\n",
    "p{\r\n",
    "    color:red;\r\n",
    "}"
   ]
  },
  {
   "cell_type": "markdown",
   "metadata": {},
   "source": [
    "## 7.2.4 CSS Box Model\n",
    "\n",
    "The CSS box model is essentially a box that wraps around every HTML element. It consists of: \n",
    "- margins: the CSS margin properties are used to create space around elements, outside of any defined borders.\n",
    "- borders:  CSS border properties allow you to specify the style, width, and color of an element's border.\n",
    "- padding: CSS padding is used to create space around an element's content, inside of any defined borders.\n",
    "- the actual content.\n",
    "\n",
    "The image below illustrates the box model:\n",
    "\n",
    "<center>\n",
    "<img src=\"./web_stuff/img/box-model.png\"><br>\n",
    "</center>\n",
    "\n",
    "Try out at: [https://codepen.io/beertino/pen/BapMXMw]"
   ]
  },
  {
   "cell_type": "markdown",
   "metadata": {},
   "source": [
    "# 7.3 Usability Principles in Web Applications\n",
    "\n",
    "## 7.3.1 Visual Hierarchy\n",
    "## 7.3.2 Consistency (Mental Models)\n",
    "## 7.3.3 Affordance\n",
    "## 7.3.4 Responsiveness"
   ]
  },
  {
   "cell_type": "markdown",
   "metadata": {},
   "source": [
    "# 7.4 Flexbox Layout Module\r\n",
    "\r\n",
    "The Flexible Box (Flexbox) Layout Module, makes it easier to design flexible responsive layout structure without using float or positioning. To activate this, add `display: flex` inside the declaration of the selected HTML element.\r\n",
    "\r\n",
    "Please check out the following links to see how you can use flexbox for your page.\r\n",
    "\r\n",
    "- https://www.w3schools.com/css/css3_flexbox.asp\r\n",
    "- https://css-tricks.com/snippets/css/a-guide-to-flexbox/"
   ]
  },
  {
   "cell_type": "markdown",
   "metadata": {},
   "source": [
    "# 7.5 Web Forms\n",
    "\n",
    "A web form is used to get inputs from the user and submitted to be processed by the web application.\n",
    "\n",
    "Form elements in A level syllabus:\n",
    "\n",
    "<center>\n",
    "\n",
    "| Elements | Attributes | Values                                                           |\n",
    "|----------|------------|------------------------------------------------------------------|\n",
    "| `<form>` `</form>`     | `action`     | URL to submit(identify the server)                               |\n",
    "|          | `method` (optional)    | `GET` or `POST`                                                      |\n",
    "|          | `enctype` (optional)    | Upload a file using `multiplart/form-data`                         |\n",
    "| `<input>` No Closing Tag    | `name`       | Similar to a variable name but different from `id`                 |\n",
    "|          | `type`       | text, submit, file ( radio, checkbox, date,... )                   |\n",
    "|          | `value`      | Values that will be submitted. Use for specifying default values |\n",
    "| `<textarea>` `</textarea>` | `name`       | Multi-line textbox                                               |\n",
    "| `<label>` `</label>`    | `for`        | `id` of the input elements that the label refers to                |\n",
    "\n",
    "</center>\n",
    "\n",
    "<center>\n",
    "<img src=\"./images/web-form.png\"><br>\n",
    "</center>\n",
    "\n",
    "- The `for` attribute of `<label>` must be equal to the `id` attribute of the related element to bind them together.\n",
    "- `<label>` element also increases the hit area of the form element."
   ]
  },
  {
   "cell_type": "code",
   "execution_count": null,
   "metadata": {},
   "outputs": [],
   "source": [
    "<!DOCTYPE html>\n",
    "<html lang=\"en\">\n",
    "<head>\n",
    "    <meta charset=\"UTF-8\">\n",
    "    <meta http-equiv=\"X-UA-Compatible\" content=\"IE=edge\">\n",
    "    <meta name=\"viewport\" content=\"width=device-width, initial-scale=1.0\">\n",
    "    <title>Document</title>\n",
    "</head>\n",
    "<body>\n",
    "    \n",
    "    <div>\n",
    "    <h1> Text</h1>\n",
    "    <form>\n",
    "        <label for=\"fname\">First name:</label><br>\n",
    "        <input type=\"text\" id=\"fname\" name=\"fname\"><br>\n",
    "        <label for=\"lname\">Last name:</label><br>\n",
    "        <input type=\"text\" id=\"lname\" name=\"lname\">\n",
    "    </form>\n",
    "    </div>\n",
    "    \n",
    "    <div>\n",
    "    <h1>Radio</h1>\n",
    "    <form>\n",
    "        <input type=\"radio\" id=\"male\" name=\"gender\" value=\"male\">\n",
    "        <label for=\"male\">Male</label><br>\n",
    "        <input type=\"radio\" id=\"female\" name=\"gender\" value=\"female\">\n",
    "        <label for=\"female\">Female</label><br>\n",
    "        <input type=\"radio\" id=\"other\" name=\"gender\" value=\"other\">\n",
    "        <label for=\"other\">Other</label>\n",
    "    </form>\n",
    "    </div>\n",
    "    <div>\n",
    "    <h1>Checkbox</h1>\n",
    "        <form action='/lmao'>\n",
    "            <input type=\"checkbox\" id=\"vehicle1\" name=\"vehicle1\" value=\"Bike\">\n",
    "            <label for=\"vehicle1\"> I have a bike</label><br>\n",
    "            <input type=\"checkbox\" id=\"vehicle2\" name=\"vehicle2\" value=\"Car\">\n",
    "            <label for=\"vehicle2\"> I have a car</label><br>\n",
    "            <input type=\"checkbox\" id=\"vehicle3\" name=\"vehicle3\" value=\"Boat\">\n",
    "            <label for=\"vehicle3\"> I have a boat</label>\n",
    "        </form>\n",
    "    </div>\n",
    "    <div>\n",
    "        <h1>Submit</h1>\n",
    "        <form action=\"/action_page.php\">\n",
    "            <label for=\"fname\">First name:</label><br>\n",
    "            <input type=\"text\" id=\"fname\" name=\"fname\" value=\"John\"><br>\n",
    "            <label for=\"lname\">Last name:</label><br>\n",
    "            <input type=\"text\" id=\"lname\" name=\"lname\" value=\"Doe\"><br><br>\n",
    "            <input type=\"submit\" value=\"Submit\">\n",
    "        </form>\n",
    "    </div>\n",
    "    <div>\n",
    "        <h1>File</h1>\n",
    "        <form>\n",
    "            <input type=\"file\" id=\"myFile\" name=\"filename\">\n",
    "            <input type=\"submit\">\n",
    "        </form>\n",
    "    </div>\n",
    "    <div>\n",
    "        <h1>Button</h1>\n",
    "        <form action=\"/action_page.php\">\n",
    "            <input type=\"file\" id=\"myFile\" name=\"filename\">\n",
    "            <button type='submit'>Add File</button>\n",
    "        </form>\n",
    "    </div>\n",
    "</body>\n",
    "</html>"
   ]
  },
  {
   "cell_type": "markdown",
   "metadata": {},
   "source": [
    "# 7.6 Web Server \n",
    "\n",
    "## 7.6.1 Software, Server and Applications\n",
    "\n",
    "Software is the set of instructions that make the computer hardware usable. \n",
    "\n",
    "A server is a computer on a network that provides a resource to the other machines on the network. In particular, a **web server** accepts requests via HTTP, to distribute web pages. A **web browser** is a software that enables the access to the material requested from the web server. \n",
    "\n",
    "An application (software) is a set of instructions designed to make the computer do something for the user. If an application runs on a web server, such an application is termed **web application**. As such, web applications are accessed by the user through a web browser with an active network connection. In contrast, an application that runs locallly on the operating system of the device is called **native application**.\n",
    "\n",
    "A **web framework** is a software framework that is designed to support the development of web applications and it provide a standard way to build and deploy web applications. In other words, it is a code library that makes a developer's life easier when building reliable, scalable, and maintainable web applications. \n",
    "\n",
    "## 7.6.2 Flask\n",
    "\n",
    "Flask is a web framework written in Python. If you don't have it yet on your computer, please install by running in the terminal:\n",
    "\n",
    ">pip install flask\n",
    "\n",
    "Note: Flask version for A-level is 0.12.2 when the current Flask version is 1.1.x.\n",
    "\n",
    "Basic code to run a Flask web server is given below:"
   ]
  },
  {
   "cell_type": "code",
   "execution_count": null,
   "metadata": {},
   "outputs": [],
   "source": [
    "from flask import Flask #0 importing the flask module\n",
    "#from flask import render_template\n",
    "\n",
    "app = Flask(__name__) #1 creating the Flask object\n",
    "\n",
    "@app.route('/') #2. decorator. the argument passed into the route method '/' denotes that it will respond web requests for the URL `/`\n",
    "def hello():\n",
    "    \"\"\"Print 'Hello, world!' as the response body.\"\"\"\n",
    "    return 'Hello World!'\n",
    "    #return \"<h1 style='color: red;'>I'm a red H1 heading!</h1><p>This is a lovely little paragraph</p><code>Flask is <em>awesome</em></code>\"\n",
    "    \n",
    "if __name__ == \"__main__\":\n",
    "    app.run()"
   ]
  },
  {
   "cell_type": "markdown",
   "metadata": {},
   "source": [
    "- by default, the URL `http://127.0.0.1:5000/` is used to access the website. `127.0.0.1` is a reserved ip address to refer to the current computer used to access itself. `5000` is the default port number used by Flask. You can change the port number by providing `port=your_port_number` into the `app.run()` method.\n",
    "- change the argument in `route` method to specify the location of the resources you want to get. \n",
    "- remember to import `render_template` so that you can use the html as a template. Note that these template html files has to be stored in the `templates` folder if we're using Flask.\n",
    "- you can pass Python variables as an argument in `render_template()` function to be used for further templating (see Jinja below).\n",
    "- When a certain type of error is encountered in flask, we can use **error handler**, which is a function, to return a response. Some common errors are:\n",
    "    - `404 NOT FOUND`\n",
    "    - `403 FORBIDDEN`\n",
    "    - `410 GONE`\n",
    "    - `500 INTERNAL SERVER ERROR`"
   ]
  },
  {
   "cell_type": "code",
   "execution_count": null,
   "metadata": {},
   "outputs": [],
   "source": [
    "@app.errorhandler(404)\n",
    "def page_not_found(e):\n",
    "    # note that we set the 404 status explicitly\n",
    "    return render_template('404.html'), 404"
   ]
  },
  {
   "cell_type": "markdown",
   "metadata": {},
   "source": [
    "### 7.6.2.1 Request Form Elements\r\n",
    "\r\n",
    "A query string is a part of a uniform resource locator (URL) that assigns values to specified parameters. This string can then be used by the web server to return a specific resource to the client. For example:\r\n",
    "\r\n",
    "> https://duckduckgo.com/?q=mathematics+degree&t=hd&va=u&ia=web\r\n",
    "\r\n",
    "Multiple query parameters are separated by the ampersand (&) symbol.\r\n",
    "\r\n",
    "We pass the URL of the route we want to post the form data to in the `action` attribute of the `form` element. In our case `action=\"/\"`.\r\n",
    "You'll also need to pass the request method to the method attribute in the opening `<form>` tag. We've added `method=\"POST\"` because we're POSTing data to the server.\r\n",
    "\r\n",
    "To access form data in our route, we use `request.form` object, which has the type `werkzeug.datastructures.ImmutableMultiDict`. However, effectively, we can essentially treat it like a dictionary."
   ]
  },
  {
   "cell_type": "code",
   "execution_count": null,
   "metadata": {},
   "outputs": [],
   "source": [
    "from flask import Flask, render_template, request\r\n",
    "app = Flask(__name__)\r\n",
    "\r\n",
    "\r\n",
    "@app.route(\"/\")\r\n",
    "def template_test():\r\n",
    "    return render_template('template.html', my_string=\"Wheeeee!\", my_list=[0,1,2,3,4,5])\r\n",
    "\r\n",
    "@app.route('/notice',methods=['GET','POST'])\r\n",
    "def notice_me():\r\n",
    "    print(request.form)\r\n",
    "    return render_template('notice.html',first=request.form['first_name'],last=request.form['last_name'])\r\n",
    "\r\n",
    "if __name__ == '__main__':\r\n",
    "    app.run(debug=True)"
   ]
  },
  {
   "cell_type": "markdown",
   "metadata": {},
   "source": [
    "# 7.7 Jinja Expressions\r\n",
    "\r\n",
    "Jinja is a web template engine, which is a way to let web designers and developers work with web templates to automatically generate custom web pages, for the Python programming language. Example of use case is to generate a web page to display a result from a search. \r\n",
    "\r\n",
    "Jinja supports:\r\n",
    "- basic arithmetic `(+,-,*,%,//,**)` and comparison operators `==,!=,<,<=,>=,>`.\r\n",
    "- inserting of variables via `{{ VARIABLE_NAME }}`,\r\n",
    "- control structures `for` and `if` using :\r\n",
    "    - `{{% for %}}.......{{% endfor %}}`,\r\n",
    "    - `{{% if %}}.......{{% endif %}}`.\r\n",
    "- template inheritance via:\r\n",
    "    - `{% extends NAME_OF_FILE.html%}` denotes that the html file (called **child html**) is to be inserted into another html file, called **parent html**.\r\n",
    "    - `{% block SOME_NAME%}....{% endblock %}`, `SOME_NAME` is usually `content`, `footer`."
   ]
  },
  {
   "cell_type": "code",
   "execution_count": null,
   "metadata": {},
   "outputs": [],
   "source": [
    "<!DOCTYPE html>\r\n",
    "<html>\r\n",
    "\r\n",
    "<head>\r\n",
    "    <title>Flask Template Example</title>\r\n",
    "    <meta name=\"viewport\" content=\"width=device-width, initial-scale=1.0\">\r\n",
    "    <style type=\"text/css\">\r\n",
    "        .container {\r\n",
    "            margin: auto;\r\n",
    "            width: 20%\r\n",
    "        }\r\n",
    "    </style>\r\n",
    "</head>\r\n",
    "\r\n",
    "<body>\r\n",
    "    <div class=\"container\">\r\n",
    "        <p>My string: {{my_string}}</p>\r\n",
    "        <p>Value from the list: {{my_list[3]}}</p>\r\n",
    "        <p>Loop through the list:</p>\r\n",
    "        <ul>\r\n",
    "            {% for n in my_list %}\r\n",
    "                <li>{{n}}</li>\r\n",
    "            {% endfor %}\r\n",
    "        </ul>\r\n",
    "        <div class='input_stuff'>\r\n",
    "            <form action='/notice' method='POST'>\r\n",
    "                <div>\r\n",
    "                    First Name <input type='text' name='first_name'>\r\n",
    "                </div>\r\n",
    "                <div>\r\n",
    "                    Last Name <input type='text' name='last_name'>\r\n",
    "                </div>\r\n",
    "                <div>\r\n",
    "                    <input type='submit' name='submit'>\r\n",
    "                </div>\r\n",
    "            </form>\r\n",
    "        </div>\r\n",
    "        <div class=\"container\">\r\n",
    "      <h2>This is part of my base template</h2>\r\n",
    "      <br>\r\n",
    "      {% block content %}{% endblock %}\r\n",
    "      <br>\r\n",
    "      <h2>This is part of my base template</h2>\r\n",
    "      <br>\r\n",
    "      <div class=\"footer\">\r\n",
    "        {% block footer %}\r\n",
    "          Watch! This will be added to my base and child templates using the super powerful super block!\r\n",
    "          <br>\r\n",
    "          <br>\r\n",
    "          <br>\r\n",
    "        {% endblock %}\r\n",
    "      </div>\r\n",
    "    </div>\r\n",
    "    </div>\r\n",
    "</body>\r\n",
    "\r\n",
    "</html>"
   ]
  },
  {
   "cell_type": "markdown",
   "metadata": {},
   "source": [
    "{% extends \"layout.html\" %}\r\n",
    "{% block content %}\r\n",
    "  <h3> This is the start of my child template</h3>\r\n",
    "  <br>\r\n",
    "  <p>Not My string: {{5+2}}</p>\r\n",
    "  <h3> This is the end of my child template</h3>\r\n",
    "{% endblock %}"
   ]
  }
 ],
 "metadata": {
  "kernelspec": {
   "name": "python392jvsc74a57bd04fce611334bc080f5106af4957378decbb3fa5ba52c9bc2fa39ba9ae396411fc",
   "display_name": "Python 3.9.2 64-bit"
  },
  "language_info": {
   "name": "python",
   "version": "3.9.2"
  },
  "metadata": {
   "interpreter": {
    "hash": "4fce611334bc080f5106af4957378decbb3fa5ba52c9bc2fa39ba9ae396411fc"
   }
  },
  "orig_nbformat": 2
 },
 "nbformat": 4,
 "nbformat_minor": 2
}