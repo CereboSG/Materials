{
 "cells": [
  {
   "cell_type": "markdown",
   "source": [
    "# Functional Programming"
   ],
   "metadata": {}
  },
  {
   "cell_type": "markdown",
   "source": [
    "# Monoid and Monads\n",
    "\n",
    "https://andrewdblevins.github.io/Monoids/\n",
    "\n",
    "In programming, functions form a monoid under composition.\n",
    "\n",
    "http://www.philipzucker.com/computational-category-theory-in-python-i-dictionaries-for-finset/"
   ],
   "metadata": {}
  },
  {
   "cell_type": "markdown",
   "source": [
    "# $\\lambda$-calculus"
   ],
   "metadata": {}
  },
  {
   "cell_type": "code",
   "execution_count": 53,
   "source": [
    "import itertools\r\n",
    "\r\n",
    "def pow_set(X:frozenset):\r\n",
    "    if X==frozenset():\r\n",
    "        return frozenset()\r\n",
    "    if len(frozenset(X))==1:\r\n",
    "        return {frozenset(),frozenset(X)}\r\n",
    "    else:\r\n",
    "        comb = combinations(X, len(X)-1)\r\n",
    "        comb = [pow_set(i) for i in comb]\r\n",
    "        return frozenset(X).union(*comb)"
   ],
   "outputs": [],
   "metadata": {}
  },
  {
   "cell_type": "code",
   "execution_count": null,
   "source": [],
   "outputs": [],
   "metadata": {}
  },
  {
   "cell_type": "code",
   "execution_count": 54,
   "source": [
    "X={5}\r\n",
    "\r\n",
    "pow_set(X)"
   ],
   "outputs": [
    {
     "output_type": "execute_result",
     "data": {
      "text/plain": [
       "{frozenset(), frozenset({5})}"
      ]
     },
     "metadata": {},
     "execution_count": 54
    }
   ],
   "metadata": {}
  },
  {
   "cell_type": "code",
   "execution_count": 55,
   "source": [
    "from itertools import combinations\r\n",
    "  \r\n",
    "# Get all combinations of [1, 2, 3]\r\n",
    "# and length 2\r\n",
    "comb = combinations([1, 2, 3], 2)\r\n",
    "  \r\n",
    "# Print the obtained combinations\r\n",
    "print(comb)\r\n",
    "comb=[frozenset(i) for i in comb]\r\n",
    "print(list(comb))\r\n",
    "frozenset().union(*comb)"
   ],
   "outputs": [
    {
     "output_type": "stream",
     "name": "stdout",
     "text": [
      "<itertools.combinations object at 0x0000029B8BD79098>\n",
      "[frozenset({1, 2}), frozenset({1, 3}), frozenset({2, 3})]\n"
     ]
    },
    {
     "output_type": "execute_result",
     "data": {
      "text/plain": [
       "frozenset({1, 2, 3})"
      ]
     },
     "metadata": {},
     "execution_count": 55
    }
   ],
   "metadata": {}
  },
  {
   "cell_type": "code",
   "execution_count": 56,
   "source": [
    "X=frozenset({1,2,3})\r\n",
    "print(pow_set(X))"
   ],
   "outputs": [
    {
     "output_type": "stream",
     "name": "stdout",
     "text": [
      "frozenset({1, 2, 3, frozenset({2}), frozenset({3}), frozenset({1}), frozenset()})\n"
     ]
    }
   ],
   "metadata": {}
  },
  {
   "cell_type": "code",
   "execution_count": 43,
   "source": [
    "comb = combinations(frozenset({1, 2, 3}), 2)\r\n",
    "print(list(comb))"
   ],
   "outputs": [
    {
     "output_type": "stream",
     "name": "stdout",
     "text": [
      "[(1, 2), (1, 3), (2, 3)]\n"
     ]
    }
   ],
   "metadata": {}
  },
  {
   "cell_type": "code",
   "execution_count": 44,
   "source": [
    "len({1,2,3})"
   ],
   "outputs": [
    {
     "output_type": "execute_result",
     "data": {
      "text/plain": [
       "3"
      ]
     },
     "metadata": {},
     "execution_count": 44
    }
   ],
   "metadata": {}
  },
  {
   "cell_type": "markdown",
   "source": [
    "# Dynamic Programming\n",
    "\n",
    "- Term is invented by Richard Bellman to hide the fact that he was doing a mathematical research (NOT REALLY PROGRAMMING!!!)\n",
    "- Memoized\n",
    "\n",
    "## Reference:\n",
    "- Dynamic Programming I: Fibonacci, Shortest Paths - Erik Demaine https://www.youtube.com/watch?v=OQ5jsbhAv_M \n",
    "\n",
    "## "
   ],
   "metadata": {}
  },
  {
   "cell_type": "code",
   "execution_count": null,
   "source": [],
   "outputs": [],
   "metadata": {}
  },
  {
   "cell_type": "code",
   "execution_count": null,
   "source": [],
   "outputs": [],
   "metadata": {}
  }
 ],
 "metadata": {
  "language_info": {
   "codemirror_mode": {
    "name": "ipython",
    "version": 3
   },
   "file_extension": ".py",
   "mimetype": "text/x-python",
   "name": "python",
   "nbconvert_exporter": "python",
   "pygments_lexer": "ipython3",
   "version": 3
  },
  "orig_nbformat": 2
 },
 "nbformat": 4,
 "nbformat_minor": 2
}