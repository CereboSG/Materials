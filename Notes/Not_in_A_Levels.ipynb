{
 "metadata": {
  "language_info": {
   "codemirror_mode": {
    "name": "ipython",
    "version": 3
   },
   "file_extension": ".py",
   "mimetype": "text/x-python",
   "name": "python",
   "nbconvert_exporter": "python",
   "pygments_lexer": "ipython3",
   "version": 3
  },
  "orig_nbformat": 2
 },
 "nbformat": 4,
 "nbformat_minor": 2,
 "cells": [
  {
   "source": [
    "# Functional Programming"
   ],
   "cell_type": "markdown",
   "metadata": {}
  },
  {
   "source": [
    "# Monoid and Monads\n",
    "\n",
    "https://andrewdblevins.github.io/Monoids/\n",
    "\n",
    "In programming, functions form a monoid under composition.\n",
    "\n",
    "http://www.philipzucker.com/computational-category-theory-in-python-i-dictionaries-for-finset/"
   ],
   "cell_type": "markdown",
   "metadata": {}
  },
  {
   "source": [
    "# $\\lambda$-calculus"
   ],
   "cell_type": "markdown",
   "metadata": {}
  },
  {
   "cell_type": "code",
   "execution_count": null,
   "metadata": {},
   "outputs": [],
   "source": []
  }
 ]
}