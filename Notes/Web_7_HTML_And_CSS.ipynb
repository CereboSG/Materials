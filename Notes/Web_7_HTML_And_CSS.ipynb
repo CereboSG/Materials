{
 "cells": [
  {
   "cell_type": "markdown",
   "metadata": {},
   "source": [
    "# Learning Objectives\n",
    "\n",
    "- [ ] *4.1.1 Explain the structure of the internet\n",
    "- [ ] 4.2.1 Describe the differences between web applications and native applications \n",
    "- [ ] 4.2.2 State and apply usability principles in the design of web applications\n",
    "- [ ] *4.2.3 Use HTML, CSS (for clients) and Python (for the server) to create a web application that is able to display the output (as formatted text/images/table). \n",
    "- [ ] 4.2.2 Test a web application on a local server.\n"
   ]
  },
  {
   "source": [
    "# 7 HTML\n"
   ],
   "cell_type": "markdown",
   "metadata": {}
  },
  {
   "source": [
    "# Chrome Developer Tools\n",
    "# codepen\n",
    "# https://developer.mozilla.org/en-US/docs/Learn/HTML/Introduction_to_HTML\n",
    "# https://developer.mozilla.org/en-US/docs/Learn/CSS/Introduction_to_CSS"
   ],
   "cell_type": "markdown",
   "metadata": {}
  },
  {
   "source": [],
   "cell_type": "markdown",
   "metadata": {}
  },
  {
   "source": [
    "# 7.1 Hypertext Markup Language\n",
    "\n",
    "HTML (Hypertext Markup Language) is not a programming language. It is a **markup language** that tells web browsers how to structure the web pages you visit. HTML consists of a series of **elements**, which you use to enclose, wrap, or mark up different parts of content to make it appear or act in a certain way. The enclosing tags can make content into a hyperlink to connect to another page, italicize words, and so on.\n",
    "\n",
    "> Mark-up is a term from print editing - the editor would go through the text and add annotations (i.e. this in italic, that in bold) for the printers to use when producing the final version. This was called *marking up the text*.\n",
    "\n",
    "An **element** is a part of a webpage. An element may contain a data item or a chunk of text or an image, or perhaps nothing. A typical element includes an opening tag with some **attributes**, enclosed text content, and a closing tag.\n",
    "\n",
    "<center>\n",
    "<img src=\"./web_stuff/img/anatomy-of-an-html-element.png\"><br>\n",
    "</center>\n",
    "\n",
    "The anatomy of our element is:\n",
    "\n",
    "- The opening tag: This consists of the name of the element (in this example, `p` for paragraph), wrapped in opening `<` and closing angle `>` brackets. This opening tag marks where the element begins or starts to take effect. \n",
    "- The content: This is the content of the element. \n",
    "- The closing tag: This is the same as the opening tag, except that it includes a forward slash `/` before the element name. This marks where the element ends. Failing to include a closing tag is a common beginner error that can produce peculiar results. Note that some elements only consist of a single tag, which is typically used to insert/embed something in the document\n",
    "\n",
    "An **attribute** extends an element, changing its behavior or providing metadata. Attributes contain extra information about the element that won't appear in the content.\n",
    "\n",
    "An attribute always has the form `name=\"value\"` (the attribute's identifier `name` followed by its associated value `value`). The attributes without the equals sign or a value is a shorthand for providing the empty string in HTML.\n",
    "\n",
    "Elements and tags are not the same things. Tags begin or end an element in source code, whereas elements are part of the DOM (Document Object Model) that defines the logical structure of documents and the way a document is accessed and manipulated.\n",
    "\n",
    "## Example of an HTML document"
   ],
   "cell_type": "markdown",
   "metadata": {}
  },
  {
   "cell_type": "code",
   "execution_count": null,
   "metadata": {},
   "outputs": [],
   "source": [
    "<!doctype html>\n",
    "<html>\n",
    "    <head>\n",
    "        <meta charset=\"utf-8\">\n",
    "        <title>Example HTML document</title>\n",
    "    </head>\n",
    "    <body>\n",
    "        <p class=\"example\">Hello,\n",
    "            <a href=\"#\">World</a>!</p>\n",
    "        <form action=\"http://127.0.0.1:12345/\">\n",
    "            <input id=\"button\" type=\"submit\">\n",
    "        </form>\n",
    "    </body>\n",
    "</html>"
   ]
  },
  {
   "source": [
    "## 7.1.1 Basic Structure of HTML document\n",
    "\n",
    "Here we have:\n",
    "\n",
    "- `<!DOCTYPE html>`: The doctype is a historical artifact that needs to be included for everything else to work right. It used to serve as links to a set of rules that the HTML page had to follow to be considered good HTML in the early days of HTML.\n",
    "- `<html></html>`: The `<html>` element. This element wraps all the content on the page. It is sometimes known as the root element.\n",
    "- `<head></head>`: The `<head>` element. This element acts as a container for everything you want to include on the HTML page, that isn't the content the page will show to viewers. This includes keywords and a page description that would appear in search results, CSS to style content, character set declarations, and more. \n",
    "- `<meta charset=\"utf-8\">`: This element specifies the character set for your document to UTF-8, which includes most characters from the vast majority of human written languages. With this setting, the page can now handle any textual content it might contain. There is no reason not to set this, and it can help avoid some problems later.\n",
    "- `<title></title>`: The `<title>` element. This sets the title of the page, which is the title that appears in the browser tab the page is loaded in. \n",
    "- `<body></body>`: The `<body>` element. This contains all the content that displays on the page, including text, images, videos, games, playable audio tracks, or whatever else."
   ],
   "cell_type": "markdown",
   "metadata": {}
  },
  {
   "source": [
    "## 7.1.2 Basic Formatting Elements of HTML document\n",
    "\n",
    "- `<p>` element represents a paragraph.\n",
    "- `<b>` `bold` element.\n",
    "- `<em>` emphasis element. (italicizes the text)\n",
    "- &lt;a&gt; &lt;/a&gt;. The **anchor** element. An anchor can make the text it encloses into a hyperlink. Anchors can take a number of attributes, but several are as follows:\n",
    "    - `href`: This attribute's value specifies the web address for the link. \n",
    "    - `title`: The `title` attribute specifies extra information about the link, such as a description of the page that is being linked to.\n",
    "    - `target`: The `target` attribute specifies the browsing context used to display the link. For example, `target=\"_blank\"` will display the link in a new tab.\n",
    "- `<img>` element embeds an image into the document.\n",
    "- `<h1></h1>,...,<h6></h6>` represents six level of section headings with `<h1>` being the highest and `<h6>` the lowest.\n",
    "- special characters \n",
    ">| Character | `&`     | `<`    | `>`    | `\"`      |\n",
    ">|-----------|-------|------|------|--------|\n",
    ">| Reference | `&amp;` | `&lt;` | `&gt;` | `&quot;` |\n",
    "- `<!--` and `-->` are used to wrap around the comments in HTML code. Browsers ignore comments, effectively making comments invisible to the user. \n",
    "\n",
    "Link to more HTML elements:\n",
    "- https://developer.mozilla.org/en-US/docs/Web/HTML/Element"
   ],
   "cell_type": "markdown",
   "metadata": {}
  }
 ],
 "metadata": {
  "kernelspec": {
   "name": "python391jvsc74a57bd0dcacb0086e9a4f4eabd41c33bf4faac5ea0a3337ed3f5eff0680afa930572c04",
   "display_name": "Python 3.9.1 64-bit"
  },
  "language_info": {
   "codemirror_mode": {
    "name": "ipython",
    "version": 3
   },
   "file_extension": ".py",
   "mimetype": "text/x-python",
   "name": "python",
   "nbconvert_exporter": "python",
   "pygments_lexer": "ipython3",
   "version": "3.9.1-final"
  },
  "orig_nbformat": 2,
  "metadata": {
   "interpreter": {
    "hash": "dcacb0086e9a4f4eabd41c33bf4faac5ea0a3337ed3f5eff0680afa930572c04"
   }
  }
 },
 "nbformat": 4,
 "nbformat_minor": 2
}