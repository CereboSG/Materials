{
 "cells": [
  {
   "cell_type": "code",
   "execution_count": 4,
   "metadata": {},
   "outputs": [
    {
     "name": "stdout",
     "output_type": "stream",
     "text": [
      "EDWARD_IS_HANDSUM_NOT\n"
     ]
    }
   ],
   "source": [
    "# STEP 1\n",
    "from socket import socket\t\t\t\n",
    "\n",
    "# STEP 2\n",
    "s = socket()\t\t\n",
    "\n",
    "# STEP 3\n",
    "port = 12345\t\t\t\n",
    "s.connect(('127.0.0.1', port))\t\t\n",
    "\n",
    "data_to_be_processed = 'EDWARD_IS_HANDSUM' #str(0) is just a placeholder for the actual data\n",
    "\n",
    "# STEP 4\n",
    "s.send(data_to_be_processed.encode())\n",
    "data = s.recv(4096).decode()\n",
    "\n",
    "# STEP 5\n",
    "s.close()\n",
    "\n",
    "# STEP 6\n",
    "def data_processing(data):\n",
    "    return data\n",
    "\n",
    "data = data_processing(data) + '_NOT'\n",
    "print(data)"
   ]
  },
  {
   "cell_type": "code",
   "execution_count": null,
   "metadata": {},
   "outputs": [],
   "source": []
  }
 ],
 "metadata": {
  "interpreter": {
   "hash": "9855bcb2db2fc1adb021fa4ac9c7dfbb81452ef889b3ef5659154f2722c9fc88"
  },
  "kernelspec": {
   "display_name": "Python 3.7.6 ('base')",
   "language": "python",
   "name": "python3"
  },
  "language_info": {
   "codemirror_mode": {
    "name": "ipython",
    "version": 3
   },
   "file_extension": ".py",
   "mimetype": "text/x-python",
   "name": "python",
   "nbconvert_exporter": "python",
   "pygments_lexer": "ipython3",
   "version": "3.7.6"
  },
  "orig_nbformat": 4
 },
 "nbformat": 4,
 "nbformat_minor": 2
}
