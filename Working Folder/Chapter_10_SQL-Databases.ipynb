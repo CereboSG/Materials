{
 "cells": [
  {
   "cell_type": "markdown",
   "metadata": {},
   "source": [
    "# Learning Objectives\n",
    "\n",
    "- [ ] 3.3.6 *Understand how NoSQL database management system addresses the shortcomings of relational database management system (SQL). \n",
    "- [ ] 3.3.7 *Explain the applications of SQL and NoSQL. \n",
    "- [ ] 3.3.8 *Use a programming language to work with both SQL and NoSQL databases. \n",
    "\n",
    "# References\n",
    "\n",
    "1. Leadbetter, C., Blackford, R., & Piper, T. (2012). Cambridge international AS and A level computing coursebook. Cambridge: Cambridge University Press.\n",
    "2. https://www.mongodb.com/compare/mongodb-dynamodb\n"
   ]
  },
  {
   "cell_type": "markdown",
   "metadata": {},
   "source": [
    "Recall that a **database** is a collection of related data where all records have the same structure or  collection of data stored in an organised or logical manner.\n",
    "\n",
    "# 13.1 NoSQL databases\n",
    "Relational databases (commonly referred as SQL databases) work well with structured data since each table's **schema** (the precise description of the data to be stored and the relationships between them) is always clearly defined. However, with the \n",
    "increasing number of ways to gather and generate data, we often need to deal with unstructured data. \n",
    "\n",
    "For example, a convenience store that frequently refreshes the services it provides may sell both mobile phones as well as groceries. To run the store, information about both mobile phones (e.g., model names and prices) and groceries (e.g prices and descriptions) need to be stored. In the future, the store may also start selling mobile phone subscription plans as well. Storing all this data in the same relational database may not be easy. In this case, non-relational databases, also referred to as NoSQL databases, can offera better choice.\n",
    "\n",
    "There are four main types of NoSQL databases: \n",
    "- key-value databases. In this databasae, data is stored as a collection of key-value pairs in which a key serves as a unique identifier. E.g. Amazon DynamoDB. In this database, your query is limited to the key **only** and values retrieved by the key are not known (opaque). \n",
    "- document databases. Document databases work like a hash table, but each key can point to an embedded key-value structure, also known as a **document**, instead of just a single value. (Recall that in a hash table, each key points to a single value or data item.). E.g., MongoDB\n",
    "- wide column databases. Data tables are stored in terms of column instead of row. \n",
    "- graph databases are databases that uses graph structures for semantic queries with nodes, edges, and properties to represent and store data. E.g., neo4j\n",
    "\n",
    "# 13.2 Differences between SQL and Document Database\n",
    "\n",
    "- Relational databases have a **fixed, predefined schema** that its tables follows but NoSQL databases usually have **no predefined schema**, which is dynamic and can change easily\n",
    "- Relational databases contain tables while document databases like MongoDB contain collections. The data types of each field in the table is fixed for relational databases but it is flexible for document databases like MongoDB.\n",
    "- Relational databases represent data in tables and rows while document databases store  ata as collections of documents.\n",
    "- For relational databases, joins are usually used to get data across tables, while for document databases like MongoDB there is usually no such joins. Thus it is easier to use relational databases for complex queries rather than NoSQL databases."
   ]
  },
  {
   "cell_type": "markdown",
   "metadata": {},
   "source": [
    "# 13.3 MongoDB \n",
    "\n",
    "MongoDB is a very popular NoSQL document database, which uses `JSON` (Java Script Notation Object)-like **documents** to store records.  JSON has the format\n",
    ">```python\n",
    "> {\n",
    ">   <attribute_name_1>: <attribute_values_1>,\n",
    ">   <attribute_name_2>: <attribute_values_2>\n",
    ">                   ....\n",
    "> }\n",
    ">```\n",
    "which looks like python `dict` object. \n",
    "\n",
    "Terminologies used for MongoDB is a little different compared with SQL. Below is the table of terms in MongoDB with corresponding terms in SQL. \n",
    "\n",
    "<center>\n",
    "\n",
    "| **SQL Term** | **MongoDB Term** | \n",
    "|-|-|\n",
    "| `Database` | `Database` | \n",
    "| `Table` | `Collection` | \n",
    "| `Row/Record` | `Document` | \n",
    "| `Column/Field/Attribute` | `Field` |\n",
    "\n",
    "</center>\n",
    "\n",
    "## 13.3.1 Running MongoDB\n",
    "After installation, open command prompt and type `mongo` to run MongoDB shell. To maintain access to the MongoDB databases, you need to **make sure that MongoDB is running**, i.e. don't close MongoDB shell.\n",
    "\n",
    "<center>\n",
    "<img src=\"images/database_create.gif\" width=\"1080\" align=\"center\"/>\n",
    "</center>\n",
    "\n",
    "> If you encounter an error, MongoDB folder might not have been added to the PATH environment variable. Click <a href = 'https://dangphongvanthanh.wordpress.com/2017/06/12/add-mongos-bin-folder-to-the-path-environment-variable/' >here</a> for troubleshooting.\n",
    "\n",
    "Some useful commands to run on MongoDB shell\n",
    "- `help` : get the available shell commands\n",
    "- `show dbs` : show the currently available databases in MongoDB\n",
    "- `use <db_name>` : set current database to `<db_name>`\n",
    "- `db.createCollection(<collection_name>)` : create collection named `<collection_name>` in the database\n",
    "- after you have set your current database, you can insert documents into the database by running `db.<collection_name>.insert(<json_obj>)`\n",
    "- `show collections` : show the available collections in the current database\n",
    "\n",
    "> Instead of creating collection with `db.createCollection(<collection_name>)`, `db.<collection_name>.insert(<json_obj>)` will automatically create the collection with the document is added. \n",
    "\n",
    "### Exercise \n",
    "Create a database called `test_info` and insert the following JSON object as a document in the collection `Person` in the database.\n",
    "\n",
    "```python \n",
    ">{\n",
    "> 'name':'John Lim',   \n",
    "> 'class': '18S01',   \n",
    "> 'hobbies': ['running','kayaking','gaming']   \n",
    ">}\n",
    "```\n"
   ]
  },
  {
   "cell_type": "markdown",
   "metadata": {},
   "source": [
    "## 13.3.1 Interacting with MongoDB with `pymongo`\n",
    "\n",
    "Similar to relational, we need to know how to execute the important database operations (CRUD) with MongoDB as well. However, for MongoDB, we will skip on the MongoDB shell commands and go straight up to the commands in `pymongo`, which is a Python to interact with MongoDB databases (as warned earlier, keep the MongoDB running else you will encounter errors.)\n",
    "\n",
    "## 13.8.1 Connecting to MongoDB database with `pymongo` \n",
    "Roughly speaking, to work with the database,\n",
    "1. We first **establish connection** to the MongoDB server by creating `pymongo.MongoClient` object to `localhost` with the default port `270107`\n",
    "2. Access the database through the client.\n",
    "3. Access the collection through the database.\n",
    "4. Do your query, insertion, updating and deletion.\n",
    "\n",
    "### Example 26\n",
    "\n",
    "The code below illustrates the process of connecting to the database `test_info` and accessing the collection `Person` with `pymongo`."
   ]
  },
  {
   "cell_type": "code",
   "execution_count": null,
   "metadata": {},
   "outputs": [],
   "source": [
    "# We can actually do \n",
    "# import pymongo\n",
    "# but this means that at line 8, we'll have client = pymongo.Mongoclient('localhost', 27017)\n",
    "\n",
    "from pymongo import MongoClient \n",
    "\n",
    "try:\n",
    "    client = MongoClient('localhost', 27017) #localhost is your local computer address 127.0.0.1\n",
    "    print(\"Connected successfully!!!\")\n",
    "except:\n",
    "    print(\"Could not connect to MongoDB\")\n",
    "\n",
    "db = client['test_info']\n",
    "\n",
    "coll = db['Person']\n",
    "\n",
    "# Note that for pymongo, we don't need to close the connection as it's done automatically for us. "
   ]
  },
  {
   "cell_type": "markdown",
   "metadata": {},
   "source": [
    "# 13.8.2 CRUD operations with `pymongo` \n",
    "Unlike `sqlite` which do CRUD operations by passing SQL statements into the `execute` command, the CRUD operations with `pymongo` is done through various methods available to it. \n",
    "\n",
    "\n",
    "### Exercise 27 [`INSERT`, `DELETE`, `UPDATE`]\n",
    "1. Try out the following code and check the database again with DB4S. \n",
    "    - What changes do you expect from executing the code?\n",
    "    - What do you observe about the database? "
   ]
  },
  {
   "cell_type": "markdown",
   "metadata": {},
   "source": [
    "# 13.4 Situations to use SQL or NoSQL\n",
    "\n",
    "The choice of whether to use a SQL or NoSQL database depends on the type of data being stored as well as the nature of tasks that the database is required to perform.\n",
    "\n",
    "SQL databases should be used if:\n",
    "- The data being stored has a fixed schema.\n",
    "- Complex and varied queries will be frequently performed.\n",
    "- The atomicity, consistency,isolation and durability (ACID) properties are critical to the database.\n",
    "- There will be a high number of simultaneous transactions.\n",
    "\n",
    "NoSQL databases should be used if:\n",
    "- The data being stored has a dynamic schema, (i.e., unstructured data with flexible data types).\n",
    "- Data storage needs to be performed quickly.\n",
    "- There will be an extremely large amount of data (i.e., Big Data).\n"
   ]
  },
  {
   "cell_type": "code",
   "execution_count": 1,
   "metadata": {},
   "outputs": [],
   "source": [
    "import sqlite3\n",
    "\n",
    "connection = sqlite3.connect(\"./resources/library_copy.db\")\n",
    "\n",
    "connection.execute(\"INSERT INTO Borrower(FirstName, Surname, Contact) VALUES('Alex', 'Ong', 98765432)\")\n",
    "\n",
    "#Sometimes it can be clearer if you split your SQL statements into multiple lines and you can use `\\` in python for this purpose\n",
    "connection.execute( \"UPDATE Borrower SET Surname = 'Lim' \" +\\\n",
    "                    \"WHERE FirstName = 'Alex'\")\n",
    "connection.close()"
   ]
  },
  {
   "cell_type": "code",
   "execution_count": null,
   "metadata": {},
   "outputs": [],
   "source": [
    "#YOUR_ANSWER_HERE"
   ]
  },
  {
   "cell_type": "markdown",
   "metadata": {},
   "source": [
    "2. Try the following code and check the database again. What do you observe?"
   ]
  },
  {
   "cell_type": "code",
   "execution_count": null,
   "metadata": {},
   "outputs": [],
   "source": [
    "import sqlite3\n",
    "\n",
    "connection = sqlite3.connect(\"./resources/library_copy.db\")\n",
    "\n",
    "connection.execute(\"INSERT INTO Borrower(FirstName, Surname, Contact) VALUES('Alex', 'Ong', 98765432)\")\n",
    "connection.execute( \"UPDATE Borrower SET Surname = 'Lim' \" +\\\n",
    "                    \"WHERE FirstName = 'Alex'\")\n",
    "\n",
    "#addded the following method\n",
    "connection.commit()\n",
    "\n",
    "connection.close()"
   ]
  },
  {
   "cell_type": "code",
   "execution_count": null,
   "metadata": {},
   "outputs": [],
   "source": [
    "#YOUR_ANSWER_HERE"
   ]
  },
  {
   "cell_type": "markdown",
   "metadata": {},
   "source": [
    "> It is important to run the commit() method to save the changes to the database. This is equivalent to the action `Write Changes` we used in DB4S.\n",
    "\n",
    "Alternative to saving the database manually using `commit()` method, similar to file I/O, we can also utilize the `with` statement in Python. "
   ]
  },
  {
   "cell_type": "code",
   "execution_count": null,
   "metadata": {},
   "outputs": [],
   "source": [
    "import sqlite3\n",
    "\n",
    "connection = sqlite3.connect(\"./resources/library_copy.db\")\n",
    "\n",
    "with connection:\n",
    "    connection.execute(\"INSERT INTO Borrower(FirstName, Surname, Contact) VALUES('Alex', 'Ong', 98765432)\")\n",
    "    connection.execute( \"UPDATE Borrower SET Surname = 'Lim' \" +\\\n",
    "                        \"WHERE FirstName = 'Alex'\")\n",
    "\n",
    "    #commit() method to save the changes is no longer required.\n",
    "\n",
    "#connection to database still need to be closed\n",
    "connection.close()"
   ]
  },
  {
   "cell_type": "markdown",
   "metadata": {},
   "source": [
    "### Exercise 28 [`INSERT`, `DELETE`, `UPDATE`]\n",
    "\n",
    "1. Try out the following code and check the database with DB4S. \n",
    "    - What changes do you expect from executing the code?\n",
    "    - What do you observe about the database? "
   ]
  },
  {
   "cell_type": "code",
   "execution_count": null,
   "metadata": {},
   "outputs": [],
   "source": [
    "import sqlite3\n",
    "\n",
    "connection = sqlite3.connect(\"./resources/library_copy.db\")\n",
    "\n",
    "connection.execute(\"INSERT INTO Borrower(FirstName, Surname, Contact) VALUES('AlexA', 'Ong', 98765432)\")\n",
    "connection.execute(\"INSERT INTO Borrower(FirstName, Surname, Contact) VALUES('VijayA', 'Singh', 91919191)\")\n",
    "\n",
    "connection.execute(\"INSERT INTO Borrower(FirstName, Surname, Contact) VALUES('AlexB', 'Ong', 98765432)\")\n",
    "connection.execute(\"INSERT INTO Borrower(FirstName, Surname, Contact) VALUES('VijayB', 'Singh', 91919191)\")\n",
    "\n",
    "connection.commit()\n",
    "\n",
    "connection.close()"
   ]
  },
  {
   "cell_type": "markdown",
   "metadata": {},
   "source": [
    "2. Try out the following code and check the database again with DB4S. \n",
    "    - What changes do you expect from executing the code?\n",
    "    - What do you observe about the database? "
   ]
  },
  {
   "cell_type": "markdown",
   "metadata": {},
   "source": [
    "# 13.3 Advantages of NoSQL Databases over Relational Databases\n",
    "\n",
    "- Relational databases have a predefined schema that is difficult to change. Even if youw ish to add a fieldto a small number of records, you still need to include the field for the entire table. Therefore, it can be difficult to support the processing of unstructured data using relational databases compared to NoSQL databases.\n",
    "- Unlike NoSQL databases, relational databases do not usually support hierarchical data storage, where less frequently-used data is moved to cheaper, slower storage devices. This means that the cost of storing data in a relational database is more expensive than storing the same amount of data in a NoSQL database.\n",
    "- Relational databases are mainly vertically scalable while NoSQL databases are mainly horizontally scalable. Vertically scalable means that improving the performance of a relational database server usually requires upgrading an existing server with faster processors and more memory. Such high-performance components can be expensive and upgrades are limited by the capacity of a single machine. On the other hand, horizontally scalable means that the performance of a NoSQL database can be improved by simply increasing the number of servers. This is relatively cheaper as mass-produced average-performance computers are easily available at low prices.\n",
    "- Relational databases are stored in a server, which makes the database unavailable when the server fails. NoSQL databases are designed to take advantage of multiple servers so that if one server fails, the other servers can continue to support applications."
   ]
  },
  {
   "cell_type": "code",
   "execution_count": null,
   "metadata": {},
   "outputs": [],
   "source": [
    "import sqlite3\n",
    "\n",
    "connection = sqlite3.connect(\"./resources/library_copy.db\")\n",
    "\n",
    "connection.execute(\"INSERT INTO Borrower(FirstName, Surname, Contact) VALUES('AlexC', 'Ong', 98765432)\")\n",
    "connection.execute(\"INSERT INTO Borrower(FirstName, Surname, Contact) VALUES('VijayC', 'Singh', 91919191)\")\n",
    "\n",
    "#the following line is added\n",
    "connection.rollback()\n",
    "\n",
    "connection.execute(\"INSERT INTO Borrower(FirstName, Surname, Contact) VALUES('AlexD', 'Ong', 98765432)\")\n",
    "connection.execute(\"INSERT INTO Borrower(FirstName, Surname, Contact) VALUES('VijayD', 'Singh', 91919191)\")\n",
    "\n",
    "connection.commit()\n",
    "\n",
    "connection.close()"
   ]
  },
  {
   "cell_type": "markdown",
   "metadata": {},
   "source": [
    "> `rollback()` method undo the changes to the database. This is equivalent to the action `Revert Changes` we used in DB4S."
   ]
  },
  {
   "cell_type": "markdown",
   "metadata": {},
   "source": [
    "### Example 29 [`CREATE TABLE, DROP TABLE`]\n",
    "Try out the following code blocks and check the database with DB4S. What do you expect the code blocks do?"
   ]
  },
  {
   "cell_type": "code",
   "execution_count": null,
   "metadata": {},
   "outputs": [],
   "source": [
    "import sqlite3\n",
    "\n",
    "connection = sqlite3.connect(\"./resources/newfile.db\")\n",
    "\n",
    "connection.execute(\"CREATE TABLE Book(\" +\\\n",
    "                   \"ID INTEGER PRIMARY KEY, \n",
    "                   \"Title TEXT\" +\\\n",
    "                   \")\"\n",
    "                  )\n",
    "\n",
    "connection.execute(\"CREATE TABLE BookToo(\" +\\\n",
    "                   \"ID INTEGER PRIMARY KEY, \n",
    "                   \"Title TEXT\" +\\\n",
    "                   \")\"\n",
    "                  )\n",
    "connection.commit()\n",
    "connection.close()"
   ]
  },
  {
   "cell_type": "code",
   "execution_count": null,
   "metadata": {},
   "outputs": [],
   "source": [
    "import sqlite3\n",
    "\n",
    "connection = sqlite3.connect(\"./resources/newfile.db\")\n",
    "\n",
    "connection.execute(\"DROP TABLE Book\")\n",
    "connection.commit()\n",
    "connection.close()"
   ]
  },
  {
   "cell_type": "markdown",
   "metadata": {},
   "source": [
    "The last of the CRUD operation we will discuss is the Read/Retrieve operation. We will show 4 ways to do this with `sqlite3` module.\n",
    "1. iterate the `Cursor` object, which is also created when we run `execute()` method on `Connection` object,\n",
    "2. use the `fetchone()` method of the `Cursor` object.\n",
    "3. use the `fetchall()` method of the `Cursor` object.\n",
    "4. setting the `row_factory` attribute of the `Connection` object as `sqlite3.Row` object. `Row` provides both index-based and case-insensitive name-based access to columns and most useful when we want name-based access to columns.\n",
    "\n",
    "### Example 30 [`SELECT`]\n",
    "Try out the following code block 3 times with appropriate commenting and uncommenting of the relevant parts of the code. What can you observe about the type of the output given by each of the approach?"
   ]
  },
  {
   "cell_type": "code",
   "execution_count": null,
   "metadata": {},
   "outputs": [],
   "source": [
    "import sqlite3\n",
    "\n",
    "connection = sqlite3.connect(\"./resources/library_copy.db\")\n",
    "\n",
    "cursor = connection.execute(\"SELECT ID, FirstName FROM Borrower\")\n",
    "\n",
    "#Approach 1\n",
    "for row in cursor:\n",
    "    print(row)\n",
    "\n",
    "#Approach 2\n",
    "row = cursor.fetchone()\n",
    "while row is not None:\n",
    "    print(row)\n",
    "    row = cursor.fetchone()\n",
    "\n",
    "#Approach 3\n",
    "rows = cursor.fetchall()\n",
    "print(rows)\n",
    "\n",
    "connection.close()"
   ]
  },
  {
   "cell_type": "code",
   "execution_count": null,
   "metadata": {},
   "outputs": [],
   "source": [
    "#YOUR_ANSWER_HERE"
   ]
  },
  {
   "cell_type": "markdown",
   "metadata": {},
   "source": [
    "### Example 31 [`SELECT`]\n",
    "Try out the following code block 5 times with appropriate commenting and uncommenting of the relevant parts of the code. What can you observe about each output?"
   ]
  },
  {
   "cell_type": "code",
   "execution_count": null,
   "metadata": {},
   "outputs": [],
   "source": [
    "import sqlite3\n",
    "\n",
    "connection = sqlite3.connect(\"./resources/library_copy.db\")\n",
    "\n",
    "#setting the `row_factory` attribute of `Connection` object\n",
    "connection.row_factory = sqlite3.Row\n",
    "\n",
    "cursor = connection.execute(\"SELECT ID, FirstName FROM Borrower\")\n",
    "\n",
    "#Try 1\n",
    "for row in cursor:\n",
    "    print(row)\n",
    "\n",
    "#Try 2\n",
    "row = cursor.fetchone()\n",
    "while row is not None:\n",
    "    print(row)\n",
    "    row = cursor.fetchone()\n",
    "\n",
    "#Try 3\n",
    "rows = cursor.fetchall()\n",
    "print(rows)\n",
    "\n",
    "#Try 4\n",
    "for row in cursor:\n",
    "    print(row['ID'])\n",
    "    print(row['FirstName']\n",
    "\n",
    "#Try 5\n",
    "row = cursor.fetchone()\n",
    "while row is not None:\n",
    "    print(row['ID'])\n",
    "    print(row['FirstName'])\n",
    "    row = cursor.fetchone()\n",
    "\n",
    "connection.close()"
   ]
  },
  {
   "cell_type": "markdown",
   "metadata": {},
   "source": [
    "The main advantage of using `Row` objects is that they are more flexible as they behave like `dict` objects; we can index values by column name instead of relying on the order of columns in the original `SELECT` statement."
   ]
  },
  {
   "cell_type": "markdown",
   "metadata": {},
   "source": [
    "# 13.8.3 SQL Injection Protection with `sqlite3`\n",
    "SQL injection is a web security vulnerability that allows an attacker to interfere with the queries that an application makes to its SQL database.  It generally allows an attacker to view data that they are not normally able to retrieve. This might include data belonging to other users, or any other data that the application itself is able to access. In many cases, an attacker can modify or delete this data, causing persistent changes to the application's content or behavior.\n",
    "\n",
    "Consider a shopping application that displays products in different categories. When the user clicks on the Gifts category, their browser requests the URL:\n",
    ">```\n",
    ">\n",
    ">https://insecure-website.com/products?category=Gifts\n",
    ">\n",
    ">```\n",
    "This causes the application to make an SQL query to retrieve details of the relevant products from the database:\n",
    ">```\n",
    ">\n",
    ">SELECT * FROM products WHERE category = 'Gifts' AND released = 1\n",
    ">\n",
    ">```\n",
    "\n",
    "Note that we can presume that: \n",
    "- This SQL query asks the database to return all details (`*`) from the `products` table where the category is `\"Gifts\"` and `released` is `1`.\n",
    "- The restriction `released = 1` is being used to hide products that are not released. For unreleased products, presumably `released = 0`.\n",
    "\n",
    "The application doesn't implement any defenses against SQL injection attacks, so an attacker can construct an attack like:\n",
    ">```\n",
    ">\n",
    ">https://insecure-website.com/products?category=Gifts'--\n",
    ">\n",
    ">```\n",
    "\n",
    "This results in the SQL query:\n",
    ">```\n",
    ">\n",
    ">SELECT * FROM products WHERE category = 'Gifts'--' AND released = 1\n",
    ">\n",
    ">```\n",
    "\n",
    "The key thing here is that the double-dash sequence `--` is a comment indicator in SQL, and means that the rest of the query is interpreted as a comment. This effectively removes the remainder of the query, so it no longer includes `AND released = 1`. This means that all products has potential to be displayed, including unreleased products where `released = 0`.\n",
    "\n",
    "Here's another example from xkcd.   \n",
    "<center>\n",
    "<img src=\"https://imgs.xkcd.com/comics/exploits_of_a_mom.png\" width=\"800\" align=\"center\"/>\n",
    "</center>\n",
    "\n",
    "## 13.8.3.1 Parameter Substitution\n",
    "From the SQL injection example above, we see that user inputs should not be taken wholesale and it is a good idea to first run a validity check on it before being passed to the SQL statements. As such, we can use **parameter substitution**, which makes use of the `?` symbol and optional arguments in the `execute()` method in `sqlite3`.\n",
    "\n",
    "### Example 32\n",
    "\n",
    "Consider the following snippet of Python code to delete records in the SQL database where `ID` is between 2 and 4."
   ]
  },
  {
   "cell_type": "code",
   "execution_count": null,
   "metadata": {},
   "outputs": [],
   "source": [
    "# The symbols `?` are placeholders for user inputs\n",
    "# the second argument in the execute() method is a tuple of user inputs to use for substitution\n",
    "# Parameter substitution follows the same order in which the placeholders appear in the SQL\n",
    "execute(\"DELETE FROM Book WHERE ID > ? AND ID < ?\", (2, 4))"
   ]
  },
  {
   "cell_type": "markdown",
   "metadata": {},
   "source": [
    "### Example 33\n",
    "\n",
    "The following program can be used to enter new borrowers into the `library.db` database:"
   ]
  },
  {
   "cell_type": "code",
   "execution_count": null,
   "metadata": {},
   "outputs": [],
   "source": [
    "import sqlite3\n",
    "\n",
    "connection = sqlite3.connect(\"library.db\")\n",
    "\n",
    "while True:\n",
    "    first = input(\"Enter first name: \")\n",
    "    surname = input(\"Enter surname: \")\n",
    "    contact = int(input(\"Enter contact number: \"))\n",
    "\n",
    "    #Note that at this point in the code, we can run the validation checks on the values first, surname and contact\n",
    "    #before wew pass it to the SQL statement below\n",
    "    connection.execute(\"INSERT INTO Borrower(FirstName, Surname, Contact) VALUES(?, ?, ?)\", (first, surname, contact))\n",
    "    connection.commit()\n",
    "\n",
    "    if input(\"Continue (Y/N)?\").upper() != 'Y':\n",
    "        break\n",
    "\n",
    "connection.close()"
   ]
  }
 ],
 "metadata": {
  "interpreter": {
   "hash": "dcacb0086e9a4f4eabd41c33bf4faac5ea0a3337ed3f5eff0680afa930572c04"
  },
  "kernelspec": {
   "display_name": "Python 3.9.1 64-bit",
   "name": "python3"
  },
  "language_info": {
   "codemirror_mode": {
    "name": "ipython",
    "version": 3
   },
   "file_extension": ".py",
   "mimetype": "text/x-python",
   "name": "python",
   "nbconvert_exporter": "python",
   "pygments_lexer": "ipython3",
   "version": "3.9.1"
  },
  "orig_nbformat": 2
 },
 "nbformat": 4,
 "nbformat_minor": 2
}
