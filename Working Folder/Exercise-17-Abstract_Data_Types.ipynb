{
 "cells": [
  {
   "cell_type": "markdown",
   "metadata": {},
   "source": [
    "# Exercise 17\n",
    "\n",
    "Notes:\n",
    "- Fundamentals_12-Abstract_Data_Types"
   ]
  },
  {
   "source": [
    "## Exercise 17.1 2019/A Level/P1/Q4 H2 Computing\n",
    "\n",
    "A stack is used to store characters.\n",
    "\n",
    "### Task 1\n",
    "Write program code to implement the stack and the operations specified.\n",
    "Your code should allow operations to: \n",
    "- push an item on to the stack\n",
    "- pop an item off the stack\n",
    "- determine the size of the stack. A size of zero indicates that the stack is empty.\n",
    "\n",
    "### Evidence 9\n",
    "\n",
    "Your program code for the stack.    \n",
    "<div style=\"text-align: right\">[10]</div>"
   ],
   "cell_type": "markdown",
   "metadata": {}
  },
  {
   "cell_type": "code",
   "execution_count": null,
   "metadata": {},
   "outputs": [],
   "source": [
    "#YOUR_CODE_HERE"
   ]
  },
  {
   "source": [
    "The stack is to be used to identify it an arithmetic expression is balanced. \n",
    "\n",
    "An expression is balanced if each opening bracket has a corresponding closing bracket. \n",
    "\n",
    "Different pairs of brackets can be used. These are: [], () or {}. \n",
    "\n",
    "This is an example of an expression that is balanced.\n",
    "\n",
    "  `([8-1]/(5*7))` \n",
    "\n",
    "This is an example of an expression that is not balanced. \n",
    "\n",
    "  `[(8-1]/(5*7))` \n",
    "\n",
    "Note the change in the order of the first two open bracket symbols. The first closing bracket should be a closing bracket ')' to match the previous opening bracket ‘('. \n",
    "\n",
    "Note that an expression is not balanced if the order of the brackets is incorrect, even if there are the same number of opening and closing brackets of each bracket type. \n",
    "\n",
    "An expression is checked by iterating over it: \n",
    "\n",
    "- if a non-bracket symbol is found, continue to the next character. \n",
    "- If an opening symbol is found, push it on to the stack and continue to the next character. \n",
    "- If a closing bracket is encountered: \n",
    "    * If the stack is empty, return an error (because there is no corresponding opening bracket) \n",
    "    * else pop the symbol from the top of the stack and compare it to the current closing symbol to see if they make a matching pair \n",
    "    * If they do match continue to the next character\n",
    "    * else return an error (pairs of brackets must match).   \n",
    "- When the last symbol is encountered: \n",
    "    – return an error if the stack is not empty (too many opening symbols)\n",
    "    – else return a success message."
   ],
   "cell_type": "markdown",
   "metadata": {}
  },
  {
   "source": [
    "### Task 2\n",
    "\n",
    "Add five other suitable test cases and a reason for choosing each test case.\n",
    "\n",
    "<center>\n",
    "\n",
    "| Test case | Reason for choice | Expected value |\n",
    "|-|-|-|\n",
    "| `([8-1]/(5*7))` | Provided | Succeeds |\n",
    "| `[(8-1]/(5*7))` | Provided | Fails |\n",
    "|  |  | Succeeds |\n",
    "|  |  | Succeeds |\n",
    "|  |  | Fails |\n",
    "|  |  | Fails |\n",
    "|  |  | Fails |\n",
    "\n",
    "</center>\n",
    "\n",
    "### Evidence 10\n",
    "\n",
    "The completed table with all seven test cases and a reason for choosing each test case.\n",
    "<div style=\"text-align: right\">[6]</div>\n",
    "\n",
    "### Task 4.3\n",
    "Write program code that checks expressions using the given algorithm. \n",
    "Use all **seven** test cases to verify It.\n",
    "\n",
    "### Evidence 11\n",
    "\n",
    "Your program code for the stack.\n",
    "Screenshots for each test data run.   \n",
    "<div style=\"text-align: right\">[19]</div> "
   ],
   "cell_type": "markdown",
   "metadata": {}
  },
  {
   "cell_type": "code",
   "execution_count": null,
   "metadata": {},
   "outputs": [],
   "source": [
    "#YOUR_CODE_HERE"
   ]
  },
  {
   "cell_type": "markdown",
   "metadata": {},
   "source": [
    "## Exercise 16.1\n",
    "\n",
    "Write the function `linearSearch1`, which takes in 2 parameters:\n",
    "\n",
    "1. a list of integers, `L`, \n",
    "2. a target integer, `t`. \n",
    "\n",
    "This function will return the index of any instance of `t` in `L`. If `t` does not exist in `L`, then the function will return `-1`. Your implementation should be based on the linear search algorithm."
   ]
  },
  {
   "cell_type": "code",
   "execution_count": 3,
   "metadata": {},
   "outputs": [],
   "source": [
    "#YOUR_CODE_HERE"
   ]
  },
  {
   "source": [
    "## Exercise 16.2\n",
    "\n",
    "Write the function `binarySearch1`, which takes in 2 parameters:\n",
    "\n",
    "1. a list of integers, `L`, which is sorted in ascending order  and \n",
    "2. a target integer, `t`. \n",
    "\n",
    "This function will return the index of any instance of `t` in `L`. If `t` does not exist in `L`, then the function will return `-1`. Your implementation should be based on the binary search algorithm."
   ],
   "cell_type": "markdown",
   "metadata": {}
  },
  {
   "cell_type": "code",
   "execution_count": null,
   "metadata": {},
   "outputs": [],
   "source": [
    "#YOUR_CODE_HERE"
   ]
  },
  {
   "source": [
    "## Exercise 16.3\n",
    "\n",
    "Write the function `binarySearch2`, which takes in 2 parameters: \n",
    "\n",
    "1. a list of integers, `L`, sorted in descending order, and \n",
    "2.  a target integer, `t`. \n",
    "\n",
    "This function will return the index of any instance of `t` in `L`. If `t` does not exist in `L`, then the function will return `-1`. Your implementation should be based on the binary search algorithm.\n"
   ],
   "cell_type": "markdown",
   "metadata": {}
  },
  {
   "cell_type": "code",
   "execution_count": null,
   "metadata": {},
   "outputs": [],
   "source": [
    "#YOUR_CODE_HERE"
   ]
  },
  {
   "cell_type": "markdown",
   "metadata": {},
   "source": [
    "## Exercise 16.4\n",
    "\n",
    "Write the function `linearSearch2`, which takes in 2 parameters: \n",
    "\n",
    "1. a list of integers, `L`, and \n",
    "2. a target integer, `t`. \n",
    "\n",
    "This function will return the index of any instance in `L` that is **just greater** than `t`.\n",
    "\n",
    "We define an element `t'` in `L` is “just greater” than `t` if `t'` is greater than `t`, but less than (or equals) to any other element in `L` that is greater than `t`. If such any element does not exist in `L`, then the function will return `-1`. Your implementation should be based on the linear search algorithm."
   ]
  },
  {
   "cell_type": "code",
   "execution_count": 12,
   "metadata": {},
   "outputs": [],
   "source": [
    "#YOUR_CODE_HERE"
   ]
  },
  {
   "source": [
    "## Exercise 16.5\n",
    "\n",
    "Write the function `linearSearch3`, which takes in 2 parameters: \n",
    "\n",
    "1. a list of integers, `L`, and \n",
    "2. a target integer, `t`. \n",
    "\n",
    "This function will return the index of any instance in `L` that is **just less** than `t`.\n",
    "\n",
    "We define an element `t'` in `L` is “just less” than `t` if `t'` is less than `t`, but greater than (or equals) to any other element in `L` that is greater than `t`. If such any element does not exist in `L`, then the function will return `-1`. Your implementation should be based on the linear search algorithm."
   ],
   "cell_type": "markdown",
   "metadata": {}
  },
  {
   "cell_type": "code",
   "execution_count": null,
   "metadata": {},
   "outputs": [],
   "source": [
    "#YOUR_CODE_HERE"
   ]
  },
  {
   "source": [
    "## Exercise 16.6\n",
    "\n",
    "The text file `DATA.TXT` contains student test scores. Each line of the file scores the results of a single student, and has the following format:\n",
    "\n",
    ">```python\n",
    "><student name>,<test score 1>,<test score 2>,<test score 3>,<test score 4>\n",
    ">```\t\n",
    "\n",
    "Here, <student name> is a string of letters, and each <test score i> corresponds to an integer.\n",
    "\n",
    "The maximum values for the test scores are as follows.\n",
    "- Test score 1 and 2: 50\n",
    "- Test score 3 and 4: 100\n",
    "\t\t\n",
    "The overall score for each student may be calculated by using the following weights:\n",
    "- Test score 1: 10%\n",
    "- Test score 2: 15%\n",
    "- Test score 3: 25%\n",
    "- Test score 4: 50%\n",
    "\n",
    "Write a script that will perform the following.\n",
    "\n",
    "1. Repeatedly ask the user if they wish to perform a search. If they reply no, the script terminates, else the script continues.\n",
    "\n",
    "2.  Asks the user to input one of the following search categories:\n",
    "\t- Overall score\n",
    "\t- Test score 1\n",
    "\t- Test score 2\n",
    "\t- Test score 3\n",
    "\t- Test score 4\n",
    "\n",
    "3. Asks the user to input a search parameter (i.e., the score that they wish to search for).\n",
    "\n",
    "4. Prints ALL the names of students that satisfy the search criteria. Note that you must implement an augmented version of linear search to perform this functionality. \n",
    "\n",
    "5. The script should then continue to the main loop in 1.\n",
    "\n",
    "Your implementation must include all necessary exception handling.\n"
   ],
   "cell_type": "markdown",
   "metadata": {}
  },
  {
   "cell_type": "code",
   "execution_count": null,
   "metadata": {},
   "outputs": [],
   "source": [
    "#YOUR_CODE_HERE"
   ]
  },
  {
   "source": [
    "## Exercise 16.7\n",
    "\n",
    "Design an appropriate set of test cases to test if an implementation of a sorting algorithm (that sorts a list of integers). (Note, you should recall the 3 categories of test cases, and implement sufficient test cases for each.)"
   ],
   "cell_type": "markdown",
   "metadata": {}
  },
  {
   "cell_type": "code",
   "execution_count": null,
   "metadata": {},
   "outputs": [],
   "source": [
    "#YOUR_CODE_HERE"
   ]
  },
  {
   "source": [
    "## Exercise 16.8\n",
    "\n",
    "Given a list of floating point values, `L`. Write the code to output:\n",
    "- The Minimum Value\n",
    "- The First Quartile Value\n",
    "- The Median Value\n",
    "- The Third Quartile Value\n",
    "- The Maximum Value\n",
    "\n",
    "You must implement the Quicksort algorithm to perform the necessary sorting.\n"
   ],
   "cell_type": "markdown",
   "metadata": {}
  },
  {
   "source": [
    "## Exercise 16.8 2015/A Level/P1/Q1 H2 Computing\n",
    "\n",
    "The file `ADMISSIONS—DATA.TXT` contains the daily total admissions to a theme park over a period of 50 days.\n",
    "\n",
    "The task is to read the numbers from the file and display a sorted list.\n",
    "\n",
    "You will program two different sort algorithms:\n",
    "\n",
    "- A bubble sort.\n",
    "- Either a quick sort or an insertion sort but not both.\n",
    "\n",
    "### Task 1\n",
    "Write code for a procedure to display a menu with the following options:\n",
    "\n",
    ">```python\n",
    ">1. Read file data\n",
    ">2. Bubble sort\n",
    ">3. Quick sort / Insertion sort\n",
    ">4. End\n",
    ">```\n",
    "\n",
    "### Task 2\n",
    "Write the program code for a procedure to implement menu option 1.\n",
    "\n",
    "#### Evidence 1\n",
    "- The program code for the menu.\n",
    "- Program code for menu option 1.\n",
    "\n",
    "<div style=\"text-align: right\">[5]</div>\n",
    "\n",
    "Options 2 and 3 will sort and display the sorted data.\n",
    "\n",
    "The algorithm for a bubble sort is given in file `BUBBLE.TXT`.\n",
    "Write program code as a procedure to implement the bubble sort.\n",
    "\n",
    "#### Evidence 2\n",
    "\n",
    ". The bubble sort code procedure.\n",
    "<div style=\"text-align: right\">[1]</div>\n",
    "\n",
    "Write program code as a procedure to implement the quick sort or the insertion sort.\n",
    "\n",
    "#### Evidence 3\n",
    "\n",
    "- Indicate the sort method used.\n",
    "- The program for the sort method used.\n",
    "\n",
    "<div style=\"text-align: right\">[4]</div>\n"
   ],
   "cell_type": "markdown",
   "metadata": {}
  },
  {
   "cell_type": "code",
   "execution_count": null,
   "metadata": {},
   "outputs": [],
   "source": [
    "#YOUR_CODE_HERE"
   ]
  },
  {
   "source": [
    "### Task 3\n",
    "Additional code is to be written for each sort procedure. The sort methods will count and display the number of comparisons made in completing the sort process. This will provide an indicator of the efficiency of each algorithm.\n",
    "\n",
    "Write the additional code to count and display the number of comparisons made for each sort method.\n",
    "\n",
    "#### Evidence 4\n",
    "- The output from menu option 2. \n",
    "<div style=\"text-align: right\">[2]</div>\n",
    "\n",
    "#### Evidence 5\n",
    "- The output from menu option 3. \n",
    "<div style=\"text-align: right\">[2]</div>"
   ],
   "cell_type": "markdown",
   "metadata": {}
  },
  {
   "cell_type": "code",
   "execution_count": null,
   "metadata": {},
   "outputs": [],
   "source": [
    "#YOUR_CODE_HERE"
   ]
  },
  {
   "source": [
    "## Exercise 16.9 2015/A Level/P1/Q1 H2 Computing\n",
    "\n",
    "The following algorithm is an implementation of a quick sort that operates on an array `Scores`. \n",
    "\n",
    "This algorithm assumes that the first element of an array is the zeroth element. This means that `Scores[0]` is the first element in the array.\n",
    "\n",
    "This pseudocode is available in the file `QUICKSORT.TXT`\n",
    "\n",
    ">```\n",
    ">FUNCTION QuickSort(Scores)\n",
    ">    QuickSortHelper(Scores, 0, LENGTH(Scores) — 1)\n",
    ">    RETURN Scores\n",
    ">ENDFUNCTION\n",
    ">\n",
    ">FUNCTION QuickSortHelper(Scoree, First, Last)\n",
    ">    IF First < Last\n",
    ">        THEN \n",
    ">            SplitPoint ← PartitioniScores, First, Last)\n",
    ">            QuickSortHelper(Scores, First, SplitPoint — 1)\n",
    ">            QuickSortHelper(Scores, SplitPoint + 1, Last)\n",
    ">    ENDIF\n",
    ">    RETURN Scores\n",
    ">ENDFUNCTION\n",
    ">\n",
    ">FUNCTION Partition(Scores, First, Last)\n",
    ">    PivotValue ← ScoresIFirsti\n",
    ">    LeftMark ← First + 1\n",
    ">    RightMark ← Last\n",
    ">    Done ← FALSE\n",
    ">    WHILE (Done = FALSE)\n",
    ">        WHILE LeftMark <= RightMark AND Scores[LeftMark] <= PivotValue\n",
    ">            LeftMark ← LeftMark + 1\n",
    ">        ENDWHILE\n",
    ">            WHILE ScoresiRightMark] >= PivotValue AND RightMark >= LeftMark\n",
    ">            RightMark ← RightMark — 1\n",
    ">        ENDWHILE\n",
    ">        IF RightMark < LeftMark\n",
    ">            THEN\n",
    ">                Done ← TRUE\n",
    ">        ELSE\n",
    ">            Temp ← Scores[LeftMark]\n",
    ">            Scores[LeftMark] ← Scores[RightMark]\n",
    ">            ScoresIRightMark] ← Temp\n",
    ">        ENDIF\n",
    ">    ENDWHILE\n",
    ">\n",
    ">    ##<swap Scores[First] with Scores[RightMark]>##\n",
    ">    \n",
    ">    RETURN RightMark\n",
    ">ENDFUNCTION\n",
    ">```\n",
    "\n",
    "### Task 1\n",
    "Write program code to implement this algorithm. Ensure that you add the missing code to complete the algorithm. The area of missing code is highlighted as:\n",
    "\n",
    ">```\n",
    "> ##<swap Scores [First] with Scores [RightMark]>##\n",
    ">```\n",
    "\n",
    "Copy the sample data available in the `SCORES.TXT` file. Paste this into your programming code to set up the data to be sorted.\n",
    "\n",
    "#### Evidence 4\n",
    "Your program code. \n",
    "\n",
    "<div style=\"text-align: right\">[12]</div>"
   ],
   "cell_type": "markdown",
   "metadata": {}
  },
  {
   "cell_type": "code",
   "execution_count": null,
   "metadata": {},
   "outputs": [],
   "source": [
    "#YOUR_CODE_HERE"
   ]
  },
  {
   "source": [
    "### Task 2\n",
    "Add a function to your code to output `Scores`. Call this function before and after the operation of the quick sort so that the unsorted and sorted data is displayed.\n",
    "\n",
    "#### Evidence 5\n",
    "Your program code. \n",
    "\n",
    "<div style=\"text-align: right\">[2]</div>\n",
    "\n",
    "#### Evidence 6\n",
    "Screenshot showing the unsorted and sorted Scores data. \n",
    "\n",
    "<div style=\"text-align: right\">[1]</div>"
   ],
   "cell_type": "markdown",
   "metadata": {}
  },
  {
   "cell_type": "code",
   "execution_count": null,
   "metadata": {},
   "outputs": [],
   "source": [
    "#YOUR_CODE_HERE"
   ]
  }
 ],
 "metadata": {
  "kernelspec": {
   "name": "python3",
   "display_name": "Python 3.9.1 64-bit",
   "metadata": {
    "interpreter": {
     "hash": "dcacb0086e9a4f4eabd41c33bf4faac5ea0a3337ed3f5eff0680afa930572c04"
    }
   }
  },
  "language_info": {
   "codemirror_mode": {
    "name": "ipython",
    "version": 3
   },
   "file_extension": ".py",
   "mimetype": "text/x-python",
   "name": "python",
   "nbconvert_exporter": "python",
   "pygments_lexer": "ipython3",
   "version": "3.9.1-final"
  },
  "orig_nbformat": 2
 },
 "nbformat": 4,
 "nbformat_minor": 2
}