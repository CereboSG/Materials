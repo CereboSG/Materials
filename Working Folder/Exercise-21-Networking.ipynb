{
 "cells": [
  {
   "cell_type": "markdown",
   "metadata": {},
   "source": [
    "# Exercise 19\n",
    "\n",
    "Notes:\n",
    "- Fundamentals_13-Data_And_Information"
   ]
  },
  {
   "cell_type": "markdown",
   "metadata": {},
   "source": [
    "## Exercise 18.1 2020/A Level/P1/Q4 H2 Computing\n",
    "\n",
    "A computer on LAN A wants to send data to a computer on a remote LAN B.\n",
    "The internet is used to provide a data path between the two LANs.\n",
    "- **(a) (i)** State **two** ways that a particular device can be identified on a LAN. <div style=\"text-align: right\">[2]</div>\n",
    "- **(a) (ii)** State **two** reasons why LANs need communication protocols. <div style=\"text-align: right\">[2]</div>\n",
    "\n",
    "IP is the protocol used to transfer packets of data between hosts and routers on the internet.\n",
    "The internet is a packet-switched network.\n",
    "\n",
    "- **(b) (i)** Explain the term packet-switching. <div style=\"text-align: right\">[3]</div>\n",
    "- **(b) (ii)** Describe a disadvantage of packet-switching and how the problem can be handled. <div style=\"text-align: right\">[3]</div>\n",
    "- **(b) (iii)** State how a packet-switched network can cope with a broken cable on part of the\n",
    "network. <div style=\"text-align: right\">[3]</div>\n",
    "\n",
    "When using a web browser, most users do not know the IP address of the server hosting the\n",
    "desired web page. So users enter the domain name instead, which the browser sends to a local\n",
    "domain name server (DNS).\n",
    "- **(c)** Describe the actions that would be carried out by the local DNS on receiving this request. <div style=\"text-align: right\">[4]</div>\n",
    "- **(d)** State the security feature that can be used as a precautionary measure when sensitive data is sent across a network in each of the following situations:\n",
    "    - **(d) (i)** No one other than the intended recipient of the message should be able to read it. <div style=\"text-align: right\">[1]</div>\n",
    "    - **(d) (ii)** The intended recipient must be confident that the message is from the identified sender. <div style=\"text-align: right\">[1]</div>"
   ]
  },
  {
   "cell_type": "markdown",
   "metadata": {},
   "source": [
    "# Your Answer Here"
   ]
  },
  {
   "cell_type": "markdown",
   "metadata": {},
   "source": [
    "## Exercise 18.1 2019/A Level/P2/Q6 H2 Computing\n",
    "\n",
    "Data communication networks can use circuit switching or packet switching.\n",
    "\n",
    "- **(a) (i)** Give two advantages of packet switching over circuit switching. <div style=\"text-align: right\">[2]</div>\n",
    "- **(a) (ii)** Give one advantage of circuit switching over packet switching. <div style=\"text-align: right\">[1]</div>\n",
    "- **(b) (i)** State one reason for using either a parity check or a checksum. <div style=\"text-align: right\">[1]</div>\n",
    "- **(b) (ii)** Give one example of an error that a parity check cannot detect. <div style=\"text-align: right\">[1]</div>\n",
    "- **(c)** Switches and routers are common devices used in networking.\n",
    "Explain the most significant differences between a switch and a router. <div style=\"text-align: right\">[2]</div>\n",
    "- **(d)** Explain the purpose of a bridge in a network. . <div style=\"text-align: right\">[1]</div>\n",
    "- **(e)** A local area network (LAN) can be set up as either client-server or peer-to-peer.\n",
    "Give two advantages in storing shared data on a client-server network rather than on a\n",
    "peer-to-peer network. <div style=\"text-align: right\">[2]</div>"
   ]
  },
  {
   "cell_type": "markdown",
   "metadata": {},
   "source": [
    "#YOUR_ANSWER_HERE"
   ]
  },
  {
   "cell_type": "markdown",
   "metadata": {},
   "source": [
    "## Exercise 18.1 2014/A Level/P2/Q4 H2 Computing\n",
    "A small local area network (LAN) in a school consists of one switch, one file server and ten computers.\n",
    "\n",
    "- **(a)** Explain why circuit switching could be used in this LAN.<div style=\"text-align: right\">[2]</div>\n",
    "\n",
    "The network has a connection to the lnternet added.\n",
    "\n",
    "- **(b)** Explain how packet switching is used when a web page is downloaded from the Internet. <div style=\"text-align: right\">[3]</div>\n",
    "\n",
    "A packet from the web server consists of 256 bytes. One of the bytes is the checksum byte. In each byte one bit is the parity bit.\n",
    "\n",
    "- **(c)** If the byte `0 0 1 1 0 1 0 1` results in a parity error, state the type of parity being used.<div style=\"text-align: right\">[1]</div>\n",
    "\n",
    "- **(d)** The receiving computer uses the checksum byte to check whether the packet contains an \n",
    "error. Explain how it does this. <div style=\"text-align: right\">[4]</div>\n",
    " \n"
   ]
  },
  {
   "cell_type": "markdown",
   "metadata": {},
   "source": [
    "#YOUR_ANSWER_HERE"
   ]
  },
  {
   "cell_type": "markdown",
   "metadata": {},
   "source": [
    "## Exercise 18.1 2017/A Level/P2/Q4 H2 Computing\n",
    "\n",
    "- **(a)** A local area network (LAN) can be set up as either client-server or peer-to-peer.\n",
    "    - **(i)** State where data are stored on a client-server network. <div style=\"text-align: right\">[1]</div>\n",
    "    - **(ii)** State where data are stored on a peer-to-peer network. <div style=\"text-align: right\">[1]</div>\n",
    "    - **(iii)** Describe one benefit of a client-server network over a peer-to-peer network. <div style=\"text-align: right\">[2]</div>\n",
    "    - **(iv)** Describe one drawback of a client-server network compared to a peer-to-peer network.\n",
    "<div style=\"text-align: right\">[2]</div>\n",
    "\n",
    "- **(b)** A college has five IT rooms. Each room has 20 computers which can only print to a single printer in the room. At busy times in the year, there can be up to 100 students printing their coursework at the same time.\n",
    "    Explain how all these print jobs are controlled and sent to the printer. <div style=\"text-align: right\">[2]</div>\n",
    "- **(c)** A 30 megabyte file is transferred over a network to a printer in 5 seconds.\n",
    "    Calculate the transfer rate, in megabits per second, used to transfer this file. Show all of your working. <div style=\"text-align: right\">[2]</div>\n"
   ]
  },
  {
   "cell_type": "markdown",
   "metadata": {},
   "source": [
    "#YOUR_ANSWER_HERE"
   ]
  },
  {
   "cell_type": "markdown",
   "metadata": {},
   "source": [
    "### Task 2\n",
    "Draw up a list of three suitable test cases. Complete a table with the following headings:\n",
    "\n",
    "<center>\n",
    "\n",
    "| Hexadecimal | Purpose of the test | Expected Output | \n",
    "|-|-|-|\n",
    "| |||\n",
    "| |||\n",
    "| |||\n",
    "\n",
    "</center>\n",
    "\n",
    "Provide screenshot evidence for your testing.\n",
    "\n",
    "### Evidence \n",
    "The completed table.\n",
    "Screenshots for each test data run. \n",
    "<div style=\"text-align: right\">[5]</div>\n"
   ]
  },
  {
   "cell_type": "code",
   "execution_count": null,
   "metadata": {},
   "outputs": [],
   "source": [
    "#YOUR_ANSWER_HERE"
   ]
  },
  {
   "cell_type": "markdown",
   "metadata": {},
   "source": [
    "### Task 3\n",
    "Write additional code to convert a denary number into a hexadecimal number. ,\n",
    "\n",
    "### Evidence\n",
    "Your program code. \n",
    "<div style=\"text-align: right\">[10]</div>"
   ]
  },
  {
   "cell_type": "code",
   "execution_count": null,
   "metadata": {},
   "outputs": [],
   "source": [
    "#YOUR_ANSWER_HERE"
   ]
  },
  {
   "cell_type": "markdown",
   "metadata": {},
   "source": [
    "## Exercise 18.2 2019/A Level/P1/Q2 H2 Computing\n",
    "\n",
    "Characters are numerically encoded using ASCII codes.\n",
    "- 'A' has the denary value 65; ‘B' has the denary value 66 and so on.\n",
    "- 'a' has the denary value 97; 'b' has the denary value 98 and so on.\n",
    "\n",
    "The ROT-13 encoding function replaces a letter with the letter that is 13 positions after it in the alphabet. Characters that are not letters remain unchanged. \n",
    "\n",
    "The function wraps around from the end of the alphabet back to the beginning. The case of the coded letter should match the case of the original letter.\n",
    "For example:\n",
    "- 'A' is replaced with 'N'; 'a' is replaced with 'n'\n",
    "- 'B' is replaced with 'O'; 'b' is replaced with 'o' \n",
    "- 'Z' is replaced with 'M'; 'z' is replaced with 'm'\n",
    "\n",
    "### Task 1\n",
    "Write program code that:\n",
    "- reads a string of characters as input\n",
    "- encodes the string in ROT-13 form\n",
    "- outputs the encoded string.\n",
    "\n",
    "Run the program **three** times with the inputs:\n",
    "\n",
    ">```\n",
    ">This is a word.\n",
    ">ALL &&&& CAPITALS\n",
    ">UpperCamelCasel2()\n",
    ">```\n",
    "\n",
    "### Evidence \n",
    "Your program code.\n",
    "Screenshots of your program outputs.\n",
    "<div style=\"text-align: right\">[9]</div>"
   ]
  },
  {
   "cell_type": "code",
   "execution_count": null,
   "metadata": {},
   "outputs": [],
   "source": [
    "#YOUR_ANSWER_HERE"
   ]
  },
  {
   "cell_type": "markdown",
   "metadata": {},
   "source": [
    "### Task 2.2\n",
    "A string is encoded using ROT-13. The resulting string is then encoded using ROT-13. The output of the second encoding should be identical to the original string.\n",
    "\n",
    "Amend your program code to apply ROT-13 twice, in the method described. Show that the resulting string is identical to the original string.\n",
    "\n",
    "### Evidence 4\n",
    "Your program code. '\n",
    "Screenshot of the output from **one** of the given inputs.\n",
    "<div style=\"text-align: right\">[3]</div>"
   ]
  },
  {
   "cell_type": "code",
   "execution_count": null,
   "metadata": {},
   "outputs": [],
   "source": [
    "#YOUR_ANSWER_HERE"
   ]
  }
 ],
 "metadata": {
  "interpreter": {
   "hash": "dcacb0086e9a4f4eabd41c33bf4faac5ea0a3337ed3f5eff0680afa930572c04"
  },
  "kernelspec": {
   "display_name": "Python 3.9.1 64-bit",
   "name": "python3"
  },
  "language_info": {
   "name": "python",
   "version": ""
  },
  "orig_nbformat": 2
 },
 "nbformat": 4,
 "nbformat_minor": 2
}
