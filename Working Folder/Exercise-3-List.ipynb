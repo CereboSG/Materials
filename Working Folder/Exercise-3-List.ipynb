{
 "metadata": {
  "language_info": {
   "codemirror_mode": {
    "name": "ipython",
    "version": 3
   },
   "file_extension": ".py",
   "mimetype": "text/x-python",
   "name": "python",
   "nbconvert_exporter": "python",
   "pygments_lexer": "ipython3",
   "version": 3
  },
  "orig_nbformat": 2
 },
 "nbformat": 4,
 "nbformat_minor": 2,
 "cells": [
  {
   "source": [
    "# Exercise 3.1\n",
    "\n",
    "Recall from Exercise 1.2, an **arithmetic sequence** is a sequence of real numbers \n",
    "$$u_1,u_2,\\cdots, u_n$$\n",
    "such that the difference between two consecutive terms is constant, i.e. $u_{n+1}-u_n=d$ for some constant $d\\in \\mathbb{R}$ and $d\\neq 0$, called the **common difference** and $n\\geq 1$.\n",
    "\n",
    "For example, the sequence $2,5,8,11,14,\\dots$ is an arithmetic sequence with first term $2$ and common difference $3$.\n",
    "\n",
    "Write a program to generate a list of the first $n$ terms of an arithmetic sequence with a user defined first term $a$ and common difference $d$.\n",
    "\n",
    "The problem: \n",
    "- Request a numeric input from the user to be used as the first term.  Let us denote this input as `first_term`.\n",
    "- Request a numeric input from the user to be used as the common difference.  Let us denote this input as `common_difference`.\n",
    "- Request an integer input from the user for the number of terms.  Let us denote this input as `number_of_terms`.\n",
    "- Print out the list that contains the arithmetic sequence up to the $n$th term.\n",
    "\n",
    "Example interaction: \n",
    "\n",
    ">Please input the first term in the arithmetic sequence:<br>\n",
    ">2<br>\n",
    ">Please input the common difference:<br>\n",
    ">3<br>\n",
    ">Please input the number of terms:<br>\n",
    ">5<br>\n",
    ">The list containing the first 5 terms of the arithmetic sequence are:<br>\n",
    ">\\[2,5,8,11,14\\]<br>"
   ],
   "cell_type": "markdown",
   "metadata": {}
  }
 ]
}