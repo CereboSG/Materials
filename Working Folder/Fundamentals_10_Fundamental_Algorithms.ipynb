{
 "cells": [
  {
   "cell_type": "markdown",
   "source": [
    "# Learning Objectives\n",
    "\n",
    "- [ ] 1.2.1 Implement sort algorithms.\n",
    "    - Insertion sort\n",
    "    - Bubble sort\n",
    "    - Quicksort\n",
    "    - Merge sort\n",
    "- [ ] 1.2.2 Use examples to explain sort algorithms.\n",
    "- [ ] 1.2.3 Implement search algorithms.\n",
    "    - Linear search\n",
    "    - Binary search\n",
    "    - Hash table search (after Abstract Data Type)\n",
    "- [ ] 1.2.4 Use Examples to explain search algorithms.\n",
    "- [ ] 1.2.5 Compare and describe the efficiencies of the sort and search algorithms using Big-$O$ notation for time complexity (worst case). Exclude: space complexity\n",
    "- [ ] 2.3.1 Implement sort programs.\n",
    "    - Insertion sort\n",
    "    - Bubble sort\n",
    "    - Quicksort\n",
    "    - Merge sort\n",
    "- [ ] 2.3.2 Implement search programs.\n",
    "    - Linear search\n",
    "    - Binary search\n",
    "    - Hash table search (after Abstract Data Type)\n",
    "\n",
    "# References\n",
    "\n",
    "1. Leadbetter, C., Blackford, R., & Piper, T. (2012). Cambridge international AS and A level computing coursebook. Cambridge: Cambridge University Press.\n",
    "2. https://www.sparknotes.com/cs/sorting/bubble/section1/#:~:text=The%20total%20number%20of%20comparisons,since%20no%20swaps%20were%20made.\n",
    "3. https://visualgo.net/en"
   ],
   "metadata": {}
  },
  {
   "cell_type": "markdown",
   "source": [
    "# 10.1 Search Algorithm\n",
    "\n",
    "A search algorithm is an algorithm to retrieve information from some data structure. Some examples include:\n",
    "- Finding the maximum or minimum value in a list or array\n",
    "- Checking to see if a given value is present in a set of values\n",
    "- Retrieving a record from a database"
   ],
   "metadata": {}
  },
  {
   "cell_type": "markdown",
   "source": [
    "## 10.1.1 Linear Search\n",
    "\n",
    "A **linear search**, also called **serial** or **sequential** searches an item in a given array sequentially till the end of the collection. It does not require the data to be in any particular order. \n",
    "\n",
    "To find the position of a particular value involves looking at each value in turn – starting with the first – and comparing it with the value you are looking for. When the value is found, you need to note its position. You must also be able to report the special case that a value has not been found. This last part only becomes apparent when the search has reached the final data item without finding the required value.\n",
    "\n",
    "### Example\n",
    "\n",
    "In this example, you have the array `[10,14,19,26,27,31,33,35,42,44]` and you are looking for the value `33` in the array.\n",
    "\n",
    "<center>\n",
    "<img src=\"images/mario_2.jpg\" width=\"250\" align=\"center\"/>\n",
    "</center>\n",
    "\n",
    "The pseudocode for linear search function is given below. It returns the index of the searched value in the array if it exists. In the case that the value is not in the array, the function returns `-1`."
   ],
   "metadata": {}
  },
  {
   "cell_type": "code",
   "execution_count": null,
   "source": [
    "FUNCTION LINEARSEARCH(A: ARRAY of INTEGER, t: INTEGER) RETURNS INTEGER\r\n",
    "    DECLARE index: INTEGER\r\n",
    "\tindex ← -1\r\n",
    "\tFOR i = 1 TO A.SIZE\r\n",
    "\t\tIF A[i] = t THEN\r\n",
    "\t\t\tindex ← i\r\n",
    "\t\t\tBREAK\r\n",
    "\t\tENDIF\r\n",
    "\tENDFOR\r\n",
    "\tRETURN index\r\n",
    "ENDFUNCTION"
   ],
   "outputs": [],
   "metadata": {}
  },
  {
   "cell_type": "code",
   "execution_count": 3,
   "source": [
    "def linear_search(array,val):\r\n",
    "    index = -1\r\n",
    "    for i in range(0,len(array)):\r\n",
    "        if array[i] == val:\r\n",
    "            index = i\r\n",
    "            break\r\n",
    "    return index"
   ],
   "outputs": [],
   "metadata": {}
  },
  {
   "cell_type": "code",
   "execution_count": null,
   "source": [
    "def linear_search_rec(array,val,i=0):\r\n",
    "    if array[i] == val:\r\n",
    "        return i\r\n",
    "    else:\r\n",
    "        return linear_search_rec(array[1:],val)\r\n",
    "\r\n"
   ],
   "outputs": [],
   "metadata": {}
  },
  {
   "cell_type": "markdown",
   "source": [
    "### Exercise\r\n",
    "\r\n",
    "Implement a function `linear_search(array, val)` which searches the list `array` for a value `val` using the linear search algorithm.\r\n",
    "\r\n",
    "Test your function with the following list\r\n",
    "> `\r\n",
    "[39, 96, 51, 20, 42, 42, 74, 28, 66, 16, 10, 86, 6, 43, 67, 98, 32, 73, 99, 7, 80, 88, 57, 83, 1, 64, 33, 38, 38, 8, 68, 38, 42, 80, 71, 82, 25, 29, 2, 85, 2, 96, 34, 14, 9, 65, 50, 63, 99, 94, 5, 93, 84, 46, 64, 22, 59, 31, 74, 13, 93, 13, 98, 93]`\r\n",
    "\r\n",
    "with the values `9` and `2`. What do you observe for the latter value?"
   ],
   "metadata": {}
  },
  {
   "cell_type": "code",
   "execution_count": 24,
   "source": [
    "%%timeit\r\n",
    "#YOUR_CODE_HERE\r\n",
    "\r\n",
    "array = [39, 96, 51, 20, 42, 42, 74, 28, 66, 16, 10, 86, 6, 43, 67, 98, 32, 73, 99, 7, 80, 88, 57, 83, 1, 64, 33, 38, 38, 8, 68, 38, 42, 80, 71, 82, 25, 29, 2, 85, 2, 96, 34, 14, 9, 65, 50, 63, 99, 94, 5, 93, 84, 46, 64, 22, 59, 31, 74, 13, 93, 13, 98, 93]\r\n",
    "linear_search(array,9)"
   ],
   "outputs": [
    {
     "output_type": "stream",
     "name": "stdout",
     "text": [
      "2.38 µs ± 74 ns per loop (mean ± std. dev. of 7 runs, 100000 loops each)\n"
     ]
    }
   ],
   "metadata": {}
  },
  {
   "cell_type": "markdown",
   "source": [
    "In linear search, all items are searched one-by-one to find the required item.\n",
    "\n",
    "If the array has $n$ elements to be compared to,\n",
    "\n",
    "- The best-case lookup to find an item is $1$ comparison, i.e., the item is at the head of the array.\n",
    "- The worst-case lookup to find an item is $n$ comparisons, i.e. the item is at the end of the array.\n",
    "- The average lookup to find an item is approximately $\\frac{n}{2}$ comparisons. \n",
    "\n",
    "Clearly, if $n$ is large,  this can be a very large number of comparisons and the serial search algorithm can take a long time.\n",
    "\n",
    "Consequently, we have for serial search,\n",
    "- Advantage:\n",
    "    - algorithm is straightforward and easy to implement,\n",
    "    - data need not be in any particular order,\n",
    "    - works well if there is a small number of data item.\n",
    "- Disadvantage:\n",
    "    - search can take a long time if value of $n$ is large, i.e. inefficient if there is a large number of data items.\n",
    "\n",
    "o\tVariations:\n",
    "\tSearch target requires a different criteria (not just object existence).\n",
    "\tMust find all instances of target.\n",
    "\tMust find particular instance of target (first, last, etc.).\n",
    "\tMust find object just greater/smaller than target.\n"
   ],
   "metadata": {}
  },
  {
   "cell_type": "markdown",
   "source": [
    "## 10.1.2 Binary Search\n",
    "\n",
    "In the previous section, we looked at linear search where the data is not required to be stored in any particular order. On the other hand, if we know that the data is stored in an ascending order, we can utilize the another algorithm called the **binary search**. \n",
    "\n",
    "Workings of binary search algorithm:\n",
    "- First check the MIDDLE element in the list.\n",
    "- If it is the value we want, we can stop.\n",
    "- If it is HIGHER than the value we want, we repeat the search process with the portion of the list BEFORE the middle element.\n",
    "- If it is LOWER than the value we want, we repeat the search process with the portion of the list AFTER the middle element.\n",
    "\n",
    "Note that  if there is an even number of values in the array, dividing by two gives a whole number and we split the array there. However, if the array consists of an odd number of values we need to find the integer part of it, as an array index must be an integer. \n",
    "\n",
    "The pseudocode for binary search function is given below. It returns the index of the searched value in the array if it exists. In the case that the value is not in the array, the function returns `-1`."
   ],
   "metadata": {}
  },
  {
   "cell_type": "code",
   "execution_count": null,
   "source": [
    "FUNCTION BinarySearch(A: ARRAY of INTEGER, t: INTEGER) RETURNS INTEGER\r\n",
    "\tDECLARE start, mid, end: INTEGER\r\n",
    "\tstart ← 1\r\n",
    "\tend ← A.SIZE\r\n",
    "\tWHILE start <= end DO\r\n",
    "\t\tmid ← (start + end) DIV 2\r\n",
    "\t\tIF t = A[mid] THEN\r\n",
    "\t\t\tRETURN mid\r\n",
    "\t\tENDIF\r\n",
    "\t\tIF t < A[mid] THEN\r\n",
    "\t\t\tend ← mid – 1\r\n",
    "\t\tELSE\r\n",
    "\t\t\tstart ← mid + 1\r\n",
    "\t\tENDIF\r\n",
    "\tENDWHILE\r\n",
    "\tRETURN -1\r\n",
    "ENDFUNCTION"
   ],
   "outputs": [],
   "metadata": {}
  },
  {
   "cell_type": "code",
   "execution_count": 7,
   "source": [
    "def binarysearch(array,val):\r\n",
    "    start = 1\r\n",
    "    end = len(array)\r\n",
    "    while start <end :\r\n",
    "        mid = (start + end ) //2\r\n",
    "        if val == array[mid]:\r\n",
    "            return mid\r\n",
    "        if val < array[mid]:\r\n",
    "            end = mid - 1\r\n",
    "        else:\r\n",
    "            start = mid + 1\r\n",
    "    return -1"
   ],
   "outputs": [],
   "metadata": {}
  },
  {
   "cell_type": "code",
   "execution_count": 20,
   "source": [
    "%%timeit\r\n",
    " = [39, 96, 51, 20, 42, 42, 74, 28, 66, 16, 10, 86, 6, 43, 67, 98, 32, 73, 99, 7, 80, 88, 57, 83, 1, 64, 33, 38, 38, 8, 68, 38, 42, 80, 71, 82, 25, 29, 2, 85, 2, 96, 34, 14, 9, 65, 50, 63, 99, 94, 5, 93, 84, 46, 64, 22, 59, 31, 74, 13, 93, 13, 98, 93]\r\n",
    "sorted_array=sorted(array)\r\n",
    "binarysearch(sorted_array,98)"
   ],
   "outputs": [
    {
     "output_type": "stream",
     "name": "stdout",
     "text": [
      "3.77 µs ± 177 ns per loop (mean ± std. dev. of 7 runs, 100000 loops each)\n"
     ]
    }
   ],
   "metadata": {}
  },
  {
   "cell_type": "markdown",
   "source": [
    "### Exercise\n",
    "\n",
    "Implement a function `binary_search(array, val)` which searches the list `array` for a value `val` using the binary search algorithm described above.\n",
    "\n",
    "Test your function with the following list\n",
    "> `\n",
    "[39, 96, 51, 20, 42, 42, 74, 28, 66, 16, 10, 86, 6, 43, 67, 98, 32, 73, 99, 7, 80, 88, 57, 83, 1, 64, 33, 38, 38, 8, 68, 38, 42, 80, 71, 82, 25, 29, 2, 85, 2, 96, 34, 14, 9, 65, 50, 63, 99, 94, 5, 93, 84, 46, 64, 22, 59, 31, 74, 13, 93, 13, 98, 93]`\n",
    "\n",
    "with the values `9` and `2`."
   ],
   "metadata": {}
  },
  {
   "cell_type": "code",
   "execution_count": null,
   "source": [
    "#YOUR_CODE_HERE"
   ],
   "outputs": [],
   "metadata": {}
  },
  {
   "cell_type": "markdown",
   "source": [
    "If the array has $n$ elements to be compared to,\n",
    "\n",
    "- The best-case lookup to find an item is $1$ comparison, i.e., the item is at the middle of the array.\n",
    "- The worst-case lookup to find an item is approximately $\\log_2{n}$ comparisons."
   ],
   "metadata": {}
  },
  {
   "cell_type": "code",
   "execution_count": null,
   "source": [
    "#YOUR_CODE_HERE"
   ],
   "outputs": [],
   "metadata": {}
  },
  {
   "cell_type": "markdown",
   "source": [
    "Jupyter Notebook provides a magic function `%timeit` and `%%timeit` to time a code execution.\n",
    "* `%timeit` is used to time a single line of statement\n",
    "* `%%timeit` is used to time all codes in a cell. `%%timeit` must be placed at first line of cell. \n",
    "\n",
    "### Exercise \n",
    "Use `%timeit` to time the code executions for both the functions:\n",
    "- `linear_search`,\n",
    "- `binary_search`\n",
    "\n",
    "that you have coded in the previous exercise, using the \n",
    "> `\n",
    "[39, 96, 51, 20, 42, 42, 74, 28, 66, 16, 10, 86, 6, 43, 67, 98, 32, 73, 99, 7, 80, 88, 57, 83, 1, 64, 33, 38, 38, 8, 68, 38, 42, 80, 71, 82, 25, 29, 2, 85, 2, 96, 34, 14, 9, 65, 50, 63, 99, 94, 5, 93, 84, 46, 64, 22, 59, 31, 74, 13, 93, 13, 98, 93]`\n",
    "\n",
    "with the search value `9`."
   ],
   "metadata": {}
  },
  {
   "cell_type": "code",
   "execution_count": null,
   "source": [
    "#YOUR_CODE_HERE\r\n",
    "%timeit\r\n",
    "linear"
   ],
   "outputs": [],
   "metadata": {}
  },
  {
   "cell_type": "code",
   "execution_count": null,
   "source": [],
   "outputs": [],
   "metadata": {}
  },
  {
   "cell_type": "markdown",
   "source": [
    "# 10.2 Sorting Algorithms\n",
    "\n",
    "Sorting refers to arranging a fixed set of data in a particular order. Sorting orders could be numerical (`1`,`2`, `3`, ...), lexicographical/dictionary (`AA`, `AB`, `AC`, ...) or custom ('Mon', 'Tue', 'Wed', ...).\n",
    "\n",
    "Sorting algorithms specify ways to arrange data in particular ways to put the data in order. In this section, it is assumed that the sorted data is in ascending order."
   ],
   "metadata": {}
  },
  {
   "cell_type": "markdown",
   "source": [
    "## 10.1 Insertion Sort\n",
    "\n",
    "In insertion sort algorithm, we compare each element, termed `key` element, in turn with the elements before it in the array. We then insert the `key` element into its correct position in the array.\n",
    "\n",
    "### Example\n",
    "\n",
    "In this example, the array `[6,5,3,1,8,7,2,4]` is sorted with insertion sort.\n",
    "\n",
    "<center>\n",
    "<img src=\"images/mario_2.jpg\" width=\"250\" align=\"center\"/>\n",
    "</center>\n",
    "\n",
    "The pseudocode for insertion sort function for an array containing integer elements is given below:"
   ],
   "metadata": {}
  },
  {
   "cell_type": "code",
   "execution_count": null,
   "source": [
    "FUNCTION InsertionSort(A: ARRAY of INTEGER) RETURNS ARRAY of INTEGER\n",
    "\tDECLARE j, temp: INTEGER\n",
    "    FOR i = 2 to A.SIZE\n",
    "        j ← i\n",
    "        WHILE j > 1 AND A[j] < A[j – 1] DO\n",
    "            temp ← A[j]\n",
    "            A[j] ← A[j - 1]\n",
    "            A[j - 1] ← temp\n",
    "            j ← j - 1\n",
    "        ENDWHILE\n",
    "    ENDFOR\n",
    "    RETURN A\n",
    "ENDFUNCTION"
   ],
   "outputs": [],
   "metadata": {}
  },
  {
   "cell_type": "markdown",
   "source": [
    "### Exercise\n",
    "\n",
    "Implement a function `insertion_sort(array)` which sorts the list `array` in the ascending order according to the insertion algorithm given above.\n",
    "\n",
    "Test your function with the following list\n",
    "> `\n",
    "[39, 96, 51, 20, 42, 42, 74, 28, 66, 16, 10, 86, 6, 43, 67, 98, 32, 73, 99, 7, 80, 88, 57, 83, 1, 64, 33, 38, 38, 8, 68, 38, 42, 80, 71, 82, 25, 29, 2, 85, 2, 96, 34, 14, 9, 65, 50, 63, 99, 94, 5, 93, 84, 46, 64, 22, 59, 31, 74, 13, 93, 13, 98, 93]`."
   ],
   "metadata": {}
  },
  {
   "cell_type": "code",
   "execution_count": null,
   "source": [
    "#YOUR_CODE_HERE"
   ],
   "outputs": [],
   "metadata": {}
  },
  {
   "cell_type": "markdown",
   "source": [
    "Note:\n",
    "- The outer for-loop in Insertion Sort function always iterates $n-1$ times.\n",
    "- The inner for-loop will make $1 + 2 + 3 ... + (n-1)=\\frac{n(n-1)}{2}$ comparisons in worst case."
   ],
   "metadata": {}
  },
  {
   "cell_type": "markdown",
   "source": [
    "# 10.2 Bubble Sort\n",
    "\n",
    "The next sorting algorithm iterates over an array multiple times. \n",
    "* In each iteration, it takes 2 consecutive elements and compare them. \n",
    "* It swaps the smaller value to the left and larger value to the right.\n",
    "* It repeats until the larger elements \"bubble up\" to the end of the list, and the smaller elements moves to the \"bottom\". This is the reason for the naming of the algorithm.\n",
    "* The right-hand side of the array are sorted. \n",
    "\n",
    "### Example\n",
    "\n",
    "In this example, the array `[6,5,3,1,8,7,2,4]` is sorted with bubble sort.\n",
    "\n",
    "<center>\n",
    "<img src=\"images/mario_2.jpg\" width=\"250\" align=\"center\"/>\n",
    "</center>\n",
    "\n",
    "We see that\n",
    "* For 1st iteration, we need to make $n-1$ comparisons. It will bring the largest value to the extreme right.\n",
    "* For 2nd iteration, we need to make $n-2$ comparisons. It will bring 2nd largest value to the 2nd extreme right.\n",
    "* And so on...\n",
    "\n",
    "Consequently, we need a nested loops to make multiple iterations. \n",
    "\n",
    "The pseudocode for bubble sort function for an array containing integer elements is given below:"
   ],
   "metadata": {}
  },
  {
   "cell_type": "code",
   "execution_count": null,
   "source": [
    "FUNCTION BubbleSort(A: ARRAY of INTEGER) RETURNS ARRAY of INTEGER\n",
    "    DECLARE swap: BOOLEAN\n",
    "    DECLARE temp: INTEGER\n",
    "    FOR i = 1 to (A.SIZE – 1)\n",
    "        swap ← FALSE\n",
    "        FOR j = 1 to (A.SIZE – i)\n",
    "            IF A[j] > A[j + 1] THEN\n",
    "                temp ← A[j]\n",
    "                A[j] ← A[j + 1]\n",
    "                A[j + 1] ← temp\n",
    "                swap ← TRUE\n",
    "            ENDIF\n",
    "        ENDFOR\n",
    "        IF NOT swap THEN\n",
    "            BREAK\n",
    "        ENDIF\n",
    "    ENDFOR\n",
    "    RETURN A\n",
    "ENDFUNCTION\n"
   ],
   "outputs": [],
   "metadata": {}
  },
  {
   "cell_type": "markdown",
   "source": [
    "### Exercise\n",
    "\n",
    "Implement a function `bubble_sort(array)` which sorts the list `array` in the ascending order according to the bubble algorithm given above.\n",
    "\n",
    "Test your function with the following list\n",
    "> `\n",
    "[39, 96, 51, 20, 42, 42, 74, 28, 66, 16, 10, 86, 6, 43, 67, 98, 32, 73, 99, 7, 80, 88, 57, 83, 1, 64, 33, 38, 38, 8, 68, 38, 42, 80, 71, 82, 25, 29, 2, 85, 2, 96, 34, 14, 9, 65, 50, 63, 99, 94, 5, 93, 84, 46, 64, 22, 59, 31, 74, 13, 93, 13, 98, 93]`."
   ],
   "metadata": {}
  },
  {
   "cell_type": "code",
   "execution_count": null,
   "source": [
    "#YOUR_CODE_HERE"
   ],
   "outputs": [],
   "metadata": {}
  },
  {
   "cell_type": "markdown",
   "source": [
    "Note:\n",
    "- The amount of comparisons in Bubble Sort algorithgm is $(n - 1) + (n - 2) + ... + 1=\\frac{n(n-1)}{2}$ comparisons,\n",
    "- Best case is when the array is already sorted and bubble sort will terminate after the first iterations. \n",
    "- Bubble sort is also efficient when one random element needs to be sorted into a sorted array, provided that new element is placed at the beginning and not at the end. \n",
    "- The absolute worst case for bubble sort is when the smallest element of the array is the last element in the end of the array. Because in each iteration only the largest unsorted element gets put in its proper location, when the smallest element is at the end, it will have to be swapped each time through the array, and it wont get to the front of the list until all $n$ iterations have occurred."
   ],
   "metadata": {}
  },
  {
   "cell_type": "markdown",
   "source": [
    "# 10.3 Quicksort\n",
    "\n",
    "Quicksort is a sorting technique based on divide and conquer technique. Quicksort first selects an element, termed the `pivot`, and partitions the array around the pivot, putting every smaller element into a low array and every larger element into a high array. \n",
    "\n",
    "* The `pivot` element can selected randomly, but one way to select the pivot is to use the element in the middle of the array as the pivot\n",
    "* The first pass partitions data into 3 sub-arrays, `lesser` (less than pivot), `equal` (equal to pivot) and `greater` (greater than pivot).\n",
    "* The process repeats for `lesser` array and `greater` array.\n",
    "\n",
    "<center>\n",
    "<img src=\"images/mario_2.jpg\" width=\"250\" align=\"center\"/>\n",
    "</center>\n",
    "\n",
    "The pseudocode for quicksort function for an array containing $N$ elements is given below:"
   ],
   "metadata": {}
  },
  {
   "cell_type": "code",
   "execution_count": null,
   "source": [
    "PROCEDURE QuickSort(MyList, LB, UB)\n",
    "    IF LB <> UB THEN\n",
    "    #there is more than one element in MyList\n",
    "        LeftP ← LB #Left pointer\n",
    "        RightP ← UB #Right pointer\n",
    "        REPEAT\n",
    "            WHILE LeftP <> RightP AND MyList[LeftP] < MyList[RightP] DO\n",
    "            #move right pointer left\n",
    "                RightP ← RightP — l\n",
    "            ENDWHILE\n",
    "            IF LeftP <> RightP THEN \n",
    "                swap MyList[LeftP] and MyList[J]\n",
    "            WHILE LeftP <> RightP AND MyList[LeftP] < MyList[RightP] DO\n",
    "            #move left pointer right\n",
    "                LeftP ← LeftP + 1\n",
    "            ENDWHILE\n",
    "            IF LeftP <> RightP THEN \n",
    "                swap MyList[LeftP] and MyList[RightP]\n",
    "        UNTIL LeftP = RightP\n",
    "        #value now in correct position so sort left sub-list\n",
    "        QuickSort(MyList, LB, LeftP — 1)\n",
    "        #now sort right sub-list\n",
    "        QuickSort(MyList, LeftP + l, UB)\n",
    "    ENDIF\n",
    "END PROCEDURE"
   ],
   "outputs": [],
   "metadata": {}
  },
  {
   "cell_type": "markdown",
   "source": [
    "### Exercise\n",
    "\n",
    "Implement a function `quicksort(array)` which sorts the list `array` in the ascending order according to the quicksort algorithm given above.\n",
    "\n",
    "Test your function with the following list\n",
    "> `\n",
    "[39, 96, 51, 20, 42, 42, 74, 28, 66, 16, 10, 86, 6, 43, 67, 98, 32, 73, 99, 7, 80, 88, 57, 83, 1, 64, 33, 38, 38, 8, 68, 38, 42, 80, 71, 82, 25, 29, 2, 85, 2, 96, 34, 14, 9, 65, 50, 63, 99, 94, 5, 93, 84, 46, 64, 22, 59, 31, 74, 13, 93, 13, 98, 93]`."
   ],
   "metadata": {}
  },
  {
   "cell_type": "code",
   "execution_count": null,
   "source": [
    "#YOUR_CODE_HERE"
   ],
   "outputs": [],
   "metadata": {}
  },
  {
   "cell_type": "markdown",
   "source": [
    "Note: \n",
    "- The worst case scenario is when the smallest or largest element is always selected as the pivot. This would create partitions of size $n-1$, causing recursive calls $n-1$ times.\n",
    "- With a good pivot, the input list is partitioned in linear time, O(n), and this process repeats recursively an average of $\\log_2{n}$ times. \n",
    "- This leads to a final complexity of $O(n \\log_2n)$.\n",
    "- The above implementation of the quicksort algorithm does not sore “in place”, and has a high space complexity. In order to overcome this, you need to change the algorithm slightly – i.e., use a variant that does not create new linked lists to store elements greater/less than the pivot"
   ],
   "metadata": {}
  },
  {
   "cell_type": "markdown",
   "source": [
    "# 10.4 Merge Sort\n",
    "\n",
    "Similar to Quicksort, Merge sort is a sorting technique based on divide and conquer technique. It first divides the array into equal halves and then combines them in a sorted manner.\n",
    "- if it is only one element in the list it is already sorted, return.\n",
    "- divide the list recursively into two halves until it can no more be divided.\n",
    "- merge the smaller lists into new list in sorted order.\n",
    "\n",
    "The important subroutine `merge` : Given two sorted array, $A$ and $B$ of size $n_1$ and $n_2$, \n",
    "\n",
    "The pseudocode for merge sort function for an array containing $N$ elements is given below:"
   ],
   "metadata": {}
  },
  {
   "cell_type": "code",
   "execution_count": null,
   "source": [
    "FUNCTION Merge(A:ARRAY of INTEGER, B: ARRAY of Integer) RETURNS ARRAY of INTEGER\n",
    "    DECLARE C: ARRAY [1: A.SIZE + B.SIZE] of INTEGER\n",
    "    DECLARE J: INTEGER\n",
    "\n",
    "    J = 1\n",
    "\n",
    "    WHILE ( A.SIZE >= 1 AND B.SIZE >= 1)\n",
    "        IF ( A[1] > B[1] ) \n",
    "            THEN\n",
    "            C[J] ← B[1]\n",
    "            J ← J + 1\n",
    "            B ← B [from 2 to B.Size]\n",
    "        ELSE\n",
    "            C[J] ← A[1]\n",
    "            J ← J + 1\n",
    "            A ← A [from 2 to A.Size]\n",
    "        ENDIF\n",
    "    ENDWHILE\n",
    "\n",
    "    WHILE ( A.SIZE >= 1 )\n",
    "        C[J] ← A[1]\n",
    "        J ← J + 1\n",
    "        A ← A [from 2 to A.Size]\n",
    "    ENDWHILE\n",
    "\n",
    "    WHILE ( B.SIZE >= 1 )\n",
    "        C[J] ← B[1]\n",
    "        J ← J + 1\n",
    "        B ← B [from 2 to B.Size]\n",
    "    ENDWHILE\n",
    "\n",
    "    RETURN C\n",
    "    \n",
    "ENDFUNCTION\n",
    "\n",
    "\n",
    "FUNCTION MergeSort(A: ARRAY of INTEGER) RETURNS ARRAY of INTEGER\n",
    "    // Base case. A list of zero or one elements is sorted, by definition.\n",
    "    IF A.SIZE <= 1 \n",
    "        THEN\n",
    "        RETURN A\n",
    "    ENDIF\n",
    "\n",
    "    // Recursive case. First, divide the list into roughly equal-sized subarrays\n",
    "    // consisting of the first half and second half of the array A.\n",
    "    DECLARE Left: ARRAY [1: A.SIZE/2] of INTEGER\n",
    "    DECLARE Right: ARRAY [1: A.SIZE/2] of INTEGER\n",
    "\n",
    "    FOR i = 1 to A.SIZE\n",
    "        IF i <= A.SIZE/2\n",
    "            THEN\n",
    "            Left[i] = A[i]\n",
    "        ELSE\n",
    "            Right[i - A.SIZE/2] = A[i]\n",
    "\n",
    "    // Recursively sort both subarray.\n",
    "    Left ← MergeSort(Left)\n",
    "    Right ← MergeSort(Right)\n",
    "\n",
    "    // Then merge the now-sorted sublists.\n",
    "    RETURN Merge(Left, Right)\n",
    "\n",
    "ENDFUNCTION"
   ],
   "outputs": [],
   "metadata": {}
  },
  {
   "cell_type": "markdown",
   "source": [
    "Note: \n",
    "- In sorting $n$ objects, merge sort has an average and worst-case performance of O(n log n). If the running time of merge sort for a list of length n is T(n), then the recurrence relation T(n) = 2T(n/2) + n follows from the definition of the algorithm (apply the algorithm to two lists of half the size of the original list, and add the n steps taken to merge the resulting two lists). The closed form follows from the master theorem for divide-and-conquer recurrences.\n",
    "\n",
    "https://en.wikipedia.org/wiki/Master_theorem_(analysis_of_algorithms)"
   ],
   "metadata": {}
  },
  {
   "cell_type": "markdown",
   "source": [
    "### Exercise\n",
    "\n",
    "Implement a function `merge_sort(array)` which sorts the list `array` in the ascending order according to the merge sort algorithm given above.\n",
    "\n",
    "Test your function with the following list\n",
    "> `\n",
    "[39, 96, 51, 20, 42, 42, 74, 28, 66, 16, 10, 86, 6, 43, 67, 98, 32, 73, 99, 7, 80, 88, 57, 83, 1, 64, 33, 38, 38, 8, 68, 38, 42, 80, 71, 82, 25, 29, 2, 85, 2, 96, 34, 14, 9, 65, 50, 63, 99, 94, 5, 93, 84, 46, 64, 22, 59, 31, 74, 13, 93, 13, 98, 93]`."
   ],
   "metadata": {}
  },
  {
   "cell_type": "code",
   "execution_count": null,
   "source": [
    "#YOUR_CODE_HERE"
   ],
   "outputs": [],
   "metadata": {}
  }
 ],
 "metadata": {
  "language_info": {
   "codemirror_mode": {
    "name": "ipython",
    "version": 3
   },
   "file_extension": ".py",
   "mimetype": "text/x-python",
   "name": "python",
   "nbconvert_exporter": "python",
   "pygments_lexer": "ipython3",
   "version": "3.7.6"
  },
  "orig_nbformat": 2,
  "kernelspec": {
   "name": "python3",
   "display_name": "Python 3.7.6 64-bit ('base': conda)"
  },
  "interpreter": {
   "hash": "9855bcb2db2fc1adb021fa4ac9c7dfbb81452ef889b3ef5659154f2722c9fc88"
  }
 },
 "nbformat": 4,
 "nbformat_minor": 2
}