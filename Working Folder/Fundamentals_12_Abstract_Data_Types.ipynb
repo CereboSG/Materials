{
 "cells": [
  {
   "source": [
    "# Learning Objectives\n",
    "\n",
    "- [ ] *1.2.3 Implement search programs.\n",
    "    - Hash Table Search\n",
    "- [ ] 1.3.1 Understand the concept of static allocation of memory.\n",
    "- [ ] 1.3.2 Understand the concept of dynamic allocation of memory.\n",
    "- [ ] 1.3.3 Create, insert, and delete operations for stack and queue (linear and circular).\n",
    "- [ ] 1.3.4 Understand the concept of free space list (which could be another linked list or an array).\n",
    "- [ ] 1.3.5 Create, update (edit, insert, delete) and search operations for a linear linked list. Exclude: doubly-linked list and circular linked list\n",
    "- [ ] 1.3.6 Create, update (edit, insert, delete) and search operations for a binary search tree. *Exclude: deletion of nodes from binary search tree\n",
    "- [ ] 1.3.7 Understand pre-order, in-order and post-order tree traversals; and application of in-order tree traversal for binary search tree.\n",
    "- [ ] 2.3.2 Implement search programs.\n",
    "    - Hash Table Search\n",
    "- [ ] 2.3.3 Write programs to implement operations for stacks, queues (linear and circular), linear linked lists and binary search trees. *Exclude: doubly-linked list and circular linked list*\n",
    "\n",
    "# References\n",
    "\n",
    "1. Leadbetter, C., Blackford, R., & Piper, T. (2012). Cambridge international AS and A level computing coursebook. Cambridge: Cambridge University Press.\n",
    "2. https://www.sparknotes.com/cs/sorting/bubble/section1/#:~:text=The%20total%20number%20of%20comparisons,since%20no%20swaps%20were%20made.\n",
    "3. https://visualgo.net/en\n",
    "4. https://www.youtube.com/watch?v=o9nW0uBqvEo"
   ],
   "cell_type": "markdown",
   "metadata": {}
  },
  {
   "source": [
    "# 10.0 Abstract Data Type\n",
    "\n",
    "Abstract data type (ADT) is a mathematical model for data types. An abstract data type is defined by its behavior from the point of view of a user, of the data, specifically in terms of possible values, possible operations on data of this type, and the behavior of these operations.  This is analogous to an algebraic structure in mathematics. \n",
    "\n",
    "For example, integers are an ADT, defined as the values ..., −2, −1, 0, 1, 2, ..., and by the operations of addition, subtraction, multiplication, and division, together with greater than, less than, etc., which behave according to familiar mathematics (with care for integer division), independently of how the integers are represented by the computer. Explicitly, \"behavior\" includes obeying various axioms (associativity and commutativity of addition, etc.), and preconditions on operations (cannot divide by zero).\n",
    "\n",
    "This mathematical model contrasts with **data structures**, which are concrete representations of data, and are the point of view of an implementer, not a user.\n",
    "\n",
    "Typically integers are represented in a data structure as binary numbers, most often as two's complement, but might be binary-coded decimal or in ones' complement, but the user is abstracted from the concrete choice of representation, and can simply use the data as data types.\n",
    "\n",
    "In conclusion, **Abstract Data Type** (ADT): \n",
    "- specifies interactions/operations of the objects of the data type. \n",
    "- has no code. It is not the actual implementation.\n",
    "- often has more than one way to be implemented.\n",
    "\n",
    "While **Data Structure** (DS) is the actual representation of the data and the algorithms to manipulate the data elements. i.e concrete implementation of a ADT. Also, one allowable operation in ADT is one function implemented in the associated DS.\n",
    "\n",
    "As such, the **main advantage of ADT** is that users only need to understand the allowable operations of an ADT before using it. No knowledge of actual implementation is required.\n"
   ],
   "cell_type": "markdown",
   "metadata": {}
  },
  {
   "source": [
    "# 10.1 Stack\n",
    "\n",
    "\n",
    "**Stack** is an ADT which stores items in order in which they are added and the **last item to join is the first item to leave**.\n",
    "* Items can only be <u>added to</u> and <u>removed from</u> the **top of the stack**.\n",
    "* The order is also called **Last-In-First-Out (LIFO)**.\n",
    "\n",
    "<center>\n",
    "<img src=\"images/mario_2.jpg\" width=\"250\" align=\"center\"/>\n",
    "</center>\n",
    "\n",
    "## 10.1.1 Stack Operations\n",
    "The basic operations of a stack is to add and remove item from its top. \n",
    "- `push()`: Add item to the stack\n",
    "- `pop()`: Remove item from the stack\n",
    "\n",
    "Other supporting functions that can be added are:\n",
    "- `is_empty()`: return `True` if the stack is empty, return `False` if it's not\n",
    "- `size()`: return the number of items in the stack\n",
    "- `peek()`: return the element on the top of the stack\n",
    "\n",
    "### Exercise 1\n",
    "\n",
    "Define a `Stack` class which implements the operations of a Stack:\n",
    "* Initialize an empty list `_items` in its initializer method.\n",
    "* Implement `push()` and `pop()` methods with basic operations of a stack. HINT: what list methods do you think is useful here?\n",
    "\n",
    "Test your code using the following code block.\n",
    ">```python\n",
    "> s = Stack()\n",
    "> s.push('apple')\n",
    "> s.push('banana')\n",
    "> print(s._items)\n",
    "> print(s.pop())\n",
    "> print(s.pop())\n",
    "> print(s.pop())\n",
    ">```"
   ],
   "cell_type": "markdown",
   "metadata": {}
  },
  {
   "cell_type": "code",
   "execution_count": null,
   "metadata": {},
   "outputs": [],
   "source": [
    "#YOUR_CODE_HERE"
   ]
  },
  {
   "source": [
    "### Exercise 2\n",
    "\n",
    "Define a `BetterStack` class which inherits from `Stack` class that includes the supplementary methods \n",
    "- `is_empty()`, \n",
    "- `size()`, \n",
    "- `peek()`."
   ],
   "cell_type": "markdown",
   "metadata": {}
  },
  {
   "cell_type": "code",
   "execution_count": null,
   "metadata": {},
   "outputs": [],
   "source": [
    "#YOUR_CODE_HERE"
   ]
  },
  {
   "source": [
    "## 10.1.2 Example Uses of Stack\n",
    "\n",
    "- Reverse a sequence.\n",
    "- Detect missing symbols, e.g. missing opening or closing bracket.\n"
   ],
   "cell_type": "markdown",
   "metadata": {}
  },
  {
   "source": [
    "# 10.2 Queue\n",
    "**Queue** is an ADT which stores items in order in which they are added and the **first item to join is the first item to leave**. This order is also called First-In-First-Out (FIFO).\n",
    "\n",
    "There are 2 types of queue:\n",
    "- **linear queue** arranges data in a sequential order one, Items are added to the rear and removed from the front.\n",
    "- **circular queue** arranges data similar to a circle by connecting the last element back to the first element. \n",
    "\n",
    "Imagine a Linear Queue which based an array where index $0$ is always the first item and index $n$ is always the last. In order to remove an item from the Linear Queue, then all items $1$ to $n$ must be shifted forward, what was in index 1 into index 0, those in index 2 to index 1, so on and so forth. This process would take a considerable amount of time for large queues and/or frequent operations on the queue. However, in a Circular Queue, pointing the head of the queue to the next item when one is removed becomes as simple as a single assignment and thus, there are less operations updating the queue.\n",
    "\n",
    "## 10.2.1 Linear Queue Operations\n",
    "The basic operations of a queue is to add and remove item from queue. \n",
    "- `enqueue()`: Add item to the queue\n",
    "- `dequeue()`: Remove item from the queue\n",
    "\n",
    "Other supporting functions that can be added are:\n",
    "- `is_empty()`: return `True` if the queue is empty, return `False` if it's not\n",
    "- `size()`: return the number of items in the queue\n",
    "- `peek()`: return the element on the front of the queue\n",
    "\n",
    "### Exercise 2\n",
    "\n",
    "Define a `LQueue` class which implements the operations of a linear queue:\n",
    "* Initialize an empty list `_items` in its initializer method.\n",
    "* Implement `enqueue()` and `dequeue()` methods with basic operations of a stack. HINT: what list methods do you think is useful here?\n",
    "* Also implement the supplementary methods \n",
    "    - `is_empty()`, \n",
    "    - `size()`, \n",
    "    - `peek()`.\n",
    "\n",
    "Test your code using the following code block.\n",
    ">```python\n",
    "> q = Queue()\n",
    "> q.enqueue('apple')\n",
    "> q.enqueue('banana')\n",
    "> print(q.size())\n",
    "> q.dequeue()\n",
    "> print(q.peek())\n",
    "> print(q.dequeue())\n",
    "> print(q.is_empty())\n",
    ">```"
   ],
   "cell_type": "markdown",
   "metadata": {}
  },
  {
   "source": [
    "#YOUR_CODE_HERE"
   ],
   "cell_type": "code",
   "metadata": {},
   "execution_count": null,
   "outputs": []
  },
  {
   "source": [
    "## 10.2.1 Circular Queue Operations\n",
    "The basic operations of a queue is to add and remove item from queue. \n",
    "- `enqueue()`: Add item to the queue\n",
    "- `dequeue()`: Remove item from the queue"
   ],
   "cell_type": "markdown",
   "metadata": {}
  },
  {
   "cell_type": "code",
   "execution_count": null,
   "metadata": {},
   "outputs": [],
   "source": [
    "#YOUR_CODE_HERE"
   ]
  },
  {
   "source": [
    "### Exercise 3\n",
    "\n",
    "Implement a **priority queue** where job with higher weight will be processed first. We need to code two classes `Job` and `PriorityQueue`.\n",
    "\n",
    "The `Job` class has only one instance attribute, `weight`. \n",
    "* Implement its `__str__()` method which returns its weight in string format.\n",
    "\n",
    "The `PriorityQueue` class inherits from `LQueue` class by overriding its `enqueue()` method. \n",
    "* The new `enqueue()` method inserts item at appropriate position so that items with higher weight will be dequeue first."
   ],
   "cell_type": "markdown",
   "metadata": {}
  },
  {
   "cell_type": "code",
   "execution_count": null,
   "metadata": {},
   "outputs": [],
   "source": [
    "#YOUR_CODE_HERE"
   ]
  },
  {
   "source": [
    "## 10.2.2 Example Uses of Queue\n",
    "\n",
    "- Printer Job Queue"
   ],
   "cell_type": "markdown",
   "metadata": {}
  },
  {
   "source": [
    "# 10.3 Linked List\n",
    "\n",
    "A **linear linked list** is a linear data structure which holds a collection of elements, called **Node**. Unlike the usual list, these nodes may not be <u>not stored at continuous memory locations</u>. Each node contains <u>a **data** and **pointer(s)**</u> pointing to other node(s).\n",
    "\n",
    "* Nodes can be accessed in a sequential way.\n",
    "* Linked list does not provide random access to a node.\n",
    "\n",
    "When the Nodes are connected with only the `next` pointer the list is called **Singly Linked List** and when it’s connected by the `next` and `previous` pointers, the list is called **Doubly Linked List**. Doubly Linked List is not in the scope of A-Level syllabus. As such for our purpose, Linked List refers to Linear Singly Linked List, unless otherwise stated.\n",
    "\n",
    "<center>\n",
    "<img src=\"images/mario_2.jpg\" width=\"250\" align=\"center\"/>\n",
    "</center>\n",
    "\n",
    "<img src=\"./images/adt-linked-list.png\" alt=\"Queue\" style=\"width: 350px;\"/>\n",
    "<center>https://medium.com/@lucasmagnum/sidenotes-linked-list-abstract-data-type-and-data-structure-fd2f8276ab53</center>\n",
    "\n",
    "## 10.2.1 Linked List Operations\n",
    "The basic operations of a queue is to add and remove item from queue. \n",
    "- `prepend()`: Add a node in the beginning\n",
    "- `pop_first()`: Remove a node from the beginning\n",
    "- `append()`: Add a node in the end\n",
    "- `pop()`: Remove a node from the end\n",
    "- `remove()`: Remove a node, which matches a value, from the list\n",
    "\n",
    "Other supporting functions that can be added are:\n",
    "- `is_empty()`: return `True` if the queue is empty, return `False` if it's not\n",
    "- `size()`: return the number of items in the queue\n",
    "- `peek()`: return the element on the top of the queue\n",
    "\n",
    "### Exercise 1: Node\n",
    "\n",
    "Implement a class `Node` for Linked List.\n",
    "* It has an instance attribute `data` which holds data of the node, and another instance attribute `next` pointing to next node. \n",
    "* Both instance attributes are initialized by input parameters in initializer method.\n",
    "* It implements `__repr__()` method which returns string `Node(data->next.data)`, e.g. `Node(A->B)` if the value for current and next nodes are `A` and `B` respectively."
   ],
   "cell_type": "markdown",
   "metadata": {}
  },
  {
   "cell_type": "code",
   "execution_count": null,
   "metadata": {},
   "outputs": [],
   "source": [
    "#YOUR_CODE_HERE"
   ]
  },
  {
   "source": [
    "### Excercise 2: Linked List\n",
    "\n",
    "A Linked List contains an attribute `head` which points first node of the linked list. \n",
    "\n",
    "Implement a `LinkedList` class with following methods:\n",
    "* Initializer method which initializes `head` to `None` since the initial linked list is empty.\n",
    "* `is_empty()` method which returns `True` if linked list is empty, `False` otherwise\n",
    "* `size()` method returns number of nodes in the list\n",
    "* `contains()` method which return `True` if an item is found in the linked list, `False` otherwise"
   ],
   "cell_type": "markdown",
   "metadata": {}
  },
  {
   "cell_type": "code",
   "execution_count": null,
   "metadata": {},
   "outputs": [],
   "source": [
    "#YOUR_CODE_HERE"
   ]
  },
  {
   "source": [
    "### Excercise 3: Linked List\n",
    "\n",
    "A Linked List typically contains following methods.\n",
    "* `prepend()`: Add a node in the beginning\n",
    "* `pop_front()`: Remove a node from the beginning\n",
    "* `remove()`: Remove Node, which matches a value, from the list\n",
    "\n",
    "The `remove()` method will return `True` if a matching value is found in the linked list, else it will `return` False. The implementation needs to take care 4 scenarios:\n",
    "* When the linked list is empty, i.e `head` is pointing to `None`\n",
    "* When the item to be removed is the head node\n",
    "* When the item to be removed is in any other node\n",
    "* When the item to be removed is not found\n",
    "\n",
    "Implement above methods in class `BetterLinkedList` which inherites from `LinkedList` class."
   ],
   "cell_type": "markdown",
   "metadata": {}
  },
  {
   "cell_type": "code",
   "execution_count": null,
   "metadata": {},
   "outputs": [],
   "source": [
    "#YOUR_CODE_HERE"
   ]
  },
  {
   "source": [
    "## 10.1.2 Example Uses of Linked List\n",
    "\n",
    "- **Free-space list** is the list which keeps track of free space in memory. When we create a file, the free-space list is searched for the required amount of space and space is allocated to accomodate the new file. This space is then removed from the free-space list. On the flipside, when a file is deleted, the freed up disk space is added to the free-space list. A linked list can be used keep track of the free blocks. Free space list could also be implemented with an array. "
   ],
   "cell_type": "markdown",
   "metadata": {}
  },
  {
   "source": [
    "# 10.4 Hash Table \n",
    "\n",
    "A **hash table (hash map)** is a data structure that implements an associative array abstract data type, a structure that can map **keys** to **values(data)**. A hash table must come with a **hash function** to compute an index value (also called a **hash code**) which points to into an array of **hash buckets**, the place where data is stored. This is similar to a dictionary. \n",
    "\n",
    "<center>\n",
    "<img src=\"images/mario_2.jpg\" width=\"250\" align=\"center\"/>\n",
    "</center>\n",
    "\n",
    "<u>For example</u>, to store a phone book, you uses a person's name as key, and his phone number is the value(data) to be looked up.\n",
    "- Key is passed into the hash function to generate an index value which points to a location where data is stored.\n",
    "- Potentially multiple data may be stored in the same bucket, i.e. multiple keys may point to same bucket.\n",
    "\n",
    "## 10.4.1 Hash Table Operations\n",
    "The basic operations of a hash table is to add, find and remove item from table. \n",
    "- `add(key,value)`: Add `value` data associated with key `key`\n",
    "- `find(key)`: return `value` data with provided `key`\n",
    "- `remove(key)`: remove `key` and its associated `value` data from the table\n",
    "\n",
    "### Exercise 1: \n",
    "Implement a hash table for a phone book. Each entry in the phone book is a pair of `Name` and `Phone`.\n",
    "* `Name` is used as the key.\n",
    "* `(Name, Phone)` tuple is saved as the data.\n",
    "\n",
    "We will define a class `HashTable` to store the data.\n",
    "* It has a list attribute `buckets` which keeps all data.\n",
    "* Initialize the list size, i.e. how many buckets, by input parameter `size`.\n",
    "* It has a <u>static</u> function `_hash()` which returns an `index` value based on input parameter `key`. The logic to be implemented in `_hash()` function is straight forward. We will simply return length of the `key` as the `index` value.\n",
    "* The `index` value specifies which bucket to put the data."
   ],
   "cell_type": "markdown",
   "metadata": {}
  },
  {
   "cell_type": "code",
   "execution_count": null,
   "metadata": {},
   "outputs": [],
   "source": [
    "#YOUR_CODE_HERE"
   ]
  },
  {
   "source": [
    "### Exercise 2\n",
    "Let's try to add following items into the Hash Table.\n",
    "* Create a hash table of 10 buckets.\n",
    "* For each element in the list `contacts` below, \n",
    "    >```python\n",
    "    contacts = [\n",
    "        ('Ben', '357-0394'),\n",
    "        ('Alan', '558-9171'),\n",
    "        ('Freddi', '760-2466'),\n",
    "        ('Stephanie', '299-5109')]\n",
    "    >```\n",
    "    \n",
    "    * Use `_hash()` function to find out which bucket it belongs to;\n",
    "    * Put the contact in the bucket.\n",
    "    * Print out the `buckets` to view how contacts are stored."
   ],
   "cell_type": "markdown",
   "metadata": {}
  },
  {
   "cell_type": "code",
   "execution_count": null,
   "metadata": {},
   "outputs": [],
   "source": [
    "#YOUR_CODE_HERE"
   ]
  },
  {
   "source": [
    "### Exercise 3\n",
    "\n",
    "With the populated hash table, how do you retrieve the data of for a name, e.g. `'Freddi'`?\n",
    "* Use `_hash()` function to find `index` value.\n",
    "* Locate the bucket by index.\n",
    "* Return the bucket."
   ],
   "cell_type": "markdown",
   "metadata": {}
  },
  {
   "cell_type": "code",
   "execution_count": null,
   "metadata": {},
   "outputs": [],
   "source": [
    "#YOUR_CODE_HERE"
   ]
  },
  {
   "source": [
    "### Exercise 4\n",
    "\n",
    "We may need to remove an item, e.g. `'Freddi'`, from the hash table.\n",
    "* Use `_hash()` function to find index value.\n",
    "* Locate the bucket by index and set it to `None`."
   ],
   "cell_type": "markdown",
   "metadata": {}
  },
  {
   "cell_type": "code",
   "execution_count": null,
   "metadata": {},
   "outputs": [],
   "source": [
    "#YOUR_CODE_HERE"
   ]
  },
  {
   "source": [
    "In this example, the hash function generates different index values for each of the entries and the data are stored in different buckets. As such, search and delete has $O(1)$ time complexity. "
   ],
   "cell_type": "markdown",
   "metadata": {}
  },
  {
   "source": [
    "## 10.4.2 Hash Table Collision\n",
    "\n",
    "Ideally, the hash function will assign each key to a unique bucket. But since a hash function returns a small number for a big key, there is possibility that two keys result in same value. That is **hash table collision**.\n",
    "\n",
    "### Example 5\n",
    "\n",
    "Consider the following list `contacts` where **the hash function generates same index value for all entries**, and thus, all data are stored in same bucket. \n",
    "\n",
    ">```python\n",
    "    contacts = [\n",
    "        ('Amanda', '357-0394'),\n",
    "        ('Christ', '558-9171'),\n",
    "        ('Freddi', '760-2466'),\n",
    "        ('Steven', '299-5109')]\n",
    ">```\n",
    "\n",
    "Since all contacts' name has length of 6 characters, their hashed indexes point to the same bucket. Thus 6th bucket needs to be able to hold multiple contacts.\n",
    "\n",
    "For simplicity, We will implement a bucket as a list.\n",
    "\n",
    "\n",
    "<center>\n",
    "<img src=\"images/mario_2.jpg\" width=\"250\" align=\"center\"/>\n",
    "</center>"
   ],
   "cell_type": "markdown",
   "metadata": {}
  },
  {
   "cell_type": "code",
   "execution_count": null,
   "metadata": {},
   "outputs": [],
   "source": [
    "#YOUR_CODE_HERE"
   ]
  },
  {
   "source": [
    "This is the worst case where a hash table acts a list and time spent in searching is $O(n)$. To improve efficiency, we need a better hash function.\n",
    "\n",
    "To achieve a good hashing mechanism, It is important to have a good hash function with the following basic requirements:\n",
    "* There should be **minimum collisions** as far as possible in the hash function that is used. \n",
    "* A hash function should have an **easy computation for the unique keys**.\n",
    "* Hash function should result in a **uniform distribution** of data across the hash table and thereby **prevent clustering**.\n",
    "\n",
    "As collisions are bound to occur, we have to use appropriate collision resolution techniques to take care of the collisions.\n",
    "- Linear Probing : When the hash function causes a collision by mapping a new key to a cell of the hash table that is already occupied by another key, linear probing searches the table for the closest following free location and inserts the new key there. Lookups are performed in the same way, by searching the table sequentially starting at the position given by the hash function, until finding a bucket with a matching key or an empty bucket.\n"
   ],
   "cell_type": "markdown",
   "metadata": {}
  },
  {
   "source": [
    "# 10.5 Binary Search Tree\n",
    "\n",
    "A **tree** is a data structure which – similar to a linked list – sets up link pointers between various data items. \n",
    "\n",
    "A tree with only two possible descendants from each value is called a **binary tree**.\n",
    "\n",
    "Tree terminology\n",
    "- Each data item in the tree is called a **node**.\n",
    "- The first item added to the tree is called the **root value**.\n",
    "- All items to the left of the root form the **left sub-tree**.\n",
    "- All items to the right of the root form the **right sub-tree**.\n",
    "- Any node may have its own sub-tree.\n",
    "- An item which has no descendants is called a **leaf node**.\n",
    "\n",
    "### Exercise 1: \n",
    "Implement a class `Node` for Linked List.\n",
    "\n",
    "- It has an instance attribute `data` which holds data of the node, instance attribute `left` next pointing to the left node and instance attribute `right` pointing to the right node\n",
    "- It implements `__repr__()` method which returns string `data(left.data,right.data)`, e.g. \n",
    "    >```\n",
    "    n1 = Node(10, Node(5), Node(15))\n",
    "    print(n1)\n",
    "    >```\n",
    "    \n",
    "    outputs `10(5,15)`"
   ],
   "cell_type": "markdown",
   "metadata": {}
  },
  {
   "cell_type": "code",
   "execution_count": null,
   "metadata": {},
   "outputs": [],
   "source": [
    "#YOUR_CODE_HERE"
   ]
  },
  {
   "source": [
    "### Exercise 2: \n",
    "Implement a class `BinaryTree` for Binary Tree."
   ],
   "cell_type": "markdown",
   "metadata": {}
  },
  {
   "cell_type": "code",
   "execution_count": null,
   "metadata": {},
   "outputs": [],
   "source": []
  },
  {
   "source": [
    "## 10.4.1 Hash Table Operations\n",
    "\n",
    "Binary Search Tree is a type of binary tree with following special properties:\n",
    "- The left subtree of a node contains only nodes with keys lesser than the node’s key.\n",
    "- The right subtree of a node contains only nodes with keys greater than the node’s key.\n",
    "- The left and right subtree each must also be a binary search tree."
   ],
   "cell_type": "markdown",
   "metadata": {}
  },
  {
   "source": [
    "Assume that these steps take constant time\n",
    "- mathematical operations\n",
    "- comparisons\n",
    "- assignments\n",
    "- accessing objects in memory\n",
    "then count the number of operations executed as function of size of input"
   ],
   "cell_type": "markdown",
   "metadata": {}
  },
  {
   "source": [
    "# 3 ops\n",
    "def c_to_f(c):\n",
    "    return c*9.0/5 +32\n",
    "\n",
    "# 1+3x ops\n",
    "def mysum(x):\n",
    "    total = 0\n",
    "    for i in range (x+1):\n",
    "        total += i\n",
    "    return total"
   ],
   "cell_type": "code",
   "metadata": {},
   "execution_count": null,
   "outputs": []
  },
  {
   "source": [
    "- best case : minimum running time over all possible inputs of a given size\n",
    "- average case : average running time over all possible inputs of a given size\n",
    "- worst case : maximum running time over all possible inputs of a given size"
   ],
   "cell_type": "markdown",
   "metadata": {}
  },
  {
   "source": [
    "- ignore additive constants\n",
    "- ignore multiplicative constants\n",
    "- focus on dominant terms"
   ],
   "cell_type": "markdown",
   "metadata": {}
  },
  {
   "source": [
    "- n^2+2n+2\n",
    "- n^2+10000n+3^10000\n",
    "- \\log(n)+n+4\n",
    "- 0.0001*n*\\log(n)+300n\n",
    "- 2n^30+3^n"
   ],
   "cell_type": "markdown",
   "metadata": {}
  },
  {
   "source": [
    "Law of addition for $O()$\n",
    "- used with *sequential* statements"
   ],
   "cell_type": "markdown",
   "metadata": {}
  },
  {
   "cell_type": "code",
   "execution_count": null,
   "metadata": {},
   "outputs": [],
   "source": [
    "#O(n^2)\n",
    "for i in range(n):\n",
    "    print('a')\n",
    "for j in range(n*n):\n",
    "    print('b')"
   ]
  },
  {
   "source": [
    "Law of multiplication for $O()$\n",
    "- used with *nested* statements/loops"
   ],
   "cell_type": "markdown",
   "metadata": {}
  },
  {
   "cell_type": "code",
   "execution_count": null,
   "metadata": {},
   "outputs": [],
   "source": [
    "#O(n^2)\n",
    "for i in range(n):\n",
    "    for j in range(n):\n",
    "        print('a')"
   ]
  },
  {
   "source": [
    "- O(1)\n",
    "- O(\\log n)\n",
    "- O(n)\n",
    "- O(n \\log n)\n",
    "- O(n^c)\n",
    "- O(c^n)"
   ],
   "cell_type": "markdown",
   "metadata": {}
  },
  {
   "source": [
    "# 10.1 Search Algorithm\n",
    "\n",
    "A search algorithm is an algorithm to retrieve information from some data structure. Some examples include:\n",
    "- Finding the maximum or minimum value in a list or array\n",
    "- Checking to see if a given value is present in a set of values\n",
    "- Retrieving a record from a database"
   ],
   "cell_type": "markdown",
   "metadata": {}
  },
  {
   "source": [
    "## 10.1.1 Linear Search\n",
    "\n",
    "A **linear search**, also called **serial** or **sequential** searches an item in a given array sequentially till the end of the collection. It does not require the data to be in any particular order. \n",
    "\n",
    "To find the position of a particular value involves looking at each value in turn – starting with the first – and comparing it with the value you are looking for. When the value is found, you need to note its position. You must also be able to report the special case that a value has not been found. This last part only becomes apparent when the search has reached the final data item without finding the required value.\n",
    "\n",
    "### Example\n",
    "\n",
    "In this example, you have the array `[10,14,19,26,27,31,33,35,42,44]` and you are looking for the value `33` in the array.\n",
    "\n",
    "<center>\n",
    "<img src=\"images/mario_2.jpg\" width=\"250\" align=\"center\"/>\n",
    "</center>\n",
    "\n",
    "The pseudocode for linear search function is given below. It returns the index of the searched value in the array if it exists. In the case that the value is not in the array, the function returns `-1`."
   ],
   "cell_type": "markdown",
   "metadata": {}
  },
  {
   "cell_type": "code",
   "execution_count": null,
   "metadata": {},
   "outputs": [],
   "source": [
    "FUNCTION LINEARSEARCH(A: ARRAY of INTEGER, t: INTEGER) RETURNS INTEGER\n",
    "    DECLARE index: INTEGER\n",
    "\tindex ← -1\n",
    "\tFOR i = 1 TO A.SIZE\n",
    "\t\tIF A[i] = t THEN\n",
    "\t\t\tindex ← i\n",
    "\t\t\tBREAK\n",
    "\t\tENDIF\n",
    "\tENDFOR\n",
    "\tRETURN index\n",
    "ENDFUNCTION"
   ]
  },
  {
   "source": [
    "### Exercise\n",
    "\n",
    "Implement a function `linear_search(array, val)` which searches the list `array` for a value `val` using the linear search algorithm.\n",
    "\n",
    "Test your function with the following list\n",
    "> `\n",
    "[39, 96, 51, 20, 42, 42, 74, 28, 66, 16, 10, 86, 6, 43, 67, 98, 32, 73, 99, 7, 80, 88, 57, 83, 1, 64, 33, 38, 38, 8, 68, 38, 42, 80, 71, 82, 25, 29, 2, 85, 2, 96, 34, 14, 9, 65, 50, 63, 99, 94, 5, 93, 84, 46, 64, 22, 59, 31, 74, 13, 93, 13, 98, 93]`\n",
    "\n",
    "with the values `9` and `2`. What do you observe for the latter value?"
   ],
   "cell_type": "markdown",
   "metadata": {}
  },
  {
   "cell_type": "code",
   "execution_count": null,
   "metadata": {},
   "outputs": [],
   "source": [
    "#YOUR_CODE_HERE"
   ]
  },
  {
   "source": [
    "In linear search, all items are searched one-by-one to find the required item.\n",
    "\n",
    "If the array has $n$ elements to be compared to,\n",
    "\n",
    "- The best-case lookup to find an item is $1$ comparison, i.e., the item is at the head of the array.\n",
    "- The worst-case lookup to find an item is $n$ comparisons, i.e. the item is at the end of the array.\n",
    "- The average lookup to find an item is approximately $\\frac{n}{2}$ comparisons. \n",
    "\n",
    "Clearly, if $n$ is large,  this can be a very large number of comparisons and the serial search algorithm can take a long time.\n",
    "\n",
    "Consequently, we have for serial search,\n",
    "- Advantage:\n",
    "    - algorithm is straightforward and easy to implement,\n",
    "    - data need not be in any particular order,\n",
    "    - works well if there is a small number of data item.\n",
    "- Disadvantage:\n",
    "    - search can take a long time if value of $n$ is large, i.e. inefficient if there is a large number of data items.\n",
    "\n",
    "o\tVariations:\n",
    "\tSearch target requires a different criteria (not just object existence).\n",
    "\tMust find all instances of target.\n",
    "\tMust find particular instance of target (first, last, etc.).\n",
    "\tMust find object just greater/smaller than target.\n"
   ],
   "cell_type": "markdown",
   "metadata": {}
  },
  {
   "source": [
    "## 10.1.2 Binary Search\n",
    "\n",
    "In the previous section, we looked at linear search where the data is not required to be stored in any particular order. On the other hand, if we know that the data is stored in an ascending order, we can utilize the another algorithm called the **binary search**. \n",
    "\n",
    "Workings of binary search algorithm:\n",
    "- First check the MIDDLE element in the list.\n",
    "- If it is the value we want, we can stop.\n",
    "- If it is HIGHER than the value we want, we repeat the search process with the portion of the list BEFORE the middle element.\n",
    "- If it is LOWER than the value we want, we repeat the search process with the portion of the list AFTER the middle element.\n",
    "\n",
    "Note that  if there is an even number of values in the array, dividing by two gives a whole number and we split the array there. However, if the array consists of an odd number of values we need to find the integer part of it, as an array index must be an integer. \n",
    "\n",
    "The pseudocode for binary search function is given below. It returns the index of the searched value in the array if it exists. In the case that the value is not in the array, the function returns `-1`."
   ],
   "cell_type": "markdown",
   "metadata": {}
  },
  {
   "cell_type": "code",
   "execution_count": null,
   "metadata": {},
   "outputs": [],
   "source": [
    "FUNCTION BinarySearch(A: ARRAY of INTEGER, t: INTEGER) RETURNS INTEGER\n",
    "\tDECLARE start, mid, end: INTEGER\n",
    "\tstart ← 1\n",
    "\tend ← A.SIZE\n",
    "\tWHILE start <= end DO\n",
    "\t\tmid ← (start + end) DIV 2\n",
    "\t\tIF t = A[mid] THEN\n",
    "\t\t\tRETURN mid\n",
    "\t\tENDIF\n",
    "\t\tIF t < A[mid] THEN\n",
    "\t\t\tend ← mid – 1\n",
    "\t\tELSE\n",
    "\t\t\tstart ← mid + 1\n",
    "\t\tENDIF\n",
    "\tENDWHILE\n",
    "\tRETURN -1\n",
    "ENDFUNCTION"
   ]
  },
  {
   "source": [
    "### Exercise\n",
    "\n",
    "Implement a function `binary_search(array, val)` which searches the list `array` for a value `val` using the binary search algorithm described above.\n",
    "\n",
    "Test your function with the following list\n",
    "> `\n",
    "[39, 96, 51, 20, 42, 42, 74, 28, 66, 16, 10, 86, 6, 43, 67, 98, 32, 73, 99, 7, 80, 88, 57, 83, 1, 64, 33, 38, 38, 8, 68, 38, 42, 80, 71, 82, 25, 29, 2, 85, 2, 96, 34, 14, 9, 65, 50, 63, 99, 94, 5, 93, 84, 46, 64, 22, 59, 31, 74, 13, 93, 13, 98, 93]`\n",
    "\n",
    "with the values `9` and `2`."
   ],
   "cell_type": "markdown",
   "metadata": {}
  },
  {
   "cell_type": "code",
   "execution_count": null,
   "metadata": {},
   "outputs": [],
   "source": [
    "#YOUR_CODE_HERE"
   ]
  },
  {
   "source": [
    "If the array has $n$ elements to be compared to,\n",
    "\n",
    "- The best-case lookup to find an item is $1$ comparison, i.e., the item is at the middle of the array.\n",
    "- The worst-case lookup to find an item is approximately $\\log_2{n}$ comparisons."
   ],
   "cell_type": "markdown",
   "metadata": {}
  },
  {
   "cell_type": "code",
   "execution_count": null,
   "metadata": {},
   "outputs": [],
   "source": [
    "#YOUR_CODE_HERE"
   ]
  },
  {
   "source": [
    "Jupyter Notebook provides a magic function `%timeit` and `%%timeit` to time a code execution.\n",
    "* `%timeit` is used to time a single line of statement\n",
    "* `%%timeit` is used to time all codes in a cell. `%%timeit` must be placed at first line of cell. \n",
    "\n",
    "### Exercise \n",
    "Use `%timeit` to time the code executions for both the functions:\n",
    "- `linear_search`,\n",
    "- `binary_search`\n",
    "\n",
    "that you have coded in the previous exercise, using the \n",
    "> `\n",
    "[39, 96, 51, 20, 42, 42, 74, 28, 66, 16, 10, 86, 6, 43, 67, 98, 32, 73, 99, 7, 80, 88, 57, 83, 1, 64, 33, 38, 38, 8, 68, 38, 42, 80, 71, 82, 25, 29, 2, 85, 2, 96, 34, 14, 9, 65, 50, 63, 99, 94, 5, 93, 84, 46, 64, 22, 59, 31, 74, 13, 93, 13, 98, 93]`\n",
    "\n",
    "with the search value `9`."
   ],
   "cell_type": "markdown",
   "metadata": {}
  },
  {
   "cell_type": "code",
   "execution_count": null,
   "metadata": {},
   "outputs": [],
   "source": [
    "#YOUR_CODE_HERE"
   ]
  },
  {
   "source": [
    "# 10.2 Sorting Algorithms\n",
    "\n",
    "Sorting refers to arranging a fixed set of data in a particular order. Sorting orders could be numerical (`1`,`2`, `3`, ...), lexicographical/dictionary (`AA`, `AB`, `AC`, ...) or custom ('Mon', 'Tue', 'Wed', ...).\n",
    "\n",
    "Sorting algorithms specify ways to arrange data in particular ways to put the data in order. In this section, it is assumed that the sorted data is in ascending order."
   ],
   "cell_type": "markdown",
   "metadata": {}
  },
  {
   "source": [
    "## 10.1 Insertion Sort\n",
    "\n",
    "In insertion sort algorithm, we compare each element, termed `key` element, in turn with the elements before it in the array. We then insert the `key` element into its correct position in the array.\n",
    "\n",
    "### Example\n",
    "\n",
    "In this example, the array `[6,5,3,1,8,7,2,4]` is sorted with insertion sort.\n",
    "\n",
    "<center>\n",
    "<img src=\"images/mario_2.jpg\" width=\"250\" align=\"center\"/>\n",
    "</center>\n",
    "\n",
    "The pseudocode for insertion sort function for an array containing integer elements is given below:"
   ],
   "cell_type": "markdown",
   "metadata": {}
  },
  {
   "cell_type": "code",
   "execution_count": null,
   "metadata": {},
   "outputs": [],
   "source": [
    "FUNCTION InsertionSort(A: ARRAY of INTEGER) RETURNS ARRAY of INTEGER\n",
    "\tDECLARE j, temp: INTEGER\n",
    "    FOR i = 2 to A.SIZE\n",
    "        j ← i\n",
    "        WHILE j > 1 AND A[j] < A[j – 1] DO\n",
    "            temp ← A[j]\n",
    "            A[j] ← A[j - 1]\n",
    "            A[j - 1] ← temp\n",
    "            j ← j - 1\n",
    "        ENDWHILE\n",
    "    ENDFOR\n",
    "    RETURN A\n",
    "ENDFUNCTION"
   ]
  },
  {
   "source": [
    "### Exercise\n",
    "\n",
    "Implement a function `insertion_sort(array)` which sorts the list `array` in the ascending order according to the insertion algorithm given above.\n",
    "\n",
    "Test your function with the following list\n",
    "> `\n",
    "[39, 96, 51, 20, 42, 42, 74, 28, 66, 16, 10, 86, 6, 43, 67, 98, 32, 73, 99, 7, 80, 88, 57, 83, 1, 64, 33, 38, 38, 8, 68, 38, 42, 80, 71, 82, 25, 29, 2, 85, 2, 96, 34, 14, 9, 65, 50, 63, 99, 94, 5, 93, 84, 46, 64, 22, 59, 31, 74, 13, 93, 13, 98, 93]`."
   ],
   "cell_type": "markdown",
   "metadata": {}
  },
  {
   "cell_type": "code",
   "execution_count": null,
   "metadata": {},
   "outputs": [],
   "source": [
    "#YOUR_CODE_HERE"
   ]
  },
  {
   "source": [
    "Note:\n",
    "- The outer for-loop in Insertion Sort function always iterates $n-1$ times.\n",
    "- The inner for-loop will make $1 + 2 + 3 ... + (n-1)=\\frac{n(n-1)}{2}$ comparisons in worst case."
   ],
   "cell_type": "markdown",
   "metadata": {}
  },
  {
   "source": [
    "# 10.2 Bubble Sort\n",
    "\n",
    "The next sorting algorithm iterates over an array multiple times. \n",
    "* In each iteration, it takes 2 consecutive elements and compare them. \n",
    "* It swaps the smaller value to the left and larger value to the right.\n",
    "* It repeats until the larger elements \"bubble up\" to the end of the list, and the smaller elements moves to the \"bottom\". This is the reason for the naming of the algorithm.\n",
    "* The right-hand side of the array are sorted. \n",
    "\n",
    "### Example\n",
    "\n",
    "In this example, the array `[6,5,3,1,8,7,2,4]` is sorted with bubble sort.\n",
    "\n",
    "<center>\n",
    "<img src=\"images/mario_2.jpg\" width=\"250\" align=\"center\"/>\n",
    "</center>\n",
    "\n",
    "We see that\n",
    "* For 1st iteration, we need to make $n-1$ comparisons. It will bring the largest value to the extreme right.\n",
    "* For 2nd iteration, we need to make $n-2$ comparisons. It will bring 2nd largest value to the 2nd extreme right.\n",
    "* And so on...\n",
    "\n",
    "Consequently, we need a nested loops to make multiple iterations. \n",
    "\n",
    "The pseudocode for bubble sort function for an array containing integer elements is given below:"
   ],
   "cell_type": "markdown",
   "metadata": {}
  },
  {
   "cell_type": "code",
   "execution_count": null,
   "metadata": {},
   "outputs": [],
   "source": [
    "FUNCTION BubbleSort(A: ARRAY of INTEGER) RETURNS ARRAY of INTEGER\n",
    "    DECLARE swap: BOOLEAN\n",
    "    DECLARE temp: INTEGER\n",
    "    FOR i = 1 to (A.SIZE – 1)\n",
    "        swap ← FALSE\n",
    "        FOR j = 1 to (A.SIZE – i)\n",
    "            IF A[j] > A[j + 1] THEN\n",
    "                temp ← A[j]\n",
    "                A[j] ← A[j + 1]\n",
    "                A[j + 1] ← temp\n",
    "                swap ← TRUE\n",
    "            ENDIF\n",
    "        ENDFOR\n",
    "        IF NOT swap THEN\n",
    "            BREAK\n",
    "        ENDIF\n",
    "    ENDFOR\n",
    "    RETURN A\n",
    "ENDFUNCTION\n"
   ]
  },
  {
   "source": [
    "### Exercise\n",
    "\n",
    "Implement a function `bubble_sort(array)` which sorts the list `array` in the ascending order according to the bubble algorithm given above.\n",
    "\n",
    "Test your function with the following list\n",
    "> `\n",
    "[39, 96, 51, 20, 42, 42, 74, 28, 66, 16, 10, 86, 6, 43, 67, 98, 32, 73, 99, 7, 80, 88, 57, 83, 1, 64, 33, 38, 38, 8, 68, 38, 42, 80, 71, 82, 25, 29, 2, 85, 2, 96, 34, 14, 9, 65, 50, 63, 99, 94, 5, 93, 84, 46, 64, 22, 59, 31, 74, 13, 93, 13, 98, 93]`."
   ],
   "cell_type": "markdown",
   "metadata": {}
  },
  {
   "cell_type": "code",
   "execution_count": null,
   "metadata": {},
   "outputs": [],
   "source": [
    "#YOUR_CODE_HERE"
   ]
  },
  {
   "source": [
    "Note:\n",
    "- The amount of comparisons in Bubble Sort algorithgm is $(n - 1) + (n - 2) + ... + 1=\\frac{n(n-1)}{2}$ comparisons,\n",
    "- Best case is when the array is already sorted and bubble sort will terminate after the first iterations. \n",
    "- Bubble sort is also efficient when one random element needs to be sorted into a sorted array, provided that new element is placed at the beginning and not at the end. \n",
    "- The absolute worst case for bubble sort is when the smallest element of the array is the last element in the end of the array. Because in each iteration only the largest unsorted element gets put in its proper location, when the smallest element is at the end, it will have to be swapped each time through the array, and it wont get to the front of the list until all $n$ iterations have occurred."
   ],
   "cell_type": "markdown",
   "metadata": {}
  },
  {
   "source": [
    "# 10.3 Quicksort\n",
    "\n",
    "Quicksort is a sorting technique based on divide and conquer technique. Quicksort first selects an element, termed the `pivot`, and partitions the array around the pivot, putting every smaller element into a low array and every larger element into a high array. \n",
    "\n",
    "* The `pivot` element can selected randomly, but one way to select the pivot is to use the element in the middle of the array as the pivot\n",
    "* The first pass partitions data into 3 sub-arrays, `lesser` (less than pivot), `equal` (equal to pivot) and `greater` (greater than pivot).\n",
    "* The process repeats for `lesser` array and `greater` array.\n",
    "\n",
    "<center>\n",
    "<img src=\"images/mario_2.jpg\" width=\"250\" align=\"center\"/>\n",
    "</center>\n",
    "\n",
    "The pseudocode for quicksort function for an array containing $N$ elements is given below:"
   ],
   "cell_type": "markdown",
   "metadata": {}
  },
  {
   "cell_type": "code",
   "execution_count": null,
   "metadata": {},
   "outputs": [],
   "source": [
    "Quicksort(A,p,r) {\n",
    "    if (p < r) {\n",
    "       q <- Partition(A,p,r)\n",
    "       Quicksort(A,p,q)\n",
    "       Quicksort(A,q+1,r)\n",
    "    }\n",
    "}\n",
    "\n",
    "\n",
    "\n",
    "Partition(A,p,r)\n",
    "    x <- A[p]\n",
    "    i <- p-1\n",
    "    j <- r+1\n",
    "    while (True) {\n",
    "        repeat\n",
    "            j <- j-1\n",
    "        until (A[j] <= x)\n",
    "        repeat\n",
    "            i <- i+1\n",
    "        until (A[i] >= x)\n",
    "        if (i A[j]\n",
    "        else \n",
    "            return(j)\n",
    "    "
   ]
  },
  {
   "cell_type": "code",
   "execution_count": null,
   "metadata": {},
   "outputs": [],
   "source": [
    "PROCEDURE QuickSort(MyList, LB, UB)\n",
    "    IF LB <> UB THEN\n",
    "    #there is more than one element in MyList\n",
    "        LeftP ← LB #Left pointer\n",
    "        RightP ← UB #Right pointer\n",
    "        REPEAT\n",
    "            WHILE LeftP <> RightP AND MyList[LeftP] < MyList[RightP] DO\n",
    "            #move right pointer left\n",
    "                RightP ← RightP — l\n",
    "            ENDWHILE\n",
    "            IF LeftP <> RightP THEN \n",
    "                swap MyList[LeftP] and MyList[J]\n",
    "            WHILE LeftP <> RightP AND MyList[LeftP] < MyList[RightP] DO\n",
    "            #move left pointer right\n",
    "                LeftP ← LeftP + 1\n",
    "            ENDWHILE\n",
    "            IF LeftP <> RightP THEN \n",
    "                swap MyList[LeftP] and MyList[RightP]\n",
    "        UNTIL LeftP = RightP\n",
    "        #value now in correct position so sort left sub-list\n",
    "        QuickSort(MyList, LB, LeftP — 1)\n",
    "        #now sort right sub-list\n",
    "        QuickSort(MyList, LeftP + l, UB)\n",
    "    ENDIF\n",
    "END PROCEDURE"
   ]
  },
  {
   "source": [
    "### Exercise\n",
    "\n",
    "Implement a function `quicksort(array)` which sorts the list `array` in the ascending order according to the quicksort algorithm given above.\n",
    "\n",
    "Test your function with the following list\n",
    "> `\n",
    "[39, 96, 51, 20, 42, 42, 74, 28, 66, 16, 10, 86, 6, 43, 67, 98, 32, 73, 99, 7, 80, 88, 57, 83, 1, 64, 33, 38, 38, 8, 68, 38, 42, 80, 71, 82, 25, 29, 2, 85, 2, 96, 34, 14, 9, 65, 50, 63, 99, 94, 5, 93, 84, 46, 64, 22, 59, 31, 74, 13, 93, 13, 98, 93]`."
   ],
   "cell_type": "markdown",
   "metadata": {}
  },
  {
   "cell_type": "code",
   "execution_count": null,
   "metadata": {},
   "outputs": [],
   "source": [
    "#YOUR_CODE_HERE"
   ]
  },
  {
   "source": [
    "Note: \n",
    "- The worst case scenario is when the smallest or largest element is always selected as the pivot. This would create partitions of size $n-1$, causing recursive calls $n-1$ times.\n",
    "- With a good pivot, the input list is partitioned in linear time, O(n), and this process repeats recursively an average of $\\log_2{n}$ times. \n",
    "- This leads to a final complexity of $O(n \\log_2n)$.\n",
    "- The above implementation of the quicksort algorithm does not sore “in place”, and has a high space complexity. In order to overcome this, you need to change the algorithm slightly – i.e., use a variant that does not create new linked lists to store elements greater/less than the pivot"
   ],
   "cell_type": "markdown",
   "metadata": {}
  },
  {
   "source": [
    "# 10.4 Merge Sort\n",
    "\n",
    "Similar to Quicksort, Merge sort is a sorting technique based on divide and conquer technique. It first divides the array into equal halves and then combines them in a sorted manner.\n",
    "- if it is only one element in the list it is already sorted, return.\n",
    "- divide the list recursively into two halves until it can no more be divided.\n",
    "- merge the smaller lists into new list in sorted order.\n",
    "\n",
    "The important subroutine `merge` : Given two sorted array, $A$ and $B$ of size $n_1$ and $n_2$, \n",
    "\n",
    "The pseudocode for merge sort function for an array containing $N$ elements is given below:"
   ],
   "cell_type": "markdown",
   "metadata": {}
  },
  {
   "cell_type": "code",
   "execution_count": null,
   "metadata": {},
   "outputs": [],
   "source": [
    "function merge_sort(list m) is\n",
    "    // Base case. A list of zero or one elements is sorted, by definition.\n",
    "    if length of m ≤ 1 then\n",
    "        return m\n",
    "\n",
    "    // Recursive case. First, divide the list into equal-sized sublists\n",
    "    // consisting of the first half and second half of the list.\n",
    "    // This assumes lists start at index 0.\n",
    "    var left := empty list\n",
    "    var right := empty list\n",
    "    for each x with index i in m do\n",
    "        if i < (length of m)/2 then\n",
    "            add x to left\n",
    "        else\n",
    "            add x to right\n",
    "\n",
    "    // Recursively sort both sublists.\n",
    "    left := merge_sort(left)\n",
    "    right := merge_sort(right)\n",
    "\n",
    "    // Then merge the now-sorted sublists.\n",
    "    return merge(left, right)"
   ]
  },
  {
   "source": [
    "Note: \n",
    "- In sorting $n$ objects, merge sort has an average and worst-case performance of O(n log n). If the running time of merge sort for a list of length n is T(n), then the recurrence relation T(n) = 2T(n/2) + n follows from the definition of the algorithm (apply the algorithm to two lists of half the size of the original list, and add the n steps taken to merge the resulting two lists). The closed form follows from the master theorem for divide-and-conquer recurrences.\n",
    "\n",
    "https://en.wikipedia.org/wiki/Master_theorem_(analysis_of_algorithms)"
   ],
   "cell_type": "markdown",
   "metadata": {}
  },
  {
   "source": [
    "### Exercise\n",
    "\n",
    "Implement a function `merge_sort(array)` which sorts the list `array` in the ascending order according to the merge sort algorithm given above.\n",
    "\n",
    "Test your function with the following list\n",
    "> `\n",
    "[39, 96, 51, 20, 42, 42, 74, 28, 66, 16, 10, 86, 6, 43, 67, 98, 32, 73, 99, 7, 80, 88, 57, 83, 1, 64, 33, 38, 38, 8, 68, 38, 42, 80, 71, 82, 25, 29, 2, 85, 2, 96, 34, 14, 9, 65, 50, 63, 99, 94, 5, 93, 84, 46, 64, 22, 59, 31, 74, 13, 93, 13, 98, 93]`."
   ],
   "cell_type": "markdown",
   "metadata": {}
  },
  {
   "cell_type": "code",
   "execution_count": null,
   "metadata": {},
   "outputs": [],
   "source": [
    "#YOUR_CODE_HERE"
   ]
  }
 ],
 "metadata": {
  "language_info": {
   "codemirror_mode": {
    "name": "ipython",
    "version": 3
   },
   "file_extension": ".py",
   "mimetype": "text/x-python",
   "name": "python",
   "nbconvert_exporter": "python",
   "pygments_lexer": "ipython3",
   "version": "3.8.3"
  },
  "orig_nbformat": 2,
  "kernelspec": {
   "name": "python383jvsc74a57bd01d8a5bbb0756dea561c5110081a5788c97ee82690e858540714922886ca24d79",
   "display_name": "Python 3.8.3 64-bit ('base': conda)"
  }
 },
 "nbformat": 4,
 "nbformat_minor": 2
}