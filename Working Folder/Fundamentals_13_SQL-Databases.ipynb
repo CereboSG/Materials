{
 "cells": [
  {
   "cell_type": "markdown",
   "metadata": {},
   "source": [
    "# Learning Objectives\r\n",
    "\r\n",
    "- [ ] 3.3.1 Determine the attributes of a database: table, record and field.\r\n",
    "- [ ] 3.3.2 Explain the purpose of and use primary, secondary, composite and foreign keys in tables.\r\n",
    "- [ ] 3.3.3 Explain with examples, the concept of data redundancy and data dependency.\r\n",
    "- [ ] 3.3.4 Reduce data redundancy to third normal form (3NF).\r\n",
    "- [ ] 3.3.5 Draw entity-relationship (ER) diagrams to show the relationship between tables.\r\n",
    "- [ ] 3.3.6 *Understand how NoSQL database management system addresses the shortcomings of relational database management system (SQL). (NoSQL will be addressed in later chapter)\r\n",
    "- [ ] 3.3.7 *Explain the applications of SQL and NoSQL. (NoSQL will be addressed in later chapter)\r\n",
    "- [ ] 3.3.8 Use a programming language to work with both SQL and NoSQL databases. (NoSQL will be addressed in later chapter)\r\n",
    "- [ ] 3.3.9 Understand the need for privacy and integrity of data.\r\n",
    "- [ ] 3.3.10 Describe methods to protect data.\r\n",
    "- [ ] 3.3.11 Explain the difference between backup and archive.\r\n",
    "- [ ] 3.3.12 Describe the need for version control and naming convention.\r\n",
    "- [ ] 3.3.13 Explain how data in Singapore is protected under the Personal Data Protection Act to govern the collection, use and disclosure of personal data. \r\n",
    "\r\n",
    "# References\r\n",
    "\r\n",
    "1. Leadbetter, C., Blackford, R., & Piper, T. (2012). Cambridge international AS and A level computing coursebook. Cambridge: Cambridge University Press.\r\n",
    "2. https://www.sparknotes.com/cs/sorting/bubble/section1/#:~:text=The%20total%20number%20of%20comparisons,since%20no%20swaps%20were%20made.\r\n",
    "3. https://visualgo.net/en\r\n",
    "4. https://www.youtube.com/watch?v=o9nW0uBqvEo\r\n",
    "5. Six-Step Relational Database Design™ by Fidel A. Captain"
   ]
  },
  {
   "cell_type": "markdown",
   "metadata": {},
   "source": [
    "A **database** is a collection of related data where all records have the same structure or  collection of data stored in an organised or logical manner.\n",
    "\n",
    "# 13.1 Flat Files Database\n",
    "When referred as a medium of storing data, a **flat file** is usually a plain text file or spreadsheet document, where records usually follow a uniform format, but there are no structures for indexing or recognizing relationships between records. E.g, consider a text file with the following content\n",
    "\n",
    ">```\n",
    "Name, Gender, Age\n",
    "Alex, M, 25\n",
    "Ben, M, 29\n",
    "Cindy, F, eighteen\n",
    "Damian, M, 22\n",
    "Erica, F, 23\n",
    "Fanny, F, don't know\n",
    "Gopal, M, 29\n",
    "Damian, M, 22\n",
    ">```\n",
    "\n",
    "Such approach of storing data using flat files have the following limitations:\n",
    "- data isolation: different information that is to be retrieved being stored in different files\n",
    "- data duplication: repeated data item. Duplication is wasteful as it costs time and money. Data has to be entered more than once, therefore it takes up user time and storage space. Duplication is also likely to lead to a loss of data integrity and inconsistent data (copies of data item which should be the same but are not.)\n",
    "- data dependence: program that need to use specific data formats might have to be changed to work with data from the flat files.\n",
    "- difficulty in changing applications programs."
   ]
  },
  {
   "cell_type": "markdown",
   "metadata": {},
   "source": [
    "# 13.2 Relational Database\n",
    "\n",
    "A **table** (also called **relation** in relational database) is a two-dimensional representation of data stored in rows and columns. A table stores data about an **entity** – i.e. some “thing” about which data are stored, for example, a customer or a product.\n",
    "\n",
    "**Relational database** is a database where data are organised in one or more tables with relationships between them, i.e. a collection of relational tables.\n",
    "\n",
    "In each table, a complete set of data about a single item is called a **record**, i.e. it's a row in a table.\n",
    "\n",
    "On the other hand, a column in a table is called an **field**. **Attributes** are the describing characteristics or properties that define all items pertaining to a certain category applied to all cells of a column.\n",
    "\n",
    "<center>\n",
    "<img src=\"images/mario_2.jpg\" width=\"250\" align=\"center\"/>\n",
    "</center>\n",
    "\n",
    "## Example 1\n",
    "\n",
    "The following table has 5 records and 3 fields, and the attributes are `Colour`, `Price` and `Stock`.\n",
    "\n",
    "<center>\n",
    "\n",
    "| `Colour` | `Price` | `Stock` |\n",
    "|-|-|-|\n",
    "| Red | 0.50 | 30 |\n",
    "| Green | 0.50 | 18 |\n",
    "| Yellow | 0.80 | 43 |\n",
    "| Blue | 0.90 | 66 |\n",
    "| White | 0.85 | 39 |\n",
    "\n",
    "</center>\n",
    "\n",
    "## Example 2\n",
    "\n",
    "Attributes can be used to describe a table. The following table has the following description:\n",
    "\n",
    ">```\n",
    "Student (RegNo, Name, Gender, MobileNo)\n",
    ">```\n",
    "\n",
    "<center>\n",
    "\n",
    "| RegNo | Name | Gender | MobileNo |\n",
    "|-|-|-|-|\n",
    "| 1 | Adam | M | 92313291 |\n",
    "| 2 | Adrian | M | 92585955 |\n",
    "| 3 | Agnes | F | 83324112 |\n",
    "| 4 | Aisha | F | 88851896 |\n",
    "| 5 | Ajay | M | 94191061 |\n",
    "| 6 | Alex | M | 98671715 |\n",
    "| 7 | Alice | F | 95029176 |\n",
    "| 8 | Amy | F | 98640883 |\n",
    "| 9 | Andrew | M | 95172444 |\n",
    "| 10 | Andy | M | 95888639 |\n",
    "\n",
    "</center>\n",
    "\n",
    "In general, a table in a relational database can be described as:\n",
    "\n",
    ">```\n",
    "TABLE_NAME(ATTRIBUTE_1, ATTRIBUTE_2, ATTRIBUTE_3, ATTRIBUTE_4,....)\n",
    ">```\n",
    "\n",
    "Usually, the description of the entity are used for `TABLE_NAME` as well. \n",
    "\n",
    "## Exercise 3\n",
    "\n",
    "Provide the table description of the following table on number of balloons sold and in stock.\n",
    "\n",
    "<center>\n",
    "\n",
    "| `Colour` | `Price` | `AmountSold`| `Stock` |\n",
    "|-|-|-|\n",
    "| Red | 0.50 |40| 30 |\n",
    "| Green | 0.50 |17| 18 |\n",
    "| Yellow | 0.80 |57| 43 |\n",
    "| Blue | 0.90 |24| 66 |\n",
    "| White | 0.85 |36| 39 |\n",
    "\n",
    "</center>"
   ]
  },
  {
   "cell_type": "code",
   "execution_count": null,
   "metadata": {},
   "outputs": [],
   "source": [
    "#YOUR_ANSWER_HERE"
   ]
  },
  {
   "cell_type": "markdown",
   "metadata": {},
   "source": [
    "## 13.2.1 Properties of a table\r\n",
    "\r\n",
    "Table in a relational database if it fulfills the following conditions:\r\n",
    "\r\n",
    "- Values are **atomic**, i.e., for each record, each entry contains only 1 piece of information, e.g. in Example 2, a student cannot have 2 mobile phone numbers in the table.\r\n",
    "- Columns are of the same kind\r\n",
    "- Rows are unique, i.e no repeated rows\r\n",
    "- The order of columns is insignificant\r\n",
    "- Each column must have a unique name\r\n",
    "\r\n",
    "## 13.2.2 Key Fields\r\n",
    "When we consider a database, it is important to be able to able to identify each record in table given some information in the fields, e.g., being able to identify the name of the person given some phone number. \r\n",
    "\r\n",
    "A **key field**, or **key** in short, is either a column or a combination of columns in a database that uniquely identifies the specific record in question.\r\n",
    "\r\n",
    "There are different types of keys.\r\n",
    "- A **candidate key** is defined as a **minimal** set of fields which can uniquely identify each record in a table. A candidate key should never be NULL or empty\r\n",
    "- A **primary key** is a candidate key that is most appropriate to become the main key for a table. It uniquely identifies each record in a table. It is a special case of the candidate key. It is used to uniquely identify a record or row in a table. In the table description, the primary key is denoted with an underline on the attribute, e.g. $$\\text{Student}\\left(\\underline{\\text{MatricNo}},\\text{ Name, Gender, CivicsClass}\\right)$$\r\n",
    "- A **secondary key** is a candidate key that is not chosen as the primary key, i.e. an alternative to the primary key. A user often wants to search the database using the secondary key. However, it is up to the designer of the database which of the attributes will form the secondary key. The setting up of these secondary keys is called *indexing*. \r\n",
    "- A **composite key** is a combination of two or more fields in a table that can be used to uniquely identify each record in a table. Uniqueness is only guaranteed when the fields are combined.\r\n",
    "- A **foreign key** is an attribute (field) in one table that refers to the primary key in another table, i.e. it links to a primary key in a second table and form relationships between the tables. Foreign keys are indicated by using a dashed underline.\r\n",
    "\r\n",
    "<center>\r\n",
    "<img src=\"images/mario_2.jpg\" width=\"250\" align=\"center\"/>\r\n",
    "</center>\r\n",
    "\r\n",
    "## Exercise 4\r\n",
    "\r\n",
    "Consider the following table.\r\n",
    "\r\n",
    "<center>\r\n",
    "\r\n",
    "| RegNo | Name | Gender | MobileNo |\r\n",
    "|-|-|-|-|\r\n",
    "| 1 | Adam | M | 92313291 |\r\n",
    "| 2 | Adrian | M | 92585955 |\r\n",
    "| 3 | Agnes | F | 83324112 |\r\n",
    "| 4 | Aisha | F | 88851896 |\r\n",
    "| 5 | Ajay | M | 94191061 |\r\n",
    "| 6 | Alex | M | 98671715 |\r\n",
    "| 7 | Alice | F | 95029176 |\r\n",
    "| 8 | Amy | F | 98640883 |\r\n",
    "| 9 | Andrew | M | 95172444 |\r\n",
    "| 10 | Andy | M | 95888639 |\r\n",
    "\r\n",
    "</center>\r\n",
    "\r\n",
    "- What is/are the candidate key(s)?\r\n",
    "- What is the primary key?"
   ]
  },
  {
   "cell_type": "code",
   "execution_count": null,
   "metadata": {},
   "outputs": [],
   "source": [
    "#YOUR_ANSWER_HERE"
   ]
  },
  {
   "cell_type": "markdown",
   "metadata": {},
   "source": [
    "## Exercise 5\n",
    "\n",
    "Consider the following table.\n",
    "\n",
    "<center>\n",
    "\n",
    "| RegNo | Name | Gender | CivicsClass |\n",
    "|-|-|-|-|\n",
    "| 1 | Adam | M | 18S12 |\n",
    "| 2 | Adrian | M | 18S12 |\n",
    "| 3 | Agnes | F | 18S12 |\n",
    "| 4 | Aisha | F | 18S12 |\n",
    "| 5 | Ajay | M | 18S12 |\n",
    "| 6 | Alex | M | 18S12 |\n",
    "| 7 | Alice | F | 18S12 |\n",
    "| 8 | Amy | F | 18S12 |\n",
    "| 9 | Andrew | M | 18S12 |\n",
    "| 10 | Andy | M | 18S12 |\n",
    "| 1 | Adam | M | 18A10 |\n",
    "| 2 | bala | M | 18A10 |\n",
    "| 3 | Bee Lay | F | 18A10 |\n",
    "| 4 | Ben | M | 18A10 |\n",
    "| 5 | Boon Kiat | M | 18A10 |\n",
    "| 6 | Boon Lim | M | 18A10 |\n",
    "| 7 | Charles | M | 18A10 |\n",
    "| 8 | Chee Seng | M | 18A10 |\n",
    "| 9 | Cher Leng | F | 18A10 |\n",
    "| 10 | Choo Tuan | M | 18A10 |\n",
    "\n",
    "</center>\n",
    "\n",
    "- What is/are the composite key(s)?"
   ]
  },
  {
   "cell_type": "code",
   "execution_count": null,
   "metadata": {},
   "outputs": [],
   "source": [
    "#YOUR_ANSWER_HERE"
   ]
  },
  {
   "cell_type": "markdown",
   "metadata": {},
   "source": [
    "## Example 6\r\n",
    "\r\n",
    "Consider the following tables `Student` and `ClassInfo` respectively.\r\n",
    "\r\n",
    "<center>\r\n",
    "\r\n",
    "| RegNo | Name | Gender| CivicsClass |\r\n",
    "|-|-|-|-|\r\n",
    "| 1 | Adam | M | 18S12 |\r\n",
    "| 2 | Adrian | M | 18S12 |\r\n",
    "\r\n",
    "</center>\r\n",
    "\r\n",
    "<center>\r\n",
    "\r\n",
    "| CivicsClass | CivicsTutor | HomeRoom|\r\n",
    "|-|-|-|\r\n",
    "| 18S12 | Mr Tan | CR1 | \r\n",
    "| 18A10 | Ms Aishya | CR2 | \r\n",
    "\r\n",
    "</center>\r\n",
    "\r\n",
    "- What is/are the primary key(s) in each table?\r\n",
    "- What is the attribute in the table `ClassInfo` that is the foreign key in the `Student` table?"
   ]
  },
  {
   "cell_type": "code",
   "execution_count": null,
   "metadata": {},
   "outputs": [],
   "source": [
    "#YOUR_ANSWER_HERE"
   ]
  },
  {
   "cell_type": "markdown",
   "metadata": {},
   "source": [
    "# 13.3 Designing Relational Database\r\n",
    "\r\n",
    "Consider the following example of a `ORDER` table.\r\n",
    "\r\n",
    "<center>\r\n",
    "\r\n",
    "| Num | CustName | City | Country | ProdID | Description|\r\n",
    "|-|-|-|-|-|-|\r\n",
    "| 005 | Bill Jones | London | England | 1| Table\r\n",
    "| 005 | Bill Jones | London | England | 2| Desk\r\n",
    "| 005 | Bill Jones | London | England | 3| Chair\r\n",
    "| 008 | Amber Arif | Lahore | Pakistan | 2| Desk|\r\n",
    "| 008 | Amber Arif | Lahore | Pakistan | 7| Cupboard|\r\n",
    "| 014 | M. Ali | Kathmandu | Nepal | 5| Cabinet|\r\n",
    "| 002 | Omar Norton | Cairo | Egypt | 7| Cupboard|\r\n",
    "| 002 | Omar Norton | Cairo | Egypt | 1| Table|\r\n",
    "| 002 | Omar Norton | Cairo | Egypt | 2| Desk|\r\n",
    "\r\n",
    "</center>\r\n",
    "\r\n",
    "If we look back at Exercise 5, we see that same data being stored more than once. This repetition of entry in a database is termed **data redundancy**.\r\n",
    "\r\n",
    "## 13.3.1 Normalisation\r\n",
    "**Normalisation** is the process of organising the tables in a database to reduce data redundancy and prevent inconsistent data. During normalisation, a table is usually separated to two or more tables, but still linked to each other via keys. The separated tables can be of the following type:\r\n",
    "\r\n",
    "### 13.3.1.1 First Normal Form (1NF)\r\n",
    "\r\n",
    "For a table to be in 1NF:\r\n",
    "- all columns must be atomic, i.e.in the database, entities (objects of interest, e.g. person, item, place) do not contain repeated groups of attributes.\r\n",
    "- Columns would not hold a collection such as an array or another table. This means the information in each column cannot be broken down further.\r\n",
    "\r\n",
    "We remove the repeating groups by:\r\n",
    "- moving the some of attributes to a new table\r\n",
    "- linking the new table to the original table with a foreign key.\r\n",
    "\r\n",
    "### Example 7\r\n",
    "Using the `ORDER` table as an example. The following `ORDER(1NF)` and `ORDER-PRODUCTS` is in the first normal form.\r\n",
    "<center>\r\n",
    "\r\n",
    "| Num | CustName | City | Country | \r\n",
    "|-|-|-|-|\r\n",
    "| 005 | Bill Jones | London | England |\r\n",
    "| 008 | Amber Arif | Lahore | Pakistan | \r\n",
    "| 014 | M. Ali | Kathmandu | Nepal |\r\n",
    "| 002 | Omar Norton | Cairo | Egypt | \r\n",
    "\r\n",
    "\r\n",
    "</center>\r\n",
    "\r\n",
    "<center>\r\n",
    "\r\n",
    "| Num | ProdID | Description |\r\n",
    "|-|-|-|\r\n",
    "| 005 | 1 | Table | \r\n",
    "| 005 | 2 | Desk | \r\n",
    "| 005 | 3 | Chair | \r\n",
    "| 008 | 2 | Desk | \r\n",
    "| 008 | 7 | Cupboard | \r\n",
    "| 014 | 5 | Cabinet | \r\n",
    "| 002 | 1 | Table | \r\n",
    "| 002 | 2 | Desk | \r\n",
    "| 002 | 7 | Cupboard | \r\n",
    "|...|   |\r\n",
    "\r\n",
    "</center>\r\n",
    "\r\n",
    "The primary key in `ORDER(1NF)` is **Num**, while the primary key in `ORDER-PRODUCTS` is **Num and ProdID**. In other words, **Num** is a foreign key in `ORDER-PRODUCTS` table."
   ]
  },
  {
   "cell_type": "markdown",
   "metadata": {},
   "source": [
    "### Example 8\n",
    "\n",
    "Are the following tables in 1NF?\n",
    "\n",
    "<center>\n",
    "<img src=\"images/mario_2.jpg\" width=\"250\" align=\"center\"/>\n",
    "</center>\n",
    "\n",
    "<center>\n",
    "<img src=\"images/mario_2.jpg\" width=\"250\" align=\"center\"/>\n",
    "</center>"
   ]
  },
  {
   "cell_type": "code",
   "execution_count": null,
   "metadata": {},
   "outputs": [],
   "source": [
    "#YOUR_ANSWER_HERE"
   ]
  },
  {
   "cell_type": "markdown",
   "metadata": {},
   "source": [
    "### 13.3.1.2 Second Normal Form (2NF)\r\n",
    "\r\n",
    "To continue with our process of normalisation, we first introduce the following definitions.\r\n",
    "\r\n",
    "Let $x,y$ be attributes in a table. We say that attribute $y$ is **functionally dependent** on attribute $x$ (usually the primary key), if for every valid instance of $x$, the value of $x$ **uniquely determines** the value of $y$ ($x \\rightarrow y$). \r\n",
    "\r\n",
    "Let $y$ be an attribute and $S$ be a set of attributes of a table. $y$ is **fully dependent** on $S$ if all the attributes in $S$ are required to **uniquely determine** the value of $y$. If not all the attributes are required, we say that $y$ is **partially dependent** on $S$.\r\n",
    "\r\n",
    "### Example 9\r\n",
    "In the `ORDER(1NF)` table,\r\n",
    "- $\\text{Num}\\rightarrow \\text{CustName}$\r\n",
    "- $\\text{City}\\rightarrow \\text{Country}$.\r\n",
    "\r\n",
    "In `ORDER-PRODUCTS` table, $\\text{Description}$ is *partially dependent* on the primary key $(\\text{Num},\\text{ProdID})$.\r\n",
    "\r\n",
    "For a table to be in 2NF:\r\n",
    "- it has to be in 1NF\r\n",
    "- every non-key attribute must be **fully** dependent on **all** of the primary key. This means no attribute can depend on part of the primary key only\r\n",
    "\r\n",
    "We remove the partial dependencies by:\r\n",
    "- moving the partially dependent attribute to a new table\r\n",
    "- linking the new table to the table with a foreign key.\r\n",
    "\r\n",
    "### Example 10\r\n",
    "From the definitions above, `ORDER-PRODUCTS` table is not 2NF. To make it 2NF, we move the attribute $\\text{Description}$ to a new table to get the following tables `ORDER-PRODUCTS(2NF)` and `PRODUCT`. Furthermore, $\\text{ProdID}$ is a foreign key in the `Product` table.\r\n",
    "\r\n",
    "<center>\r\n",
    "\r\n",
    "| Num | ProdID | \r\n",
    "|-|-|\r\n",
    "| 005 | 1 | \r\n",
    "| 005 | 2 | \r\n",
    "| 005 | 3 | \r\n",
    "| 008 | 2 | \r\n",
    "| 008 | 7 | \r\n",
    "| 014 | 5 | \r\n",
    "| 002 | 1 | \r\n",
    "| 002 | 2 | \r\n",
    "| 002 | 7 | \r\n",
    "|...|   |\r\n",
    "\r\n",
    "</center>\r\n",
    "\r\n",
    "<center>\r\n",
    "\r\n",
    "| ProdID | Description |\r\n",
    "|-|-|\r\n",
    "| 1 | Table | \r\n",
    "| 2 | Desk | \r\n",
    "| 3 | Chair | \r\n",
    "| 5 | Cabinet | \r\n",
    "| 7 | Cupboard | \r\n",
    "|...|   |\r\n",
    "\r\n",
    "</center>\r\n",
    "\r\n",
    "### Exercise 11\r\n",
    "\r\n",
    "Reduce the following table into 2NF tables.\r\n",
    "\r\n",
    "<center>\r\n",
    "<img src=\"images/mario_2.jpg\" width=\"250\" align=\"center\"/>\r\n",
    "</center>\r\n"
   ]
  },
  {
   "cell_type": "markdown",
   "metadata": {},
   "source": [
    "### 13.3.1.3 Third Normal Form (3NF)\r\n",
    "\r\n",
    "For the last form, we will introduce yet another definition.\r\n",
    "\r\n",
    "Let $x,y,z$ be attributes in a table. A functional dependency $x\\rightarrow z$ is said to be **transitive** if there exists an attribute $y$ such that $x\\rightarrow y$ and $y\\rightarrow z$. \r\n",
    "\r\n",
    "Note that $x\\rightarrow y$ **does not** necessarily implies the converse  $y \\rightarrow x$.\r\n",
    "\r\n",
    "For a table to be in 3NF:\r\n",
    "- it has to be in 2NF\r\n",
    "- The table should not have transitive dependencies between the non-key attributes.\r\n",
    "\r\n",
    "#### Example 14\r\n",
    " Consider the `ORDER(1NF)` table.\r\n",
    " \r\n",
    " <center>\r\n",
    "\r\n",
    "| Num | CustName | City | Country | \r\n",
    "|-|-|-|-|\r\n",
    "| 005 | Bill Jones | London | England |\r\n",
    "| 008 | Amber Arif | Lahore | Pakistan | \r\n",
    "| 014 | M. Ali | Kathmandu | Nepal |\r\n",
    "| 002 | Omar Norton | Cairo | Egypt | \r\n",
    "\r\n",
    "</center>\r\n",
    "\r\n",
    "Note that the table is in 2NF but not in 3NF as the attribute City determines the attribute Country, so we have two non-key attributes which are dependent. \r\n",
    "\r\n",
    "To make it 3NF, we break the table down further into the following tables `ORDER(3NF)` and `CITY-COUNTRIES`.\r\n",
    "\r\n",
    "<center>\r\n",
    "\r\n",
    "| Num | CustName | City | \r\n",
    "|-|-|-|\r\n",
    "| 005 | Bill Jones | London | \r\n",
    "| 008 | Amber Arif | Lahore | \r\n",
    "| 014 | M. Ali | Kathmandu | \r\n",
    "| 002 | Omar Norton | Cairo | \r\n",
    "|...|||\r\n",
    "\r\n",
    "</center>\r\n",
    "\r\n",
    "<center>\r\n",
    "\r\n",
    "| City | Country | \r\n",
    "|-|-|\r\n",
    "| London | England |\r\n",
    "| Lahore | Pakistan | \r\n",
    "| Kathmandu | Nepal |\r\n",
    "| Cairo | Egypt | \r\n",
    "|...|\r\n",
    "\r\n",
    "</center>"
   ]
  },
  {
   "cell_type": "markdown",
   "metadata": {},
   "source": [
    "To summarize, during the normalization process we end up with more tables, but each table is small enough to enable us to retrieve the information that we want and by that, we avoid data redundancy.\n"
   ]
  },
  {
   "cell_type": "markdown",
   "metadata": {},
   "source": [
    "# 13.4 Entity-Relationship Diagram\r\n",
    "\r\n",
    "Recall that entities are objects of which data are stored in the database. To illustrate the relationship between entities, an **entity–relationship diagram (E–R diagram)** can be used. \r\n",
    "\r\n",
    "In an E-R diagram, \r\n",
    "- entities are represented as rectangles,\r\n",
    "- relationships, which are the between two entities, are represented therefore by specific lines connecting the rectangles. There are 3 types of relationships\r\n",
    "    - **one to one** : when a single instance of an entity is associated with a single instance of another entity, e.g. a person (legally) has only one NRIC number. Represented by a line with single ends between the entities.\r\n",
    "    <center>\r\n",
    "    <img src=\"images/mario_2.jpg\" width=\"250\" align=\"center\"/>\r\n",
    "    </center>\r\n",
    "    \r\n",
    "    - **one to many** : When a single instance of an entity is associated with more than one instances of another entity, e.g. many students study in a school but a student cannot be under multiple school at the same time. Represented by a line with a single end on the entity with a single instance and a \"crow's feet\" on the entity having multiple instances. \r\n",
    "    <center>\r\n",
    "    <img src=\"images/mario_2.jpg\" width=\"250\" align=\"center\"/>\r\n",
    "    </center>\r\n",
    "    \r\n",
    "    - **many to many** : when more than one instances of an entity is associated with more than one instances of another entity, e.g. a student can be assigned to many projects and a project can be assigned to many students. Represented by a line with \"crow's feet\" on both ends.\r\n",
    "    <center>\r\n",
    "    <img src=\"images/mario_2.jpg\" width=\"250\" align=\"center\"/>\r\n",
    "    </center>\r\n",
    "\r\n",
    "#### Example 15\r\n",
    "\r\n",
    "A small library wants to keep track of its <u>collections</u> (e.g., fiction, non-fiction, journals, etc.), the <u>items</u> in those collections, the physical <u>location</u> in the library of these collections, the <u>members</u> of the library and the <u>items</u> they borrow from the various collections.\r\n",
    "\r\n",
    "<center>\r\n",
    "<img src=\"images/mario_2.jpg\" width=\"250\" align=\"center\"/>\r\n",
    "</center>"
   ]
  },
  {
   "cell_type": "code",
   "execution_count": null,
   "metadata": {},
   "outputs": [],
   "source": []
  },
  {
   "cell_type": "markdown",
   "metadata": {},
   "source": [
    "# 13.5 Advantages of Relational Database Over Flat Files\r\n",
    "\r\n",
    "There are two main areas where using relational database is more advantegous over flat files.\r\n",
    "## 13.5.1 Data Storage\r\n",
    "\r\n",
    "<center>\r\n",
    "\r\n",
    "| Flat Files | Relational Database | \r\n",
    "|-|-|\r\n",
    "| Data are stored in a number of files. | Data are contained in a single software application – the relational database or DBMS software. |\r\n",
    "| Data are highly likely to be duplicated and may become inconsistent – it can never be certain that all copies of a piece of data have been updated. | Duplication of data is minimised and so the chance of data inconsistency is reduced. As long as there is a link to the table storing the data, they can always be accessed via the link rather than repeating the data. Good database design avoids data duplication. | \r\n",
    "| Because of data duplication, the volume of data stored is large. | Because data duplication is minimised, the volume of data is reduced, leading to faster searching and sorting of data.\r\n",
    "\r\n",
    "</center>\r\n",
    "\r\n",
    "## 13.5.2 Program-data independence\r\n",
    "\r\n",
    "<center>\r\n",
    "\r\n",
    "| Flat Files | Relational Database | \r\n",
    "|-|-|\r\n",
    "| When data structures need to be altered, the software must be re-written. | Data structures remain the same even when the tables are altered. Existing programs do not need to be altered when a table design is changed.|\r\n",
    "| Views of the data are governed by the different files used to control the data and produced by individual departments. All views of the data have to be programmed and this is very time-consuming. |  Queries and reports can be set up with simple “point and click” features or using the data manipulation language. A novice user can write queries quickly. |\r\n",
    "</center>\r\n"
   ]
  },
  {
   "cell_type": "markdown",
   "metadata": {},
   "source": []
  },
  {
   "cell_type": "markdown",
   "metadata": {},
   "source": [
    "# 13.6 SQLite Database\r\n",
    "\r\n",
    "**Structured Query Language** (SQL) is a standard computer language for the operation and management of relational databases. It is a language used to query, insert, update and modify data.\r\n",
    "\r\n",
    "There are many variants of SQL Engines, e.g. MySQL, Microsoft SQL, SQLite, PostgreSQL etc. However, for your syllabus, you are required to be able to work with **SQLite Databases**.\r\n",
    "\r\n",
    "Each value stored in an SQLite database (or manipulated by the database engine) has one of the following storage classes:\r\n",
    "- `NULL`: The value is a NULL value.\r\n",
    "- `INTEGER`: used for a signed integer, stored in 1, 2, 3, 4, 6, or 8 bytes depending on the magnitude of the value.\r\n",
    "- `REAL`: used for a floating point value, stored as an 8-byte IEEE floating point number.\r\n",
    "- `TEXT`: used for a text string, stored using the database encoding (UTF-8, UTF-16BE or UTF-16LE).\r\n",
    "- `BLOB`: used for large binary data, such as images or multimedia in a database.\r\n",
    "\r\n",
    "For the most part, \"storage class\" is indistinguishable from \"datatype\" and the two terms can be used interchangeably.\r\n",
    "\r\n",
    "SQLite supports the concept of type affinity on columns/fields. Type affinity refers to the preferred data type stored in a column. This means that you can store any type of data in a column with the recommended types, but they are not enforced.\r\n",
    "\r\n",
    "Each column in a SQLite table is assigned one of the following type affinities:\r\n",
    "- `INTEGER` \r\n",
    "- `TEXT` \r\n",
    "- `REAL` \r\n",
    "- `BLOB` \r\n",
    "- `NUMERIC` : A column with `NUMERIC` affinity may contain values using all five storage classes mentioned previously. TLDR, it tries to accomodate the values entered, make a guess on its type when the value is stored in the database.\r\n",
    "\r\n",
    "To work with databases, it is imperative to get familiar with CRUD operations,\r\n",
    "- <u>C</u>reate\r\n",
    "- <u>R</u>ead(Retrieve)\r\n",
    "- <u>U</u>pdate(Modify)\r\n",
    "- <u>D</u>elete(Destroy)\r\n",
    "\r\n",
    "## 13.6.1 DBBrowser for SQLite\r\n",
    "[DB Browser for SQLite(DB4S)](https://sqlitebrowser.org/) is a simple and easy to use Graphical User Interface (GUI) - based software for the creation and editing of database files compatible with SQLite. It abstracts and hides the details of complex SQL commands while providing an easy to user interface for performing the same database operations.\r\n",
    "\r\n",
    "We will illustrate how we can do the CRUD operations in DB4S\r\n",
    "\r\n",
    "### Example 16\r\n",
    "\r\n",
    "A library contains books that can be on loan to borrowers where:\r\n",
    "- A borrower can take one or many loans.\r\n",
    "- Each loan record belongs to only one borrower.\r\n",
    "- A book can be loaned many times.\r\n",
    "- A publisher publishes one or many books.\r\n",
    "- A book can be published by zero or one publisher.\r\n",
    "\r\n",
    "So, the ER diagram looks like\r\n",
    "\r\n",
    "<center>\r\n",
    "<img src=\"images/mario_2.jpg\" width=\"250\" align=\"center\"/>\r\n",
    "</center>"
   ]
  },
  {
   "cell_type": "markdown",
   "metadata": {},
   "source": [
    "## 13.6.1.1 Creating Database with DBBrowser\r\n",
    "1.\tCreate a folder called `DBTASK`. You will save all your files inside this folder.\r\n",
    "2.\tOpen `DBBrowser for SQLite`.\r\n",
    "3.\tClick `File`, then `New Database`.\r\n",
    "4.\tSave and name your database file as `library`. The default extension is `.db`. Note: other database file extensions are `sqlite/sqlite3/db3`\r\n",
    "5.\tCreate a table called `Borrower` with the fields and constraints listed above.\r\n",
    "6.\tClick `Write Changes` or `CTRL+S` to save changes to the database.\r\n",
    "\r\n",
    "<center>\r\n",
    "<img src=\"images/mario_2.jpg\" width=\"250\" align=\"center\"/>\r\n",
    "</center>"
   ]
  },
  {
   "cell_type": "markdown",
   "metadata": {},
   "source": []
  },
  {
   "cell_type": "markdown",
   "metadata": {},
   "source": [
    "# 13.7 SQLite in Python"
   ]
  },
  {
   "cell_type": "markdown",
   "metadata": {},
   "source": [
    "## 13.6.1.2 Inserting Records [<u>C</u>reate]\r\n",
    "1. Under the `Browse Data` tab, click `New Record`.\r\n",
    "2. Click on the `FirstName` cell of the first record.\r\n",
    "3. Under `Edit Database Cell`, type the value for `FirstName`. Click `Apply`.\r\n",
    "4. Repeat the above two steps for `Surname` and `Contact`. If the record has been entered correctly, you should see the following in the table:\r\n",
    "5. Click `New Record` to enter values for the next few records.\r\n",
    "\r\n",
    "       \tBorrower\r\n",
    "ID\tFirstName\tSurname\tContact\r\n",
    "1\tPeter \tTan\t999\r\n",
    "2\tSarah\tLee\t81111123\r\n",
    "3\tKumara\tRavi\t94456677\r\n",
    "4\tSome\tUser\t11111111\r\n",
    "\r\n",
    "6.\tWrite changes to the database.\r\n"
   ]
  },
  {
   "cell_type": "markdown",
   "metadata": {},
   "source": [
    "There are different types of keys.\n"
   ]
  },
  {
   "cell_type": "markdown",
   "metadata": {},
   "source": [
    "Assume that these steps take constant time\n",
    "- mathematical operations\n",
    "- comparisons\n",
    "- assignments\n",
    "- accessing objects in memory\n",
    "then count the number of operations executed as function of size of input"
   ]
  },
  {
   "cell_type": "code",
   "execution_count": null,
   "metadata": {},
   "outputs": [],
   "source": [
    "# 3 ops\n",
    "def c_to_f(c):\n",
    "    return c*9.0/5 +32\n",
    "\n",
    "# 1+3x ops\n",
    "def mysum(x):\n",
    "    total = 0\n",
    "    for i in range (x+1):\n",
    "        total += i\n",
    "    return total"
   ]
  },
  {
   "cell_type": "markdown",
   "metadata": {},
   "source": [
    "- best case : minimum running time over all possible inputs of a given size\n",
    "- average case : average running time over all possible inputs of a given size\n",
    "- worst case : maximum running time over all possible inputs of a given size"
   ]
  },
  {
   "cell_type": "markdown",
   "metadata": {},
   "source": [
    "- ignore additive constants\n",
    "- ignore multiplicative constants\n",
    "- focus on dominant terms"
   ]
  },
  {
   "cell_type": "markdown",
   "metadata": {},
   "source": [
    "- n^2+2n+2\n",
    "- n^2+10000n+3^10000\n",
    "- \\log(n)+n+4\n",
    "- 0.0001*n*\\log(n)+300n\n",
    "- 2n^30+3^n"
   ]
  },
  {
   "cell_type": "markdown",
   "metadata": {},
   "source": [
    "Law of addition for $O()$\n",
    "- used with *sequential* statements"
   ]
  },
  {
   "cell_type": "code",
   "execution_count": null,
   "metadata": {},
   "outputs": [],
   "source": [
    "#O(n^2)\n",
    "for i in range(n):\n",
    "    print('a')\n",
    "for j in range(n*n):\n",
    "    print('b')"
   ]
  },
  {
   "cell_type": "markdown",
   "metadata": {},
   "source": [
    "Law of multiplication for $O()$\n",
    "- used with *nested* statements/loops"
   ]
  },
  {
   "cell_type": "code",
   "execution_count": null,
   "metadata": {},
   "outputs": [],
   "source": [
    "#O(n^2)\n",
    "for i in range(n):\n",
    "    for j in range(n):\n",
    "        print('a')"
   ]
  },
  {
   "cell_type": "markdown",
   "metadata": {},
   "source": [
    "- O(1)\n",
    "- O(\\log n)\n",
    "- O(n)\n",
    "- O(n \\log n)\n",
    "- O(n^c)\n",
    "- O(c^n)"
   ]
  },
  {
   "cell_type": "markdown",
   "metadata": {},
   "source": [
    "# 10.1 Search Algorithm\n",
    "\n",
    "A search algorithm is an algorithm to retrieve information from some data structure. Some examples include:\n",
    "- Finding the maximum or minimum value in a list or array\n",
    "- Checking to see if a given value is present in a set of values\n",
    "- Retrieving a record from a database"
   ]
  },
  {
   "cell_type": "markdown",
   "metadata": {},
   "source": [
    "## 10.1.1 Linear Search\n",
    "\n",
    "A **linear search**, also called **serial** or **sequential** searches an item in a given array sequentially till the end of the collection. It does not require the data to be in any particular order. \n",
    "\n",
    "To find the position of a particular value involves looking at each value in turn – starting with the first – and comparing it with the value you are looking for. When the value is found, you need to note its position. You must also be able to report the special case that a value has not been found. This last part only becomes apparent when the search has reached the final data item without finding the required value.\n",
    "\n",
    "### Example\n",
    "\n",
    "In this example, you have the array `[10,14,19,26,27,31,33,35,42,44]` and you are looking for the value `33` in the array.\n",
    "\n",
    "<center>\n",
    "<img src=\"images/mario_2.jpg\" width=\"250\" align=\"center\"/>\n",
    "</center>\n",
    "\n",
    "The pseudocode for linear search function is given below. It returns the index of the searched value in the array if it exists. In the case that the value is not in the array, the function returns `-1`."
   ]
  },
  {
   "cell_type": "code",
   "execution_count": null,
   "metadata": {},
   "outputs": [],
   "source": [
    "FUNCTION LINEARSEARCH(A: ARRAY of INTEGER, t: INTEGER) RETURNS INTEGER\n",
    "    DECLARE index: INTEGER\n",
    "\tindex ← -1\n",
    "\tFOR i = 1 TO A.SIZE\n",
    "\t\tIF A[i] = t THEN\n",
    "\t\t\tindex ← i\n",
    "\t\t\tBREAK\n",
    "\t\tENDIF\n",
    "\tENDFOR\n",
    "\tRETURN index\n",
    "ENDFUNCTION"
   ]
  },
  {
   "cell_type": "markdown",
   "metadata": {},
   "source": [
    "### Exercise\n",
    "\n",
    "Implement a function `linear_search(array, val)` which searches the list `array` for a value `val` using the linear search algorithm.\n",
    "\n",
    "Test your function with the following list\n",
    "> `\n",
    "[39, 96, 51, 20, 42, 42, 74, 28, 66, 16, 10, 86, 6, 43, 67, 98, 32, 73, 99, 7, 80, 88, 57, 83, 1, 64, 33, 38, 38, 8, 68, 38, 42, 80, 71, 82, 25, 29, 2, 85, 2, 96, 34, 14, 9, 65, 50, 63, 99, 94, 5, 93, 84, 46, 64, 22, 59, 31, 74, 13, 93, 13, 98, 93]`\n",
    "\n",
    "with the values `9` and `2`. What do you observe for the latter value?"
   ]
  },
  {
   "cell_type": "code",
   "execution_count": null,
   "metadata": {},
   "outputs": [],
   "source": [
    "#YOUR_CODE_HERE"
   ]
  },
  {
   "cell_type": "markdown",
   "metadata": {},
   "source": [
    "In linear search, all items are searched one-by-one to find the required item.\n",
    "\n",
    "If the array has $n$ elements to be compared to,\n",
    "\n",
    "- The best-case lookup to find an item is $1$ comparison, i.e., the item is at the head of the array.\n",
    "- The worst-case lookup to find an item is $n$ comparisons, i.e. the item is at the end of the array.\n",
    "- The average lookup to find an item is approximately $\\frac{n}{2}$ comparisons. \n",
    "\n",
    "Clearly, if $n$ is large,  this can be a very large number of comparisons and the serial search algorithm can take a long time.\n",
    "\n",
    "Consequently, we have for serial search,\n",
    "- Advantage:\n",
    "    - algorithm is straightforward and easy to implement,\n",
    "    - data need not be in any particular order,\n",
    "    - works well if there is a small number of data item.\n",
    "- Disadvantage:\n",
    "    - search can take a long time if value of $n$ is large, i.e. inefficient if there is a large number of data items.\n",
    "\n",
    "o\tVariations:\n",
    "\tSearch target requires a different criteria (not just object existence).\n",
    "\tMust find all instances of target.\n",
    "\tMust find particular instance of target (first, last, etc.).\n",
    "\tMust find object just greater/smaller than target.\n"
   ]
  },
  {
   "cell_type": "markdown",
   "metadata": {},
   "source": [
    "## 10.1.2 Binary Search\n",
    "\n",
    "In the previous section, we looked at linear search where the data is not required to be stored in any particular order. On the other hand, if we know that the data is stored in an ascending order, we can utilize the another algorithm called the **binary search**. \n",
    "\n",
    "Workings of binary search algorithm:\n",
    "- First check the MIDDLE element in the list.\n",
    "- If it is the value we want, we can stop.\n",
    "- If it is HIGHER than the value we want, we repeat the search process with the portion of the list BEFORE the middle element.\n",
    "- If it is LOWER than the value we want, we repeat the search process with the portion of the list AFTER the middle element.\n",
    "\n",
    "Note that  if there is an even number of values in the array, dividing by two gives a whole number and we split the array there. However, if the array consists of an odd number of values we need to find the integer part of it, as an array index must be an integer. \n",
    "\n",
    "The pseudocode for binary search function is given below. It returns the index of the searched value in the array if it exists. In the case that the value is not in the array, the function returns `-1`."
   ]
  },
  {
   "cell_type": "code",
   "execution_count": null,
   "metadata": {},
   "outputs": [],
   "source": [
    "FUNCTION BinarySearch(A: ARRAY of INTEGER, t: INTEGER) RETURNS INTEGER\n",
    "\tDECLARE start, mid, end: INTEGER\n",
    "\tstart ← 1\n",
    "\tend ← A.SIZE\n",
    "\tWHILE start <= end DO\n",
    "\t\tmid ← (start + end) DIV 2\n",
    "\t\tIF t = A[mid] THEN\n",
    "\t\t\tRETURN mid\n",
    "\t\tENDIF\n",
    "\t\tIF t < A[mid] THEN\n",
    "\t\t\tend ← mid – 1\n",
    "\t\tELSE\n",
    "\t\t\tstart ← mid + 1\n",
    "\t\tENDIF\n",
    "\tENDWHILE\n",
    "\tRETURN -1\n",
    "ENDFUNCTION"
   ]
  },
  {
   "cell_type": "markdown",
   "metadata": {},
   "source": [
    "### Exercise\n",
    "\n",
    "Implement a function `binary_search(array, val)` which searches the list `array` for a value `val` using the binary search algorithm described above.\n",
    "\n",
    "Test your function with the following list\n",
    "> `\n",
    "[39, 96, 51, 20, 42, 42, 74, 28, 66, 16, 10, 86, 6, 43, 67, 98, 32, 73, 99, 7, 80, 88, 57, 83, 1, 64, 33, 38, 38, 8, 68, 38, 42, 80, 71, 82, 25, 29, 2, 85, 2, 96, 34, 14, 9, 65, 50, 63, 99, 94, 5, 93, 84, 46, 64, 22, 59, 31, 74, 13, 93, 13, 98, 93]`\n",
    "\n",
    "with the values `9` and `2`."
   ]
  },
  {
   "cell_type": "code",
   "execution_count": null,
   "metadata": {},
   "outputs": [],
   "source": [
    "#YOUR_CODE_HERE"
   ]
  },
  {
   "cell_type": "markdown",
   "metadata": {},
   "source": [
    "If the array has $n$ elements to be compared to,\n",
    "\n",
    "- The best-case lookup to find an item is $1$ comparison, i.e., the item is at the middle of the array.\n",
    "- The worst-case lookup to find an item is approximately $\\log_2{n}$ comparisons."
   ]
  },
  {
   "cell_type": "code",
   "execution_count": null,
   "metadata": {},
   "outputs": [],
   "source": [
    "#YOUR_CODE_HERE"
   ]
  },
  {
   "cell_type": "markdown",
   "metadata": {},
   "source": [
    "Jupyter Notebook provides a magic function `%timeit` and `%%timeit` to time a code execution.\n",
    "* `%timeit` is used to time a single line of statement\n",
    "* `%%timeit` is used to time all codes in a cell. `%%timeit` must be placed at first line of cell. \n",
    "\n",
    "### Exercise \n",
    "Use `%timeit` to time the code executions for both the functions:\n",
    "- `linear_search`,\n",
    "- `binary_search`\n",
    "\n",
    "that you have coded in the previous exercise, using the \n",
    "> `\n",
    "[39, 96, 51, 20, 42, 42, 74, 28, 66, 16, 10, 86, 6, 43, 67, 98, 32, 73, 99, 7, 80, 88, 57, 83, 1, 64, 33, 38, 38, 8, 68, 38, 42, 80, 71, 82, 25, 29, 2, 85, 2, 96, 34, 14, 9, 65, 50, 63, 99, 94, 5, 93, 84, 46, 64, 22, 59, 31, 74, 13, 93, 13, 98, 93]`\n",
    "\n",
    "with the search value `9`."
   ]
  },
  {
   "cell_type": "code",
   "execution_count": null,
   "metadata": {},
   "outputs": [],
   "source": [
    "#YOUR_CODE_HERE"
   ]
  },
  {
   "cell_type": "markdown",
   "metadata": {},
   "source": [
    "# 10.2 Sorting Algorithms\n",
    "\n",
    "Sorting refers to arranging a fixed set of data in a particular order. Sorting orders could be numerical (`1`,`2`, `3`, ...), lexicographical/dictionary (`AA`, `AB`, `AC`, ...) or custom ('Mon', 'Tue', 'Wed', ...).\n",
    "\n",
    "Sorting algorithms specify ways to arrange data in particular ways to put the data in order. In this section, it is assumed that the sorted data is in ascending order."
   ]
  },
  {
   "cell_type": "markdown",
   "metadata": {},
   "source": [
    "## 10.1 Insertion Sort\n",
    "\n",
    "In insertion sort algorithm, we compare each element, termed `key` element, in turn with the elements before it in the array. We then insert the `key` element into its correct position in the array.\n",
    "\n",
    "### Example\n",
    "\n",
    "In this example, the array `[6,5,3,1,8,7,2,4]` is sorted with insertion sort.\n",
    "\n",
    "<center>\n",
    "<img src=\"images/mario_2.jpg\" width=\"250\" align=\"center\"/>\n",
    "</center>\n",
    "\n",
    "The pseudocode for insertion sort function for an array containing integer elements is given below:"
   ]
  },
  {
   "cell_type": "code",
   "execution_count": null,
   "metadata": {},
   "outputs": [],
   "source": [
    "FUNCTION InsertionSort(A: ARRAY of INTEGER) RETURNS ARRAY of INTEGER\n",
    "\tDECLARE j, temp: INTEGER\n",
    "    FOR i = 2 to A.SIZE\n",
    "        j ← i\n",
    "        WHILE j > 1 AND A[j] < A[j – 1] DO\n",
    "            temp ← A[j]\n",
    "            A[j] ← A[j - 1]\n",
    "            A[j - 1] ← temp\n",
    "            j ← j - 1\n",
    "        ENDWHILE\n",
    "    ENDFOR\n",
    "    RETURN A\n",
    "ENDFUNCTION"
   ]
  },
  {
   "cell_type": "markdown",
   "metadata": {},
   "source": [
    "### Exercise\n",
    "\n",
    "Implement a function `insertion_sort(array)` which sorts the list `array` in the ascending order according to the insertion algorithm given above.\n",
    "\n",
    "Test your function with the following list\n",
    "> `\n",
    "[39, 96, 51, 20, 42, 42, 74, 28, 66, 16, 10, 86, 6, 43, 67, 98, 32, 73, 99, 7, 80, 88, 57, 83, 1, 64, 33, 38, 38, 8, 68, 38, 42, 80, 71, 82, 25, 29, 2, 85, 2, 96, 34, 14, 9, 65, 50, 63, 99, 94, 5, 93, 84, 46, 64, 22, 59, 31, 74, 13, 93, 13, 98, 93]`."
   ]
  },
  {
   "cell_type": "code",
   "execution_count": null,
   "metadata": {},
   "outputs": [],
   "source": [
    "#YOUR_CODE_HERE"
   ]
  },
  {
   "cell_type": "markdown",
   "metadata": {},
   "source": [
    "Note:\n",
    "- The outer for-loop in Insertion Sort function always iterates $n-1$ times.\n",
    "- The inner for-loop will make $1 + 2 + 3 ... + (n-1)=\\frac{n(n-1)}{2}$ comparisons in worst case."
   ]
  },
  {
   "cell_type": "markdown",
   "metadata": {},
   "source": [
    "# 10.2 Bubble Sort\n",
    "\n",
    "The next sorting algorithm iterates over an array multiple times. \n",
    "* In each iteration, it takes 2 consecutive elements and compare them. \n",
    "* It swaps the smaller value to the left and larger value to the right.\n",
    "* It repeats until the larger elements \"bubble up\" to the end of the list, and the smaller elements moves to the \"bottom\". This is the reason for the naming of the algorithm.\n",
    "* The right-hand side of the array are sorted. \n",
    "\n",
    "### Example\n",
    "\n",
    "In this example, the array `[6,5,3,1,8,7,2,4]` is sorted with bubble sort.\n",
    "\n",
    "<center>\n",
    "<img src=\"images/mario_2.jpg\" width=\"250\" align=\"center\"/>\n",
    "</center>\n",
    "\n",
    "We see that\n",
    "* For 1st iteration, we need to make $n-1$ comparisons. It will bring the largest value to the extreme right.\n",
    "* For 2nd iteration, we need to make $n-2$ comparisons. It will bring 2nd largest value to the 2nd extreme right.\n",
    "* And so on...\n",
    "\n",
    "Consequently, we need a nested loops to make multiple iterations. \n",
    "\n",
    "The pseudocode for bubble sort function for an array containing integer elements is given below:"
   ]
  },
  {
   "cell_type": "code",
   "execution_count": null,
   "metadata": {},
   "outputs": [],
   "source": [
    "FUNCTION BubbleSort(A: ARRAY of INTEGER) RETURNS ARRAY of INTEGER\n",
    "    DECLARE swap: BOOLEAN\n",
    "    DECLARE temp: INTEGER\n",
    "    FOR i = 1 to (A.SIZE – 1)\n",
    "        swap ← FALSE\n",
    "        FOR j = 1 to (A.SIZE – i)\n",
    "            IF A[j] > A[j + 1] THEN\n",
    "                temp ← A[j]\n",
    "                A[j] ← A[j + 1]\n",
    "                A[j + 1] ← temp\n",
    "                swap ← TRUE\n",
    "            ENDIF\n",
    "        ENDFOR\n",
    "        IF NOT swap THEN\n",
    "            BREAK\n",
    "        ENDIF\n",
    "    ENDFOR\n",
    "    RETURN A\n",
    "ENDFUNCTION\n"
   ]
  },
  {
   "cell_type": "markdown",
   "metadata": {},
   "source": [
    "### Exercise\n",
    "\n",
    "Implement a function `bubble_sort(array)` which sorts the list `array` in the ascending order according to the bubble algorithm given above.\n",
    "\n",
    "Test your function with the following list\n",
    "> `\n",
    "[39, 96, 51, 20, 42, 42, 74, 28, 66, 16, 10, 86, 6, 43, 67, 98, 32, 73, 99, 7, 80, 88, 57, 83, 1, 64, 33, 38, 38, 8, 68, 38, 42, 80, 71, 82, 25, 29, 2, 85, 2, 96, 34, 14, 9, 65, 50, 63, 99, 94, 5, 93, 84, 46, 64, 22, 59, 31, 74, 13, 93, 13, 98, 93]`."
   ]
  },
  {
   "cell_type": "code",
   "execution_count": null,
   "metadata": {},
   "outputs": [],
   "source": [
    "#YOUR_CODE_HERE"
   ]
  },
  {
   "cell_type": "markdown",
   "metadata": {},
   "source": [
    "Note:\n",
    "- The amount of comparisons in Bubble Sort algorithgm is $(n - 1) + (n - 2) + ... + 1=\\frac{n(n-1)}{2}$ comparisons,\n",
    "- Best case is when the array is already sorted and bubble sort will terminate after the first iterations. \n",
    "- Bubble sort is also efficient when one random element needs to be sorted into a sorted array, provided that new element is placed at the beginning and not at the end. \n",
    "- The absolute worst case for bubble sort is when the smallest element of the array is the last element in the end of the array. Because in each iteration only the largest unsorted element gets put in its proper location, when the smallest element is at the end, it will have to be swapped each time through the array, and it wont get to the front of the list until all $n$ iterations have occurred."
   ]
  },
  {
   "cell_type": "markdown",
   "metadata": {},
   "source": [
    "# 10.3 Quicksort\n",
    "\n",
    "Quicksort is a sorting technique based on divide and conquer technique. Quicksort first selects an element, termed the `pivot`, and partitions the array around the pivot, putting every smaller element into a low array and every larger element into a high array. \n",
    "\n",
    "* The `pivot` element can selected randomly, but one way to select the pivot is to use the element in the middle of the array as the pivot\n",
    "* The first pass partitions data into 3 sub-arrays, `lesser` (less than pivot), `equal` (equal to pivot) and `greater` (greater than pivot).\n",
    "* The process repeats for `lesser` array and `greater` array.\n",
    "\n",
    "<center>\n",
    "<img src=\"images/mario_2.jpg\" width=\"250\" align=\"center\"/>\n",
    "</center>\n",
    "\n",
    "The pseudocode for quicksort function for an array containing $N$ elements is given below:"
   ]
  },
  {
   "cell_type": "code",
   "execution_count": null,
   "metadata": {},
   "outputs": [],
   "source": [
    "Quicksort(A,p,r) {\n",
    "    if (p < r) {\n",
    "       q <- Partition(A,p,r)\n",
    "       Quicksort(A,p,q)\n",
    "       Quicksort(A,q+1,r)\n",
    "    }\n",
    "}\n",
    "\n",
    "\n",
    "\n",
    "Partition(A,p,r)\n",
    "    x <- A[p]\n",
    "    i <- p-1\n",
    "    j <- r+1\n",
    "    while (True) {\n",
    "        repeat\n",
    "            j <- j-1\n",
    "        until (A[j] <= x)\n",
    "        repeat\n",
    "            i <- i+1\n",
    "        until (A[i] >= x)\n",
    "        if (i A[j]\n",
    "        else \n",
    "            return(j)\n",
    "    "
   ]
  },
  {
   "cell_type": "code",
   "execution_count": null,
   "metadata": {},
   "outputs": [],
   "source": [
    "PROCEDURE QuickSort(MyList, LB, UB)\n",
    "    IF LB <> UB THEN\n",
    "    #there is more than one element in MyList\n",
    "        LeftP ← LB #Left pointer\n",
    "        RightP ← UB #Right pointer\n",
    "        REPEAT\n",
    "            WHILE LeftP <> RightP AND MyList[LeftP] < MyList[RightP] DO\n",
    "            #move right pointer left\n",
    "                RightP ← RightP — l\n",
    "            ENDWHILE\n",
    "            IF LeftP <> RightP THEN \n",
    "                swap MyList[LeftP] and MyList[J]\n",
    "            WHILE LeftP <> RightP AND MyList[LeftP] < MyList[RightP] DO\n",
    "            #move left pointer right\n",
    "                LeftP ← LeftP + 1\n",
    "            ENDWHILE\n",
    "            IF LeftP <> RightP THEN \n",
    "                swap MyList[LeftP] and MyList[RightP]\n",
    "        UNTIL LeftP = RightP\n",
    "        #value now in correct position so sort left sub-list\n",
    "        QuickSort(MyList, LB, LeftP — 1)\n",
    "        #now sort right sub-list\n",
    "        QuickSort(MyList, LeftP + l, UB)\n",
    "    ENDIF\n",
    "END PROCEDURE"
   ]
  },
  {
   "cell_type": "markdown",
   "metadata": {},
   "source": [
    "### Exercise\n",
    "\n",
    "Implement a function `quicksort(array)` which sorts the list `array` in the ascending order according to the quicksort algorithm given above.\n",
    "\n",
    "Test your function with the following list\n",
    "> `\n",
    "[39, 96, 51, 20, 42, 42, 74, 28, 66, 16, 10, 86, 6, 43, 67, 98, 32, 73, 99, 7, 80, 88, 57, 83, 1, 64, 33, 38, 38, 8, 68, 38, 42, 80, 71, 82, 25, 29, 2, 85, 2, 96, 34, 14, 9, 65, 50, 63, 99, 94, 5, 93, 84, 46, 64, 22, 59, 31, 74, 13, 93, 13, 98, 93]`."
   ]
  },
  {
   "cell_type": "code",
   "execution_count": null,
   "metadata": {},
   "outputs": [],
   "source": [
    "#YOUR_CODE_HERE"
   ]
  },
  {
   "cell_type": "markdown",
   "metadata": {},
   "source": [
    "Note: \n",
    "- The worst case scenario is when the smallest or largest element is always selected as the pivot. This would create partitions of size $n-1$, causing recursive calls $n-1$ times.\n",
    "- With a good pivot, the input list is partitioned in linear time, O(n), and this process repeats recursively an average of $\\log_2{n}$ times. \n",
    "- This leads to a final complexity of $O(n \\log_2n)$.\n",
    "- The above implementation of the quicksort algorithm does not sore “in place”, and has a high space complexity. In order to overcome this, you need to change the algorithm slightly – i.e., use a variant that does not create new linked lists to store elements greater/less than the pivot"
   ]
  },
  {
   "cell_type": "markdown",
   "metadata": {},
   "source": [
    "# 10.4 Merge Sort\n",
    "\n",
    "Similar to Quicksort, Merge sort is a sorting technique based on divide and conquer technique. It first divides the array into equal halves and then combines them in a sorted manner.\n",
    "- if it is only one element in the list it is already sorted, return.\n",
    "- divide the list recursively into two halves until it can no more be divided.\n",
    "- merge the smaller lists into new list in sorted order.\n",
    "\n",
    "The important subroutine `merge` : Given two sorted array, $A$ and $B$ of size $n_1$ and $n_2$, \n",
    "\n",
    "The pseudocode for merge sort function for an array containing $N$ elements is given below:"
   ]
  },
  {
   "cell_type": "code",
   "execution_count": null,
   "metadata": {},
   "outputs": [],
   "source": [
    "function merge_sort(list m) is\n",
    "    // Base case. A list of zero or one elements is sorted, by definition.\n",
    "    if length of m ≤ 1 then\n",
    "        return m\n",
    "\n",
    "    // Recursive case. First, divide the list into equal-sized sublists\n",
    "    // consisting of the first half and second half of the list.\n",
    "    // This assumes lists start at index 0.\n",
    "    var left := empty list\n",
    "    var right := empty list\n",
    "    for each x with index i in m do\n",
    "        if i < (length of m)/2 then\n",
    "            add x to left\n",
    "        else\n",
    "            add x to right\n",
    "\n",
    "    // Recursively sort both sublists.\n",
    "    left := merge_sort(left)\n",
    "    right := merge_sort(right)\n",
    "\n",
    "    // Then merge the now-sorted sublists.\n",
    "    return merge(left, right)"
   ]
  },
  {
   "cell_type": "markdown",
   "metadata": {},
   "source": [
    "Note: \n",
    "- In sorting $n$ objects, merge sort has an average and worst-case performance of O(n log n). If the running time of merge sort for a list of length n is T(n), then the recurrence relation T(n) = 2T(n/2) + n follows from the definition of the algorithm (apply the algorithm to two lists of half the size of the original list, and add the n steps taken to merge the resulting two lists). The closed form follows from the master theorem for divide-and-conquer recurrences.\n",
    "\n",
    "https://en.wikipedia.org/wiki/Master_theorem_(analysis_of_algorithms)"
   ]
  },
  {
   "cell_type": "markdown",
   "metadata": {},
   "source": [
    "### Exercise\n",
    "\n",
    "Implement a function `merge_sort(array)` which sorts the list `array` in the ascending order according to the merge sort algorithm given above.\n",
    "\n",
    "Test your function with the following list\n",
    "> `\n",
    "[39, 96, 51, 20, 42, 42, 74, 28, 66, 16, 10, 86, 6, 43, 67, 98, 32, 73, 99, 7, 80, 88, 57, 83, 1, 64, 33, 38, 38, 8, 68, 38, 42, 80, 71, 82, 25, 29, 2, 85, 2, 96, 34, 14, 9, 65, 50, 63, 99, 94, 5, 93, 84, 46, 64, 22, 59, 31, 74, 13, 93, 13, 98, 93]`."
   ]
  },
  {
   "cell_type": "code",
   "execution_count": null,
   "metadata": {},
   "outputs": [],
   "source": [
    "#YOUR_CODE_HERE"
   ]
  }
 ],
 "metadata": {
  "interpreter": {
   "hash": "1d8a5bbb0756dea561c5110081a5788c97ee82690e858540714922886ca24d79"
  },
  "kernelspec": {
   "display_name": "Python 3.8.3 64-bit ('base': conda)",
   "name": "python3"
  },
  "language_info": {
   "name": "python",
   "version": ""
  },
  "orig_nbformat": 2
 },
 "nbformat": 4,
 "nbformat_minor": 2
}