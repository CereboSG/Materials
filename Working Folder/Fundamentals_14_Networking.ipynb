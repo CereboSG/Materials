{
 "cells": [
  {
   "cell_type": "markdown",
   "metadata": {},
   "source": [
    "# Learning Objectives\n",
    "\n",
    "- [ ] 4.1.1 Explain the concepts of LAN, WAN, intranet and the structure of the internet.\n",
    "- [ ] 4.1.2 Understand the concepts of IP addressing and domain name server (DNS).\n",
    "- [ ] 4.1.3 Explain the need for communication protocols in a network.\n",
    "- [ ] 4.1.4 Explain how data is transmitted in a packet-switching network.\n",
    "- [ ] 4.1.5 Explain client-server architecture.\n",
    "- [ ] 4.1.6 Implement an iterative server with socket programming. Given the server code, students should be able to implement the client code for a given scenario, and vice-versa, e.g. for a tic-tac-toe game. \n",
    "\n",
    "\n",
    "# References\n",
    "\n",
    "1. Leadbetter, C., Blackford, R., & Piper, T. (2012). Cambridge international AS and A level computing coursebook. Cambridge: Cambridge University Press.\n",
    "2. https://www.sparknotes.com/cs/sorting/bubble/section1/#:~:text=The%20total%20number%20of%20comparisons,since%20no%20swaps%20were%20made.\n",
    "3. https://visualgo.net/en\n",
    "4. https://www.youtube.com/watch?v=o9nW0uBqvEo"
   ]
  },
  {
   "cell_type": "markdown",
   "metadata": {},
   "source": [
    "**Wide Area Network** (WAN) is a network connecting computers on different sites, possibly far apart.\n",
    "**Local Area Network** (LAN) is a network connecting computers on a single site, could be single room or single building.\n",
    "\n",
    "In a network, the specification on how the various devices n the network are connected are called a **topology**. The following are the different topologies:\n",
    "- **Bus topology**: the network contains *one shared link* to which all devices are attached.\n",
    "- **Mesh topology**: the network contains *direct links between devices*\n",
    "- **Star topology**: each end-system in the network is *linked to a central device*\n",
    "\n",
    "The **internet** is a number of networks all connected together and are *open to public*.\n",
    "\n",
    "In contrast, **intranet** is a computer network for sharing information, collaboration tools, operational systems, and other computing services *within an organization*, usually *private*, i.e. exclude access by outsiders. \n",
    "\n",
    "Personal computers or devices are connected to LANs, which in turn connects to WANs, which then connects to the internet/intranet.\n",
    "\n",
    "**Client-server Architecture** is an architecture where a client runs an application provided by a server on a network.\n",
    "\n",
    "Example of circumstances where client-server approach is used:\n",
    "- the server stores a database which is accessed from the client system.\n",
    "- the server stores a web application which allows the client system to find or, sometimes, supply information\n",
    "- the server stores a web application which allows the client system to carry out an e-commerce or financial transaction\n",
    "\n",
    "A communication **protocol** is a set of rules for data transmission which are agreed by sender and receiver so that the data is correctly transmitted. It allows devices to identify and make connections with each other, as well as formatting rules that specify how data is packaged into messages sent and received. The absence of this protocol could cause unwanted behaviours. For example, without a protocol, a transmitting computer, for example, could be sending its data in 8-bit segments while the receiving computer might expect the data in 16-bit segments, and thus, receiving computer will read the information wrongly.\n",
    "\n",
    "# IPv4 Addressing\n",
    "To define the source and destination of data in a transmission in a computer network, **IP (Internet Protocol)** addressing is used. Currently, the Internet uses IP version 4 (IPv4) addressing. It uses 32 bit (4 bytes) where a group of bits is used to defined a network (**netID**) and another group is used to define a host on the network (**hostID**). Their aim was to assign a unique, universally recognised address for each device on the internet. \n",
    "\n",
    "In the scheme, different entities are categorized into different classes (A to E). Different classes allows for different number of unique hostIDs.\n",
    "\n",
    "| Class | Class Identifier (first bits in the first byte) | Number of bits for netID | Number of bits for hostID |\n",
    "|-------|-------------------------------------------------|--------------------------|---------------------------|\n",
    "| A     | 0                                               | 7                        | 24                        |\n",
    "| B     | 10                                              | 14                       | 16                        |\n",
    "| C     | 110                                             | 21                       | 8                         |\n",
    "\n",
    "For example, `10101100 00010000 00000100 00101111` is an IPv4 address. Since the first 2 bits in the first octet is `10`, it means that the host resides in a class B network. \n",
    "\n",
    "To make it simpler for the user, IPv4 address are actually written in denary where the denary values for each byte is separated by dots, e.g. the IPv4 address above is displayed as `172.16.4.47`.\n",
    "\n",
    "Qn: What is the obvious limitation of the IPv4 system? Hint: Think about how many unique IDs can each class have.\n",
    "\n",
    "# Classless Inter-Domain Routing (CIDR)\n",
    "To improve IPv4 addressing scheme, Classless Inter-Domain Routing (CIDR) is introduced. Similar to IPv4, it uses 32 bits to define a computer on the network and retains the netID and hostID functionality similar in the class system. However, it drops the rigidity of the class identifier and allows the split between the netID and the hostID to suit individual need. \n",
    "\n",
    "In this scheme, an additional 8-bit suffix is added to the address. This suffix specifiies the number of bits used for the netID. For example, consider the following IP address\n",
    "\n",
    "> `11000011000011000000011000001110/00010101`\n",
    "\n",
    "Since `00010101` is 21 in denary, this means that the first 21 bits of the address is the netID and the remaining 11 bits is the hostID.\n",
    "\n",
    "# Subnetting\n",
    "Subnetting is the practice of dividing a network into two or more networks. It allows for a more efficient use of a hostID by applying a structure to it. For example, subnetting a medium-sized organisation's network of 150 employees. \n",
    "\n",
    "On the internet, all of the allocated IP addresses have netID pointing to the router. The router then has to interpret the hostID to direct the transmission to the appropriate hosts on one of the networks via a gateway.\n",
    "\n",
    "# Network Address Translation (NAT)\n",
    "\n",
    "For end-systems to communicate over internet, there are two possible methods or approaches:\n",
    "- **circuit switching**. End-systems are connected to local exchanges with a switching function. These local exchanges are also connected to each other via number of intermediate nodes with a switching function. \n",
    "    The following steps take place for a data transfer to happen:\n",
    "    - the sender provides the identity of the intended receiver,\n",
    "    - the system checks if the receiver is ready to accept data,\n",
    "    - if the receiver is available, a sequence of links is established across the network. This dedicated physical, communications channel is what is termed a **circuit**\n",
    "    - the data is transferred,\n",
    "    - the links are then removed\n",
    "    During the duration of the communication, the whole circuit is reserved only for the two end-systems to communicate. As such it is ideal for communications which require data to be transmitted in real time.\n",
    "- **packet switching**. Data from the sender end-system is brokend down and packaged in portions called **packets**. Packets contain header which contains instructions for delivery, which includes IP address and sequencing information, plus the data body. Thus, in this method, there is no need to maintain a circuit for the communication. The packets can travel through any path on the network to get to the destination end-system. The advantage is that the nodes can optimize the available channels to find the fastest path for the packets to go to the destination. As such, different packets might arrive at different time and they need to be reassembled based on the sequencing information that they get transmitted out with from the source. "
   ]
  },
  {
   "cell_type": "markdown",
   "metadata": {},
   "source": []
  },
  {
   "cell_type": "markdown",
   "metadata": {},
   "source": [
    "A **gateway** is a piece of networking hardware or software used in telecommunications for telecommunications networks that allows data to flow from one discrete network to another, where the networks are running different, incompatible protocol. Gateways function is to translate one protocol to another. E.g one network uses 64 bit and the other 128 bit.\n",
    "\n",
    "A **router** is a network device that forwards packets from one network to another. Based on internal routing tables, routers read each incoming packet and decide how to forward it in the most efficient route.\n",
    "\n",
    "A **domain name** also just called a **domain** is the name of a website.\n",
    "\n",
    "A **domain name service** (DNS) is a hierarchical distributed database installed on domain name servers that is responsible for mapping a domain name to an IP address. It is to simplify to identification of IP address as the domain names are more readable than dotted decimal values. \n",
    "\n",
    "The domain names servers are connected in a hierarchy. At the top, there's powerful root servers followed by division into non-overlapping zones. Each zone has a primary name server with the database stored on it. Secondary servers get information from this primary server.\n",
    "\n",
    "Thus, naming system is hierarchical, with more than 250 top-level domains which are either generic (e.g., `.com`, `.edu` and `.gov`) or represent countries (e.g., `sg`, `id`)."
   ]
  },
  {
   "cell_type": "code",
   "execution_count": 1,
   "metadata": {},
   "outputs": [
    {
     "name": "stdout",
     "output_type": "stream",
     "text": [
      "\n",
      "Windows IP Configuration\n",
      "\n",
      "\n",
      "Wireless LAN adapter Local Area Connection* 1:\n",
      "\n",
      "   Media State . . . . . . . . . . . : Media disconnected\n",
      "   Connection-specific DNS Suffix  . : \n",
      "\n",
      "Wireless LAN adapter Local Area Connection* 2:\n",
      "\n",
      "   Media State . . . . . . . . . . . : Media disconnected\n",
      "   Connection-specific DNS Suffix  . : \n",
      "\n",
      "Wireless LAN adapter WiFi:\n",
      "\n",
      "   Connection-specific DNS Suffix  . : \n",
      "   Link-local IPv6 Address . . . . . : fe80::81a1:3562:559a:c06e%9\n",
      "   IPv4 Address. . . . . . . . . . . : 172.16.4.47\n",
      "   Subnet Mask . . . . . . . . . . . : 255.255.240.0\n",
      "   Default Gateway . . . . . . . . . : 172.16.0.1\n",
      "\n",
      "Ethernet adapter Bluetooth Network Connection:\n",
      "\n",
      "   Media State . . . . . . . . . . . : Media disconnected\n",
      "   Connection-specific DNS Suffix  . : \n"
     ]
    }
   ],
   "source": [
    "!ipconfig"
   ]
  },
  {
   "cell_type": "code",
   "execution_count": null,
   "metadata": {},
   "outputs": [],
   "source": [
    "# 3 ops\n",
    "def c_to_f(c):\n",
    "    return c*9.0/5 +32\n",
    "\n",
    "# 1+3x ops\n",
    "def mysum(x):\n",
    "    total = 0\n",
    "    for i in range (x+1):\n",
    "        total += i\n",
    "    return total"
   ]
  },
  {
   "cell_type": "markdown",
   "metadata": {},
   "source": [
    "- best case : minimum running time over all possible inputs of a given size\n",
    "- average case : average running time over all possible inputs of a given size\n",
    "- worst case : maximum running time over all possible inputs of a given size"
   ]
  },
  {
   "cell_type": "markdown",
   "metadata": {},
   "source": [
    "- ignore additive constants\n",
    "- ignore multiplicative constants\n",
    "- focus on dominant terms"
   ]
  },
  {
   "cell_type": "markdown",
   "metadata": {},
   "source": [
    "- n^2+2n+2\n",
    "- n^2+10000n+3^10000\n",
    "- \\log(n)+n+4\n",
    "- 0.0001*n*\\log(n)+300n\n",
    "- 2n^30+3^n"
   ]
  },
  {
   "cell_type": "markdown",
   "metadata": {},
   "source": [
    "Law of addition for $O()$\n",
    "- used with *sequential* statements"
   ]
  },
  {
   "cell_type": "code",
   "execution_count": null,
   "metadata": {},
   "outputs": [],
   "source": [
    "#O(n^2)\n",
    "for i in range(n):\n",
    "    print('a')\n",
    "for j in range(n*n):\n",
    "    print('b')"
   ]
  },
  {
   "cell_type": "markdown",
   "metadata": {},
   "source": [
    "Law of multiplication for $O()$\n",
    "- used with *nested* statements/loops"
   ]
  },
  {
   "cell_type": "code",
   "execution_count": null,
   "metadata": {},
   "outputs": [],
   "source": [
    "#O(n^2)\n",
    "for i in range(n):\n",
    "    for j in range(n):\n",
    "        print('a')"
   ]
  },
  {
   "cell_type": "markdown",
   "metadata": {},
   "source": [
    "- O(1)\n",
    "- O(\\log n)\n",
    "- O(n)\n",
    "- O(n \\log n)\n",
    "- O(n^c)\n",
    "- O(c^n)"
   ]
  },
  {
   "cell_type": "markdown",
   "metadata": {},
   "source": [
    "# 10.1 Search Algorithm\n",
    "\n",
    "A search algorithm is an algorithm to retrieve information from some data structure. Some examples include:\n",
    "- Finding the maximum or minimum value in a list or array\n",
    "- Checking to see if a given value is present in a set of values\n",
    "- Retrieving a record from a database"
   ]
  },
  {
   "cell_type": "markdown",
   "metadata": {},
   "source": [
    "## 10.1.1 Linear Search\n",
    "\n",
    "A **linear search**, also called **serial** or **sequential** searches an item in a given array sequentially till the end of the collection. It does not require the data to be in any particular order. \n",
    "\n",
    "To find the position of a particular value involves looking at each value in turn – starting with the first – and comparing it with the value you are looking for. When the value is found, you need to note its position. You must also be able to report the special case that a value has not been found. This last part only becomes apparent when the search has reached the final data item without finding the required value.\n",
    "\n",
    "### Example\n",
    "\n",
    "In this example, you have the array `[10,14,19,26,27,31,33,35,42,44]` and you are looking for the value `33` in the array.\n",
    "\n",
    "<center>\n",
    "<img src=\"images/mario_2.jpg\" width=\"250\" align=\"center\"/>\n",
    "</center>\n",
    "\n",
    "The pseudocode for linear search function is given below. It returns the index of the searched value in the array if it exists. In the case that the value is not in the array, the function returns `-1`."
   ]
  },
  {
   "cell_type": "code",
   "execution_count": null,
   "metadata": {},
   "outputs": [],
   "source": [
    "FUNCTION LINEARSEARCH(A: ARRAY of INTEGER, t: INTEGER) RETURNS INTEGER\n",
    "    DECLARE index: INTEGER\n",
    "\tindex ← -1\n",
    "\tFOR i = 1 TO A.SIZE\n",
    "\t\tIF A[i] = t THEN\n",
    "\t\t\tindex ← i\n",
    "\t\t\tBREAK\n",
    "\t\tENDIF\n",
    "\tENDFOR\n",
    "\tRETURN index\n",
    "ENDFUNCTION"
   ]
  },
  {
   "cell_type": "markdown",
   "metadata": {},
   "source": [
    "### Exercise\n",
    "\n",
    "Implement a function `linear_search(array, val)` which searches the list `array` for a value `val` using the linear search algorithm.\n",
    "\n",
    "Test your function with the following list\n",
    "> `\n",
    "[39, 96, 51, 20, 42, 42, 74, 28, 66, 16, 10, 86, 6, 43, 67, 98, 32, 73, 99, 7, 80, 88, 57, 83, 1, 64, 33, 38, 38, 8, 68, 38, 42, 80, 71, 82, 25, 29, 2, 85, 2, 96, 34, 14, 9, 65, 50, 63, 99, 94, 5, 93, 84, 46, 64, 22, 59, 31, 74, 13, 93, 13, 98, 93]`\n",
    "\n",
    "with the values `9` and `2`. What do you observe for the latter value?"
   ]
  },
  {
   "cell_type": "code",
   "execution_count": null,
   "metadata": {},
   "outputs": [],
   "source": [
    "#YOUR_CODE_HERE"
   ]
  },
  {
   "cell_type": "markdown",
   "metadata": {},
   "source": [
    "In linear search, all items are searched one-by-one to find the required item.\n",
    "\n",
    "If the array has $n$ elements to be compared to,\n",
    "\n",
    "- The best-case lookup to find an item is $1$ comparison, i.e., the item is at the head of the array.\n",
    "- The worst-case lookup to find an item is $n$ comparisons, i.e. the item is at the end of the array.\n",
    "- The average lookup to find an item is approximately $\\frac{n}{2}$ comparisons. \n",
    "\n",
    "Clearly, if $n$ is large,  this can be a very large number of comparisons and the serial search algorithm can take a long time.\n",
    "\n",
    "Consequently, we have for serial search,\n",
    "- Advantage:\n",
    "    - algorithm is straightforward and easy to implement,\n",
    "    - data need not be in any particular order,\n",
    "    - works well if there is a small number of data item.\n",
    "- Disadvantage:\n",
    "    - search can take a long time if value of $n$ is large, i.e. inefficient if there is a large number of data items.\n",
    "\n",
    "o\tVariations:\n",
    "\tSearch target requires a different criteria (not just object existence).\n",
    "\tMust find all instances of target.\n",
    "\tMust find particular instance of target (first, last, etc.).\n",
    "\tMust find object just greater/smaller than target.\n"
   ]
  },
  {
   "cell_type": "markdown",
   "metadata": {},
   "source": [
    "## 10.1.2 Binary Search\n",
    "\n",
    "In the previous section, we looked at linear search where the data is not required to be stored in any particular order. On the other hand, if we know that the data is stored in an ascending order, we can utilize the another algorithm called the **binary search**. \n",
    "\n",
    "Workings of binary search algorithm:\n",
    "- First check the MIDDLE element in the list.\n",
    "- If it is the value we want, we can stop.\n",
    "- If it is HIGHER than the value we want, we repeat the search process with the portion of the list BEFORE the middle element.\n",
    "- If it is LOWER than the value we want, we repeat the search process with the portion of the list AFTER the middle element.\n",
    "\n",
    "Note that  if there is an even number of values in the array, dividing by two gives a whole number and we split the array there. However, if the array consists of an odd number of values we need to find the integer part of it, as an array index must be an integer. \n",
    "\n",
    "The pseudocode for binary search function is given below. It returns the index of the searched value in the array if it exists. In the case that the value is not in the array, the function returns `-1`."
   ]
  },
  {
   "cell_type": "code",
   "execution_count": null,
   "metadata": {},
   "outputs": [],
   "source": [
    "FUNCTION BinarySearch(A: ARRAY of INTEGER, t: INTEGER) RETURNS INTEGER\n",
    "\tDECLARE start, mid, end: INTEGER\n",
    "\tstart ← 1\n",
    "\tend ← A.SIZE\n",
    "\tWHILE start <= end DO\n",
    "\t\tmid ← (start + end) DIV 2\n",
    "\t\tIF t = A[mid] THEN\n",
    "\t\t\tRETURN mid\n",
    "\t\tENDIF\n",
    "\t\tIF t < A[mid] THEN\n",
    "\t\t\tend ← mid – 1\n",
    "\t\tELSE\n",
    "\t\t\tstart ← mid + 1\n",
    "\t\tENDIF\n",
    "\tENDWHILE\n",
    "\tRETURN -1\n",
    "ENDFUNCTION"
   ]
  },
  {
   "cell_type": "markdown",
   "metadata": {},
   "source": [
    "### Exercise\n",
    "\n",
    "Implement a function `binary_search(array, val)` which searches the list `array` for a value `val` using the binary search algorithm described above.\n",
    "\n",
    "Test your function with the following list\n",
    "> `\n",
    "[39, 96, 51, 20, 42, 42, 74, 28, 66, 16, 10, 86, 6, 43, 67, 98, 32, 73, 99, 7, 80, 88, 57, 83, 1, 64, 33, 38, 38, 8, 68, 38, 42, 80, 71, 82, 25, 29, 2, 85, 2, 96, 34, 14, 9, 65, 50, 63, 99, 94, 5, 93, 84, 46, 64, 22, 59, 31, 74, 13, 93, 13, 98, 93]`\n",
    "\n",
    "with the values `9` and `2`."
   ]
  },
  {
   "cell_type": "code",
   "execution_count": null,
   "metadata": {},
   "outputs": [],
   "source": [
    "#YOUR_CODE_HERE"
   ]
  },
  {
   "cell_type": "markdown",
   "metadata": {},
   "source": [
    "If the array has $n$ elements to be compared to,\n",
    "\n",
    "- The best-case lookup to find an item is $1$ comparison, i.e., the item is at the middle of the array.\n",
    "- The worst-case lookup to find an item is approximately $\\log_2{n}$ comparisons."
   ]
  },
  {
   "cell_type": "code",
   "execution_count": null,
   "metadata": {},
   "outputs": [],
   "source": [
    "#YOUR_CODE_HERE"
   ]
  },
  {
   "cell_type": "markdown",
   "metadata": {},
   "source": [
    "Jupyter Notebook provides a magic function `%timeit` and `%%timeit` to time a code execution.\n",
    "* `%timeit` is used to time a single line of statement\n",
    "* `%%timeit` is used to time all codes in a cell. `%%timeit` must be placed at first line of cell. \n",
    "\n",
    "### Exercise \n",
    "Use `%timeit` to time the code executions for both the functions:\n",
    "- `linear_search`,\n",
    "- `binary_search`\n",
    "\n",
    "that you have coded in the previous exercise, using the \n",
    "> `\n",
    "[39, 96, 51, 20, 42, 42, 74, 28, 66, 16, 10, 86, 6, 43, 67, 98, 32, 73, 99, 7, 80, 88, 57, 83, 1, 64, 33, 38, 38, 8, 68, 38, 42, 80, 71, 82, 25, 29, 2, 85, 2, 96, 34, 14, 9, 65, 50, 63, 99, 94, 5, 93, 84, 46, 64, 22, 59, 31, 74, 13, 93, 13, 98, 93]`\n",
    "\n",
    "with the search value `9`."
   ]
  },
  {
   "cell_type": "code",
   "execution_count": null,
   "metadata": {},
   "outputs": [],
   "source": [
    "#YOUR_CODE_HERE"
   ]
  },
  {
   "cell_type": "markdown",
   "metadata": {},
   "source": [
    "# 10.2 Sorting Algorithms\n",
    "\n",
    "Sorting refers to arranging a fixed set of data in a particular order. Sorting orders could be numerical (`1`,`2`, `3`, ...), lexicographical/dictionary (`AA`, `AB`, `AC`, ...) or custom ('Mon', 'Tue', 'Wed', ...).\n",
    "\n",
    "Sorting algorithms specify ways to arrange data in particular ways to put the data in order. In this section, it is assumed that the sorted data is in ascending order."
   ]
  },
  {
   "cell_type": "markdown",
   "metadata": {},
   "source": [
    "## 10.1 Insertion Sort\n",
    "\n",
    "In insertion sort algorithm, we compare each element, termed `key` element, in turn with the elements before it in the array. We then insert the `key` element into its correct position in the array.\n",
    "\n",
    "### Example\n",
    "\n",
    "In this example, the array `[6,5,3,1,8,7,2,4]` is sorted with insertion sort.\n",
    "\n",
    "<center>\n",
    "<img src=\"images/mario_2.jpg\" width=\"250\" align=\"center\"/>\n",
    "</center>\n",
    "\n",
    "The pseudocode for insertion sort function for an array containing integer elements is given below:"
   ]
  },
  {
   "cell_type": "code",
   "execution_count": null,
   "metadata": {},
   "outputs": [],
   "source": [
    "FUNCTION InsertionSort(A: ARRAY of INTEGER) RETURNS ARRAY of INTEGER\n",
    "\tDECLARE j, temp: INTEGER\n",
    "    FOR i = 2 to A.SIZE\n",
    "        j ← i\n",
    "        WHILE j > 1 AND A[j] < A[j – 1] DO\n",
    "            temp ← A[j]\n",
    "            A[j] ← A[j - 1]\n",
    "            A[j - 1] ← temp\n",
    "            j ← j - 1\n",
    "        ENDWHILE\n",
    "    ENDFOR\n",
    "    RETURN A\n",
    "ENDFUNCTION"
   ]
  },
  {
   "cell_type": "markdown",
   "metadata": {},
   "source": [
    "### Exercise\n",
    "\n",
    "Implement a function `insertion_sort(array)` which sorts the list `array` in the ascending order according to the insertion algorithm given above.\n",
    "\n",
    "Test your function with the following list\n",
    "> `\n",
    "[39, 96, 51, 20, 42, 42, 74, 28, 66, 16, 10, 86, 6, 43, 67, 98, 32, 73, 99, 7, 80, 88, 57, 83, 1, 64, 33, 38, 38, 8, 68, 38, 42, 80, 71, 82, 25, 29, 2, 85, 2, 96, 34, 14, 9, 65, 50, 63, 99, 94, 5, 93, 84, 46, 64, 22, 59, 31, 74, 13, 93, 13, 98, 93]`."
   ]
  },
  {
   "cell_type": "code",
   "execution_count": null,
   "metadata": {},
   "outputs": [],
   "source": [
    "#YOUR_CODE_HERE"
   ]
  },
  {
   "cell_type": "markdown",
   "metadata": {},
   "source": [
    "Note:\n",
    "- The outer for-loop in Insertion Sort function always iterates $n-1$ times.\n",
    "- The inner for-loop will make $1 + 2 + 3 ... + (n-1)=\\frac{n(n-1)}{2}$ comparisons in worst case."
   ]
  },
  {
   "cell_type": "markdown",
   "metadata": {},
   "source": [
    "# 10.2 Bubble Sort\n",
    "\n",
    "The next sorting algorithm iterates over an array multiple times. \n",
    "* In each iteration, it takes 2 consecutive elements and compare them. \n",
    "* It swaps the smaller value to the left and larger value to the right.\n",
    "* It repeats until the larger elements \"bubble up\" to the end of the list, and the smaller elements moves to the \"bottom\". This is the reason for the naming of the algorithm.\n",
    "* The right-hand side of the array are sorted. \n",
    "\n",
    "### Example\n",
    "\n",
    "In this example, the array `[6,5,3,1,8,7,2,4]` is sorted with bubble sort.\n",
    "\n",
    "<center>\n",
    "<img src=\"images/mario_2.jpg\" width=\"250\" align=\"center\"/>\n",
    "</center>\n",
    "\n",
    "We see that\n",
    "* For 1st iteration, we need to make $n-1$ comparisons. It will bring the largest value to the extreme right.\n",
    "* For 2nd iteration, we need to make $n-2$ comparisons. It will bring 2nd largest value to the 2nd extreme right.\n",
    "* And so on...\n",
    "\n",
    "Consequently, we need a nested loops to make multiple iterations. \n",
    "\n",
    "The pseudocode for bubble sort function for an array containing integer elements is given below:"
   ]
  },
  {
   "cell_type": "code",
   "execution_count": null,
   "metadata": {},
   "outputs": [],
   "source": [
    "FUNCTION BubbleSort(A: ARRAY of INTEGER) RETURNS ARRAY of INTEGER\n",
    "    DECLARE swap: BOOLEAN\n",
    "    DECLARE temp: INTEGER\n",
    "    FOR i = 1 to (A.SIZE – 1)\n",
    "        swap ← FALSE\n",
    "        FOR j = 1 to (A.SIZE – i)\n",
    "            IF A[j] > A[j + 1] THEN\n",
    "                temp ← A[j]\n",
    "                A[j] ← A[j + 1]\n",
    "                A[j + 1] ← temp\n",
    "                swap ← TRUE\n",
    "            ENDIF\n",
    "        ENDFOR\n",
    "        IF NOT swap THEN\n",
    "            BREAK\n",
    "        ENDIF\n",
    "    ENDFOR\n",
    "    RETURN A\n",
    "ENDFUNCTION\n"
   ]
  },
  {
   "cell_type": "markdown",
   "metadata": {},
   "source": [
    "### Exercise\n",
    "\n",
    "Implement a function `bubble_sort(array)` which sorts the list `array` in the ascending order according to the bubble algorithm given above.\n",
    "\n",
    "Test your function with the following list\n",
    "> `\n",
    "[39, 96, 51, 20, 42, 42, 74, 28, 66, 16, 10, 86, 6, 43, 67, 98, 32, 73, 99, 7, 80, 88, 57, 83, 1, 64, 33, 38, 38, 8, 68, 38, 42, 80, 71, 82, 25, 29, 2, 85, 2, 96, 34, 14, 9, 65, 50, 63, 99, 94, 5, 93, 84, 46, 64, 22, 59, 31, 74, 13, 93, 13, 98, 93]`."
   ]
  },
  {
   "cell_type": "code",
   "execution_count": null,
   "metadata": {},
   "outputs": [],
   "source": [
    "#YOUR_CODE_HERE"
   ]
  },
  {
   "cell_type": "markdown",
   "metadata": {},
   "source": [
    "Note:\n",
    "- The amount of comparisons in Bubble Sort algorithgm is $(n - 1) + (n - 2) + ... + 1=\\frac{n(n-1)}{2}$ comparisons,\n",
    "- Best case is when the array is already sorted and bubble sort will terminate after the first iterations. \n",
    "- Bubble sort is also efficient when one random element needs to be sorted into a sorted array, provided that new element is placed at the beginning and not at the end. \n",
    "- The absolute worst case for bubble sort is when the smallest element of the array is the last element in the end of the array. Because in each iteration only the largest unsorted element gets put in its proper location, when the smallest element is at the end, it will have to be swapped each time through the array, and it wont get to the front of the list until all $n$ iterations have occurred."
   ]
  },
  {
   "cell_type": "markdown",
   "metadata": {},
   "source": [
    "# 10.3 Quicksort\n",
    "\n",
    "Quicksort is a sorting technique based on divide and conquer technique. Quicksort first selects an element, termed the `pivot`, and partitions the array around the pivot, putting every smaller element into a low array and every larger element into a high array. \n",
    "\n",
    "* The `pivot` element can selected randomly, but one way to select the pivot is to use the element in the middle of the array as the pivot\n",
    "* The first pass partitions data into 3 sub-arrays, `lesser` (less than pivot), `equal` (equal to pivot) and `greater` (greater than pivot).\n",
    "* The process repeats for `lesser` array and `greater` array.\n",
    "\n",
    "<center>\n",
    "<img src=\"images/mario_2.jpg\" width=\"250\" align=\"center\"/>\n",
    "</center>\n",
    "\n",
    "The pseudocode for quicksort function for an array containing $N$ elements is given below:"
   ]
  },
  {
   "cell_type": "code",
   "execution_count": null,
   "metadata": {},
   "outputs": [],
   "source": [
    "Quicksort(A,p,r) {\n",
    "    if (p < r) {\n",
    "       q <- Partition(A,p,r)\n",
    "       Quicksort(A,p,q)\n",
    "       Quicksort(A,q+1,r)\n",
    "    }\n",
    "}\n",
    "\n",
    "\n",
    "\n",
    "Partition(A,p,r)\n",
    "    x <- A[p]\n",
    "    i <- p-1\n",
    "    j <- r+1\n",
    "    while (True) {\n",
    "        repeat\n",
    "            j <- j-1\n",
    "        until (A[j] <= x)\n",
    "        repeat\n",
    "            i <- i+1\n",
    "        until (A[i] >= x)\n",
    "        if (i A[j]\n",
    "        else \n",
    "            return(j)\n",
    "    "
   ]
  },
  {
   "cell_type": "code",
   "execution_count": null,
   "metadata": {},
   "outputs": [],
   "source": [
    "PROCEDURE QuickSort(MyList, LB, UB)\n",
    "    IF LB <> UB THEN\n",
    "    #there is more than one element in MyList\n",
    "        LeftP ← LB #Left pointer\n",
    "        RightP ← UB #Right pointer\n",
    "        REPEAT\n",
    "            WHILE LeftP <> RightP AND MyList[LeftP] < MyList[RightP] DO\n",
    "            #move right pointer left\n",
    "                RightP ← RightP — l\n",
    "            ENDWHILE\n",
    "            IF LeftP <> RightP THEN \n",
    "                swap MyList[LeftP] and MyList[J]\n",
    "            WHILE LeftP <> RightP AND MyList[LeftP] < MyList[RightP] DO\n",
    "            #move left pointer right\n",
    "                LeftP ← LeftP + 1\n",
    "            ENDWHILE\n",
    "            IF LeftP <> RightP THEN \n",
    "                swap MyList[LeftP] and MyList[RightP]\n",
    "        UNTIL LeftP = RightP\n",
    "        #value now in correct position so sort left sub-list\n",
    "        QuickSort(MyList, LB, LeftP — 1)\n",
    "        #now sort right sub-list\n",
    "        QuickSort(MyList, LeftP + l, UB)\n",
    "    ENDIF\n",
    "END PROCEDURE"
   ]
  },
  {
   "cell_type": "markdown",
   "metadata": {},
   "source": [
    "### Exercise\n",
    "\n",
    "Implement a function `quicksort(array)` which sorts the list `array` in the ascending order according to the quicksort algorithm given above.\n",
    "\n",
    "Test your function with the following list\n",
    "> `\n",
    "[39, 96, 51, 20, 42, 42, 74, 28, 66, 16, 10, 86, 6, 43, 67, 98, 32, 73, 99, 7, 80, 88, 57, 83, 1, 64, 33, 38, 38, 8, 68, 38, 42, 80, 71, 82, 25, 29, 2, 85, 2, 96, 34, 14, 9, 65, 50, 63, 99, 94, 5, 93, 84, 46, 64, 22, 59, 31, 74, 13, 93, 13, 98, 93]`."
   ]
  },
  {
   "cell_type": "code",
   "execution_count": null,
   "metadata": {},
   "outputs": [],
   "source": [
    "#YOUR_CODE_HERE"
   ]
  },
  {
   "cell_type": "markdown",
   "metadata": {},
   "source": [
    "Note: \n",
    "- The worst case scenario is when the smallest or largest element is always selected as the pivot. This would create partitions of size $n-1$, causing recursive calls $n-1$ times.\n",
    "- With a good pivot, the input list is partitioned in linear time, O(n), and this process repeats recursively an average of $\\log_2{n}$ times. \n",
    "- This leads to a final complexity of $O(n \\log_2n)$.\n",
    "- The above implementation of the quicksort algorithm does not sore “in place”, and has a high space complexity. In order to overcome this, you need to change the algorithm slightly – i.e., use a variant that does not create new linked lists to store elements greater/less than the pivot"
   ]
  },
  {
   "cell_type": "markdown",
   "metadata": {},
   "source": [
    "# 10.4 Merge Sort\n",
    "\n",
    "Similar to Quicksort, Merge sort is a sorting technique based on divide and conquer technique. It first divides the array into equal halves and then combines them in a sorted manner.\n",
    "- if it is only one element in the list it is already sorted, return.\n",
    "- divide the list recursively into two halves until it can no more be divided.\n",
    "- merge the smaller lists into new list in sorted order.\n",
    "\n",
    "The important subroutine `merge` : Given two sorted array, $A$ and $B$ of size $n_1$ and $n_2$, \n",
    "\n",
    "The pseudocode for merge sort function for an array containing $N$ elements is given below:"
   ]
  },
  {
   "cell_type": "code",
   "execution_count": null,
   "metadata": {},
   "outputs": [],
   "source": [
    "function merge_sort(list m) is\n",
    "    // Base case. A list of zero or one elements is sorted, by definition.\n",
    "    if length of m ≤ 1 then\n",
    "        return m\n",
    "\n",
    "    // Recursive case. First, divide the list into equal-sized sublists\n",
    "    // consisting of the first half and second half of the list.\n",
    "    // This assumes lists start at index 0.\n",
    "    var left := empty list\n",
    "    var right := empty list\n",
    "    for each x with index i in m do\n",
    "        if i < (length of m)/2 then\n",
    "            add x to left\n",
    "        else\n",
    "            add x to right\n",
    "\n",
    "    // Recursively sort both sublists.\n",
    "    left := merge_sort(left)\n",
    "    right := merge_sort(right)\n",
    "\n",
    "    // Then merge the now-sorted sublists.\n",
    "    return merge(left, right)"
   ]
  },
  {
   "cell_type": "markdown",
   "metadata": {},
   "source": [
    "Note: \n",
    "- In sorting $n$ objects, merge sort has an average and worst-case performance of O(n log n). If the running time of merge sort for a list of length n is T(n), then the recurrence relation T(n) = 2T(n/2) + n follows from the definition of the algorithm (apply the algorithm to two lists of half the size of the original list, and add the n steps taken to merge the resulting two lists). The closed form follows from the master theorem for divide-and-conquer recurrences.\n",
    "\n",
    "https://en.wikipedia.org/wiki/Master_theorem_(analysis_of_algorithms)"
   ]
  },
  {
   "cell_type": "markdown",
   "metadata": {},
   "source": [
    "### Exercise\n",
    "\n",
    "Implement a function `merge_sort(array)` which sorts the list `array` in the ascending order according to the merge sort algorithm given above.\n",
    "\n",
    "Test your function with the following list\n",
    "> `\n",
    "[39, 96, 51, 20, 42, 42, 74, 28, 66, 16, 10, 86, 6, 43, 67, 98, 32, 73, 99, 7, 80, 88, 57, 83, 1, 64, 33, 38, 38, 8, 68, 38, 42, 80, 71, 82, 25, 29, 2, 85, 2, 96, 34, 14, 9, 65, 50, 63, 99, 94, 5, 93, 84, 46, 64, 22, 59, 31, 74, 13, 93, 13, 98, 93]`."
   ]
  },
  {
   "cell_type": "code",
   "execution_count": null,
   "metadata": {},
   "outputs": [],
   "source": [
    "#YOUR_CODE_HERE"
   ]
  }
 ],
 "metadata": {
  "interpreter": {
   "hash": "9855bcb2db2fc1adb021fa4ac9c7dfbb81452ef889b3ef5659154f2722c9fc88"
  },
  "kernelspec": {
   "display_name": "Python 3.7.6 64-bit ('base': conda)",
   "name": "python3"
  },
  "language_info": {
   "codemirror_mode": {
    "name": "ipython",
    "version": 3
   },
   "file_extension": ".py",
   "mimetype": "text/x-python",
   "name": "python",
   "nbconvert_exporter": "python",
   "pygments_lexer": "ipython3",
   "version": "3.7.6"
  },
  "orig_nbformat": 2
 },
 "nbformat": 4,
 "nbformat_minor": 2
}
