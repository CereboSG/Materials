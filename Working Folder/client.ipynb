{
 "cells": [
  {
   "cell_type": "code",
   "execution_count": 1,
   "metadata": {},
   "outputs": [],
   "source": [
    "# STEP 1\n",
    "from socket import socket\t\t\t\n",
    "\n",
    "# STEP 2\n",
    "s = socket()\t\t\n",
    "\n",
    "# STEP 3\n",
    "port = 12345\t\t\t\n",
    "s.connect(('127.0.0.1', port))\t\t\n",
    "\n",
    "data_to_be_processed = 0 #0 is just a placeholder for the actual data\n",
    "\n",
    "# STEP 4\n",
    "s.send(str(data_to_be_processed).encode())\n",
    "data = s.recv(4096)\n",
    "\n",
    "# STEP 5\n",
    "s.close()\n",
    "\n",
    "# STEP 6\n",
    "def data_processing(data):\n",
    "    return data\n",
    "\n",
    "data = data_processing(data)"
   ]
  },
  {
   "cell_type": "code",
   "execution_count": 2,
   "metadata": {},
   "outputs": [
    {
     "name": "stdout",
     "output_type": "stream",
     "text": [
      "b'0'\n"
     ]
    }
   ],
   "source": [
    "print(data)"
   ]
  },
  {
   "cell_type": "code",
   "execution_count": 12,
   "metadata": {},
   "outputs": [
    {
     "name": "stdout",
     "output_type": "stream",
     "text": [
      "The list of numbers:\n",
      "[1]\n",
      "when n=1, the sum is 1\n",
      "----------------------\n",
      "The list of numbers:\n",
      "[1, 2]\n",
      "when n=2, the sum is 1/2\n",
      "----------------------\n",
      "The list of numbers:\n",
      "[1, 2, 4]\n",
      "when n=3, the sum is 1/8\n",
      "----------------------\n",
      "The list of numbers:\n",
      "[1, 2, 4, 8]\n",
      "when n=4, the sum is 1/64\n",
      "----------------------\n",
      "The list of numbers:\n",
      "[1, 2, 4, 8, 16]\n",
      "when n=5, the sum is 1/1024\n",
      "----------------------\n",
      "The list of numbers:\n",
      "[1, 2, 4, 8, 16, 32]\n",
      "when n=6, the sum is 1/32768\n",
      "----------------------\n",
      "The list of numbers:\n",
      "[1, 2, 4, 8, 16, 32, 64]\n",
      "when n=7, the sum is 1/2097152\n",
      "----------------------\n",
      "The list of numbers:\n",
      "[1, 2, 4, 8, 16, 32, 64, 128]\n",
      "when n=8, the sum is 1/268435456\n",
      "----------------------\n",
      "The list of numbers:\n",
      "[1, 2, 4, 8, 16, 32, 64, 128, 256]\n",
      "when n=9, the sum is 1/68719476736\n",
      "----------------------\n",
      "The list of numbers:\n",
      "[1, 2, 4, 8, 16, 32, 64, 128, 256, 512]\n",
      "when n=10, the sum is 1/35184372088832\n",
      "----------------------\n"
     ]
    }
   ],
   "source": [
    "import itertools\n",
    "from fractions import Fraction\n",
    "\n",
    "def list_prod(ls):\n",
    "    prod = 1\n",
    "    for i in ls:\n",
    "        prod = prod*i\n",
    "    return prod\n",
    "\n",
    "for n in range(1,11):\n",
    "    numbers = [2**(i-1) for i in range(1,n+1)]\n",
    "    print('The list of numbers:')\n",
    "    print(numbers)\n",
    "\n",
    "    sum_required = 0\n",
    "    for numbers_perm in list(itertools.permutations(numbers)):\n",
    "        part_total = []\n",
    "        for i in range(n):\n",
    "            part_total.append(sum(numbers_perm[:i+1]))\n",
    "\n",
    "        sum_required = sum_required+(Fraction(1,list_prod(part_total)))\n",
    "\n",
    "    print(f'when n={n}, the sum is {sum_required}')\n",
    "    print('----------------------')"
   ]
  },
  {
   "cell_type": "code",
   "execution_count": null,
   "metadata": {},
   "outputs": [],
   "source": []
  }
 ],
 "metadata": {
  "interpreter": {
   "hash": "bfb4883d108fc92ac768439090a2e92bb9a1f760a54beeecfd6762b5dcd70fe3"
  },
  "kernelspec": {
   "display_name": "Python 3.10.2 64-bit",
   "language": "python",
   "name": "python3"
  },
  "language_info": {
   "codemirror_mode": {
    "name": "ipython",
    "version": 3
   },
   "file_extension": ".py",
   "mimetype": "text/x-python",
   "name": "python",
   "nbconvert_exporter": "python",
   "pygments_lexer": "ipython3",
   "version": "3.10.2"
  },
  "orig_nbformat": 4
 },
 "nbformat": 4,
 "nbformat_minor": 2
}
