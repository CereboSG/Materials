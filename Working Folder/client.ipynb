{
 "cells": [
  {
   "cell_type": "code",
   "execution_count": 1,
   "metadata": {},
   "outputs": [],
   "source": [
    "# STEP 1\n",
    "from socket import socket\t\t\t\n",
    "\n",
    "# STEP 2\n",
    "s = socket()\t\t\n",
    "\n",
    "# STEP 3\n",
    "port = 12345\t\t\t\n",
    "s.connect(('127.0.0.1', port))\t\t\n",
    "\n",
    "data_to_be_processed = 0 #0 is just a placeholder for the actual data\n",
    "\n",
    "# STEP 4\n",
    "s.send(str(data_to_be_processed).encode())\n",
    "data = s.recv(4096)\n",
    "\n",
    "# STEP 5\n",
    "s.close()\n",
    "\n",
    "# STEP 6\n",
    "def data_processing(data):\n",
    "    return data\n",
    "\n",
    "data = data_processing(data)"
   ]
  },
  {
   "cell_type": "code",
   "execution_count": 2,
   "metadata": {},
   "outputs": [
    {
     "name": "stdout",
     "output_type": "stream",
     "text": [
      "b'0'\n"
     ]
    }
   ],
   "source": [
    "print(data)"
   ]
  },
  {
   "cell_type": "code",
   "execution_count": null,
   "metadata": {},
   "outputs": [],
   "source": []
  }
 ],
 "metadata": {
  "interpreter": {
   "hash": "bfb4883d108fc92ac768439090a2e92bb9a1f760a54beeecfd6762b5dcd70fe3"
  },
  "kernelspec": {
   "display_name": "Python 3.10.2 64-bit",
   "language": "python",
   "name": "python3"
  },
  "language_info": {
   "codemirror_mode": {
    "name": "ipython",
    "version": 3
   },
   "file_extension": ".py",
   "mimetype": "text/x-python",
   "name": "python",
   "nbconvert_exporter": "python",
   "pygments_lexer": "ipython3",
   "version": "3.10.2"
  },
  "orig_nbformat": 4
 },
 "nbformat": 4,
 "nbformat_minor": 2
}
