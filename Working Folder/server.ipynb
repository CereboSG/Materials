{
 "cells": [
  {
   "cell_type": "code",
   "execution_count": 2,
   "metadata": {},
   "outputs": [],
   "source": [
    "# STEP 1\n",
    "from socket import socket\t\t\t\n",
    "\n",
    "# STEP 2\n",
    "s = socket()\t\t\n",
    "\n",
    "# STEP 3\n",
    "port = 12345\t\t\t\n",
    "s.bind(('', port))\t\t\n",
    "\n",
    "# STEP 4\n",
    "s.listen(5)\t\n",
    "\n",
    "# STEP 5\n",
    "while True:\n",
    "\n",
    "    # STEP 6. c is the connection object\n",
    "    c, addr = s.accept()\t\n",
    "\n",
    "    data = c.recv(4096)\n",
    "    data = data.decode()\n",
    "    \n",
    "    # STEP 7\n",
    "    # This is where your processing happens\n",
    "    processed_data = data\n",
    "\n",
    "    # STEP 6\n",
    "    c.send(processed_data.encode())\n",
    "\n",
    "    # STEP 8\n",
    "    c.close()\n",
    "\n",
    "    # Breaking once connection closed\n",
    "    break\n"
   ]
  },
  {
   "cell_type": "code",
   "execution_count": null,
   "metadata": {},
   "outputs": [],
   "source": []
  }
 ],
 "metadata": {
  "interpreter": {
   "hash": "bfb4883d108fc92ac768439090a2e92bb9a1f760a54beeecfd6762b5dcd70fe3"
  },
  "kernelspec": {
   "display_name": "Python 3.10.2 64-bit",
   "language": "python",
   "name": "python3"
  },
  "language_info": {
   "codemirror_mode": {
    "name": "ipython",
    "version": 3
   },
   "file_extension": ".py",
   "mimetype": "text/x-python",
   "name": "python",
   "nbconvert_exporter": "python",
   "pygments_lexer": "ipython3",
   "version": "3.10.2"
  },
  "orig_nbformat": 4
 },
 "nbformat": 4,
 "nbformat_minor": 2
}
